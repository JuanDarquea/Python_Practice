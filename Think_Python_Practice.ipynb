{
  "cells": [
    {
      "cell_type": "code",
      "execution_count": null,
      "metadata": {
        "colab": {
          "base_uri": "https://localhost:8080/"
        },
        "id": "G2-w2GIwaudM",
        "outputId": "68657d91-89a7-4cfa-f940-51c94e46fc61"
      },
      "outputs": [
        {
          "name": "stdout",
          "output_type": "stream",
          "text": [
            "Downloaded C:\\Users\\USUARIO\\OneDrive\\Documentos\\My_Projects\\Projects\\Python_Practice\\Files\\Think_Python_Files\\thinkpython.py\n",
            "Downloaded C:\\Users\\USUARIO\\OneDrive\\Documentos\\My_Projects\\Projects\\Python_Practice\\Files\\Think_Python_Files\\diagram.py\n",
            "Downloaded C:\\Users\\USUARIO\\OneDrive\\Documentos\\My_Projects\\Projects\\Python_Practice\\Files\\Think_Python_Files\\jupyturtle.py\n"
          ]
        }
      ],
      "source": [
        "\"\"\"Important files and modules to always download and import first\"\"\"\n",
        "import os\n",
        "from os.path import basename, exists\n",
        "from urllib.request import urlretrieve\n",
        "\n",
        "def download(url, download_dir=None):\n",
        "    filename = basename(url)\n",
        "    # If download_dir is specified, create the full path\n",
        "    if download_dir:\n",
        "        # Create a directory if it doesn't exist\n",
        "        os.makedirs(download_dir, exist_ok=True) \n",
        "        full_path = os.path.join(download_dir, filename)\n",
        "    else:\n",
        "        full_path = filename\n",
        "    \n",
        "    # If the file doesn't exist\n",
        "    if not exists(full_path):\n",
        "        local, _ = urlretrieve(url, full_path)\n",
        "        print(\"Downloaded \" + str(local))\n",
        "    return full_path\n",
        "\n",
        "python_practice_path = \"C:\\\\Users\\\\USUARIO\\\\OneDrive\\\\Documentos\\\\My_Projects\\\\Projects\\\\Python_Practice\\\\Files\\\\Think_Python_Files\"\n",
        "download('https://github.com/AllenDowney/ThinkPython/raw/v3/thinkpython.py', python_practice_path);\n",
        "download('https://github.com/AllenDowney/ThinkPython/raw/v3/diagram.py', python_practice_path);\n",
        "download('https://github.com/ramalho/jupyturtle/releases/download/2024-03/jupyturtle.py', python_practice_path);\n",
        "\n",
        "import thinkpython"
      ]
    },
    {
      "cell_type": "markdown",
      "metadata": {},
      "source": [
        "# Chapter 1: Programming As A Way Of Thinking\n",
        "## Exercise 1\n",
        "You might wonder what `round` does if a number ends in `0.5`.\n",
        "The answer is that it sometimes rounds up and sometimes rounds down.\n",
        "Try these examples and see if you can figure out what rule it follows.\n",
        "* `42.5`\n",
        "* `43.5`"
      ]
    },
    {
      "cell_type": "code",
      "execution_count": null,
      "metadata": {},
      "outputs": [
        {
          "name": "stdout",
          "output_type": "stream",
          "text": [
            "These are the numbers with round applied: \n",
            "42,5 = 42 \n",
            "43,5 = 44\n"
          ]
        }
      ],
      "source": [
        "\"\"\"Exercise 1: Answer\"\"\"\n",
        "N1 = round(42.5)\n",
        "N2 = round(43.5)\n",
        "print(\"These are the numbers with round applied:\", \n",
        "      f\"\\n42,5 = {N1}\", \n",
        "      f\"\\n43,5 = {N2}\")"
      ]
    },
    {
      "cell_type": "markdown",
      "metadata": {},
      "source": [
        "## Exercise 2\n",
        "Recall that every expression has a value, every value has a type, and we can use the `type` function to find the type of any value. What is the type of the value of the following expressions? Make your best guess for each one, and then use `type` to find out.\n",
        "\n",
        "* `765`\n",
        "\n",
        "* `2.718`\n",
        "\n",
        "* `'2 pi'`\n",
        "\n",
        "* `abs(-7)`\n",
        "\n",
        "* `abs(-7.0)`\n",
        "\n",
        "* `abs`\n",
        "\n",
        "* `int`\n",
        "\n",
        "* `type`\n"
      ]
    },
    {
      "cell_type": "code",
      "execution_count": null,
      "metadata": {},
      "outputs": [
        {
          "name": "stdout",
          "output_type": "stream",
          "text": [
            "765 = <class 'int'> \n",
            "2.718 = <class 'float'> \n",
            "'2 pi = <class 'str'> \n",
            "abs(-7) = <class 'int'> \n",
            "abs(-7.0) = <class 'float'> \n",
            "abs = <class 'builtin_function_or_method'> \n",
            "int = <class 'type'> \n",
            "type = <class 'type'>\n"
          ]
        }
      ],
      "source": [
        "\"\"\"Exercise 2: Answer\"\"\"\n",
        "t765 = type(765)\n",
        "t2718 = type(2.718)\n",
        "t_str = type('2 pi')\n",
        "t_abs1 = type(abs(-7))\n",
        "t_abs2 = type(abs(-7.0))\n",
        "t_abs3 = type(abs)\n",
        "t_int = type(int)\n",
        "t_type = type(type)\n",
        "\n",
        "# Answers\n",
        "print(f\"765 = {t765}\",\n",
        "      f\"\\n2.718 = {t2718}\", \n",
        "      f\"\\n'2 pi = {t_str}\", \n",
        "      f\"\\nabs(-7) = {t_abs1}\", \n",
        "      f\"\\nabs(-7.0) = {t_abs2}\", \n",
        "      f\"\\nabs = {t_abs3}\", \n",
        "      f\"\\nint = {t_int}\", \n",
        "      f\"\\ntype = {t_type}\")"
      ]
    },
    {
      "cell_type": "markdown",
      "metadata": {},
      "source": [
        "## Exercise 3\n",
        "The following questions give you a chance to practice writing arithmetic expressions.\n",
        "\n",
        "1.  How many seconds are there in 42 minutes 42 seconds?\n",
        "2.  How many miles are there in 10 kilometers? Hint: there are 1.61 kilometers in a mile.\n",
        "3.  If you run a 10 kilometer race in 42 minutes 42 seconds, what is your average pace in seconds per mile?\n",
        "4.  What is your average pace in minutes and seconds per mile?\n",
        "5.  What is your average speed in miles per hour?"
      ]
    },
    {
      "cell_type": "code",
      "execution_count": null,
      "metadata": {},
      "outputs": [
        {
          "name": "stdout",
          "output_type": "stream",
          "text": [
            "There are 2562 seconds in 42 minutes and 42 seconds\n",
            "There are 6.21 miles in 10 kilometers\n",
            "The race pace of 10Km in 42 minutes and 42 seconds is 4:16 minutes per kilometer\n",
            "The race pace of 6.21 miles in 42 minutes and 42 seconds is 2:02 minutes per mile\n",
            "The average speed is 30 miles per hour\n"
          ]
        }
      ],
      "source": [
        "\"\"\"Exercise 3: Answer\"\"\"\n",
        "# Q1\n",
        "def min_to_sec(n):\n",
        "    return n * 60\n",
        "minutes = min_to_sec(42)\n",
        "seconds = minutes + 42\n",
        "print(f\"There are {seconds} seconds in 42 minutes and 42 seconds\")\n",
        "\n",
        "# Q2\n",
        "kilometer = 10\n",
        "miles = kilometer * 0.621371\n",
        "print(f\"There are {miles:.2f} miles in 10 kilometers\")\n",
        "\n",
        "# Q3\n",
        "race_pace_seconds = seconds / kilometer  # seconds per km (float)\n",
        "# Convert to minutes and seconds for nicer display\n",
        "per_km_minutes = int(race_pace_seconds // 60)\n",
        "per_km_seconds = int(race_pace_seconds % 60)\n",
        "print(f\"The race pace of 10Km in 42 minutes and 42 seconds is {per_km_minutes}:{per_km_seconds:02d} minutes per kilometer\")\n",
        "\n",
        "# Q4\n",
        "race_pace_miles = seconds // miles\n",
        "per_miles_minutes = int(per_km_minutes * 0.621371)\n",
        "per_miles_seconds = int(per_miles_minutes % 60)\n",
        "print(f\"The race pace of {miles:.2f} miles in 42 minutes and 42 seconds is {per_miles_minutes}:{per_miles_seconds:02d} minutes per mile\")\n",
        "\n",
        "# Q5\n",
        "avg_speed = 60 // per_miles_minutes\n",
        "print(f\"The average speed is {avg_speed} miles per hour\") "
      ]
    },
    {
      "cell_type": "markdown",
      "metadata": {},
      "source": [
        "# Chapter 2: Variables and Statements\n",
        "## Exercise 1\n",
        "The volume of a sphere with radius  r  is  4/3πr**3 . What is the volume of a sphere with radius 5? Start with a variable named radius and then assign the result to a variable named volume. Display the result. Add comments to indicate that radius is in centimeters and volume in cubic centimeters."
      ]
    },
    {
      "cell_type": "code",
      "execution_count": null,
      "metadata": {},
      "outputs": [
        {
          "name": "stdout",
          "output_type": "stream",
          "text": [
            "The volume of a sphere where radius is 5cm is equal to 523.60 cubic centimeters\n"
          ]
        }
      ],
      "source": [
        "\"\"\"Exercise 1: Answer\"\"\"\n",
        "import math\n",
        "sphere_radius = 5 # In centimeters.\n",
        "sphere_volume = ((4/3) * math.pi * (sphere_radius ** 3)) # In cubic centimeters.\n",
        "print(f\"The volume of a sphere where radius is {sphere_radius}cm is equal to {sphere_volume:.2f} cubic centimeters\")"
      ]
    },
    {
      "cell_type": "code",
      "execution_count": null,
      "metadata": {},
      "outputs": [
        {
          "name": "stdout",
          "output_type": "stream",
          "text": [
            "\n",
            "The sphere radius is: 5.0 centimeters\n",
            "The sphere volume is: 523.60 cubic centimeters\n"
          ]
        }
      ],
      "source": [
        "def calculate_sphere_volume():\n",
        "    \"\"\"Prompt for a sphere radius (cm), validate it and return the volume (cm^3).\n",
        "\n",
        "    Returns:\n",
        "        float: The computed volume, or None if input is invalid.\n",
        "    \"\"\"\n",
        "    try:\n",
        "        # Get radius from user input.\n",
        "        sphere_radius = float(input(\"Enter the radius of the sphere (cm): \"))  # In centimeters\n",
        "    except ValueError:\n",
        "        print(\"Error: please enter a numeric value for the radius.\")\n",
        "        return None\n",
        "\n",
        "    # Check for negative radius.\n",
        "    if sphere_radius < 0:\n",
        "        print(\"Error: radius cannot be negative\")\n",
        "        return None\n",
        "\n",
        "    # Calculate the volume (math is imported in another cell).\n",
        "    sphere_volume = (4 / 3) * math.pi * (sphere_radius ** 3)  # In cubic centimeters.\n",
        "\n",
        "    # Display results.\n",
        "    print(f\"\\nThe sphere radius is: {sphere_radius} centimeters\")\n",
        "    print(f\"The sphere volume is: {sphere_volume:.2f} cubic centimeters\")\n",
        "\n",
        "calculate_sphere_volume()"
      ]
    },
    {
      "cell_type": "markdown",
      "metadata": {},
      "source": [
        "## Exercise 2\n",
        "A rule of trigonometry says that for any value of  x ,  (cosx)2+(sinx)2=1 . Let's see if it's true for a specific value of  x  like 42.\n",
        "\n",
        "Create a variable named x with this value. Then use math.cos and math.sin to compute the sine and cosine of  x , and the sum of their squared.\n",
        "\n",
        "The result should be close to 1. It might not be exactly 1 because floating-point arithmetic is not exact---it is only approximately correct."
      ]
    },
    {
      "cell_type": "code",
      "execution_count": null,
      "metadata": {},
      "outputs": [
        {
          "name": "stdout",
          "output_type": "stream",
          "text": [
            "X = 14.0\n",
            "Cosine of x is 0.14\n",
            "Sine of x is 0.99\n",
            "The result of (cosx)2 + (sinx)2 is 1.00\n"
          ]
        }
      ],
      "source": [
        "\"\"\"Exercise 2: Answer\"\"\"\n",
        "def calculate_t_rule():\n",
        "    try:\n",
        "        x = float(input(\"Insert X value: \"))\n",
        "    except ValueError:\n",
        "            print(\"Error: please enter a numeric value for the radius.\")\n",
        "            return None\n",
        "    \n",
        "    # Calculate cosine and sine of x\n",
        "    cos_x = math.cos(x)\n",
        "    sin_x = math.sin(x)\n",
        "\n",
        "    # Calculate the sum of (sinx) and (cosx) squared.\n",
        "    t_rule = (cos_x ** 2) + (sin_x ** 2)\n",
        "\n",
        "    # Display result\n",
        "    print(f\"X = {x}\")\n",
        "    print(f\"Cosine of x is {cos_x:.2f}\")\n",
        "    print(f\"Sine of x is {sin_x:.2f}\")\n",
        "    print(f\"The result of (cosx)2 + (sinx)2 is {t_rule:.2f}\")\n",
        "\n",
        "calculate_t_rule()"
      ]
    },
    {
      "cell_type": "markdown",
      "metadata": {},
      "source": [
        "## Exercise 3\n",
        "In addition to pi, the other variable defined in the math module is e, which represents the base of the natural logarithm, written in math notation as  e . If you are not familiar with this value, ask a virtual assistant \"What is math.e?\" Now let's compute  e2  three ways:\n",
        "\n",
        "* Use math.e and the exponentiation operator (**).\n",
        "\n",
        "* Use math.pow to raise math.e to the power 2.\n",
        "\n",
        "* Use math.exp, which takes as an argument a value,  x , and computes  ex .\n",
        "\n",
        "You might notice that the last result is slightly different from the other two. See if you can find out which is correct."
      ]
    },
    {
      "cell_type": "code",
      "execution_count": null,
      "metadata": {},
      "outputs": [
        {
          "name": "stdout",
          "output_type": "stream",
          "text": [
            "First option: 7.39\n",
            "Second option: 7.39\n",
            "Third option: 7.39\n"
          ]
        }
      ],
      "source": [
        "\"\"\"Exercise 3: Answer\"\"\"\n",
        "exe1 = math.e ** 2\n",
        "exe2 = math.pow(math.e, 2)\n",
        "exe3 = math.exp(2)\n",
        "\n",
        "# Answers to the 3 options to square e.\n",
        "print(f\"First option: {exe1:.2f}\")\n",
        "print(f\"Second option: {exe2:.2f}\")\n",
        "print(f\"Third option: {exe3:.2f}\")"
      ]
    },
    {
      "cell_type": "markdown",
      "metadata": {},
      "source": [
        "# Chapter 3: Functions\n",
        "## Exercise 1\n",
        "Write a function named `print_right` that takes a string named `text` as a parameter and prints the string with enough leading spaces that the last letter of the string is in the 40th column of the display.\n",
        "\n",
        "Hint: Use the len function, the string concatenation operator (+) and the string repetition operator (*)."
      ]
    },
    {
      "cell_type": "code",
      "execution_count": 89,
      "metadata": {},
      "outputs": [],
      "source": [
        "\"\"\"Exercise 1\"\"\"\n",
        "def print_right(text):\n",
        "    text_length = len(text)\n",
        "    space = 40 - text_length\n",
        "    print(\" \" * space, text)"
      ]
    },
    {
      "cell_type": "code",
      "execution_count": 90,
      "metadata": {},
      "outputs": [
        {
          "name": "stdout",
          "output_type": "stream",
          "text": [
            "                                    Monty\n",
            "                                 Python's\n",
            "                            Flying Circus\n"
          ]
        }
      ],
      "source": [
        "\"\"\"Test Exerceise 1: Solution\"\"\"\n",
        "print_right(\"Monty\")\n",
        "print_right(\"Python's\")\n",
        "print_right(\"Flying Circus\")"
      ]
    },
    {
      "cell_type": "markdown",
      "metadata": {},
      "source": [
        "## Exercise 2\n",
        "Write a function called triangle that takes a string and an integer and draws a pyramid with the given height, made up using copies of the string."
      ]
    },
    {
      "cell_type": "code",
      "execution_count": 73,
      "metadata": {},
      "outputs": [],
      "source": [
        "\"\"\"Exercise 2: Solution\"\"\"\n",
        "def triangle(string, n):\n",
        "    # iterate from 1 to n (inclusive) to build the pyramid of given height\n",
        "    for i in range(1, n + 1):\n",
        "        print(string * i)"
      ]
    },
    {
      "cell_type": "code",
      "execution_count": 74,
      "metadata": {},
      "outputs": [
        {
          "name": "stdout",
          "output_type": "stream",
          "text": [
            "L\n",
            "LL\n",
            "LLL\n",
            "LLLL\n",
            "LLLLL\n"
          ]
        }
      ],
      "source": [
        "\"\"\"Test Exercise 2\"\"\"\n",
        "triangle('L', 5)"
      ]
    },
    {
      "cell_type": "markdown",
      "metadata": {},
      "source": [
        "## Exercise 3\n",
        "Write a function called `rectangle` that takes a string and two integers and draws a rectangle with the given width and height, made up using copies of the string. Here's an example of a rectangle with width `5` and height `4`, made up of the string `'H'`."
      ]
    },
    {
      "cell_type": "code",
      "execution_count": 140,
      "metadata": {},
      "outputs": [],
      "source": [
        "\"\"\"Exercise 3: Solution\"\"\"\n",
        "def rectangle(string, width, height):\n",
        "    print(string * width)\n",
        "    for i in range(height-2):\n",
        "        middle_space = \" \" * (width - 2)\n",
        "        print(string + middle_space + string)\n",
        "    print(string * width)"
      ]
    },
    {
      "cell_type": "code",
      "execution_count": 142,
      "metadata": {},
      "outputs": [
        {
          "name": "stdout",
          "output_type": "stream",
          "text": [
            "HHHHHHHHHH\n",
            "H        H\n",
            "H        H\n",
            "H        H\n",
            "HHHHHHHHHH\n"
          ]
        }
      ],
      "source": [
        "\"\"\"Test Exercise 3\"\"\"\n",
        "rectangle(\"H\", 10, 5)"
      ]
    },
    {
      "cell_type": "markdown",
      "metadata": {},
      "source": [
        "## Exercise 4\n",
        "The song \"99 Bottles of Beer\" starts with this verse:\n",
        "\n",
        "> 99 bottles of beer on the wall  \n",
        "> 99 bottles of beer  \n",
        "> Take one down, pass it around  \n",
        "> 98 bottles of beer on the wall  \n",
        "\n",
        "Then the second verse is the same, except that it starts with 98 bottles and ends with 97. The song continues -- for a very long time -- until there are 0 bottles of beer.\n",
        "\n",
        "Write a function called `bottle_verse` that takes a number as a parameter and displays the verse that starts with the given number of bottles.\n",
        "\n",
        "Hint: Consider starting with a function that can print the first, second, or last line of the verse, and then use it to write `bottle_verse`."
      ]
    },
    {
      "cell_type": "code",
      "execution_count": 181,
      "metadata": {},
      "outputs": [
        {
          "name": "stdout",
          "output_type": "stream",
          "text": [
            "3 bottles of beer on the wall\n",
            "3 bottles of beer\n",
            "Take one down, pass it arround\n",
            "2 bottles of beer on the wall\n",
            "\n",
            "2 bottles of beer on the wall\n",
            "2 bottles of beer\n",
            "Take one down, pass it arround\n",
            "1 bottles of beer on the wall\n",
            "\n",
            "1 bottle of beer on the wall\n",
            "1 bottle of beer\n",
            "Take one down, pass it arround\n",
            "No more bottles on the wall\n",
            "\n",
            "No more bottles of beer on the wall\n",
            "No more bottles of beer\n",
            "Go to the store and buy some more\n"
          ]
        }
      ],
      "source": [
        "\"\"\"Exercise 4: Solution\"\"\"\n",
        "def lines1_2(n):\n",
        "    bottle_word = \"bottle\" if n == 1 else \"bottles\"\n",
        "    print(f\"{n} {bottle_word} of beer on the wall\")\n",
        "    print(f\"{n} {bottle_word} of beer\")\n",
        "    print(\"Take one down, pass it arround\")\n",
        "\n",
        "def bottle_verse(n):\n",
        "    for i in range(n, -1, -1):\n",
        "        if i > 0:\n",
        "            lines1_2(i)\n",
        "            next_bottles = i - 1\n",
        "            next_word = \"bottle\" if n == 1 else \"bottles\"\n",
        "            if next_bottles == 0:\n",
        "                print(\"No more bottles on the wall\")\n",
        "            else:    \n",
        "                print(f\"{next_bottles} {next_word} of beer on the wall\")\n",
        "                print()\n",
        "        else:\n",
        "            print()\n",
        "            print(\"No more bottles of beer on the wall\")\n",
        "            print(\"No more bottles of beer\")\n",
        "            print(\"Go to the store and buy some more\")\n",
        "#            print(\"99 bottles of beer on the wall\")\n",
        "\n",
        "bottle_verse(3)"
      ]
    },
    {
      "cell_type": "markdown",
      "metadata": {},
      "source": [
        "# File import codes"
      ]
    },
    {
      "cell_type": "code",
      "execution_count": null,
      "metadata": {},
      "outputs": [],
      "source": [
        "import sys\n",
        "import importlib.util\n",
        "\n",
        "# Path from pc\n",
        "module_path1 = \"C:\\\\Users\\\\USUARIO\\\\OneDrive\\\\Documentos\\\\My_Projects\\\\Projects\\\\Python_Practice\\\\Files\\\\Think_Python_Files\\\\thinkpython.py\"\n",
        "module_path2 = \"C:\\\\Users\\\\USUARIO\\\\OneDrive\\\\Documentos\\\\My_Projects\\\\Projects\\\\Python_Practice\\\\Files\\\\Think_Python_Files\\\\jupyturtle.py\"\n",
        "\n",
        "# Create a module specification\n",
        "spec1 = importlib.util.spec_from_file_location(\"thinkpython\", module_path1)\n",
        "spec2 = importlib.util.spec_from_file_location(\"jupyturtle\", module_path2)\n",
        "\n",
        "# Create modules from specification\n",
        "module1 = importlib.util.module_from_spec(spec1)\n",
        "module2 = importlib.util.module_from_spec(spec2)\n",
        "\n",
        "# Add to sys.modules\n",
        "sys.modules[\"thinkpython\"] = module1\n",
        "sys.modules[\"jupyturtle\"] = module2\n",
        "\n",
        "# Execute the module\n",
        "spec1.loader.exec_module(module1)\n",
        "spec2.loader.exec_module(module2)\n",
        "\n",
        "import thinkpython\n",
        "import jupyturtle"
      ]
    },
    {
      "cell_type": "code",
      "execution_count": null,
      "metadata": {},
      "outputs": [
        {
          "name": "stdout",
          "output_type": "stream",
          "text": [
            "diagram loaded and ready to import\n"
          ]
        },
        {
          "data": {
            "text/plain": [
              "<module 'diagram' from 'C:\\\\Users\\\\USUARIO\\\\OneDrive\\\\Documentos\\\\My_Projects\\\\Projects\\\\Python_Practice\\\\Files\\\\Think_Python_Files\\\\diagram.py'>"
            ]
          },
          "execution_count": 192,
          "metadata": {},
          "output_type": "execute_result"
        }
      ],
      "source": [
        "import os\n",
        "\n",
        "p = \"C:\\\\Users\\\\USUARIO\\\\OneDrive\\\\Documentos\\\\My_Projects\\\\Projects\\\\Python_Practice\\\\Files\\\\Think_Python_Files\"\n",
        "\n",
        "def import_module(module, directory_path):\n",
        "    # Build the complete file path\n",
        "    m_path = os.path.join(directory_path, f\"{module}.py\")\n",
        "    \n",
        "    # Check if file path exists\n",
        "    if not os.path.exists(m_path):\n",
        "        print(f\"Error: File does not exist\")\n",
        "        return None\n",
        "    \n",
        "    # Create a spec from complete file path\n",
        "    m_spec = importlib.util.spec_from_file_location(module, m_path)\n",
        "    if m_spec is None:\n",
        "        print(f\"Could not create a spec for module {m_path}\")\n",
        "        return None\n",
        "    \n",
        "    # Create and execute module\n",
        "    m_odule = importlib.util.module_from_spec(m_spec)\n",
        "    sys.modules[module] = m_odule\n",
        "    m_spec.loader.exec_module(m_odule)\n",
        "    print(f\"{module} loaded and ready to import\")\n",
        "    return m_odule\n",
        "\n",
        "import_module(\"diagram\", p)"
      ]
    },
    {
      "cell_type": "markdown",
      "metadata": {},
      "source": [
        "# Chapter 4: Functions and Interfaces\n",
        "## Exercise 1"
      ]
    },
    {
      "cell_type": "code",
      "execution_count": null,
      "metadata": {},
      "outputs": [],
      "source": []
    },
    {
      "cell_type": "markdown",
      "metadata": {
        "id": "ievYKXB7oah2"
      },
      "source": [
        "# Chapter 5: Conditionals and Recursion\n",
        "## Exercise 1\n",
        "Use integer division and the modulus operator to compute the number of days since January 1, 1970 and the current time of day in hours, minutes, and seconds."
      ]
    },
    {
      "cell_type": "code",
      "execution_count": null,
      "metadata": {
        "id": "3b8oBzaL7Yyx"
      },
      "outputs": [],
      "source": [
        "\"\"\"Exercise 1: Answer\"\"\"\n",
        "from time import time\n",
        "\n",
        "now = time()\n",
        "print(f\"Seconds since Unix epoch(january 1, 1970): {now}\")\n",
        "\n",
        "# Calculate the number of seconds in a day\n",
        "seconds_in_day = 24 * 60 * 60\n",
        "\n",
        "# Calculate the number of days since the epoch using integer division\n",
        "days_since_epoch = int(now // seconds_in_day)\n",
        "print(f\"Days since epoch: {days_since_epoch}\")\n",
        "\n",
        "# Calculate the remaining seconds in the current day using the modulus operator\n",
        "remaining_seconds = now % seconds_in_day\n",
        "\n",
        "# Calculate hours from the remaining seconds using integer division\n",
        "hours = int(remaining_seconds // (60 * 60))\n",
        "\n",
        "# Calculate the remaining seconds after accounting for hours using the modulus operator\n",
        "remaining_seconds %= (60 * 60)\n",
        "\n",
        "# Calculate minutes from the remaining seconds using integer division\n",
        "minutes = int(remaining_seconds // 60)\n",
        "\n",
        "# Calculate the remaining seconds after accounting for minutes using the modulus operator\n",
        "seconds = int(remaining_seconds % 60)\n",
        "\n",
        "print(f\"Current time: {hours:02d}:{minutes:02d}:{seconds:02d}\")"
      ]
    },
    {
      "cell_type": "markdown",
      "metadata": {},
      "source": [
        "## Exercise 2\n",
        "Write a function named is_triangle that takes three integers as arguments, and that prints either \"Yes\" or \"No\", depending on whether you can or cannot form a triangle from sticks with the given lengths. Hint: Use a chained conditional."
      ]
    },
    {
      "cell_type": "code",
      "execution_count": null,
      "metadata": {
        "id": "F0uFFduAoyoe"
      },
      "outputs": [],
      "source": [
        "\"\"\"Exercise 2: Answer\"\"\"\n",
        "def is_triangle(a, b, c):\n",
        "    \"\"\"\n",
        "    Checks if three lengths can form a triangle and prints 'Yes' or 'No'.\n",
        "\n",
        "    Args:\n",
        "        a: The length of the first side.\n",
        "        b: The length of the second side.\n",
        "        c: The length of the third side.\n",
        "    \"\"\"\n",
        "    if a > b + c or b > a + c or c > a + b:\n",
        "        print(\"No\")\n",
        "    else:\n",
        "        print(\"Yes\")\n",
        "# Examples\n",
        "print(\"Can a triangle with lengths 4, 5 and 6 be created?\")\n",
        "triangle1 = is_triangle(4, 5, 6) # should be Yes\n",
        "print(\"Can a triangle with lengths 1, 2 and 3 be created?\")\n",
        "is_triangle(1, 2, 3)   # should be Yes\n",
        "print(\"Can a triangle with lengths 6, 2 and 3 be created?\")\n",
        "is_triangle(6, 2, 3)   # should be No\n",
        "print(\"Can a triangle with lengths 1, 1 and 12 be created?\")\n",
        "is_triangle(1, 1, 12)   # should be No"
      ]
    },
    {
      "cell_type": "markdown",
      "metadata": {},
      "source": [
        "## Exercise 3\n",
        "What is the output of the program written? Draw a stack diagram that shows the state of the program when it prints the result."
      ]
    },
    {
      "cell_type": "code",
      "execution_count": null,
      "metadata": {
        "id": "09_wexM8sKDN"
      },
      "outputs": [],
      "source": [
        "\"\"\"Exercise 3: Answer\"\"\"\n",
        "def recurse(n, s):\n",
        "    if n == 0:\n",
        "        print(s)\n",
        "    else:\n",
        "        recurse(n-1, n+s)\n",
        "\n",
        "recurse(3, 0)\n",
        "print()\n",
        "print()\n",
        "# Stack program\n",
        "from diagram import make_frame, Stack\n",
        "from diagram import diagram, adjust\n",
        "\n",
        "# Build the stack frames (from initial call to base case)\n",
        "frames = []\n",
        "# The call sequence is recurse(3, 0) -> recurse(2, 3) -> recurse(1, 5) -> recurse(0, 6)\n",
        "call_args = [\n",
        "    {'n': 3, 's': 0},\n",
        "    {'n': 2, 's': 3},\n",
        "    {'n': 1, 's': 5},\n",
        "    {'n': 0, 's': 6}  # Base case, prints 6\n",
        "]\n",
        "\n",
        "for args in call_args:\n",
        "    frame = make_frame(args, name='recurse', dx=1.3, loc='left')  # dx for horizontal offset (optional)\n",
        "    frames.append(frame)\n",
        "\n",
        "stack = Stack(frames, dy=-0.5)  # Negative dy stacks downward\n",
        "\n",
        "width, height, x, y = [3.5, 2, 1, 1.8]\n",
        "ax = diagram(width, height)\n",
        "bbox = stack.draw(ax, x, y)\n",
        "# adjust(x, y, bbox)"
      ]
    },
    {
      "cell_type": "markdown",
      "metadata": {},
      "source": [
        "## Exercise 4\n",
        "Read the function and see if you can figure out what it does. Then run it and see if you got it right. Adjust the values of length, angle and factor and see what effect they have on the result. If you are not sure you understand how it works, try asking a virtual assistant."
      ]
    },
    {
      "cell_type": "code",
      "execution_count": null,
      "metadata": {
        "id": "Our5sNzJanNr"
      },
      "outputs": [],
      "source": [
        "\"\"\"Exercise 4: Answer\"\"\"\n",
        "# Example function code\n",
        "from jupyturtle import forward, left, right, back, make_turtle\n",
        "\n",
        "def draw(length):\n",
        "    angle = 50\n",
        "    factor = 0.6\n",
        "\n",
        "    if length > 5:\n",
        "        forward(length)\n",
        "        left(angle)\n",
        "        draw(factor * length)\n",
        "        right(2 * angle)\n",
        "        draw(factor * length)\n",
        "        left(angle)\n",
        "        back(length)\n",
        "\"\"\"Result\"\"\"\n",
        "make_turtle(delay = 0.1)\n",
        "draw(30)"
      ]
    },
    {
      "cell_type": "markdown",
      "metadata": {},
      "source": [
        "## Exercise 5\n",
        "Ask a virtual assistant \"What is the Koch curve?\"\n",
        "\n",
        "        To draw a Koch curve with length x, all you have to do is\n",
        "        Turn left 60 degrees.\n",
        "        Draw a Koch curve with length x/3.\n",
        "        Turn right 120 degrees.\n",
        "        Draw a Koch curve with length x/3.\n",
        "        Turn left 60 degrees.\n",
        "        Draw a Koch curve with length x/3.\n",
        "\n",
        "        The exception is if x is less than 5 -- in that case, you can just draw a straight line with length x.\n",
        "\n",
        "        Write a function called koch that takes x as an argument and draws a Koch curve with the given length.\n",
        "\n",
        "        Once you have koch working, you can use this loop to draw three Koch curves in the shape of a snowflake."
      ]
    },
    {
      "cell_type": "code",
      "execution_count": null,
      "metadata": {
        "id": "VyGiClZObWaq"
      },
      "outputs": [],
      "source": [
        "\"\"\"Exercise 5\"\"\"\n",
        "from jupyturtle import forward, left, right, back, make_turtle\n",
        "def koch(x):\n",
        "  if x < 5:\n",
        "    forward(x)\n",
        "  else:\n",
        "    koch(x/3)\n",
        "    left(60)\n",
        "    koch(x/3)\n",
        "    right(120)\n",
        "    koch(x/3)\n",
        "    left(60)\n",
        "    koch(x/3)\n",
        "# Result 1\n",
        "make_turtle(delay=0)\n",
        "koch(120)\n",
        "# Snowflake\n",
        "make_turtle(delay=0, height=300)\n",
        "for i in range(3):\n",
        "    koch(120)\n",
        "    right(120)"
      ]
    },
    {
      "cell_type": "markdown",
      "metadata": {},
      "source": [
        "## Exercise 6\n",
        "As an example, ask a VA for a program that draws a Sierpiński triangle. The code you get should be a good starting place, but you might have to do some debugging. If the first attempt doesn't work, you can tell the VA what happened and ask for help -- or you can debug it yourself."
      ]
    },
    {
      "cell_type": "code",
      "execution_count": null,
      "metadata": {
        "id": "ux0dPQHCbhPC"
      },
      "outputs": [],
      "source": [
        "\"\"\"Exercise 6: Answer\"\"\"\n",
        "from jupyturtle import forward, left, right, make_turtle, penup, pendown\n",
        "import math\n",
        "\n",
        "def draw_sierpinski_alt(t, length, depth):\n",
        "    \"\"\"\n",
        "    Draws a Sierpiński triangle using an alternative recursive method.\n",
        "\n",
        "    Args:\n",
        "        t: The turtle object.\n",
        "        length: The side length of the current triangle.\n",
        "        depth: The recursion depth.\n",
        "    \"\"\"\n",
        "    if depth == 0:\n",
        "        # Draw a filled triangle (optional, can just draw the outline)\n",
        "        # For simplicity, let's draw the outline of the base case triangle\n",
        "        for _ in range(3):\n",
        "            t.forward(length)\n",
        "            t.left(120)\n",
        "    else:\n",
        "        draw_sierpinski_alt(t, length / 2, depth - 1)\n",
        "        t.forward(length / 2)\n",
        "        draw_sierpinski_alt(t, length / 2, depth - 1)\n",
        "        # Replace t.backward(length / 2) with turns and forward\n",
        "        t.left(180)\n",
        "        t.forward(length / 2)\n",
        "        t.left(180)\n",
        "\n",
        "        t.left(60)\n",
        "        t.forward(length / 2)\n",
        "        t.right(60)\n",
        "        draw_sierpinski_alt(t, length / 2, depth - 1)\n",
        "        t.left(60)\n",
        "        # Replace t.backward(length / 2) with turns and forward\n",
        "        t.left(180)\n",
        "        t.forward(length / 2)\n",
        "        t.left(180)\n",
        "\n",
        "        t.right(60)\n",
        "\n",
        "\n",
        "# Create a turtle instance\n",
        "t = make_turtle(delay=0, height=400, width=400)\n",
        "\n",
        "# Calculate starting position to center the triangle\n",
        "initial_length = 300\n",
        "triangle_height = initial_length * math.sqrt(3) / 2\n",
        "\n",
        "# Move the turtle to the calculated starting position without drawing\n",
        "t.penup() # Lift the pen\n",
        "t.left(180)\n",
        "t.forward(initial_length / 2)\n",
        "t.left(90)\n",
        "t.forward(triangle_height / 3) # Adjust this factor as needed for better vertical centering\n",
        "t.right(90)\n",
        "t.left(180) # Turn back to original orientation\n",
        "t.pendown() # Put the pen down\n",
        "\n",
        "# Draw the Sierpiński triangle\n",
        "draw_sierpinski_alt(t, initial_length, 4) # Adjust length and depth as needed"
      ]
    },
    {
      "cell_type": "code",
      "execution_count": null,
      "metadata": {
        "id": "wC1DAdxafzSh"
      },
      "outputs": [],
      "source": [
        "from jupyturtle import make_turtle, penup, pendown\n",
        "import math\n",
        "# Create a new turtle instance each time to clear the previous drawing\n",
        "t = make_turtle(delay=0.1)\n",
        "\n",
        "# Calculate starting position to center the triangle\n",
        "initial_length = 100  # Use the length used for drawing\n",
        "triangle_height = initial_length * math.sqrt(3) / 2\n",
        "\n",
        "# Move the turtle to the calculated starting position without drawing\n",
        "t.penup() # Lift the pen\n",
        "t.left(180)\n",
        "t.forward(initial_length / 2)\n",
        "t.left(90)\n",
        "t.forward(triangle_height / 3) # Adjust this factor as needed for better vertical centering\n",
        "t.right(90)\n",
        "t.left(180) # Turn back to original orientation\n",
        "t.pendown() # Put the pen down\n",
        "\n",
        "draw_sierpinski_alt(t, initial_length, 3) # Adjust length and depth as needed"
      ]
    },
    {
      "cell_type": "markdown",
      "metadata": {
        "id": "rq2JXRHmxxMs"
      },
      "source": [
        "# Chapter 6: Return Values\n",
        "## Exercises\n",
        "\n",
        "1.   Use incremental development to write a function called hypot that returns the length of the hypotenuse of a right triangle given the lengths of the other two legs as arguments.\n",
        "\n",
        "  Note: There's a function in the math module called hypot that does the same thing, but you should not use it for this exercise!\n",
        "\n",
        "  Even if you can write the function correctly on the first try, start with a function that always returns 0 and practice making small changes, testing as you go. When you are done, the function should only return a value -- it should not display anything.\n",
        "2.   Write a boolean function, is_between(x, y, z), that returns True if  x<y<z  or if  z<y<x , andFalse otherwise.\n",
        "3.  The Ackermann function,  A(m,n) , is defined:\n",
        "\n",
        "  A(m,n)=⎧⎩⎨n+1A(m−1,1)A(m−1,A(m,n−1))if m=0if m>0 and n=0if m>0 and n>0.\n",
        "\n",
        "  Write a function named ackermann that evaluates the Ackermann function. What happens if you call ackermann(5, 5)?\n",
        "4.  A number,  a , is a power of  b  if it is divisible by  b  and  a/b  is a power of  b . Write a function called is_power that takes parameters a and b and returns True if a is a power of b. Note: you will have to think about the base case.\n",
        "5.  The greatest common divisor (GCD) of  a  and  b  is the largest number that divides both of them with no remainder.\n",
        "\n",
        "  One way to find the GCD of two numbers is based on the observation that if  r  is the remainder when  a  is divided by  b , then  gcd(a,b)=gcd(b,r) . As a base case, we can use  gcd(a,0)=a .\n",
        "\n",
        "  Write a function called gcd that takes parameters a and b and returns their greatest common divisor.\n",
        "\n",
        "\n",
        "\n"
      ]
    },
    {
      "cell_type": "code",
      "execution_count": null,
      "metadata": {
        "id": "hjTlPPH6h0T3"
      },
      "outputs": [],
      "source": [
        "# Exercise 1\n",
        "import math\n",
        "def hypot(x, y):\n",
        "  squared_x = x ** 2\n",
        "  squared_y = y ** 2\n",
        "  square_sum = squared_x + squared_y\n",
        "  return math.sqrt(square_sum)\n",
        "\n",
        "# test resul with 3 and 4\n",
        "hypot(3, 4)"
      ]
    },
    {
      "cell_type": "code",
      "execution_count": null,
      "metadata": {
        "id": "xOX8ck1sQM9z"
      },
      "outputs": [],
      "source": [
        "# Exercise 2\n",
        "def is_between(x, y, z):\n",
        "  if x < y < z or z < y < x:\n",
        "    return True\n",
        "  else:\n",
        "    return False\n",
        "\n",
        "# Tests\n",
        "print(is_between(1, 2, 3))  # should be True\n",
        "print(is_between(3, 2, 1))  # should be True\n",
        "print(is_between(1, 3, 2))  # should be False\n",
        "print(is_between(2, 3, 1))  # should be False"
      ]
    },
    {
      "cell_type": "code",
      "execution_count": null,
      "metadata": {
        "id": "IlpvJ3ghbZxF"
      },
      "outputs": [],
      "source": [
        "# Exercise 3\n",
        "def ackermann(m, n):\n",
        "  if m == 0:\n",
        "    return n + 1\n",
        "  elif m > 0 and n == 0:\n",
        "    return ackermann(m - 1, 1)\n",
        "  elif m > 0 and n > 0:\n",
        "    return ackermann(m - 1, ackermann(m, n - 1))\n",
        "\n",
        "# Tests\n",
        "print(ackermann(3, 2))  # should be 29\n",
        "print(ackermann(3, 3))  # should be 61\n",
        "print(ackermann(3, 4))  # should be 125"
      ]
    },
    {
      "cell_type": "code",
      "execution_count": null,
      "metadata": {
        "id": "yyanCzdtdLO8"
      },
      "outputs": [],
      "source": [
        "# Exercise 4\n",
        "def is_power(a, b):\n",
        "    if a == 1:\n",
        "        return True              # base case: any number to the power 0 is 1\n",
        "    elif b == 1:\n",
        "        return a == 1           # 1^k is always 1, so only True if a==1\n",
        "    elif a % b != 0:\n",
        "        return False            # not divisible means it's not a power\n",
        "    else:\n",
        "        return is_power(a // b, b)   # integer division for next recursion\n",
        "\n",
        "# Tests\n",
        "print(is_power(65536, 2))   # should be True\n",
        "print(is_power(27, 3))  # should be True\n",
        "print(is_power(24, 2))  # should be False\n",
        "print(is_power(1, 17))   # should be True\n",
        "print(is_power(8, 2))     # True, because 8 = 2^3\n",
        "print(is_power(27, 3))    # True, because 27 = 3^3\n",
        "print(is_power(24, 2))    # False, not a power of 2\n",
        "print(is_power(1, 17))    # True, any number to the power 0 is 1"
      ]
    },
    {
      "cell_type": "code",
      "execution_count": null,
      "metadata": {
        "id": "I2PKxDhcfps7"
      },
      "outputs": [],
      "source": [
        "# Exercise 5\n",
        "def gcd(a, b):\n",
        "    r = a % b\n",
        "    if r == 0:\n",
        "        return b\n",
        "    else:\n",
        "        return gcd(b, r)\n",
        "\n",
        "# Tests\n",
        "print(gcd(12, 8))    # should be 4\n",
        "print(gcd(13, 17))   # should be 1"
      ]
    },
    {
      "cell_type": "code",
      "execution_count": 2,
      "metadata": {
        "id": "FNsxT6J3sp3b"
      },
      "outputs": [],
      "source": [
        "from doctest import run_docstring_examples\n",
        "\n",
        "def run_doctests(func):\n",
        "    run_docstring_examples(func, globals(), name=func.__name__)"
      ]
    },
    {
      "cell_type": "markdown",
      "metadata": {
        "id": "1FOGBQgssZyi"
      },
      "source": [
        "# Chapter 7: Iteration and Search\n",
        "## Exercises\n",
        "\n",
        "1.  Write a function named \"uses_none\" that takes a word and a string of forbidden letters, and returns True if the word does not use any of the forbidden letters.\n",
        "2.  Write a function called uses_all that takes a word and a string of letters, and that returns True if the word contains all of the letters in the string at least once.\n",
        "3.  The New York Times publishes a daily puzzle called \"Spelling Bee\" that challenges readers to spell as many words as possible using only seven letters, where one of the letters is required. The words must have at least four letters.\n",
        "\n",
        "  For example, on the day I wrote this, the letters were ACDLORT, with R as the required letter. So \"color\" is an acceptable word, but \"told\" is not, because it does not use R, and \"rat\" is not because it has only three letters. Letters can be repeated, so \"ratatat\" is acceptable.\n",
        "\n",
        "  Write a function called check_word that checks whether a given word is acceptable. It should take as parameters the word to check, a string of seven available letters, and a string containing the single required letter. You can use the functions you wrote in previous exercises.\n",
        "4.  According to the \"Spelling Bee\" rules,\n",
        "\n",
        "  Four-letter words are worth 1 point each.\n",
        "\n",
        "  Longer words earn 1 point per letter.\n",
        "\n",
        "  Each puzzle includes at least one \"pangram\" which uses every letter. These are worth 7 extra points!\n",
        "\n",
        "  Write a function called score_word that takes a word and a string of available letters and returns its score. You can assume that the word is acceptable.\n",
        "5.  If you got stuck on the previous question, try asking a virtual assistant, \"Given a function, uses_only, which takes two strings and checks that the first uses only the letters in the second, use it to write uses_all, which takes two strings and checks whether the first uses all the letters in the second, allowing repeats.\"\n",
        "\n",
        "  Use run_doctests to check the answer.\n",
        "6.  Now let's see if we can write uses_all based on uses_any.\n",
        "\n",
        "  Ask a virtual assistant, \"Given a function, uses_any, which takes two strings and checks whether the first uses any of the letters in the second, can you use it to write uses_all, which takes two strings and checks whether the first uses all the letters in the second, allowing repeats.\"\n",
        "\n",
        "  If it says it can, be sure to test the result!"
      ]
    },
    {
      "cell_type": "code",
      "execution_count": 8,
      "metadata": {
        "id": "q1U2P2E0s4p6"
      },
      "outputs": [],
      "source": [
        "# Exercise 1\n",
        "def uses_none(word, forbidden):\n",
        "    \"\"\"Checks whether a word avoid forbidden letters.\n",
        "\n",
        "    >>> uses_none('banana', 'xyz')\n",
        "    True\n",
        "    >>> uses_none('apple', 'efg')\n",
        "    False\n",
        "    \"\"\"\n",
        "    for letter in word:\n",
        "        if letter in forbidden:\n",
        "            return False\n",
        "    return True\n",
        "\n",
        "run_doctests(uses_none)"
      ]
    },
    {
      "cell_type": "code",
      "execution_count": 9,
      "metadata": {
        "id": "VJdFHbgkwR5I"
      },
      "outputs": [],
      "source": [
        "# Exercise 2\n",
        "def uses_all(word, required):\n",
        "    \"\"\"Checks whether a word uses all required letters.\n",
        "\n",
        "    >>> uses_all('banana', 'ban')\n",
        "    True\n",
        "    >>> uses_all('apple', 'api')\n",
        "    False\n",
        "    \"\"\"\n",
        "    for letter in required:\n",
        "        if letter not in word:\n",
        "            return False\n",
        "    return True\n",
        "run_doctests(uses_all)"
      ]
    },
    {
      "cell_type": "code",
      "execution_count": 11,
      "metadata": {
        "id": "ipWDxYJgyDFX"
      },
      "outputs": [],
      "source": [
        "# Exercise 3\n",
        "def check_word(word, available, required):\n",
        "    \"\"\"Check whether a word is acceptable.\n",
        "\n",
        "    >>> check_word('color', 'ACDLORT', 'R')\n",
        "    True\n",
        "    >>> check_word('ratatat', 'ACDLORT', 'R')\n",
        "    True\n",
        "    >>> check_word('rat', 'ACDLORT', 'R')\n",
        "    False\n",
        "    >>> check_word('told', 'ACDLORT', 'R')\n",
        "    False\n",
        "    >>> check_word('bee', 'ACDLORT', 'R')\n",
        "    False\n",
        "    \"\"\"\n",
        "    for letter in word:\n",
        "        if letter not in available:\n",
        "            return False\n",
        "    if not uses_all(word, required):\n",
        "        return False\n",
        "    return True\n",
        "    run_doctests(check_word)"
      ]
    },
    {
      "cell_type": "code",
      "execution_count": null,
      "metadata": {
        "id": "5Z_eaq3Z2pJc"
      },
      "outputs": [],
      "source": [
        "# Exercise 4\n",
        "def word_score(word, available):\n",
        "    \"\"\"Compute the score for an acceptable word.\n",
        "\n",
        "    >>> word_score('card', 'ACDLORT')\n",
        "    1\n",
        "    >>> word_score('color', 'ACDLORT')\n",
        "    5\n",
        "    >>> word_score('cartload', 'ACDLORT')\n",
        "    15\n",
        "    >>> word_score('ACDLORT', 'ACDLORT')\n",
        "    14\n",
        "    \"\"\"\n",
        "    score = 0\n",
        "    if len(word) == 4:\n",
        "        score = 1\n",
        "    elif len(word) > 4:\n",
        "        score = len(word)\n",
        "\n",
        "    # Check for pangram\n",
        "    is_pangram = True\n",
        "    for letter in available.lower():\n",
        "        if letter not in word.lower():\n",
        "            is_pangram = False\n",
        "            break\n",
        "\n",
        "    if is_pangram:\n",
        "        score += 7\n",
        "\n",
        "    return score\n",
        "\n",
        "run_doctests(word_score)"
      ]
    },
    {
      "cell_type": "code",
      "execution_count": 15,
      "metadata": {
        "colab": {
          "base_uri": "https://localhost:8080/"
        },
        "id": "-pL018Hm7q9T",
        "outputId": "845f89ca-007f-4ff3-c35d-a57dcdd9c63b"
      },
      "outputs": [
        {
          "data": {
            "text/plain": [
              "True"
            ]
          },
          "execution_count": 15,
          "metadata": {},
          "output_type": "execute_result"
        }
      ],
      "source": [
        "# Exercise 5\n",
        "def uses_all(word, required):\n",
        "    \"\"\"Checks whether a word uses all required letters using uses_only.\n",
        "\n",
        "    >>> uses_all('banana', 'ban')\n",
        "    True\n",
        "    >>> uses_all('apple', 'api')\n",
        "    False\n",
        "    >>> uses_all('programming', 'g')\n",
        "    True\n",
        "    \"\"\"\n",
        "    for letter in required.lower():\n",
        "        if letter not in word.lower():\n",
        "            return False\n",
        "    return True\n",
        "\n",
        "run_doctests(uses_all)\n",
        "uses_all('programming', 'g')"
      ]
    },
    {
      "cell_type": "code",
      "execution_count": 17,
      "metadata": {
        "colab": {
          "base_uri": "https://localhost:8080/"
        },
        "id": "iuRNNIe0ADaw",
        "outputId": "460deae1-caa7-4541-e652-bcc664fb9d57"
      },
      "outputs": [
        {
          "data": {
            "text/plain": [
              "False"
            ]
          },
          "execution_count": 17,
          "metadata": {},
          "output_type": "execute_result"
        }
      ],
      "source": [
        "# Exercise 6\n",
        "def uses_any(word, letters):\n",
        "    for letter in word.lower():\n",
        "        if letter in letters.lower():\n",
        "            return True\n",
        "    return False\n",
        "def uses_all(word, required):\n",
        "    \"\"\"Checks whether a word uses all required letters using uses_any.\n",
        "\n",
        "    >>> uses_all('banana', 'ban')\n",
        "    True\n",
        "    >>> uses_all('apple', 'api')\n",
        "    False\n",
        "    >>> uses_all('programming', 'g')\n",
        "    True\n",
        "    >>> uses_all('double', 'bo')\n",
        "    True\n",
        "    \"\"\"\n",
        "    for letter in required.lower():\n",
        "        if not uses_any(word.lower(), letter):\n",
        "            return False\n",
        "    return True\n",
        "run_doctests(uses_all)\n",
        "uses_all('apple', 'api')"
      ]
    }
  ],
  "metadata": {
    "colab": {
      "authorship_tag": "ABX9TyOvqH0XKT5YNSQ5iWi6RKEX",
      "include_colab_link": true,
      "provenance": []
    },
    "kernelspec": {
      "display_name": "Python 3",
      "name": "python3"
    },
    "language_info": {
      "codemirror_mode": {
        "name": "ipython",
        "version": 3
      },
      "file_extension": ".py",
      "mimetype": "text/x-python",
      "name": "python",
      "nbconvert_exporter": "python",
      "pygments_lexer": "ipython3",
      "version": "3.13.7"
    }
  },
  "nbformat": 4,
  "nbformat_minor": 0
}
