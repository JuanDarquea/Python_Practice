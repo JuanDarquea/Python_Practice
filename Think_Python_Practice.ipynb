{
  "nbformat": 4,
  "nbformat_minor": 0,
  "metadata": {
    "colab": {
      "provenance": [],
      "authorship_tag": "ABX9TyNu14T4j+ZNh7f1353eoy9V",
      "include_colab_link": true
    },
    "kernelspec": {
      "name": "python3",
      "display_name": "Python 3"
    },
    "language_info": {
      "name": "python"
    }
  },
  "cells": [
    {
      "cell_type": "markdown",
      "metadata": {
        "id": "view-in-github",
        "colab_type": "text"
      },
      "source": [
        "<a href=\"https://colab.research.google.com/github/JuanDarquea/Think_Python_Practice/blob/main/Think_Python_Practice.ipynb\" target=\"_parent\"><img src=\"https://colab.research.google.com/assets/colab-badge.svg\" alt=\"Open In Colab\"/></a>"
      ]
    },
    {
      "cell_type": "markdown",
      "source": [
        "# Chapter 5: Conditionals and Recursion\n",
        "## Exercises\n",
        "\n",
        "\n",
        "1.   Use integer division and the modulus operator to compute the number of days since January 1, 1970 and the current time of day in hours, minutes, and seconds.\n",
        "2.   Write a function named is_triangle that takes three integers as arguments, and that prints either \"Yes\" or \"No\", depending on whether you can or cannot form a triangle from sticks with the given lengths. Hint: Use a chained conditional.\n",
        "3.  What is the output of the program written? Draw a stack diagram that shows the state of the program when it prints the result.\n",
        "4.  Read the function and see if you can figure out what it does. Then run it and see if you got it right. Adjust the values of length, angle and factor and see what effect they have on the result. If you are not sure you understand how it works, try asking a virtual assistant.\n",
        "5.  Ask a virtual assistant \"What is the Koch curve?\"\n",
        "\n",
        "        To draw a Koch curve with length x, all you have to do is\n",
        "        Turn left 60 degrees.\n",
        "        Draw a Koch curve with length x/3.\n",
        "        Turn right 120 degrees.\n",
        "        Draw a Koch curve with length x/3.\n",
        "        Turn left 60 degrees.\n",
        "        Draw a Koch curve with length x/3.\n",
        "\n",
        "        The exception is if x is less than 5 -- in that case, you can just draw a straight line with length x.\n",
        "\n",
        "        Write a function called koch that takes x as an argument and draws a Koch curve with the given length.\n",
        "\n",
        "        Once you have koch working, you can use this loop to draw three Koch curves in the shape of a snowflake.\n",
        "6.  As an example, ask a VA for a program that draws a Sierpiński triangle. The code you get should be a good starting place, but you might have to do some debugging. If the first attempt doesn't work, you can tell the VA what happened and ask for help -- or you can debug it yourself.\n",
        "\n"
      ],
      "metadata": {
        "id": "ievYKXB7oah2"
      }
    },
    {
      "cell_type": "code",
      "source": [
        "# Exercise 1\n",
        "from time import time\n",
        "\n",
        "now = time()\n",
        "print(f\"Seconds since Unix epoch(january 1, 1970): {now}\")\n",
        "\n",
        "# Calculate the number of seconds in a day\n",
        "seconds_in_day = 24 * 60 * 60\n",
        "\n",
        "# Calculate the number of days since the epoch using integer division\n",
        "days_since_epoch = int(now // seconds_in_day)\n",
        "print(f\"Days since epoch: {days_since_epoch}\")\n",
        "\n",
        "# Calculate the remaining seconds in the current day using the modulus operator\n",
        "remaining_seconds = now % seconds_in_day\n",
        "\n",
        "# Calculate hours from the remaining seconds using integer division\n",
        "hours = int(remaining_seconds // (60 * 60))\n",
        "\n",
        "# Calculate the remaining seconds after accounting for hours using the modulus operator\n",
        "remaining_seconds %= (60 * 60)\n",
        "\n",
        "# Calculate minutes from the remaining seconds using integer division\n",
        "minutes = int(remaining_seconds // 60)\n",
        "\n",
        "# Calculate the remaining seconds after accounting for minutes using the modulus operator\n",
        "seconds = int(remaining_seconds % 60)\n",
        "\n",
        "print(f\"Current time: {hours:02d}:{minutes:02d}:{seconds:02d}\")"
      ],
      "metadata": {
        "id": "3b8oBzaL7Yyx",
        "colab": {
          "base_uri": "https://localhost:8080/"
        },
        "outputId": "9f976865-33e8-4de8-ce79-36a1faac5869"
      },
      "execution_count": 1,
      "outputs": [
        {
          "output_type": "stream",
          "name": "stdout",
          "text": [
            "Seconds since Unix epoch(january 1, 1970): 1754454975.981182\n",
            "Days since epoch: 20306\n",
            "Current time: 04:36:15\n"
          ]
        }
      ]
    },
    {
      "cell_type": "code",
      "source": [
        "# Exercise 2\n",
        "def is_triangle(a, b, c):\n",
        "    \"\"\"\n",
        "    Checks if three lengths can form a triangle and prints 'Yes' or 'No'.\n",
        "\n",
        "    Args:\n",
        "        a: The length of the first side.\n",
        "        b: The length of the second side.\n",
        "        c: The length of the third side.\n",
        "    \"\"\"\n",
        "    if a > b + c or b > a + c or c > a + b:\n",
        "        print(\"No\")\n",
        "    else:\n",
        "        print(\"Yes\")\n",
        "# Examples\n",
        "print(\"Can a triangle with lengths 4, 5 and 6 be created?\")\n",
        "triangle1 = is_triangle(4, 5, 6) # should be Yes\n",
        "print(\"Can a triangle with lengths 1, 2 and 3 be created?\")\n",
        "is_triangle(1, 2, 3)   # should be Yes\n",
        "print(\"Can a triangle with lengths 6, 2 and 3 be created?\")\n",
        "is_triangle(6, 2, 3)   # should be No\n",
        "print(\"Can a triangle with lengths 1, 1 and 12 be created?\")\n",
        "is_triangle(1, 1, 12)   # should be No"
      ],
      "metadata": {
        "colab": {
          "base_uri": "https://localhost:8080/"
        },
        "id": "F0uFFduAoyoe",
        "outputId": "e99d26d3-a798-4839-ecfc-6e5626950bb2"
      },
      "execution_count": 3,
      "outputs": [
        {
          "output_type": "stream",
          "name": "stdout",
          "text": [
            "Can a triangle with lengths 4, 5 and 6 be created?\n",
            "Yes\n",
            "Can a triangle with lengths 1, 2 and 3 be created?\n",
            "Yes\n",
            "Can a triangle with lengths 6, 2 and 3 be created?\n",
            "No\n",
            "Can a triangle with lengths 1, 1 and 12 be created?\n",
            "No\n"
          ]
        }
      ]
    },
    {
      "cell_type": "code",
      "source": [
        "# Exercise 3\n",
        "def recurse(n, s):\n",
        "    if n == 0:\n",
        "        print(s)\n",
        "    else:\n",
        "        recurse(n-1, n+s)\n",
        "\n",
        "recurse(3, 0)\n",
        "# Stack program\n"
      ],
      "metadata": {
        "id": "09_wexM8sKDN"
      },
      "execution_count": null,
      "outputs": []
    }
  ]
}