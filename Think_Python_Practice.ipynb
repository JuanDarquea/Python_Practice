{
  "cells": [
    {
      "cell_type": "code",
      "execution_count": 1,
      "metadata": {
        "colab": {
          "base_uri": "https://localhost:8080/"
        },
        "id": "G2-w2GIwaudM",
        "outputId": "68657d91-89a7-4cfa-f940-51c94e46fc61"
      },
      "outputs": [
        {
          "name": "stdout",
          "output_type": "stream",
          "text": [
            "Downloaded thinkpython.py\n",
            "Downloaded diagram.py\n",
            "Downloaded jupyturtle.py\n"
          ]
        }
      ],
      "source": [
        "from os.path import basename, exists\n",
        "\n",
        "def download(url):\n",
        "    filename = basename(url)\n",
        "    if not exists(filename):\n",
        "        from urllib.request import urlretrieve\n",
        "\n",
        "        local, _ = urlretrieve(url, filename)\n",
        "        print(\"Downloaded \" + str(local))\n",
        "    return filename\n",
        "\n",
        "download('https://github.com/AllenDowney/ThinkPython/raw/v3/thinkpython.py');\n",
        "download('https://github.com/AllenDowney/ThinkPython/raw/v3/diagram.py');\n",
        "download('https://github.com/ramalho/jupyturtle/releases/download/2024-03/jupyturtle.py');\n",
        "\n",
        "import thinkpython"
      ]
    },
    {
      "cell_type": "markdown",
      "metadata": {},
      "source": [
        "# Chapter 1: Programming As A Way Of Thinking\n",
        "## Exercises\n",
        "1. You might wonder what `round` does if a number ends in `0.5`.\n",
        "The answer is that it sometimes rounds up and sometimes rounds down.\n",
        "Try these examples and see if you can figure out what rule it follows.\n",
        "-42.5\n",
        "-43.5\n",
        "\n",
        "2. Recall that every expression has a value, every value has a type, and we can use the `type` function to find the type of any value. What is the type of the value of the following expressions? Make your best guess for each one, and then use `type` to find out.\n",
        "\n",
        "* `765`\n",
        "\n",
        "* `2.718`\n",
        "\n",
        "* `'2 pi'`\n",
        "\n",
        "* `abs(-7)`\n",
        "\n",
        "* `abs(-7.0)`\n",
        "\n",
        "* `abs`\n",
        "\n",
        "* `int`\n",
        "\n",
        "* `type`\n",
        "\n",
        "3. The following questions give you a chance to practice writing arithmetic expressions.\n",
        "\n",
        "    Q1.  How many seconds are there in 42 minutes 42 seconds?\n",
        "\n",
        "    Q2.  How many miles are there in 10 kilometers? Hint: there are 1.61 kilometers in a mile.\n",
        "\n",
        "    Q3.  If you run a 10 kilometer race in 42 minutes 42 seconds, what is your average pace in seconds per mile?\n",
        "    \n",
        "    Q4.  What is your average pace in minutes and seconds per mile?\n",
        "\n",
        "    Q5.  What is your average speed in miles per hour?"
      ]
    },
    {
      "cell_type": "markdown",
      "metadata": {
        "id": "ievYKXB7oah2"
      },
      "source": [
        "# Chapter 5: Conditionals and Recursion\n",
        "## Exercises\n",
        "\n",
        "\n",
        "1.   Use integer division and the modulus operator to compute the number of days since January 1, 1970 and the current time of day in hours, minutes, and seconds.\n",
        "2.   Write a function named is_triangle that takes three integers as arguments, and that prints either \"Yes\" or \"No\", depending on whether you can or cannot form a triangle from sticks with the given lengths. Hint: Use a chained conditional.\n",
        "3.  What is the output of the program written? Draw a stack diagram that shows the state of the program when it prints the result.\n",
        "4.  Read the function and see if you can figure out what it does. Then run it and see if you got it right. Adjust the values of length, angle and factor and see what effect they have on the result. If you are not sure you understand how it works, try asking a virtual assistant.\n",
        "5.  Ask a virtual assistant \"What is the Koch curve?\"\n",
        "\n",
        "        To draw a Koch curve with length x, all you have to do is\n",
        "        Turn left 60 degrees.\n",
        "        Draw a Koch curve with length x/3.\n",
        "        Turn right 120 degrees.\n",
        "        Draw a Koch curve with length x/3.\n",
        "        Turn left 60 degrees.\n",
        "        Draw a Koch curve with length x/3.\n",
        "\n",
        "        The exception is if x is less than 5 -- in that case, you can just draw a straight line with length x.\n",
        "\n",
        "        Write a function called koch that takes x as an argument and draws a Koch curve with the given length.\n",
        "\n",
        "        Once you have koch working, you can use this loop to draw three Koch curves in the shape of a snowflake.\n",
        "6.  As an example, ask a VA for a program that draws a Sierpiński triangle. The code you get should be a good starting place, but you might have to do some debugging. If the first attempt doesn't work, you can tell the VA what happened and ask for help -- or you can debug it yourself.\n",
        "\n"
      ]
    },
    {
      "cell_type": "code",
      "execution_count": null,
      "metadata": {
        "id": "3b8oBzaL7Yyx"
      },
      "outputs": [],
      "source": [
        "# Exercise 1\n",
        "from time import time\n",
        "\n",
        "now = time()\n",
        "print(f\"Seconds since Unix epoch(january 1, 1970): {now}\")\n",
        "\n",
        "# Calculate the number of seconds in a day\n",
        "seconds_in_day = 24 * 60 * 60\n",
        "\n",
        "# Calculate the number of days since the epoch using integer division\n",
        "days_since_epoch = int(now // seconds_in_day)\n",
        "print(f\"Days since epoch: {days_since_epoch}\")\n",
        "\n",
        "# Calculate the remaining seconds in the current day using the modulus operator\n",
        "remaining_seconds = now % seconds_in_day\n",
        "\n",
        "# Calculate hours from the remaining seconds using integer division\n",
        "hours = int(remaining_seconds // (60 * 60))\n",
        "\n",
        "# Calculate the remaining seconds after accounting for hours using the modulus operator\n",
        "remaining_seconds %= (60 * 60)\n",
        "\n",
        "# Calculate minutes from the remaining seconds using integer division\n",
        "minutes = int(remaining_seconds // 60)\n",
        "\n",
        "# Calculate the remaining seconds after accounting for minutes using the modulus operator\n",
        "seconds = int(remaining_seconds % 60)\n",
        "\n",
        "print(f\"Current time: {hours:02d}:{minutes:02d}:{seconds:02d}\")"
      ]
    },
    {
      "cell_type": "code",
      "execution_count": null,
      "metadata": {
        "id": "F0uFFduAoyoe"
      },
      "outputs": [],
      "source": [
        "# Exercise 2\n",
        "def is_triangle(a, b, c):\n",
        "    \"\"\"\n",
        "    Checks if three lengths can form a triangle and prints 'Yes' or 'No'.\n",
        "\n",
        "    Args:\n",
        "        a: The length of the first side.\n",
        "        b: The length of the second side.\n",
        "        c: The length of the third side.\n",
        "    \"\"\"\n",
        "    if a > b + c or b > a + c or c > a + b:\n",
        "        print(\"No\")\n",
        "    else:\n",
        "        print(\"Yes\")\n",
        "# Examples\n",
        "print(\"Can a triangle with lengths 4, 5 and 6 be created?\")\n",
        "triangle1 = is_triangle(4, 5, 6) # should be Yes\n",
        "print(\"Can a triangle with lengths 1, 2 and 3 be created?\")\n",
        "is_triangle(1, 2, 3)   # should be Yes\n",
        "print(\"Can a triangle with lengths 6, 2 and 3 be created?\")\n",
        "is_triangle(6, 2, 3)   # should be No\n",
        "print(\"Can a triangle with lengths 1, 1 and 12 be created?\")\n",
        "is_triangle(1, 1, 12)   # should be No"
      ]
    },
    {
      "cell_type": "code",
      "execution_count": null,
      "metadata": {
        "id": "09_wexM8sKDN"
      },
      "outputs": [],
      "source": [
        "# Exercise 3\n",
        "def recurse(n, s):\n",
        "    if n == 0:\n",
        "        print(s)\n",
        "    else:\n",
        "        recurse(n-1, n+s)\n",
        "\n",
        "recurse(3, 0)\n",
        "print()\n",
        "print()\n",
        "# Stack program\n",
        "from diagram import make_frame, Stack\n",
        "from diagram import diagram, adjust\n",
        "\n",
        "# Build the stack frames (from initial call to base case)\n",
        "frames = []\n",
        "# The call sequence is recurse(3, 0) -> recurse(2, 3) -> recurse(1, 5) -> recurse(0, 6)\n",
        "call_args = [\n",
        "    {'n': 3, 's': 0},\n",
        "    {'n': 2, 's': 3},\n",
        "    {'n': 1, 's': 5},\n",
        "    {'n': 0, 's': 6}  # Base case, prints 6\n",
        "]\n",
        "\n",
        "for args in call_args:\n",
        "    frame = make_frame(args, name='recurse', dx=1.3, loc='left')  # dx for horizontal offset (optional)\n",
        "    frames.append(frame)\n",
        "\n",
        "stack = Stack(frames, dy=-0.5)  # Negative dy stacks downward\n",
        "\n",
        "width, height, x, y = [3.5, 2, 1, 1.8]\n",
        "ax = diagram(width, height)\n",
        "bbox = stack.draw(ax, x, y)\n",
        "# adjust(x, y, bbox)"
      ]
    },
    {
      "cell_type": "code",
      "execution_count": null,
      "metadata": {
        "id": "Our5sNzJanNr"
      },
      "outputs": [],
      "source": [
        "# exercise 4\n",
        "\"\"\"Example function code\"\"\"\n",
        "from jupyturtle import forward, left, right, back, make_turtle\n",
        "\n",
        "def draw(length):\n",
        "    angle = 50\n",
        "    factor = 0.6\n",
        "\n",
        "    if length > 5:\n",
        "        forward(length)\n",
        "        left(angle)\n",
        "        draw(factor * length)\n",
        "        right(2 * angle)\n",
        "        draw(factor * length)\n",
        "        left(angle)\n",
        "        back(length)\n",
        "\"\"\"Result\"\"\"\n",
        "make_turtle(delay = 0.1)\n",
        "draw(30)"
      ]
    },
    {
      "cell_type": "code",
      "execution_count": null,
      "metadata": {
        "id": "VyGiClZObWaq"
      },
      "outputs": [],
      "source": [
        "# Exercise 5\n",
        "from jupyturtle import forward, left, right, back, make_turtle\n",
        "def koch(x):\n",
        "  if x < 5:\n",
        "    forward(x)\n",
        "  else:\n",
        "    koch(x/3)\n",
        "    left(60)\n",
        "    koch(x/3)\n",
        "    right(120)\n",
        "    koch(x/3)\n",
        "    left(60)\n",
        "    koch(x/3)\n",
        "# Result 1\n",
        "make_turtle(delay=0)\n",
        "koch(120)\n",
        "# Snowflake\n",
        "make_turtle(delay=0, height=300)\n",
        "for i in range(3):\n",
        "    koch(120)\n",
        "    right(120)"
      ]
    },
    {
      "cell_type": "code",
      "execution_count": null,
      "metadata": {
        "id": "ux0dPQHCbhPC"
      },
      "outputs": [],
      "source": [
        "# Exercise 6\n",
        "from jupyturtle import forward, left, right, make_turtle, penup, pendown\n",
        "import math\n",
        "\n",
        "def draw_sierpinski_alt(t, length, depth):\n",
        "    \"\"\"\n",
        "    Draws a Sierpiński triangle using an alternative recursive method.\n",
        "\n",
        "    Args:\n",
        "        t: The turtle object.\n",
        "        length: The side length of the current triangle.\n",
        "        depth: The recursion depth.\n",
        "    \"\"\"\n",
        "    if depth == 0:\n",
        "        # Draw a filled triangle (optional, can just draw the outline)\n",
        "        # For simplicity, let's draw the outline of the base case triangle\n",
        "        for _ in range(3):\n",
        "            t.forward(length)\n",
        "            t.left(120)\n",
        "    else:\n",
        "        draw_sierpinski_alt(t, length / 2, depth - 1)\n",
        "        t.forward(length / 2)\n",
        "        draw_sierpinski_alt(t, length / 2, depth - 1)\n",
        "        # Replace t.backward(length / 2) with turns and forward\n",
        "        t.left(180)\n",
        "        t.forward(length / 2)\n",
        "        t.left(180)\n",
        "\n",
        "        t.left(60)\n",
        "        t.forward(length / 2)\n",
        "        t.right(60)\n",
        "        draw_sierpinski_alt(t, length / 2, depth - 1)\n",
        "        t.left(60)\n",
        "        # Replace t.backward(length / 2) with turns and forward\n",
        "        t.left(180)\n",
        "        t.forward(length / 2)\n",
        "        t.left(180)\n",
        "\n",
        "        t.right(60)\n",
        "\n",
        "\n",
        "# Create a turtle instance\n",
        "t = make_turtle(delay=0, height=400, width=400)\n",
        "\n",
        "# Calculate starting position to center the triangle\n",
        "initial_length = 300\n",
        "triangle_height = initial_length * math.sqrt(3) / 2\n",
        "\n",
        "# Move the turtle to the calculated starting position without drawing\n",
        "t.penup() # Lift the pen\n",
        "t.left(180)\n",
        "t.forward(initial_length / 2)\n",
        "t.left(90)\n",
        "t.forward(triangle_height / 3) # Adjust this factor as needed for better vertical centering\n",
        "t.right(90)\n",
        "t.left(180) # Turn back to original orientation\n",
        "t.pendown() # Put the pen down\n",
        "\n",
        "# Draw the Sierpiński triangle\n",
        "draw_sierpinski_alt(t, initial_length, 4) # Adjust length and depth as needed"
      ]
    },
    {
      "cell_type": "code",
      "execution_count": null,
      "metadata": {
        "id": "wC1DAdxafzSh"
      },
      "outputs": [],
      "source": [
        "from jupyturtle import make_turtle, penup, pendown\n",
        "import math\n",
        "# Create a new turtle instance each time to clear the previous drawing\n",
        "t = make_turtle(delay=0.1)\n",
        "\n",
        "# Calculate starting position to center the triangle\n",
        "initial_length = 100  # Use the length used for drawing\n",
        "triangle_height = initial_length * math.sqrt(3) / 2\n",
        "\n",
        "# Move the turtle to the calculated starting position without drawing\n",
        "t.penup() # Lift the pen\n",
        "t.left(180)\n",
        "t.forward(initial_length / 2)\n",
        "t.left(90)\n",
        "t.forward(triangle_height / 3) # Adjust this factor as needed for better vertical centering\n",
        "t.right(90)\n",
        "t.left(180) # Turn back to original orientation\n",
        "t.pendown() # Put the pen down\n",
        "\n",
        "draw_sierpinski_alt(t, initial_length, 3) # Adjust length and depth as needed"
      ]
    },
    {
      "cell_type": "markdown",
      "metadata": {
        "id": "rq2JXRHmxxMs"
      },
      "source": [
        "# Chapter 6: Return Values\n",
        "## Exercises\n",
        "\n",
        "1.   Use incremental development to write a function called hypot that returns the length of the hypotenuse of a right triangle given the lengths of the other two legs as arguments.\n",
        "\n",
        "  Note: There's a function in the math module called hypot that does the same thing, but you should not use it for this exercise!\n",
        "\n",
        "  Even if you can write the function correctly on the first try, start with a function that always returns 0 and practice making small changes, testing as you go. When you are done, the function should only return a value -- it should not display anything.\n",
        "2.   Write a boolean function, is_between(x, y, z), that returns True if  x<y<z  or if  z<y<x , andFalse otherwise.\n",
        "3.  The Ackermann function,  A(m,n) , is defined:\n",
        "\n",
        "  A(m,n)=⎧⎩⎨n+1A(m−1,1)A(m−1,A(m,n−1))if m=0if m>0 and n=0if m>0 and n>0.\n",
        "\n",
        "  Write a function named ackermann that evaluates the Ackermann function. What happens if you call ackermann(5, 5)?\n",
        "4.  A number,  a , is a power of  b  if it is divisible by  b  and  a/b  is a power of  b . Write a function called is_power that takes parameters a and b and returns True if a is a power of b. Note: you will have to think about the base case.\n",
        "5.  The greatest common divisor (GCD) of  a  and  b  is the largest number that divides both of them with no remainder.\n",
        "\n",
        "  One way to find the GCD of two numbers is based on the observation that if  r  is the remainder when  a  is divided by  b , then  gcd(a,b)=gcd(b,r) . As a base case, we can use  gcd(a,0)=a .\n",
        "\n",
        "  Write a function called gcd that takes parameters a and b and returns their greatest common divisor.\n",
        "\n",
        "\n",
        "\n"
      ]
    },
    {
      "cell_type": "code",
      "execution_count": null,
      "metadata": {
        "id": "hjTlPPH6h0T3"
      },
      "outputs": [],
      "source": [
        "# Exercise 1\n",
        "import math\n",
        "def hypot(x, y):\n",
        "  squared_x = x ** 2\n",
        "  squared_y = y ** 2\n",
        "  square_sum = squared_x + squared_y\n",
        "  return math.sqrt(square_sum)\n",
        "\n",
        "# test resul with 3 and 4\n",
        "hypot(3, 4)"
      ]
    },
    {
      "cell_type": "code",
      "execution_count": null,
      "metadata": {
        "id": "xOX8ck1sQM9z"
      },
      "outputs": [],
      "source": [
        "# Exercise 2\n",
        "def is_between(x, y, z):\n",
        "  if x < y < z or z < y < x:\n",
        "    return True\n",
        "  else:\n",
        "    return False\n",
        "\n",
        "# Tests\n",
        "print(is_between(1, 2, 3))  # should be True\n",
        "print(is_between(3, 2, 1))  # should be True\n",
        "print(is_between(1, 3, 2))  # should be False\n",
        "print(is_between(2, 3, 1))  # should be False"
      ]
    },
    {
      "cell_type": "code",
      "execution_count": null,
      "metadata": {
        "id": "IlpvJ3ghbZxF"
      },
      "outputs": [],
      "source": [
        "# Exercise 3\n",
        "def ackermann(m, n):\n",
        "  if m == 0:\n",
        "    return n + 1\n",
        "  elif m > 0 and n == 0:\n",
        "    return ackermann(m - 1, 1)\n",
        "  elif m > 0 and n > 0:\n",
        "    return ackermann(m - 1, ackermann(m, n - 1))\n",
        "\n",
        "# Tests\n",
        "print(ackermann(3, 2))  # should be 29\n",
        "print(ackermann(3, 3))  # should be 61\n",
        "print(ackermann(3, 4))  # should be 125"
      ]
    },
    {
      "cell_type": "code",
      "execution_count": null,
      "metadata": {
        "id": "yyanCzdtdLO8"
      },
      "outputs": [],
      "source": [
        "# Exercise 4\n",
        "def is_power(a, b):\n",
        "    if a == 1:\n",
        "        return True              # base case: any number to the power 0 is 1\n",
        "    elif b == 1:\n",
        "        return a == 1           # 1^k is always 1, so only True if a==1\n",
        "    elif a % b != 0:\n",
        "        return False            # not divisible means it's not a power\n",
        "    else:\n",
        "        return is_power(a // b, b)   # integer division for next recursion\n",
        "\n",
        "# Tests\n",
        "print(is_power(65536, 2))   # should be True\n",
        "print(is_power(27, 3))  # should be True\n",
        "print(is_power(24, 2))  # should be False\n",
        "print(is_power(1, 17))   # should be True\n",
        "print(is_power(8, 2))     # True, because 8 = 2^3\n",
        "print(is_power(27, 3))    # True, because 27 = 3^3\n",
        "print(is_power(24, 2))    # False, not a power of 2\n",
        "print(is_power(1, 17))    # True, any number to the power 0 is 1"
      ]
    },
    {
      "cell_type": "code",
      "execution_count": null,
      "metadata": {
        "id": "I2PKxDhcfps7"
      },
      "outputs": [],
      "source": [
        "# Exercise 5\n",
        "def gcd(a, b):\n",
        "    r = a % b\n",
        "    if r == 0:\n",
        "        return b\n",
        "    else:\n",
        "        return gcd(b, r)\n",
        "\n",
        "# Tests\n",
        "print(gcd(12, 8))    # should be 4\n",
        "print(gcd(13, 17))   # should be 1"
      ]
    },
    {
      "cell_type": "code",
      "execution_count": 2,
      "metadata": {
        "id": "FNsxT6J3sp3b"
      },
      "outputs": [],
      "source": [
        "from doctest import run_docstring_examples\n",
        "\n",
        "def run_doctests(func):\n",
        "    run_docstring_examples(func, globals(), name=func.__name__)"
      ]
    },
    {
      "cell_type": "markdown",
      "metadata": {
        "id": "1FOGBQgssZyi"
      },
      "source": [
        "# Chapter 7: Iteration and Search\n",
        "## Exercises\n",
        "\n",
        "1.  Write a function named \"uses_none\" that takes a word and a string of forbidden letters, and returns True if the word does not use any of the forbidden letters.\n",
        "2.  Write a function called uses_all that takes a word and a string of letters, and that returns True if the word contains all of the letters in the string at least once.\n",
        "3.  The New York Times publishes a daily puzzle called \"Spelling Bee\" that challenges readers to spell as many words as possible using only seven letters, where one of the letters is required. The words must have at least four letters.\n",
        "\n",
        "  For example, on the day I wrote this, the letters were ACDLORT, with R as the required letter. So \"color\" is an acceptable word, but \"told\" is not, because it does not use R, and \"rat\" is not because it has only three letters. Letters can be repeated, so \"ratatat\" is acceptable.\n",
        "\n",
        "  Write a function called check_word that checks whether a given word is acceptable. It should take as parameters the word to check, a string of seven available letters, and a string containing the single required letter. You can use the functions you wrote in previous exercises.\n",
        "4.  According to the \"Spelling Bee\" rules,\n",
        "\n",
        "  Four-letter words are worth 1 point each.\n",
        "\n",
        "  Longer words earn 1 point per letter.\n",
        "\n",
        "  Each puzzle includes at least one \"pangram\" which uses every letter. These are worth 7 extra points!\n",
        "\n",
        "  Write a function called score_word that takes a word and a string of available letters and returns its score. You can assume that the word is acceptable.\n",
        "5.  If you got stuck on the previous question, try asking a virtual assistant, \"Given a function, uses_only, which takes two strings and checks that the first uses only the letters in the second, use it to write uses_all, which takes two strings and checks whether the first uses all the letters in the second, allowing repeats.\"\n",
        "\n",
        "  Use run_doctests to check the answer.\n",
        "6.  Now let's see if we can write uses_all based on uses_any.\n",
        "\n",
        "  Ask a virtual assistant, \"Given a function, uses_any, which takes two strings and checks whether the first uses any of the letters in the second, can you use it to write uses_all, which takes two strings and checks whether the first uses all the letters in the second, allowing repeats.\"\n",
        "\n",
        "  If it says it can, be sure to test the result!"
      ]
    },
    {
      "cell_type": "code",
      "execution_count": 8,
      "metadata": {
        "id": "q1U2P2E0s4p6"
      },
      "outputs": [],
      "source": [
        "# Exercise 1\n",
        "def uses_none(word, forbidden):\n",
        "    \"\"\"Checks whether a word avoid forbidden letters.\n",
        "\n",
        "    >>> uses_none('banana', 'xyz')\n",
        "    True\n",
        "    >>> uses_none('apple', 'efg')\n",
        "    False\n",
        "    \"\"\"\n",
        "    for letter in word:\n",
        "        if letter in forbidden:\n",
        "            return False\n",
        "    return True\n",
        "\n",
        "run_doctests(uses_none)"
      ]
    },
    {
      "cell_type": "code",
      "execution_count": 9,
      "metadata": {
        "id": "VJdFHbgkwR5I"
      },
      "outputs": [],
      "source": [
        "# Exercise 2\n",
        "def uses_all(word, required):\n",
        "    \"\"\"Checks whether a word uses all required letters.\n",
        "\n",
        "    >>> uses_all('banana', 'ban')\n",
        "    True\n",
        "    >>> uses_all('apple', 'api')\n",
        "    False\n",
        "    \"\"\"\n",
        "    for letter in required:\n",
        "        if letter not in word:\n",
        "            return False\n",
        "    return True\n",
        "run_doctests(uses_all)"
      ]
    },
    {
      "cell_type": "code",
      "execution_count": 11,
      "metadata": {
        "id": "ipWDxYJgyDFX"
      },
      "outputs": [],
      "source": [
        "# Exercise 3\n",
        "def check_word(word, available, required):\n",
        "    \"\"\"Check whether a word is acceptable.\n",
        "\n",
        "    >>> check_word('color', 'ACDLORT', 'R')\n",
        "    True\n",
        "    >>> check_word('ratatat', 'ACDLORT', 'R')\n",
        "    True\n",
        "    >>> check_word('rat', 'ACDLORT', 'R')\n",
        "    False\n",
        "    >>> check_word('told', 'ACDLORT', 'R')\n",
        "    False\n",
        "    >>> check_word('bee', 'ACDLORT', 'R')\n",
        "    False\n",
        "    \"\"\"\n",
        "    for letter in word:\n",
        "        if letter not in available:\n",
        "            return False\n",
        "    if not uses_all(word, required):\n",
        "        return False\n",
        "    return True\n",
        "    run_doctests(check_word)"
      ]
    },
    {
      "cell_type": "code",
      "execution_count": null,
      "metadata": {
        "id": "5Z_eaq3Z2pJc"
      },
      "outputs": [],
      "source": [
        "# Exercise 4\n",
        "def word_score(word, available):\n",
        "    \"\"\"Compute the score for an acceptable word.\n",
        "\n",
        "    >>> word_score('card', 'ACDLORT')\n",
        "    1\n",
        "    >>> word_score('color', 'ACDLORT')\n",
        "    5\n",
        "    >>> word_score('cartload', 'ACDLORT')\n",
        "    15\n",
        "    >>> word_score('ACDLORT', 'ACDLORT')\n",
        "    14\n",
        "    \"\"\"\n",
        "    score = 0\n",
        "    if len(word) == 4:\n",
        "        score = 1\n",
        "    elif len(word) > 4:\n",
        "        score = len(word)\n",
        "\n",
        "    # Check for pangram\n",
        "    is_pangram = True\n",
        "    for letter in available.lower():\n",
        "        if letter not in word.lower():\n",
        "            is_pangram = False\n",
        "            break\n",
        "\n",
        "    if is_pangram:\n",
        "        score += 7\n",
        "\n",
        "    return score\n",
        "\n",
        "run_doctests(word_score)"
      ]
    },
    {
      "cell_type": "code",
      "execution_count": 15,
      "metadata": {
        "colab": {
          "base_uri": "https://localhost:8080/"
        },
        "id": "-pL018Hm7q9T",
        "outputId": "845f89ca-007f-4ff3-c35d-a57dcdd9c63b"
      },
      "outputs": [
        {
          "data": {
            "text/plain": [
              "True"
            ]
          },
          "execution_count": 15,
          "metadata": {},
          "output_type": "execute_result"
        }
      ],
      "source": [
        "# Exercise 5\n",
        "def uses_all(word, required):\n",
        "    \"\"\"Checks whether a word uses all required letters using uses_only.\n",
        "\n",
        "    >>> uses_all('banana', 'ban')\n",
        "    True\n",
        "    >>> uses_all('apple', 'api')\n",
        "    False\n",
        "    >>> uses_all('programming', 'g')\n",
        "    True\n",
        "    \"\"\"\n",
        "    for letter in required.lower():\n",
        "        if letter not in word.lower():\n",
        "            return False\n",
        "    return True\n",
        "\n",
        "run_doctests(uses_all)\n",
        "uses_all('programming', 'g')"
      ]
    },
    {
      "cell_type": "code",
      "execution_count": 17,
      "metadata": {
        "colab": {
          "base_uri": "https://localhost:8080/"
        },
        "id": "iuRNNIe0ADaw",
        "outputId": "460deae1-caa7-4541-e652-bcc664fb9d57"
      },
      "outputs": [
        {
          "data": {
            "text/plain": [
              "False"
            ]
          },
          "execution_count": 17,
          "metadata": {},
          "output_type": "execute_result"
        }
      ],
      "source": [
        "# Exercise 6\n",
        "def uses_any(word, letters):\n",
        "    for letter in word.lower():\n",
        "        if letter in letters.lower():\n",
        "            return True\n",
        "    return False\n",
        "def uses_all(word, required):\n",
        "    \"\"\"Checks whether a word uses all required letters using uses_any.\n",
        "\n",
        "    >>> uses_all('banana', 'ban')\n",
        "    True\n",
        "    >>> uses_all('apple', 'api')\n",
        "    False\n",
        "    >>> uses_all('programming', 'g')\n",
        "    True\n",
        "    >>> uses_all('double', 'bo')\n",
        "    True\n",
        "    \"\"\"\n",
        "    for letter in required.lower():\n",
        "        if not uses_any(word.lower(), letter):\n",
        "            return False\n",
        "    return True\n",
        "run_doctests(uses_all)\n",
        "uses_all('apple', 'api')"
      ]
    }
  ],
  "metadata": {
    "colab": {
      "authorship_tag": "ABX9TyOvqH0XKT5YNSQ5iWi6RKEX",
      "include_colab_link": true,
      "provenance": []
    },
    "kernelspec": {
      "display_name": "Python 3",
      "name": "python3"
    },
    "language_info": {
      "codemirror_mode": {
        "name": "ipython",
        "version": 3
      },
      "file_extension": ".py",
      "mimetype": "text/x-python",
      "name": "python",
      "nbconvert_exporter": "python",
      "pygments_lexer": "ipython3",
      "version": "3.13.7"
    }
  },
  "nbformat": 4,
  "nbformat_minor": 0
}
