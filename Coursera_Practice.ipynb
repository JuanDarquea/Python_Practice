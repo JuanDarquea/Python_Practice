{
  "nbformat": 4,
  "nbformat_minor": 0,
  "metadata": {
    "colab": {
      "provenance": [],
      "collapsed_sections": [
        "7I8t6znAehGQ",
        "LIScidW-DeJ4",
        "wxo6kogderVC",
        "TZxsC-XPGpaJ"
      ],
      "authorship_tag": "ABX9TyNLt5W2bx7YqnzGqIO1EsgA",
      "include_colab_link": true
    },
    "kernelspec": {
      "name": "python3",
      "display_name": "Python 3"
    },
    "language_info": {
      "name": "python"
    }
  },
  "cells": [
    {
      "cell_type": "markdown",
      "metadata": {
        "id": "view-in-github",
        "colab_type": "text"
      },
      "source": [
        "<a href=\"https://colab.research.google.com/github/JuanDarquea/Think_Python_Practice/blob/main/Coursera_Practice.ipynb\" target=\"_parent\"><img src=\"https://colab.research.google.com/assets/colab-badge.svg\" alt=\"Open In Colab\"/></a>"
      ]
    },
    {
      "cell_type": "markdown",
      "source": [
        "# Reading files with open()"
      ],
      "metadata": {
        "id": "7I8t6znAehGQ"
      }
    },
    {
      "cell_type": "code",
      "source": [
        "with open('file.txt', 'w') as file: # create file and open it as \"write\", using \"read\" does not create a file\n",
        "  file.write('This is line A\\n')    # write lines inside the file\n",
        "  file.write('This is line B\\n')\n",
        "\n",
        "with open('file.txt', 'a') as file: # file opened as \"append\" to add to the file without erasing past data\n",
        "  file.write('This is line C\\n')\n",
        "\n",
        "with open('file.txt', 'r') as file: # with file now created, it can be opened as \"read\"\n",
        "  file_stuff = file.read()          # assign the file full content to a variable\n",
        "  print(file_stuff)                 # print said content\n",
        "\n",
        "with open('file.txt', 'r') as file:\n",
        "  line1 = file.readline()           # read file line by line\n",
        "  print(line1)\n",
        "  line2 = file.readline()           # cursor does move when reading inside an opened file\n",
        "  print(line2)\n",
        "\n",
        "with open('file.txt', 'a+') as file:      # use of \"append+\" to append and read the file\n",
        "  file.write('This is special line D\\n')\n",
        "  file.seek(0)                            # move the cursor to the beginning to read\n",
        "  file1 = file.read()\n",
        "  if \"special\" in file1:\n",
        "    print('True\\n')\n",
        "    print(file1)\n",
        "  else:\n",
        "    print('False')"
      ],
      "metadata": {
        "id": "m-tYQZDVerAS"
      },
      "execution_count": null,
      "outputs": []
    },
    {
      "cell_type": "code",
      "source": [
        "file = open('file.txt', 'r')\n",
        "line1 = file.readline()\n",
        "line2 = file.readline()\n",
        "line3 = file.readline()\n",
        "line4 = file.readline()\n",
        "\n",
        "print(line3)\n",
        "if \"special\" in line4:        # using if to search for specifc parts of the line inside the file\n",
        "  print(f\"{line4}\\n\")\n",
        "else:\n",
        "  print('False')\n",
        "\n",
        "file.seek(0)                  # seek goes outside of loop, else it creates an infinite loop\n",
        "while True:                   # using while to read the whole file in a loop, line by line\n",
        "  line = file.readline()\n",
        "  if not line:\n",
        "    break\n",
        "  print(line)\n",
        "file.close()                  # always close the file when opening it without the use of \"with\"\n"
      ],
      "metadata": {
        "id": "czJ0xpLy7wao"
      },
      "execution_count": null,
      "outputs": []
    },
    {
      "cell_type": "code",
      "source": [
        "file = open('file.txt', 'r')\n",
        "file.seek(15)\n",
        "line2 = file.readline()       # reading full second line first by modifying the placing of cursor\n",
        "print(line2)\n",
        "file.seek(23)                 # using seek to put cursor on a specific part of the file\n",
        "halfline2 = file.read(6)      # reading the next 6 characters from the cursor\n",
        "print(halfline2)              # print said characters assigned to a variable\n",
        "file.close()"
      ],
      "metadata": {
        "id": "nNCPxY7Y-RUf"
      },
      "execution_count": null,
      "outputs": []
    },
    {
      "cell_type": "markdown",
      "source": [
        "## Lab exercises"
      ],
      "metadata": {
        "id": "LIScidW-DeJ4"
      }
    },
    {
      "cell_type": "code",
      "source": [
        "import urllib.request\n",
        "url = 'https://cf-courses-data.s3.us.cloud-object-storage.appdomain.cloud/IBMDeveloperSkillsNetwork-PY0101EN-SkillsNetwork/labs/Module%204/data/example1.txt'\n",
        "filename = 'Example1.txt'\n",
        "urllib.request.urlretrieve(url, filename)\n",
        "\n",
        "## Download Example file\n",
        "!wget https://cf-courses-data.s3.us.cloud-object-storage.appdomain.cloud/IBMDeveloperSkillsNetwork-PY0101EN-SkillsNetwork/labs/Module%204/data/example1.txt\n",
        "\n",
        "import pandas as pd\n",
        "\n",
        "filename = \"https://cf-courses-data.s3.us.cloud-object-storage.appdomain.cloud/IBMDeveloperSkillsNetwork-PY0101EN-SkillsNetwork/labs/Module%204/data/example1.txt\"\n",
        "\n",
        "print(\"done\")"
      ],
      "metadata": {
        "id": "FG2RQQL_DdEB"
      },
      "execution_count": null,
      "outputs": []
    },
    {
      "cell_type": "code",
      "source": [
        "# Read the Example1.txt\n",
        "example1 = \"example1.txt\"\n",
        "file1 = open(example1, \"r\")\n",
        "\n",
        "# Print the path of file\n",
        "print(f\"File name: {file1.name}\")\n",
        "print(\"-\" * 20)\n",
        "\n",
        "# Print the mode of file, either 'r' or 'w'\n",
        "print(f\"File mode: {file1.mode}\")\n",
        "print(\"-\" * 20)\n",
        "\n",
        "# Read the file\n",
        "FileContent = file1.read()\n",
        "FileContent\n",
        "\n",
        "# Print the file with '\\n' as a new line\n",
        "print(\"Content:\")\n",
        "print(FileContent)\n",
        "print(\"-\" * 20)\n",
        "\n",
        "# Type of file content\n",
        "contet_type = type(FileContent)\n",
        "print(\"Content type:\")\n",
        "print(contet_type)\n",
        "print(\"-\" * 20)\n",
        "\n",
        "# Close file after finish\n",
        "file1.close()"
      ],
      "metadata": {
        "id": "G7TlS71IFxHY"
      },
      "execution_count": null,
      "outputs": []
    },
    {
      "cell_type": "code",
      "source": [
        "# Open file using with\n",
        "\n",
        "with open(example1, \"r\") as file1:\n",
        "    FileContent = file1.read()\n",
        "    print(f\"{FileContent}\")\n",
        "    print(\"-\" * 20)\n",
        "\n",
        "# Verify if the file is closed\n",
        "print(\"Is file closed?\")\n",
        "print(f\"{file1.closed}\")\n",
        "print(\"-\" * 20)\n",
        "\n",
        "# See the content of file\n",
        "print(FileContent)"
      ],
      "metadata": {
        "id": "ICWkqWSbIN6h"
      },
      "execution_count": null,
      "outputs": []
    },
    {
      "cell_type": "code",
      "source": [
        "# Read first four characters\n",
        "with open(example1, \"r\") as file1:\n",
        "    print(file1.read(4))\n",
        "    print(\"-\" * 20)\n",
        "\n",
        "# Read certain amount of characters\n",
        "with open(example1, \"r\") as file1:\n",
        "    print(file1.read(4))\n",
        "    print(file1.read(4))\n",
        "    print(file1.read(7))\n",
        "    print(file1.read(15))\n",
        "    print(\"-\" * 20)\n",
        "\n",
        "# Read certain amount of characters\n",
        "with open(example1, \"r\") as file1:\n",
        "    print(file1.read(16))\n",
        "    print(file1.read(5))\n",
        "    print(file1.read(9))"
      ],
      "metadata": {
        "id": "PDgQE08tJv2U"
      },
      "execution_count": null,
      "outputs": []
    },
    {
      "cell_type": "code",
      "source": [
        "# Read one line\n",
        "with open(example1, \"r\") as file1:\n",
        "    print(\"first line: \" + file1.readline())\n",
        "    print(\"-\" * 20)\n",
        "\n",
        "with open(example1, \"r\") as file1:\n",
        "    print(file1.readline(20)) # does not read past the end of line\n",
        "    print(file1.read(20)) # Returns the next 20 chars\n",
        "    print(\"-\" * 20)\n",
        "\n",
        "# Iterate through the lines\n",
        "with open(example1,\"r\") as file1:\n",
        "        i = 0;\n",
        "        for line in file1:\n",
        "            print(\"Iteration\", str(i), \": \", line)\n",
        "            i = i + 1\n",
        "        print(\"-\" * 20)\n",
        "\n",
        "# Read all lines and save as a list\n",
        "with open(example1, \"r\") as file1:\n",
        "    FileasList = file1.readlines()\n",
        "\n",
        "# Print the first line\n",
        "print(FileasList[0])\n",
        "print(\"-\" * 20)\n",
        "# Print the second line\n",
        "print(FileasList[1])\n",
        "print(\"-\" * 20)\n",
        "# Print the third line\n",
        "print(FileasList[2])\n",
        "print(\"-\" * 20)"
      ],
      "metadata": {
        "id": "uxDUfUx7Kwmp"
      },
      "execution_count": null,
      "outputs": []
    },
    {
      "cell_type": "markdown",
      "source": [
        "# Writing file with open()"
      ],
      "metadata": {
        "id": "wxo6kogderVC"
      }
    },
    {
      "cell_type": "code",
      "execution_count": null,
      "metadata": {
        "id": "OvtTM7YKcDPX"
      },
      "outputs": [],
      "source": [
        "# Write line to file\n",
        "exmp2 = 'Example2.txt' # Creating variable \"exmp2\" with the file to be created name\n",
        "with open(exmp2, \"w\") as wf: # Assining the creation and writing of the file to \"wf\"\n",
        "  wf.write(\"This is line A\\n\") # Create first line in \"Example2.txt\"\n",
        "  wf.write(\"This is line B\\n\")"
      ]
    },
    {
      "cell_type": "code",
      "source": [
        "# Read file\n",
        "with open(exmp2, \"r\") as twf: # Open the file inside to variable \"exmp2\" as read, and assigning the action to \"twf\"\n",
        "  print(twf.read()) # Print the whole file"
      ],
      "metadata": {
        "id": "MUgOxyqHewXm"
      },
      "execution_count": null,
      "outputs": []
    },
    {
      "cell_type": "code",
      "source": [
        "# Write lines to file\n",
        "with open(exmp2, \"w\") as wf:\n",
        "  wf.write(\"This is line C\\n\")"
      ],
      "metadata": {
        "id": "cpW9yPsSfL6D"
      },
      "execution_count": null,
      "outputs": []
    },
    {
      "cell_type": "code",
      "source": [
        "# Check whether write to file\n",
        "with open(exmp2, \"r\") as twf:\n",
        "  print(twf.read())"
      ],
      "metadata": {
        "id": "P0ZKfwUmjNr8"
      },
      "execution_count": null,
      "outputs": []
    },
    {
      "cell_type": "code",
      "source": [
        "# Sample list of text\n",
        "Lines = [\"This is line A\", \"\\nThis is line B\", \"\\nThis is line C\", \"\\nThis is line D\"] # Creats a list of strings\n",
        "Lines # Shows/prints the list"
      ],
      "metadata": {
        "id": "4kYqjF7ejW_S"
      },
      "execution_count": null,
      "outputs": []
    },
    {
      "cell_type": "code",
      "source": [
        "# Write the strings in the list to text file\n",
        "with open(\"/Example2.txt\", \"w\") as wf:\n",
        "  for line in Lines: # Assigns \"line\" to the list \"Lines\"\n",
        "    print(line) # Prints list\n",
        "    wf.write(line) # Writes in file \"Example2.txt\" the content of list \"Lines\""
      ],
      "metadata": {
        "id": "iBRCH9x2ksdh"
      },
      "execution_count": null,
      "outputs": []
    },
    {
      "cell_type": "code",
      "source": [
        "# Verify if writing to file is successfully executed\n",
        "with open(\"/Example2.txt\", \"r\") as twf:\n",
        "  print(twf.read())"
      ],
      "metadata": {
        "id": "2fSbbeYGlaXJ"
      },
      "execution_count": null,
      "outputs": []
    },
    {
      "cell_type": "code",
      "source": [
        "with open(\"/Example2.txt\", \"w\") as wf:\n",
        "  wf.write(\"This file was overwritten\")"
      ],
      "metadata": {
        "id": "pPKOXb1VlbOi"
      },
      "execution_count": null,
      "outputs": []
    },
    {
      "cell_type": "code",
      "source": [
        "with open(\"/Example2.txt\", \"w\") as wf:\n",
        "  for line in Lines:\n",
        "    wf.write(line)"
      ],
      "metadata": {
        "id": "Vkdax1MDmDgp"
      },
      "execution_count": null,
      "outputs": []
    },
    {
      "cell_type": "code",
      "source": [
        "# Write a new line to text file\n",
        "with open(\"/Example2.txt\", \"a\") as wf: # Open file as append\n",
        "  wf.write(\"\\nThis is line E\") # Write text to append to existing file\n",
        "  wf.write(\"\\nThis is line F\")"
      ],
      "metadata": {
        "id": "W86ye5WWmQdI"
      },
      "execution_count": null,
      "outputs": []
    },
    {
      "cell_type": "code",
      "source": [
        "# Sample list of text\n",
        "Lines2 = [\"\\nThis is line G\", \"\\nThis is line H\", \"\\nThis is line I\", \"\\nThis is line J\"] # Creats a list of strings\n",
        "Lines2 # Shows/prints the list"
      ],
      "metadata": {
        "id": "gF_hAk2kMR_V"
      },
      "execution_count": null,
      "outputs": []
    },
    {
      "cell_type": "code",
      "source": [
        "# Append list from \"Lines2\"\n",
        "with open(\"/Example2.txt\", \"a\") as wf:\n",
        "  for line in Lines2:\n",
        "    wf.write(line)"
      ],
      "metadata": {
        "id": "NnSQw-3KMq4N"
      },
      "execution_count": null,
      "outputs": []
    },
    {
      "cell_type": "code",
      "source": [
        "# Verify if the new line is in the text file\n",
        "with open(\"/Example2.txt\", \"a+\") as twf: # Open file as append + read\n",
        "  twf.write(\"\\nThis is line K\") # Writes new lines to append to file and existing content\n",
        "  twf.write(\"\\nThis is line L\")\n",
        "  print(twf.read()) # Reads file, but from the point where the cursor is, \"a\" unlike \"w\" or \"r\", doesn't reset cursor, so shows nothing"
      ],
      "metadata": {
        "id": "fQC1wdvYneSI"
      },
      "execution_count": null,
      "outputs": []
    },
    {
      "cell_type": "code",
      "source": [
        "# reset cursor location and open + print full document\n",
        "with open('/Example2.txt', 'r') as wf:\n",
        "  wf.seek(0, 0) # bring cursor to beggining of file\n",
        "  print(wf.read())"
      ],
      "metadata": {
        "id": "DHQJQa1vN4BO"
      },
      "execution_count": null,
      "outputs": []
    },
    {
      "cell_type": "code",
      "source": [
        "with open(\"/Example2.txt\", \"a+\") as twf:\n",
        "  print(\"Initial Location: {}\".format(twf.tell())) # Print the initial location of the cursor\n",
        "\n",
        "  data = twf.read()\n",
        "  if (not data): # Assign a return if the file is empty from where the cursor is\n",
        "    print(\"Cursor at the end, file empty from cursor onward\")\n",
        "  else:\n",
        "    print(twf.read())"
      ],
      "metadata": {
        "id": "jomDYUWRoWGQ"
      },
      "execution_count": null,
      "outputs": []
    },
    {
      "cell_type": "code",
      "source": [
        "with open('/Example2.txt', 'r+') as twf:\n",
        "  twf.seek(0,0) # Move cursor 0 bytes from the beggining\n",
        "  print(\"New Location: {}\\n\".format(twf.tell())) # Print the current location of cursor\n",
        "  data = twf.read() # Assing value of the data read to \"data\"\n",
        "  if (not data): # Conditional \"if\" in case there is no data after cursor\n",
        "    print(\"Cursor at the end, file empty from cursor onward\")\n",
        "  else: # Conditional \"if\" in case there is data after cursor\n",
        "    print(data)\n",
        "\n",
        "  print(\"\\nLocation after read: {}\".format(twf.tell()))# Print the final location of cursor"
      ],
      "metadata": {
        "id": "4NLA-aVBO7T1"
      },
      "execution_count": null,
      "outputs": []
    },
    {
      "cell_type": "code",
      "source": [
        "# example of writing over the existing data of file, but without erasing all the extra data\n",
        "with open('/Example2.txt', 'r+') as testwritefile:\n",
        "    testwritefile.seek(0,0) # write at beginning of file\n",
        "    testwritefile.write(\"Line 1\" + \"\\n\")\n",
        "    testwritefile.write(\"Line 2\" + \"\\n\")\n",
        "    testwritefile.write(\"Line 3\" + \"\\n\")\n",
        "    testwritefile.write(\"Line 4\" + \"\\n\")\n",
        "    testwritefile.write(\"finished\\n\")\n",
        "    testwritefile.seek(0,0)\n",
        "    print(testwritefile.read())"
      ],
      "metadata": {
        "id": "yiICd0COsbjf"
      },
      "execution_count": null,
      "outputs": []
    },
    {
      "cell_type": "code",
      "source": [
        "# here we use the order \".truncate\" to delete the rest of data\n",
        "with open('/Example2.txt', 'r+') as testwritefile:\n",
        "  print(\"Location before cursor reset: {}\\n\".format(testwritefile.tell()))\n",
        "  #testwritefile.seek(0,0) # Cursor at the beggining of file to write, redundant when correctly used at the end of \"with\"\n",
        "  testwritefile.write(\"Line 1\" + \"\\n\")\n",
        "  testwritefile.write(\"Line 2\" + \"\\n\")\n",
        "  testwritefile.write(\"Line 3\" + \"\\n\")\n",
        "  testwritefile.write(\"Line 4\" + \"\\n\")\n",
        "  testwritefile.write(\"finished\")\n",
        "  testwritefile.truncate() # The order \".truncate\" deletes the rest of the file from this point on\n",
        "  testwritefile.seek(0,0) # Cursor at the beggining of file to read\n",
        "  print(testwritefile.read())\n",
        "  testwritefile.seek(0,0) # Leave cursor at beggining of file for future use\n",
        "  print(\"\\nLocation of cursor at the end: {}\".format(testwritefile.tell()))"
      ],
      "metadata": {
        "id": "cYVzSCtqtrnP"
      },
      "execution_count": null,
      "outputs": []
    },
    {
      "cell_type": "code",
      "source": [
        "with open('/Example2.txt', 'r+') as twf: # Open file as read + write (maintainning existing text)\n",
        "    twf.seek(0,0) # Cursor at the beggining of file to write\n",
        "    print(len(twf.read())) # Print the length of the file\n",
        "    print(\"\\nLocation of cursor at the end: {}\".format(twf.tell()))"
      ],
      "metadata": {
        "id": "HiwAmzr7uN1V"
      },
      "execution_count": null,
      "outputs": []
    },
    {
      "cell_type": "code",
      "source": [
        "with open('/Example2.txt', 'r+') as twf: # \"r\" opens file without deleting it's previows content, contrary to \"w\"\n",
        "    twf.seek(37,0) # Set cursor at end of file\n",
        "    twf.write(\"\\nNew line\") # Write \"New Line\" at end of file\n",
        "    twf.seek(0,0) # Set cursor at beggining of file\n",
        "    print(twf.read()) # Print whole content of file\n",
        "    print(\"\\nLocation of cursor at the end: {}\".format(twf.tell()))"
      ],
      "metadata": {
        "id": "MSw_b9BRxYYs"
      },
      "execution_count": null,
      "outputs": []
    },
    {
      "cell_type": "code",
      "source": [
        "# Copy file to another\n",
        "with open('/Example2.txt','r') as rf:\n",
        "    with open('/Example3.txt','w') as wf:\n",
        "          for line in rf:\n",
        "                wf.write(line)"
      ],
      "metadata": {
        "id": "DSE7_p4-xxI8"
      },
      "execution_count": null,
      "outputs": []
    },
    {
      "cell_type": "code",
      "source": [
        "# Verify if the copy is successfully executed\n",
        "with open(\"/Example3.txt\", \"r\") as rf:\n",
        "  print(rf.read())\n",
        "  rf.seek(0,0)\n",
        "  print()\n",
        "  # print(len(rf.read()))\n",
        "with open(\"/Example3.txt\", \"r+\") as rf:\n",
        "  rf.seek(45,0)\n",
        "  rf.write(\"\\nNew line2\")\n",
        "  rf.seek(0,0)\n",
        "  print(rf.read())"
      ],
      "metadata": {
        "id": "Q_Yp4NBnzKFM",
        "collapsed": true
      },
      "execution_count": null,
      "outputs": []
    },
    {
      "cell_type": "code",
      "source": [
        "print(\"---File 3---\")\n",
        "with open(\"/Example3.txt\", \"r\") as rf:\n",
        "  print(rf.read())\n",
        "  print()\n",
        "print(\"---File 2---\")\n",
        "with open(\"/Example2.txt\", \"r\") as rf2:\n",
        "  print(rf2.read())"
      ],
      "metadata": {
        "id": "jaXHugYKzSK7"
      },
      "execution_count": null,
      "outputs": []
    },
    {
      "cell_type": "markdown",
      "source": [
        "## Lab Exercises"
      ],
      "metadata": {
        "id": "TZxsC-XPGpaJ"
      }
    },
    {
      "cell_type": "code",
      "source": [
        "# Run this prior to starting the exercise, creation of player lists\n",
        "from random import randint as rnd\n",
        "\n",
        "memReg = '/members.txt'\n",
        "exReg = '/inactive.txt'\n",
        "fee =('yes','no')\n",
        "\n",
        "def genFiles(current,old):\n",
        "    with open(current,'w+') as writefile:\n",
        "        writefile.write('Membership No  Date Joined  Active  \\n')\n",
        "        data = \"{:^13}  {:<11}  {:<6}\\n\"\n",
        "\n",
        "        for rowno in range(20):\n",
        "            date = str(rnd(2015,2020))+ '-' + str(rnd(1,12))+'-'+str(rnd(1,25))\n",
        "            writefile.write(data.format(rnd(10000,99999),date,fee[rnd(0,1)]))\n",
        "\n",
        "    with open(old,'w+') as writefile:\n",
        "        writefile.write('Membership No  Date Joined  Active  \\n')\n",
        "        data = \"{:^13}  {:<11}  {:<6}\\n\"\n",
        "        for rowno in range(3):\n",
        "            date = str(rnd(2015,2020))+ '-' + str(rnd(1,12))+'-'+str(rnd(1,25))\n",
        "            writefile.write(data.format(rnd(10000,99999),date,fee[1]))\n",
        "\n",
        "genFiles(memReg,exReg)\n",
        "with open(\"/members.txt\", \"r\") as rf:\n",
        "    print(rf.read())\n",
        "print()\n",
        "with open(\"/inactive.txt\", \"r\") as rf2:\n",
        "    print(rf2.read())"
      ],
      "metadata": {
        "id": "Zv7wuNAa0l9N"
      },
      "execution_count": null,
      "outputs": []
    },
    {
      "cell_type": "code",
      "source": [
        "def cleanFiles(currentMem, exMem): # Define function to create and run clean files\n",
        "  with open(currentMem, \"r+\") as writeFile:\n",
        "        with open(exMem, \"a+\") as appendFile:\n",
        "            writeFile.seek(0)\n",
        "            members = writeFile.readlines()\n",
        "            #remove header\n",
        "            header = members[0]\n",
        "            members.pop(0)\n",
        "\n",
        "            inactive = [member for member in members if ('no' in member)]\n",
        "            #go to the beginning of the write file\n",
        "            writeFile.seek(0)\n",
        "            writeFile.write(header)\n",
        "            for member in members:\n",
        "                if (member in inactive):\n",
        "                    appendFile.write(member)\n",
        "                else:\n",
        "                    writeFile.write(member)\n",
        "            writeFile.truncate()\n",
        "\n",
        "memReg = '/members.txt'\n",
        "exReg = '/inactive.txt'\n",
        "cleanFiles(memReg,exReg)\n",
        "\n",
        "\n",
        "headers = \"Membership No  Date Joined  Active  \\n\"\n",
        "with open(memReg,'r') as readFile:\n",
        "    print(\"Active Members: \\n\")\n",
        "    print(readFile.read())\n",
        "\n",
        "with open(exReg,'r') as readFile:\n",
        "    print(\"\\nInactive Members: \\n\")\n",
        "    print(readFile.read())"
      ],
      "metadata": {
        "id": "UvL1f2Qu6NKx",
        "collapsed": true
      },
      "execution_count": null,
      "outputs": []
    },
    {
      "cell_type": "markdown",
      "source": [
        "# Pandas: Selecting Data"
      ],
      "metadata": {
        "id": "Kgl2HedQYPDe"
      }
    },
    {
      "cell_type": "code",
      "source": [
        "!pip install pandas # only use when in need to install the library before importing it, here it would be redundant"
      ],
      "metadata": {
        "id": "bUMV69_drI_F"
      },
      "execution_count": null,
      "outputs": []
    },
    {
      "cell_type": "code",
      "source": [
        "import pandas as pd # import library and assign a variable to said library"
      ],
      "metadata": {
        "id": "XCnCXGikvkPA"
      },
      "execution_count": null,
      "outputs": []
    },
    {
      "cell_type": "code",
      "source": [
        "# read the content of a .csv file and assign it to a variable\n",
        "df = pd.read_csv('file.csv') # this file does not exist, will cause error, replace with existing file"
      ],
      "metadata": {
        "id": "fCexi7YPYUbO"
      },
      "execution_count": null,
      "outputs": []
    },
    {
      "cell_type": "code",
      "source": [
        "# example of data series\n",
        "series = [10, 20, 30, 40, 50] # create series for the dataframe\n",
        "series_pd = pd.Series(series) # assign series to a vaiable as a dataframe\n",
        "print(series_pd)"
      ],
      "metadata": {
        "id": "5Msi5QXIvQ8Z"
      },
      "execution_count": null,
      "outputs": []
    },
    {
      "cell_type": "code",
      "source": [
        "# accessing series elements\n",
        "print(series_pd[2]) # accessing series elements by label\n",
        "print('-'*10)\n",
        "print(series_pd.iloc[0]) # accessing series elements by position\n",
        "print('-'*10)\n",
        "print(series_pd[2:4]) # accessing a series. range of elements by index"
      ],
      "metadata": {
        "id": "66LJKEN6wKXj"
      },
      "execution_count": null,
      "outputs": []
    },
    {
      "cell_type": "code",
      "source": [
        "print(series_pd.size) # number of elements in a series\n",
        "print('-'*10)\n",
        "print(series_pd.ndim) # total number of dimensions in a series, pandas series are one dimensional\n",
        "print('-'*10)\n",
        "print(series_pd.shape) # represents a result as first elements and dimensiones, as a touple\n",
        "print('-'*10)\n",
        "print(series_pd.values) # returns a series values as an array\n",
        "print('-'*10)\n",
        "print(series_pd.index) # index of a series"
      ],
      "metadata": {
        "id": "pmz9yBouxkmW"
      },
      "execution_count": null,
      "outputs": []
    },
    {
      "cell_type": "code",
      "source": [
        "# Creating a DataFrame from a dictionary\n",
        "data = {'Name': ['Alice', 'Bob', 'Charlie', 'David'], # create dictionary and assing it to a variable\n",
        "        'Age': [25, 30, 35, 28],\n",
        "        'City': ['New York', 'San Francisco', 'Los Angeles', 'Chicago']}\n",
        "\n",
        "df = pd.DataFrame(data) # put the dictionary into a dataframe and assign the dataframe to a variable\n",
        "print(df)"
      ],
      "metadata": {
        "id": "VDF1I_rhyGSd"
      },
      "execution_count": null,
      "outputs": []
    },
    {
      "cell_type": "code",
      "source": [
        "# dataframe navigation by columns\n",
        "print(df['Name'])  # access the 'Name' column"
      ],
      "metadata": {
        "id": "AC6-jrsx0F1O"
      },
      "execution_count": null,
      "outputs": []
    },
    {
      "cell_type": "code",
      "source": [
        "# dataframe navigation by row\n",
        "print(df.iloc[2])   # Access the third row by position\n",
        "print('-'*30)\n",
        "print(df.loc[1])    # Access the second row by label"
      ],
      "metadata": {
        "id": "rWdD87470gvE"
      },
      "execution_count": null,
      "outputs": []
    },
    {
      "cell_type": "code",
      "source": [
        "# slicing a dataframe\n",
        "print(df[['Name', 'Age']])  # Select specific columns\n",
        "print('-'*35)\n",
        "print(df[1:3])             # Select specific rows"
      ],
      "metadata": {
        "id": "Ds8EiyPY0xPt"
      },
      "execution_count": null,
      "outputs": []
    },
    {
      "cell_type": "code",
      "source": [
        "# finding unique elements in a dataframe\n",
        "unique_dates = df['Age'].unique()\n",
        "print(unique_dates)\n",
        "print('-'*40)\n",
        "\n",
        "# conditional filtering\n",
        "high_above_102 = df[df['Age'] > 25]\n",
        "print(high_above_102)\n",
        "print('-'*40)\n",
        "\n",
        "# saving dataframes\n",
        "df.to_csv('trading_data.csv', index=False)"
      ],
      "metadata": {
        "id": "9qziyskF1GYE"
      },
      "execution_count": null,
      "outputs": []
    },
    {
      "cell_type": "code",
      "source": [
        "#Define a dictionary 'x', then create a dataframe from the dictionary using the function pd.DataFrame(dict)\n",
        "x = {'Name': ['Rose','John', 'Jane', 'Mary'], 'ID': [1, 2, 3, 4], 'Department': ['Architect Group', 'Software Group', 'Design Team', 'Infrastructure'],\n",
        "      'Salary':[100000, 80000, 50000, 60000]}\n",
        "\n",
        "df = pd.DataFrame(x) #cast the dictionary to a DataFrame\n",
        "df #display the result df"
      ],
      "metadata": {
        "id": "uqMKyu4H1Q46"
      },
      "execution_count": null,
      "outputs": []
    },
    {
      "cell_type": "code",
      "source": [
        "'''Column selection'''\n",
        "#Retrieving the \"ID\" column and assigning it to a variable x_ID\n",
        "x_ID = df[['ID']]\n",
        "print(x_ID)\n",
        "print('-'*30)\n",
        "#check the type of x\n",
        "type(x_ID)"
      ],
      "metadata": {
        "id": "_afJoE8Us0P-"
      },
      "execution_count": null,
      "outputs": []
    },
    {
      "cell_type": "code",
      "source": [
        "'''Access multiple columns'''\n",
        "#Retrieving the Department, Salary and ID columns and assigning it to a variable z\n",
        "z = df[['Department','Salary','ID']]\n",
        "z"
      ],
      "metadata": {
        "id": "cRiawQr7tM49"
      },
      "execution_count": null,
      "outputs": []
    },
    {
      "cell_type": "markdown",
      "source": [
        "## Lab exercises"
      ],
      "metadata": {
        "id": "aWwRD6ZGuJyW"
      }
    },
    {
      "cell_type": "markdown",
      "source": [
        "Problem 1: Create a dataframe to display the result as below:\n",
        "\n",
        "![Coursera_Pandas_Practice_Problem1.jpg](data:image/jpeg;base64,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)"
      ],
      "metadata": {
        "id": "H9mrpBwIuWk1"
      }
    },
    {
      "cell_type": "code",
      "source": [
        "class_A = {'Student': ['David', 'Samuel', 'Terry', 'Evan'],\n",
        "           'Age': ['27', '24', '22', '32'],\n",
        "           'Country': ['UK', 'Canada', 'China', 'USA'],\n",
        "           'Course': ['Python', 'Data Structures', 'Machine Learning', 'Web Development'],\n",
        "           'Marks': ['85', '72', '89', '76']}\n",
        "df2 = pd.DataFrame(class_A)\n",
        "df2"
      ],
      "metadata": {
        "id": "RdUQA6f7t_Bu"
      },
      "execution_count": null,
      "outputs": []
    },
    {
      "cell_type": "code",
      "source": [
        "# Problem 2: Retrieve the Marks column and assign it to a variable b\n",
        "b = df2['Marks']\n",
        "b"
      ],
      "metadata": {
        "id": "dU4DHGauv9Nm"
      },
      "execution_count": null,
      "outputs": []
    },
    {
      "cell_type": "code",
      "source": [
        "# Problem 3: Retrieve the Country and Course columns and assign it to a variable c\n",
        "c = df2[['Country', 'Course']]\n",
        "c"
      ],
      "metadata": {
        "id": "sCm8DfK2wffd"
      },
      "execution_count": null,
      "outputs": []
    },
    {
      "cell_type": "code",
      "source": [
        "# Get the Student column as a series Object\n",
        "x = df2['Student']\n",
        "x"
      ],
      "metadata": {
        "id": "2O_8sce2xOwu"
      },
      "execution_count": null,
      "outputs": []
    },
    {
      "cell_type": "code",
      "source": [
        "#check the type of x\n",
        "type(x)"
      ],
      "metadata": {
        "id": "wDZPqxkRx2g-"
      },
      "execution_count": null,
      "outputs": []
    },
    {
      "cell_type": "code",
      "source": [
        "'''loc() and iloc() functions'''\n",
        "# Access the value on the first row and the first column\n",
        "df2.iloc[0, 0]"
      ],
      "metadata": {
        "id": "7JRLN52dx26m"
      },
      "execution_count": null,
      "outputs": []
    },
    {
      "cell_type": "code",
      "source": [
        "# Access the value on the first row and the third column\n",
        "df2.iloc[0,2]"
      ],
      "metadata": {
        "id": "AM4n2bMdzMW-"
      },
      "execution_count": null,
      "outputs": []
    },
    {
      "cell_type": "code",
      "source": [
        "# Access the column using the name\n",
        "df.loc[0, 'Salary']"
      ],
      "metadata": {
        "id": "VujruIa2zUK2"
      },
      "execution_count": null,
      "outputs": []
    },
    {
      "cell_type": "code",
      "source": [
        "# Let us create a new dataframe called 'df3' and assign 'df' to it.\n",
        "# Now, let us set the \"Name\" column as an index column using the method set_index().\n",
        "df3 = df\n",
        "df3 = df3.set_index(\"Name\")\n",
        "df3"
      ],
      "metadata": {
        "id": "GeoGuOY7z26m"
      },
      "execution_count": null,
      "outputs": []
    },
    {
      "cell_type": "code",
      "source": [
        "#To display the first 5 rows of new dataframe\n",
        "df3.head()"
      ],
      "metadata": {
        "id": "mVmrSvfz1TAG"
      },
      "execution_count": null,
      "outputs": []
    },
    {
      "cell_type": "code",
      "source": [
        "# Now, let us access the column using the name\n",
        "df3.loc['Jane', 'Salary']"
      ],
      "metadata": {
        "id": "hlCIgF6L1VpW"
      },
      "execution_count": null,
      "outputs": []
    },
    {
      "cell_type": "code",
      "source": [
        "# Use the loc() function,to get the Department of Jane in the newly created dataframe df3.\n",
        "df3.loc['Jane', 'Department']"
      ],
      "metadata": {
        "id": "vlmWQtBa19kP"
      },
      "execution_count": null,
      "outputs": []
    },
    {
      "cell_type": "code",
      "source": [
        "# Use the iloc() function to get the Salary of Mary in the newly created dataframe df3.\n",
        "df3.iloc[3, 2]"
      ],
      "metadata": {
        "id": "Wo3BROYv2ANW"
      },
      "execution_count": null,
      "outputs": []
    },
    {
      "cell_type": "code",
      "source": [
        "'''Slicing'''\n",
        "# let us do the slicing using iloc() in the old dataframe \"df\"\n",
        "df.iloc[0:2, 0:3]"
      ],
      "metadata": {
        "id": "7efewMH32mku"
      },
      "execution_count": null,
      "outputs": []
    },
    {
      "cell_type": "code",
      "source": [
        "#let us do the slicing using loc() function on old dataframe \"df\" where index column is having labels as 0,1,2\n",
        "df.loc[0:2,'Name':'Department']"
      ],
      "metadata": {
        "id": "o1vye6bC3vvO"
      },
      "execution_count": null,
      "outputs": []
    },
    {
      "cell_type": "code",
      "source": [
        "#let us do the slicing using loc() function on new dataframe \"df3\" where index column is Name having labels: Rose, John and Jane\n",
        "df3.loc['Rose':'Jane', 'ID':'Department']"
      ],
      "metadata": {
        "id": "GVHpQpS93ygH"
      },
      "execution_count": null,
      "outputs": []
    },
    {
      "cell_type": "code",
      "source": [
        "# using loc() function, do slicing on old dataframe df to retrieve the Name, ID and Department of index column having labels as 2,3\n",
        "df.loc[2:3, 'Name':'Department']"
      ],
      "metadata": {
        "id": "UkuB3AeG4VYo"
      },
      "execution_count": null,
      "outputs": []
    },
    {
      "cell_type": "code",
      "source": [],
      "metadata": {
        "id": "DLHssp9b4cN2"
      },
      "execution_count": null,
      "outputs": []
    }
  ]
}