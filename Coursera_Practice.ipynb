{
  "nbformat": 4,
  "nbformat_minor": 0,
  "metadata": {
    "colab": {
      "provenance": [],
      "collapsed_sections": [
        "7I8t6znAehGQ",
        "LIScidW-DeJ4",
        "wxo6kogderVC",
        "TZxsC-XPGpaJ",
        "Kgl2HedQYPDe",
        "tLrtHQ1lyw3F",
        "c085olI_rtWj",
        "qCuSSOZxrhXc",
        "4D8IdsTf1PJ9",
        "ghuyGVb41VCF",
        "3497RJxN1b0N",
        "xkwOKTtq3iJF",
        "wQ4XzkMG4sC1",
        "B8IDPH-rAUuW",
        "-jLkKoiStwFf",
        "m3NresRIkROw",
        "cqZZ4f-0BUSk",
        "sr-RoFJ7OYR7",
        "iF_6HLPgj6Gw"
      ],
      "authorship_tag": "ABX9TyPXGQOA6idWsWDYRCc98+YS",
      "include_colab_link": true
    },
    "kernelspec": {
      "name": "python3",
      "display_name": "Python 3"
    },
    "language_info": {
      "name": "python"
    }
  },
  "cells": [
    {
      "cell_type": "markdown",
      "metadata": {
        "id": "view-in-github",
        "colab_type": "text"
      },
      "source": [
        "<a href=\"https://colab.research.google.com/github/JuanDarquea/Python_Practice/blob/main/Coursera_Practice.ipynb\" target=\"_parent\"><img src=\"https://colab.research.google.com/assets/colab-badge.svg\" alt=\"Open In Colab\"/></a>"
      ]
    },
    {
      "cell_type": "markdown",
      "source": [
        "# Reading files with open()"
      ],
      "metadata": {
        "id": "7I8t6znAehGQ"
      }
    },
    {
      "cell_type": "code",
      "source": [
        "with open('file.txt', 'w') as file: # create file and open it as \"write\", using \"read\" does not create a file\n",
        "  file.write('This is line A\\n')    # write lines inside the file\n",
        "  file.write('This is line B\\n')\n",
        "\n",
        "with open('file.txt', 'a') as file: # file opened as \"append\" to add to the file without erasing past data\n",
        "  file.write('This is line C\\n')\n",
        "\n",
        "with open('file.txt', 'r') as file: # with file now created, it can be opened as \"read\"\n",
        "  file_stuff = file.read()          # assign the file full content to a variable\n",
        "  print(file_stuff)                 # print said content\n",
        "\n",
        "with open('file.txt', 'r') as file:\n",
        "  line1 = file.readline()           # read file line by line\n",
        "  print(line1)\n",
        "  line2 = file.readline()           # cursor does move when reading inside an opened file\n",
        "  print(line2)\n",
        "\n",
        "with open('file.txt', 'a+') as file:      # use of \"append+\" to append and read the file\n",
        "  file.write('This is special line D\\n')\n",
        "  file.seek(0)                            # move the cursor to the beginning to read\n",
        "  file1 = file.read()\n",
        "  if \"special\" in file1:\n",
        "    print('True\\n')\n",
        "    print(file1)\n",
        "  else:\n",
        "    print('False')"
      ],
      "metadata": {
        "id": "m-tYQZDVerAS"
      },
      "execution_count": null,
      "outputs": []
    },
    {
      "cell_type": "code",
      "source": [
        "file = open('file.txt', 'r')\n",
        "line1 = file.readline()\n",
        "line2 = file.readline()\n",
        "line3 = file.readline()\n",
        "line4 = file.readline()\n",
        "\n",
        "print(line3)\n",
        "if \"special\" in line4:        # using if to search for specifc parts of the line inside the file\n",
        "  print(f\"{line4}\\n\")\n",
        "else:\n",
        "  print('False')\n",
        "\n",
        "file.seek(0)                  # seek goes outside of loop, else it creates an infinite loop\n",
        "while True:                   # using while to read the whole file in a loop, line by line\n",
        "  line = file.readline()\n",
        "  if not line:\n",
        "    break\n",
        "  print(line)\n",
        "file.close()                  # always close the file when opening it without the use of \"with\"\n"
      ],
      "metadata": {
        "id": "czJ0xpLy7wao"
      },
      "execution_count": null,
      "outputs": []
    },
    {
      "cell_type": "code",
      "source": [
        "file = open('file.txt', 'r')\n",
        "file.seek(15)\n",
        "line2 = file.readline()       # reading full second line first by modifying the placing of cursor\n",
        "print(line2)\n",
        "file.seek(23)                 # using seek to put cursor on a specific part of the file\n",
        "halfline2 = file.read(6)      # reading the next 6 characters from the cursor\n",
        "print(halfline2)              # print said characters assigned to a variable\n",
        "file.close()"
      ],
      "metadata": {
        "id": "nNCPxY7Y-RUf"
      },
      "execution_count": null,
      "outputs": []
    },
    {
      "cell_type": "markdown",
      "source": [
        "## Lab exercises"
      ],
      "metadata": {
        "id": "LIScidW-DeJ4"
      }
    },
    {
      "cell_type": "code",
      "source": [
        "import urllib.request\n",
        "url = 'https://cf-courses-data.s3.us.cloud-object-storage.appdomain.cloud/IBMDeveloperSkillsNetwork-PY0101EN-SkillsNetwork/labs/Module%204/data/example1.txt'\n",
        "filename = 'Example1.txt'\n",
        "urllib.request.urlretrieve(url, filename)\n",
        "\n",
        "## Download Example file\n",
        "!wget https://cf-courses-data.s3.us.cloud-object-storage.appdomain.cloud/IBMDeveloperSkillsNetwork-PY0101EN-SkillsNetwork/labs/Module%204/data/example1.txt\n",
        "\n",
        "import pandas as pd\n",
        "\n",
        "filename = \"https://cf-courses-data.s3.us.cloud-object-storage.appdomain.cloud/IBMDeveloperSkillsNetwork-PY0101EN-SkillsNetwork/labs/Module%204/data/example1.txt\"\n",
        "\n",
        "print(\"done\")"
      ],
      "metadata": {
        "id": "FG2RQQL_DdEB"
      },
      "execution_count": null,
      "outputs": []
    },
    {
      "cell_type": "code",
      "source": [
        "# Read the Example1.txt\n",
        "example1 = \"example1.txt\"\n",
        "file1 = open(example1, \"r\")\n",
        "\n",
        "# Print the path of file\n",
        "print(f\"File name: {file1.name}\")\n",
        "print(\"-\" * 20)\n",
        "\n",
        "# Print the mode of file, either 'r' or 'w'\n",
        "print(f\"File mode: {file1.mode}\")\n",
        "print(\"-\" * 20)\n",
        "\n",
        "# Read the file\n",
        "FileContent = file1.read()\n",
        "FileContent\n",
        "\n",
        "# Print the file with '\\n' as a new line\n",
        "print(\"Content:\")\n",
        "print(FileContent)\n",
        "print(\"-\" * 20)\n",
        "\n",
        "# Type of file content\n",
        "contet_type = type(FileContent)\n",
        "print(\"Content type:\")\n",
        "print(contet_type)\n",
        "print(\"-\" * 20)\n",
        "\n",
        "# Close file after finish\n",
        "file1.close()"
      ],
      "metadata": {
        "id": "G7TlS71IFxHY"
      },
      "execution_count": null,
      "outputs": []
    },
    {
      "cell_type": "code",
      "source": [
        "# Open file using with\n",
        "\n",
        "with open(example1, \"r\") as file1:\n",
        "    FileContent = file1.read()\n",
        "    print(f\"{FileContent}\")\n",
        "    print(\"-\" * 20)\n",
        "\n",
        "# Verify if the file is closed\n",
        "print(\"Is file closed?\")\n",
        "print(f\"{file1.closed}\")\n",
        "print(\"-\" * 20)\n",
        "\n",
        "# See the content of file\n",
        "print(FileContent)"
      ],
      "metadata": {
        "id": "ICWkqWSbIN6h"
      },
      "execution_count": null,
      "outputs": []
    },
    {
      "cell_type": "code",
      "source": [
        "# Read first four characters\n",
        "with open(example1, \"r\") as file1:\n",
        "    print(file1.read(4))\n",
        "    print(\"-\" * 20)\n",
        "\n",
        "# Read certain amount of characters\n",
        "with open(example1, \"r\") as file1:\n",
        "    print(file1.read(4))\n",
        "    print(file1.read(4))\n",
        "    print(file1.read(7))\n",
        "    print(file1.read(15))\n",
        "    print(\"-\" * 20)\n",
        "\n",
        "# Read certain amount of characters\n",
        "with open(example1, \"r\") as file1:\n",
        "    print(file1.read(16))\n",
        "    print(file1.read(5))\n",
        "    print(file1.read(9))"
      ],
      "metadata": {
        "id": "PDgQE08tJv2U"
      },
      "execution_count": null,
      "outputs": []
    },
    {
      "cell_type": "code",
      "source": [
        "# Read one line\n",
        "with open(example1, \"r\") as file1:\n",
        "    print(\"first line: \" + file1.readline())\n",
        "    print(\"-\" * 20)\n",
        "\n",
        "with open(example1, \"r\") as file1:\n",
        "    print(file1.readline(20)) # does not read past the end of line\n",
        "    print(file1.read(20)) # Returns the next 20 chars\n",
        "    print(\"-\" * 20)\n",
        "\n",
        "# Iterate through the lines\n",
        "with open(example1,\"r\") as file1:\n",
        "        i = 0;\n",
        "        for line in file1:\n",
        "            print(\"Iteration\", str(i), \": \", line)\n",
        "            i = i + 1\n",
        "        print(\"-\" * 20)\n",
        "\n",
        "# Read all lines and save as a list\n",
        "with open(example1, \"r\") as file1:\n",
        "    FileasList = file1.readlines()\n",
        "\n",
        "# Print the first line\n",
        "print(FileasList[0])\n",
        "print(\"-\" * 20)\n",
        "# Print the second line\n",
        "print(FileasList[1])\n",
        "print(\"-\" * 20)\n",
        "# Print the third line\n",
        "print(FileasList[2])\n",
        "print(\"-\" * 20)"
      ],
      "metadata": {
        "id": "uxDUfUx7Kwmp"
      },
      "execution_count": null,
      "outputs": []
    },
    {
      "cell_type": "markdown",
      "source": [
        "# Writing file with open()"
      ],
      "metadata": {
        "id": "wxo6kogderVC"
      }
    },
    {
      "cell_type": "code",
      "execution_count": null,
      "metadata": {
        "id": "OvtTM7YKcDPX"
      },
      "outputs": [],
      "source": [
        "# Write line to file\n",
        "exmp2 = 'Example2.txt' # Creating variable \"exmp2\" with the file to be created name\n",
        "with open(exmp2, \"w\") as wf: # Assining the creation and writing of the file to \"wf\"\n",
        "  wf.write(\"This is line A\\n\") # Create first line in \"Example2.txt\"\n",
        "  wf.write(\"This is line B\\n\")"
      ]
    },
    {
      "cell_type": "code",
      "source": [
        "# Read file\n",
        "with open(exmp2, \"r\") as twf: # Open the file inside to variable \"exmp2\" as read, and assigning the action to \"twf\"\n",
        "  print(twf.read()) # Print the whole file"
      ],
      "metadata": {
        "id": "MUgOxyqHewXm"
      },
      "execution_count": null,
      "outputs": []
    },
    {
      "cell_type": "code",
      "source": [
        "# Write lines to file\n",
        "with open(exmp2, \"w\") as wf:\n",
        "  wf.write(\"This is line C\\n\")"
      ],
      "metadata": {
        "id": "cpW9yPsSfL6D"
      },
      "execution_count": null,
      "outputs": []
    },
    {
      "cell_type": "code",
      "source": [
        "# Check whether write to file\n",
        "with open(exmp2, \"r\") as twf:\n",
        "  print(twf.read())"
      ],
      "metadata": {
        "id": "P0ZKfwUmjNr8"
      },
      "execution_count": null,
      "outputs": []
    },
    {
      "cell_type": "code",
      "source": [
        "# Sample list of text\n",
        "Lines = [\"This is line A\", \"\\nThis is line B\", \"\\nThis is line C\", \"\\nThis is line D\"] # Creats a list of strings\n",
        "Lines # Shows/prints the list"
      ],
      "metadata": {
        "id": "4kYqjF7ejW_S"
      },
      "execution_count": null,
      "outputs": []
    },
    {
      "cell_type": "code",
      "source": [
        "# Write the strings in the list to text file\n",
        "with open(\"/Example2.txt\", \"w\") as wf:\n",
        "  for line in Lines: # Assigns \"line\" to the list \"Lines\"\n",
        "    print(line) # Prints list\n",
        "    wf.write(line) # Writes in file \"Example2.txt\" the content of list \"Lines\""
      ],
      "metadata": {
        "id": "iBRCH9x2ksdh"
      },
      "execution_count": null,
      "outputs": []
    },
    {
      "cell_type": "code",
      "source": [
        "# Verify if writing to file is successfully executed\n",
        "with open(\"/Example2.txt\", \"r\") as twf:\n",
        "  print(twf.read())"
      ],
      "metadata": {
        "id": "2fSbbeYGlaXJ"
      },
      "execution_count": null,
      "outputs": []
    },
    {
      "cell_type": "code",
      "source": [
        "with open(\"/Example2.txt\", \"w\") as wf:\n",
        "  wf.write(\"This file was overwritten\")"
      ],
      "metadata": {
        "id": "pPKOXb1VlbOi"
      },
      "execution_count": null,
      "outputs": []
    },
    {
      "cell_type": "code",
      "source": [
        "with open(\"/Example2.txt\", \"w\") as wf:\n",
        "  for line in Lines:\n",
        "    wf.write(line)"
      ],
      "metadata": {
        "id": "Vkdax1MDmDgp"
      },
      "execution_count": null,
      "outputs": []
    },
    {
      "cell_type": "code",
      "source": [
        "# Write a new line to text file\n",
        "with open(\"/Example2.txt\", \"a\") as wf: # Open file as append\n",
        "  wf.write(\"\\nThis is line E\") # Write text to append to existing file\n",
        "  wf.write(\"\\nThis is line F\")"
      ],
      "metadata": {
        "id": "W86ye5WWmQdI"
      },
      "execution_count": null,
      "outputs": []
    },
    {
      "cell_type": "code",
      "source": [
        "# Sample list of text\n",
        "Lines2 = [\"\\nThis is line G\", \"\\nThis is line H\", \"\\nThis is line I\", \"\\nThis is line J\"] # Creats a list of strings\n",
        "Lines2 # Shows/prints the list"
      ],
      "metadata": {
        "id": "gF_hAk2kMR_V"
      },
      "execution_count": null,
      "outputs": []
    },
    {
      "cell_type": "code",
      "source": [
        "# Append list from \"Lines2\"\n",
        "with open(\"/Example2.txt\", \"a\") as wf:\n",
        "  for line in Lines2:\n",
        "    wf.write(line)"
      ],
      "metadata": {
        "id": "NnSQw-3KMq4N"
      },
      "execution_count": null,
      "outputs": []
    },
    {
      "cell_type": "code",
      "source": [
        "# Verify if the new line is in the text file\n",
        "with open(\"/Example2.txt\", \"a+\") as twf: # Open file as append + read\n",
        "  twf.write(\"\\nThis is line K\") # Writes new lines to append to file and existing content\n",
        "  twf.write(\"\\nThis is line L\")\n",
        "  print(twf.read()) # Reads file, but from the point where the cursor is, \"a\" unlike \"w\" or \"r\", doesn't reset cursor, so shows nothing"
      ],
      "metadata": {
        "id": "fQC1wdvYneSI"
      },
      "execution_count": null,
      "outputs": []
    },
    {
      "cell_type": "code",
      "source": [
        "# reset cursor location and open + print full document\n",
        "with open('/Example2.txt', 'r') as wf:\n",
        "  wf.seek(0, 0) # bring cursor to beggining of file\n",
        "  print(wf.read())"
      ],
      "metadata": {
        "id": "DHQJQa1vN4BO"
      },
      "execution_count": null,
      "outputs": []
    },
    {
      "cell_type": "code",
      "source": [
        "with open(\"/Example2.txt\", \"a+\") as twf:\n",
        "  print(\"Initial Location: {}\".format(twf.tell())) # Print the initial location of the cursor\n",
        "\n",
        "  data = twf.read()\n",
        "  if (not data): # Assign a return if the file is empty from where the cursor is\n",
        "    print(\"Cursor at the end, file empty from cursor onward\")\n",
        "  else:\n",
        "    print(twf.read())"
      ],
      "metadata": {
        "id": "jomDYUWRoWGQ"
      },
      "execution_count": null,
      "outputs": []
    },
    {
      "cell_type": "code",
      "source": [
        "with open('/Example2.txt', 'r+') as twf:\n",
        "  twf.seek(0,0) # Move cursor 0 bytes from the beggining\n",
        "  print(\"New Location: {}\\n\".format(twf.tell())) # Print the current location of cursor\n",
        "  data = twf.read() # Assing value of the data read to \"data\"\n",
        "  if (not data): # Conditional \"if\" in case there is no data after cursor\n",
        "    print(\"Cursor at the end, file empty from cursor onward\")\n",
        "  else: # Conditional \"if\" in case there is data after cursor\n",
        "    print(data)\n",
        "\n",
        "  print(\"\\nLocation after read: {}\".format(twf.tell()))# Print the final location of cursor"
      ],
      "metadata": {
        "id": "4NLA-aVBO7T1"
      },
      "execution_count": null,
      "outputs": []
    },
    {
      "cell_type": "code",
      "source": [
        "# example of writing over the existing data of file, but without erasing all the extra data\n",
        "with open('/Example2.txt', 'r+') as testwritefile:\n",
        "    testwritefile.seek(0,0) # write at beginning of file\n",
        "    testwritefile.write(\"Line 1\" + \"\\n\")\n",
        "    testwritefile.write(\"Line 2\" + \"\\n\")\n",
        "    testwritefile.write(\"Line 3\" + \"\\n\")\n",
        "    testwritefile.write(\"Line 4\" + \"\\n\")\n",
        "    testwritefile.write(\"finished\\n\")\n",
        "    testwritefile.seek(0,0)\n",
        "    print(testwritefile.read())"
      ],
      "metadata": {
        "id": "yiICd0COsbjf"
      },
      "execution_count": null,
      "outputs": []
    },
    {
      "cell_type": "code",
      "source": [
        "# here we use the order \".truncate\" to delete the rest of data\n",
        "with open('/Example2.txt', 'r+') as testwritefile:\n",
        "  print(\"Location before cursor reset: {}\\n\".format(testwritefile.tell()))\n",
        "  #testwritefile.seek(0,0) # Cursor at the beggining of file to write, redundant when correctly used at the end of \"with\"\n",
        "  testwritefile.write(\"Line 1\" + \"\\n\")\n",
        "  testwritefile.write(\"Line 2\" + \"\\n\")\n",
        "  testwritefile.write(\"Line 3\" + \"\\n\")\n",
        "  testwritefile.write(\"Line 4\" + \"\\n\")\n",
        "  testwritefile.write(\"finished\")\n",
        "  testwritefile.truncate() # The order \".truncate\" deletes the rest of the file from this point on\n",
        "  testwritefile.seek(0,0) # Cursor at the beggining of file to read\n",
        "  print(testwritefile.read())\n",
        "  testwritefile.seek(0,0) # Leave cursor at beggining of file for future use\n",
        "  print(\"\\nLocation of cursor at the end: {}\".format(testwritefile.tell()))"
      ],
      "metadata": {
        "id": "cYVzSCtqtrnP"
      },
      "execution_count": null,
      "outputs": []
    },
    {
      "cell_type": "code",
      "source": [
        "with open('/Example2.txt', 'r+') as twf: # Open file as read + write (maintainning existing text)\n",
        "    twf.seek(0,0) # Cursor at the beggining of file to write\n",
        "    print(len(twf.read())) # Print the length of the file\n",
        "    print(\"\\nLocation of cursor at the end: {}\".format(twf.tell()))"
      ],
      "metadata": {
        "id": "HiwAmzr7uN1V"
      },
      "execution_count": null,
      "outputs": []
    },
    {
      "cell_type": "code",
      "source": [
        "with open('/Example2.txt', 'r+') as twf: # \"r\" opens file without deleting it's previows content, contrary to \"w\"\n",
        "    twf.seek(37,0) # Set cursor at end of file\n",
        "    twf.write(\"\\nNew line\") # Write \"New Line\" at end of file\n",
        "    twf.seek(0,0) # Set cursor at beggining of file\n",
        "    print(twf.read()) # Print whole content of file\n",
        "    print(\"\\nLocation of cursor at the end: {}\".format(twf.tell()))"
      ],
      "metadata": {
        "id": "MSw_b9BRxYYs"
      },
      "execution_count": null,
      "outputs": []
    },
    {
      "cell_type": "code",
      "source": [
        "# Copy file to another\n",
        "with open('/Example2.txt','r') as rf:\n",
        "    with open('/Example3.txt','w') as wf:\n",
        "          for line in rf:\n",
        "                wf.write(line)"
      ],
      "metadata": {
        "id": "DSE7_p4-xxI8"
      },
      "execution_count": null,
      "outputs": []
    },
    {
      "cell_type": "code",
      "source": [
        "# Verify if the copy is successfully executed\n",
        "with open(\"/Example3.txt\", \"r\") as rf:\n",
        "  print(rf.read())\n",
        "  rf.seek(0,0)\n",
        "  print()\n",
        "  # print(len(rf.read()))\n",
        "with open(\"/Example3.txt\", \"r+\") as rf:\n",
        "  rf.seek(45,0)\n",
        "  rf.write(\"\\nNew line2\")\n",
        "  rf.seek(0,0)\n",
        "  print(rf.read())"
      ],
      "metadata": {
        "id": "Q_Yp4NBnzKFM",
        "collapsed": true
      },
      "execution_count": null,
      "outputs": []
    },
    {
      "cell_type": "code",
      "source": [
        "print(\"---File 3---\")\n",
        "with open(\"/Example3.txt\", \"r\") as rf:\n",
        "  print(rf.read())\n",
        "  print()\n",
        "print(\"---File 2---\")\n",
        "with open(\"/Example2.txt\", \"r\") as rf2:\n",
        "  print(rf2.read())"
      ],
      "metadata": {
        "id": "jaXHugYKzSK7"
      },
      "execution_count": null,
      "outputs": []
    },
    {
      "cell_type": "markdown",
      "source": [
        "## Lab Exercises"
      ],
      "metadata": {
        "id": "TZxsC-XPGpaJ"
      }
    },
    {
      "cell_type": "code",
      "source": [
        "# Run this prior to starting the exercise, creation of player lists\n",
        "from random import randint as rnd\n",
        "\n",
        "memReg = '/members.txt'\n",
        "exReg = '/inactive.txt'\n",
        "fee =('yes','no')\n",
        "\n",
        "def genFiles(current,old):\n",
        "    with open(current,'w+') as writefile:\n",
        "        writefile.write('Membership No  Date Joined  Active  \\n')\n",
        "        data = \"{:^13}  {:<11}  {:<6}\\n\"\n",
        "\n",
        "        for rowno in range(20):\n",
        "            date = str(rnd(2015,2020))+ '-' + str(rnd(1,12))+'-'+str(rnd(1,25))\n",
        "            writefile.write(data.format(rnd(10000,99999),date,fee[rnd(0,1)]))\n",
        "\n",
        "    with open(old,'w+') as writefile:\n",
        "        writefile.write('Membership No  Date Joined  Active  \\n')\n",
        "        data = \"{:^13}  {:<11}  {:<6}\\n\"\n",
        "        for rowno in range(3):\n",
        "            date = str(rnd(2015,2020))+ '-' + str(rnd(1,12))+'-'+str(rnd(1,25))\n",
        "            writefile.write(data.format(rnd(10000,99999),date,fee[1]))\n",
        "\n",
        "genFiles(memReg,exReg)\n",
        "with open(\"/members.txt\", \"r\") as rf:\n",
        "    print(rf.read())\n",
        "print()\n",
        "with open(\"/inactive.txt\", \"r\") as rf2:\n",
        "    print(rf2.read())"
      ],
      "metadata": {
        "id": "Zv7wuNAa0l9N"
      },
      "execution_count": null,
      "outputs": []
    },
    {
      "cell_type": "code",
      "source": [
        "def cleanFiles(currentMem, exMem): # Define function to create and run clean files\n",
        "  with open(currentMem, \"r+\") as writeFile:\n",
        "        with open(exMem, \"a+\") as appendFile:\n",
        "            writeFile.seek(0)\n",
        "            members = writeFile.readlines()\n",
        "            #remove header\n",
        "            header = members[0]\n",
        "            members.pop(0)\n",
        "\n",
        "            inactive = [member for member in members if ('no' in member)]\n",
        "            #go to the beginning of the write file\n",
        "            writeFile.seek(0)\n",
        "            writeFile.write(header)\n",
        "            for member in members:\n",
        "                if (member in inactive):\n",
        "                    appendFile.write(member)\n",
        "                else:\n",
        "                    writeFile.write(member)\n",
        "            writeFile.truncate()\n",
        "\n",
        "memReg = '/members.txt'\n",
        "exReg = '/inactive.txt'\n",
        "cleanFiles(memReg,exReg)\n",
        "\n",
        "\n",
        "headers = \"Membership No  Date Joined  Active  \\n\"\n",
        "with open(memReg,'r') as readFile:\n",
        "    print(\"Active Members: \\n\")\n",
        "    print(readFile.read())\n",
        "\n",
        "with open(exReg,'r') as readFile:\n",
        "    print(\"\\nInactive Members: \\n\")\n",
        "    print(readFile.read())"
      ],
      "metadata": {
        "id": "UvL1f2Qu6NKx",
        "collapsed": true
      },
      "execution_count": null,
      "outputs": []
    },
    {
      "cell_type": "markdown",
      "source": [
        "# Pandas: Selecting Data"
      ],
      "metadata": {
        "id": "Kgl2HedQYPDe"
      }
    },
    {
      "cell_type": "code",
      "source": [
        "!pip install pandas # only use when in need to install the library before importing it, here it would be redundant"
      ],
      "metadata": {
        "id": "bUMV69_drI_F"
      },
      "execution_count": null,
      "outputs": []
    },
    {
      "cell_type": "code",
      "source": [
        "import pandas as pd # import library and assign a variable to said library"
      ],
      "metadata": {
        "id": "XCnCXGikvkPA"
      },
      "execution_count": null,
      "outputs": []
    },
    {
      "cell_type": "code",
      "source": [
        "# read the content of a .csv file and assign it to a variable\n",
        "df = pd.read_csv('file.csv') # this file does not exist, will cause error, replace with existing file"
      ],
      "metadata": {
        "id": "fCexi7YPYUbO"
      },
      "execution_count": null,
      "outputs": []
    },
    {
      "cell_type": "code",
      "source": [
        "# example of data series\n",
        "series = [10, 20, 30, 40, 50] # create series for the dataframe\n",
        "series_pd = pd.Series(series) # assign series to a vaiable as a dataframe\n",
        "print(series_pd)"
      ],
      "metadata": {
        "id": "5Msi5QXIvQ8Z"
      },
      "execution_count": null,
      "outputs": []
    },
    {
      "cell_type": "code",
      "source": [
        "# accessing series elements\n",
        "print(series_pd[2]) # accessing series elements by label\n",
        "print('-'*10)\n",
        "print(series_pd.iloc[0]) # accessing series elements by position\n",
        "print('-'*10)\n",
        "print(series_pd[2:4]) # accessing a series. range of elements by index"
      ],
      "metadata": {
        "id": "66LJKEN6wKXj"
      },
      "execution_count": null,
      "outputs": []
    },
    {
      "cell_type": "code",
      "source": [
        "print(series_pd.size) # number of elements in a series\n",
        "print('-'*10)\n",
        "print(series_pd.ndim) # total number of dimensions in a series, pandas series are one dimensional\n",
        "print('-'*10)\n",
        "print(series_pd.shape) # represents a result as first elements and dimensiones, as a touple\n",
        "print('-'*10)\n",
        "print(series_pd.values) # returns a series values as an array\n",
        "print('-'*10)\n",
        "print(series_pd.index) # index of a series"
      ],
      "metadata": {
        "id": "pmz9yBouxkmW"
      },
      "execution_count": null,
      "outputs": []
    },
    {
      "cell_type": "code",
      "source": [
        "# Creating a DataFrame from a dictionary\n",
        "data = {'Name': ['Alice', 'Bob', 'Charlie', 'David'], # create dictionary and assing it to a variable\n",
        "        'Age': [25, 30, 35, 28],\n",
        "        'City': ['New York', 'San Francisco', 'Los Angeles', 'Chicago']}\n",
        "\n",
        "df = pd.DataFrame(data) # put the dictionary into a dataframe and assign the dataframe to a variable\n",
        "print(df)"
      ],
      "metadata": {
        "id": "VDF1I_rhyGSd"
      },
      "execution_count": null,
      "outputs": []
    },
    {
      "cell_type": "code",
      "source": [
        "# dataframe navigation by columns\n",
        "print(df['Name'])  # access the 'Name' column"
      ],
      "metadata": {
        "id": "AC6-jrsx0F1O"
      },
      "execution_count": null,
      "outputs": []
    },
    {
      "cell_type": "code",
      "source": [
        "# dataframe navigation by row\n",
        "print(df.iloc[2])   # Access the third row by position\n",
        "print('-'*30)\n",
        "print(df.loc[1])    # Access the second row by label"
      ],
      "metadata": {
        "id": "rWdD87470gvE"
      },
      "execution_count": null,
      "outputs": []
    },
    {
      "cell_type": "code",
      "source": [
        "# slicing a dataframe\n",
        "print(df[['Name', 'Age']])  # Select specific columns\n",
        "print('-'*35)\n",
        "print(df[1:3])             # Select specific rows"
      ],
      "metadata": {
        "id": "Ds8EiyPY0xPt"
      },
      "execution_count": null,
      "outputs": []
    },
    {
      "cell_type": "code",
      "source": [
        "# finding unique elements in a dataframe\n",
        "unique_dates = df['Age'].unique()\n",
        "print(unique_dates)\n",
        "print('-'*40)\n",
        "\n",
        "# conditional filtering\n",
        "high_above_102 = df[df['Age'] > 25]\n",
        "print(high_above_102)\n",
        "print('-'*40)\n",
        "\n",
        "# saving dataframes\n",
        "df.to_csv('trading_data.csv', index=False)"
      ],
      "metadata": {
        "id": "9qziyskF1GYE"
      },
      "execution_count": null,
      "outputs": []
    },
    {
      "cell_type": "code",
      "source": [
        "#Define a dictionary 'x', then create a dataframe from the dictionary using the function pd.DataFrame(dict)\n",
        "x = {'Name': ['Rose','John', 'Jane', 'Mary'], 'ID': [1, 2, 3, 4], 'Department': ['Architect Group', 'Software Group', 'Design Team', 'Infrastructure'],\n",
        "      'Salary':[100000, 80000, 50000, 60000]}\n",
        "\n",
        "df = pd.DataFrame(x) #cast the dictionary to a DataFrame\n",
        "df #display the result df"
      ],
      "metadata": {
        "id": "uqMKyu4H1Q46"
      },
      "execution_count": null,
      "outputs": []
    },
    {
      "cell_type": "code",
      "source": [
        "'''Column selection'''\n",
        "#Retrieving the \"ID\" column and assigning it to a variable x_ID\n",
        "x_ID = df[['ID']]\n",
        "print(x_ID)\n",
        "print('-'*30)\n",
        "#check the type of x\n",
        "type(x_ID)"
      ],
      "metadata": {
        "id": "_afJoE8Us0P-"
      },
      "execution_count": null,
      "outputs": []
    },
    {
      "cell_type": "code",
      "source": [
        "'''Access multiple columns'''\n",
        "#Retrieving the Department, Salary and ID columns and assigning it to a variable z\n",
        "z = df[['Department','Salary','ID']]\n",
        "z"
      ],
      "metadata": {
        "id": "cRiawQr7tM49"
      },
      "execution_count": null,
      "outputs": []
    },
    {
      "cell_type": "markdown",
      "source": [
        "## Lab exercises"
      ],
      "metadata": {
        "id": "aWwRD6ZGuJyW"
      }
    },
    {
      "cell_type": "markdown",
      "source": [
        "Problem 1: Create a dataframe to display the result as below:\n",
        "\n",
        "![Coursera_Pandas_Practice_Problem1.jpg](data:image/jpeg;base64,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)"
      ],
      "metadata": {
        "id": "H9mrpBwIuWk1"
      }
    },
    {
      "cell_type": "code",
      "source": [
        "class_A = {'Student': ['David', 'Samuel', 'Terry', 'Evan'],\n",
        "           'Age': ['27', '24', '22', '32'],\n",
        "           'Country': ['UK', 'Canada', 'China', 'USA'],\n",
        "           'Course': ['Python', 'Data Structures', 'Machine Learning', 'Web Development'],\n",
        "           'Marks': ['85', '72', '89', '76']}\n",
        "df2 = pd.DataFrame(class_A)\n",
        "df2"
      ],
      "metadata": {
        "id": "RdUQA6f7t_Bu"
      },
      "execution_count": null,
      "outputs": []
    },
    {
      "cell_type": "code",
      "source": [
        "# Problem 2: Retrieve the Marks column and assign it to a variable b\n",
        "b = df2['Marks']\n",
        "b"
      ],
      "metadata": {
        "id": "dU4DHGauv9Nm"
      },
      "execution_count": null,
      "outputs": []
    },
    {
      "cell_type": "code",
      "source": [
        "# Problem 3: Retrieve the Country and Course columns and assign it to a variable c\n",
        "c = df2[['Country', 'Course']]\n",
        "c"
      ],
      "metadata": {
        "id": "sCm8DfK2wffd"
      },
      "execution_count": null,
      "outputs": []
    },
    {
      "cell_type": "code",
      "source": [
        "# Get the Student column as a series Object\n",
        "x = df2['Student']\n",
        "x"
      ],
      "metadata": {
        "id": "2O_8sce2xOwu"
      },
      "execution_count": null,
      "outputs": []
    },
    {
      "cell_type": "code",
      "source": [
        "#check the type of x\n",
        "type(x)"
      ],
      "metadata": {
        "id": "wDZPqxkRx2g-"
      },
      "execution_count": null,
      "outputs": []
    },
    {
      "cell_type": "code",
      "source": [
        "'''loc() and iloc() functions'''\n",
        "# Access the value on the first row and the first column\n",
        "df2.iloc[0, 0]"
      ],
      "metadata": {
        "id": "7JRLN52dx26m"
      },
      "execution_count": null,
      "outputs": []
    },
    {
      "cell_type": "code",
      "source": [
        "# Access the value on the first row and the third column\n",
        "df2.iloc[0,2]"
      ],
      "metadata": {
        "id": "AM4n2bMdzMW-"
      },
      "execution_count": null,
      "outputs": []
    },
    {
      "cell_type": "code",
      "source": [
        "# Access the column using the name\n",
        "df.loc[0, 'Salary']"
      ],
      "metadata": {
        "id": "VujruIa2zUK2"
      },
      "execution_count": null,
      "outputs": []
    },
    {
      "cell_type": "code",
      "source": [
        "# Let us create a new dataframe called 'df3' and assign 'df' to it.\n",
        "# Now, let us set the \"Name\" column as an index column using the method set_index().\n",
        "df3 = df\n",
        "df3 = df3.set_index(\"Name\")\n",
        "df3"
      ],
      "metadata": {
        "id": "GeoGuOY7z26m"
      },
      "execution_count": null,
      "outputs": []
    },
    {
      "cell_type": "code",
      "source": [
        "#To display the first 5 rows of new dataframe\n",
        "df3.head()"
      ],
      "metadata": {
        "id": "mVmrSvfz1TAG"
      },
      "execution_count": null,
      "outputs": []
    },
    {
      "cell_type": "code",
      "source": [
        "# Now, let us access the column using the name\n",
        "int(df3.loc['Jane', 'Salary'])"
      ],
      "metadata": {
        "id": "hlCIgF6L1VpW"
      },
      "execution_count": null,
      "outputs": []
    },
    {
      "cell_type": "code",
      "source": [
        "# Use the loc() function,to get the Department of Jane in the newly created dataframe df3.\n",
        "df3.loc['Jane', 'Department']"
      ],
      "metadata": {
        "id": "vlmWQtBa19kP"
      },
      "execution_count": null,
      "outputs": []
    },
    {
      "cell_type": "code",
      "source": [
        "# Use the iloc() function to get the Salary of Mary in the newly created dataframe df3.\n",
        "df3.iloc[3, 2]"
      ],
      "metadata": {
        "id": "Wo3BROYv2ANW"
      },
      "execution_count": null,
      "outputs": []
    },
    {
      "cell_type": "code",
      "source": [
        "'''Slicing'''\n",
        "# let us do the slicing using iloc() in the old dataframe \"df\"\n",
        "df.iloc[0:2, 0:3]"
      ],
      "metadata": {
        "id": "7efewMH32mku"
      },
      "execution_count": null,
      "outputs": []
    },
    {
      "cell_type": "code",
      "source": [
        "#let us do the slicing using loc() function on old dataframe \"df\" where index column is having labels as 0,1,2\n",
        "df.loc[0:2,'Name':'Department']"
      ],
      "metadata": {
        "id": "o1vye6bC3vvO"
      },
      "execution_count": null,
      "outputs": []
    },
    {
      "cell_type": "code",
      "source": [
        "#let us do the slicing using loc() function on new dataframe \"df3\" where index column is Name having labels: Rose, John and Jane\n",
        "df3.loc['Rose':'Jane', 'ID':'Department']"
      ],
      "metadata": {
        "id": "GVHpQpS93ygH"
      },
      "execution_count": null,
      "outputs": []
    },
    {
      "cell_type": "code",
      "source": [
        "# using loc() function, do slicing on old dataframe df to retrieve the Name, ID and Department of index column having labels as 2,3\n",
        "df.loc[2:3, 'Name':'Department']"
      ],
      "metadata": {
        "id": "UkuB3AeG4VYo"
      },
      "execution_count": null,
      "outputs": []
    },
    {
      "cell_type": "markdown",
      "source": [
        "# Pandas: Loading data"
      ],
      "metadata": {
        "id": "tLrtHQ1lyw3F"
      }
    },
    {
      "cell_type": "code",
      "source": [
        "!pip install pandas # only use when in need to install the library before importing it, here it would be redundant"
      ],
      "metadata": {
        "id": "DDJ1f4CAy70V"
      },
      "execution_count": null,
      "outputs": []
    },
    {
      "cell_type": "code",
      "source": [
        "import pandas as pd # import library and assign a variable to said library"
      ],
      "metadata": {
        "id": "2ZO2qSyLy3ws"
      },
      "execution_count": null,
      "outputs": []
    },
    {
      "cell_type": "code",
      "source": [
        "# Read data from CSV file\n",
        "csv_path = 'https://cf-courses-data.s3.us.cloud-object-storage.appdomain.cloud/LXjSAttmoxJfEG6il1Bqfw/Product-sales.csv'\n",
        "df = pd.read_csv(csv_path)"
      ],
      "metadata": {
        "id": "ugdn3tBly9Nd"
      },
      "execution_count": null,
      "outputs": []
    },
    {
      "cell_type": "code",
      "source": [
        "df.head() # display the first five rows from file"
      ],
      "metadata": {
        "id": "LJu2Y0qzz3xV"
      },
      "execution_count": null,
      "outputs": []
    },
    {
      "cell_type": "code",
      "source": [
        "df2 = df.set_index(\"OrderID\")\n",
        "df2"
      ],
      "metadata": {
        "id": "vx1wKHcJ0Nks"
      },
      "execution_count": null,
      "outputs": []
    },
    {
      "cell_type": "code",
      "source": [
        "# read data from a excel file and print the first 5 rows\n",
        "# xlsx_path = 'https://cf-courses-data.s3.us.cloud-object-storage.appdomain.cloud/n9LOuKI9SlUa1b5zkaCMeg/Product-sales.xlsx'\n",
        "# await download(xlsx_path, \"Product-sales.xlsx\")\n",
        "# two lines used in other programming environments, like notebook or pyodide based environments\n",
        "\n",
        "!wget https://cf-courses-data.s3.us.cloud-object-storage.appdomain.cloud/n9LOuKI9SlUa1b5zkaCMeg/Product-sales.xlsx\n",
        "df_excl = pd.read_excel(\"Product-sales.xlsx\")\n",
        "df_excl.head()"
      ],
      "metadata": {
        "id": "WdY1m13b1rEN"
      },
      "execution_count": null,
      "outputs": []
    },
    {
      "cell_type": "code",
      "source": [
        "# Access the \"Quantity\" column Length as a datarame = [[]]\n",
        "x_quant = df_excl[['Quantity']]\n",
        "x_quant"
      ],
      "metadata": {
        "id": "JHXk2NzI2E79"
      },
      "execution_count": null,
      "outputs": []
    },
    {
      "cell_type": "code",
      "source": [
        "# Get the column as a series = []\n",
        "x_prod = df_excl['Product']\n",
        "x_prod"
      ],
      "metadata": {
        "id": "fd10IGCz4G51"
      },
      "execution_count": null,
      "outputs": []
    },
    {
      "cell_type": "code",
      "source": [
        "print(type(x_quant))\n",
        "print(type(x_prod))"
      ],
      "metadata": {
        "id": "6zwMyCAZ4c1d"
      },
      "execution_count": null,
      "outputs": []
    },
    {
      "cell_type": "code",
      "source": [
        "# Access to multiple columns\n",
        "y = df_excl[['Product','Category', 'Quantity']]\n",
        "y"
      ],
      "metadata": {
        "id": "wmthJ_RP4tpN"
      },
      "execution_count": null,
      "outputs": []
    },
    {
      "cell_type": "code",
      "source": [
        "# Access the value on the first row and the first column\n",
        "print(df_excl.iloc[0, 0])\n",
        "print(\"-\"*20)\n",
        "# Access the value on the second row and the first column\n",
        "print(df_excl.iloc[1,0])\n",
        "print(\"-\"*20)\n",
        "# Access the value on the first row and the third column\n",
        "print(df_excl.iloc[0,2])\n",
        "print(\"-\"*20)\n",
        "# Access the value on the third row and the third column\n",
        "df_excl.iloc[2,2]"
      ],
      "metadata": {
        "id": "qfub067d4_B2"
      },
      "execution_count": null,
      "outputs": []
    },
    {
      "cell_type": "code",
      "source": [
        "# Access the column using the name\n",
        "df_excl.loc[0, 'Product']"
      ],
      "metadata": {
        "id": "VOklIDHF5VeV"
      },
      "execution_count": null,
      "outputs": []
    },
    {
      "cell_type": "code",
      "source": [
        "# Access the column using the name\n",
        "df_excl.loc[1, 'Product']"
      ],
      "metadata": {
        "id": "11iFJbZz6Eed"
      },
      "execution_count": null,
      "outputs": []
    },
    {
      "cell_type": "code",
      "source": [
        "# Access the column using the name\n",
        "df_excl.loc[1, 'CustomerCity']"
      ],
      "metadata": {
        "id": "0DDwEMNQ6F4l"
      },
      "execution_count": null,
      "outputs": []
    },
    {
      "cell_type": "code",
      "source": [
        "# Access the column using the name\n",
        "int(df_excl.loc[1, 'Total'])"
      ],
      "metadata": {
        "id": "S0kz-yV36Ijt"
      },
      "execution_count": null,
      "outputs": []
    },
    {
      "cell_type": "code",
      "source": [
        "# Slicing the dataframe\n",
        "\n",
        "df_excl.iloc[0:2, 0:3]"
      ],
      "metadata": {
        "id": "JEtG5jH_6KvN"
      },
      "execution_count": null,
      "outputs": []
    },
    {
      "cell_type": "code",
      "source": [
        "# Slicing the dataframe using name\n",
        "\n",
        "df_excl.loc[0:2, 'OrderID':'Category']"
      ],
      "metadata": {
        "id": "4TCVzzdH6h81"
      },
      "execution_count": null,
      "outputs": []
    },
    {
      "cell_type": "markdown",
      "source": [
        "## Tests"
      ],
      "metadata": {
        "id": "c085olI_rtWj"
      }
    },
    {
      "cell_type": "code",
      "source": [
        "# Use a variable q to store the column Price as a dataframe\n",
        "q1 = df_excl[['Price']]\n",
        "q1"
      ],
      "metadata": {
        "id": "YZ0fKjXO6z69"
      },
      "execution_count": null,
      "outputs": []
    },
    {
      "cell_type": "code",
      "source": [
        "# Assign the variable q to the dataframe that is made up of the column Product and Category\n",
        "q2 = df_excl[['Product', 'Category']]\n",
        "q2"
      ],
      "metadata": {
        "id": "Rn4uNWe-cpzx"
      },
      "execution_count": null,
      "outputs": []
    },
    {
      "cell_type": "code",
      "source": [
        "# Access the 2nd row and the 3rd column of df\n",
        "df_excl.iloc[1, 2]"
      ],
      "metadata": {
        "id": "t9W4zF7Yc35x"
      },
      "execution_count": null,
      "outputs": []
    },
    {
      "cell_type": "code",
      "source": [
        "# Use the following list to convert the dataframe index df to characters and assign it to df_new;\n",
        "# find the element corresponding to the row index \"a\" and column \"CustomerCity\".\n",
        "# Then select the rows \"a\" through \"d\" for the column \"CustomerCity\"\n",
        "new_index=['a','b','c','d','e']\n",
        "df_new = df_excl\n",
        "df_new.index = new_index\n",
        "print(df_new.loc['a', 'CustomerCity'])\n",
        "print('-'*20)\n",
        "df_new.loc['a':'d', 'CustomerCity']"
      ],
      "metadata": {
        "id": "LvwNjJH7dKgy"
      },
      "execution_count": null,
      "outputs": []
    },
    {
      "cell_type": "code",
      "source": [
        "df_new # full dataframe"
      ],
      "metadata": {
        "id": "B29qdaffd7HC"
      },
      "execution_count": null,
      "outputs": []
    },
    {
      "cell_type": "code",
      "source": [
        "df_new.loc['0':'c', 'Category':'OrderDate'] # part of new dataframe with new index, useas numbers(position), letters(index) or name as location"
      ],
      "metadata": {
        "id": "Mf-z1PHOd_pB"
      },
      "execution_count": null,
      "outputs": []
    },
    {
      "cell_type": "code",
      "source": [
        "df_new.iloc[0:3, 1:3] # iloc uses numbers even if index is letters"
      ],
      "metadata": {
        "id": "ebPDcaRgegzZ"
      },
      "execution_count": null,
      "outputs": []
    },
    {
      "cell_type": "markdown",
      "source": [
        "# One dimensional Numpy"
      ],
      "metadata": {
        "id": "qCuSSOZxrhXc"
      }
    },
    {
      "cell_type": "code",
      "source": [
        "# import numpy library\n",
        "import numpy as np\n",
        "# Create a numpy array\n",
        "a = np.array([0, 1, 2, 3, 4])\n",
        "a"
      ],
      "metadata": {
        "id": "G9hxFBvOe0Kh"
      },
      "execution_count": null,
      "outputs": []
    },
    {
      "cell_type": "code",
      "source": [
        "# Print each element\n",
        "print(\"a[0]:\", a[0])\n",
        "print(\"a[1]:\", a[1])\n",
        "print(\"a[2]:\", a[2])\n",
        "print(\"a[3]:\", a[3])\n",
        "print(\"a[4]:\", a[4])"
      ],
      "metadata": {
        "id": "hpiI5FfQvKRr"
      },
      "execution_count": null,
      "outputs": []
    },
    {
      "cell_type": "code",
      "source": [
        "# Numpy version\n",
        "print(np.__version__)"
      ],
      "metadata": {
        "id": "cZAEUzDbvc3k"
      },
      "execution_count": null,
      "outputs": []
    },
    {
      "cell_type": "code",
      "source": [
        "# Check the type of the array\n",
        "type(a)"
      ],
      "metadata": {
        "id": "P45WivV1vh0r"
      },
      "execution_count": null,
      "outputs": []
    },
    {
      "cell_type": "code",
      "source": [
        "# Check the type of the values stored in numpy array\n",
        "a.dtype"
      ],
      "metadata": {
        "id": "ItHhZbVxvwtr"
      },
      "execution_count": null,
      "outputs": []
    },
    {
      "cell_type": "code",
      "source": [
        "# Check the type of the array and Value type for the given array\n",
        "b = np.array([3.1, 11.02, 6.2, 213.2, 5.2])\n",
        "print(type(b))\n",
        "print('-'*20)\n",
        "print(b.dtype)"
      ],
      "metadata": {
        "id": "HqkPgUrgv18T"
      },
      "execution_count": null,
      "outputs": []
    },
    {
      "cell_type": "markdown",
      "source": [
        "## Assign Value"
      ],
      "metadata": {
        "id": "4D8IdsTf1PJ9"
      }
    },
    {
      "cell_type": "code",
      "source": [
        "# change the value of the array\n",
        "# Create numpy array \"c\"\n",
        "c = np.array([20, 1, 2, 3, 4])\n",
        "c"
      ],
      "metadata": {
        "id": "cepRRYO0wL4j"
      },
      "execution_count": null,
      "outputs": []
    },
    {
      "cell_type": "code",
      "source": [
        "# Assign the first element to 100\n",
        "c[0] = 100\n",
        "c"
      ],
      "metadata": {
        "id": "r8yzizswwqub"
      },
      "execution_count": null,
      "outputs": []
    },
    {
      "cell_type": "code",
      "source": [
        "# Assign the 5th element to 0\n",
        "c[4] = 0\n",
        "c"
      ],
      "metadata": {
        "id": "l-wF7_6nwwDL"
      },
      "execution_count": null,
      "outputs": []
    },
    {
      "cell_type": "code",
      "source": [
        "# Assign the value 20 for the second element in the given array\n",
        "a2 = np.array([10, 2, 30, 40,50])\n",
        "a2"
      ],
      "metadata": {
        "id": "Q1TB9kIIxjwr"
      },
      "execution_count": null,
      "outputs": []
    },
    {
      "cell_type": "code",
      "source": [
        "a2[1] =  20\n",
        "a2"
      ],
      "metadata": {
        "id": "8BLKRFeFxvlT"
      },
      "execution_count": null,
      "outputs": []
    },
    {
      "cell_type": "markdown",
      "source": [
        "## Slicing"
      ],
      "metadata": {
        "id": "ghuyGVb41VCF"
      }
    },
    {
      "cell_type": "code",
      "source": [
        "# Slicing the numpy array\n",
        "d = c[1:4]\n",
        "d"
      ],
      "metadata": {
        "id": "YaY4a5Bfx43b"
      },
      "execution_count": null,
      "outputs": []
    },
    {
      "cell_type": "code",
      "source": [
        "# Set the fourth element and fifth element to 300 and 400\n",
        "c[3:5] = 300, 400\n",
        "c"
      ],
      "metadata": {
        "id": "eczVX9guyGs7"
      },
      "execution_count": null,
      "outputs": []
    },
    {
      "cell_type": "code",
      "source": [
        "# We can also define the steps in slicing, like this: [start:end:step] in this case the step is every 2 values\n",
        "arr = np.array([1, 2, 3, 4, 5, 6, 7])\n",
        "print(arr[1:5:2])"
      ],
      "metadata": {
        "id": "GKLmlltSyj3r"
      },
      "execution_count": null,
      "outputs": []
    },
    {
      "cell_type": "code",
      "source": [
        "# If we don't pass start its considered 0\n",
        "print(arr[:4])"
      ],
      "metadata": {
        "id": "iPl-pL5nywvj"
      },
      "execution_count": null,
      "outputs": []
    },
    {
      "cell_type": "code",
      "source": [
        "# If we don't pass end it considers till the length of array\n",
        "print(arr[4:])"
      ],
      "metadata": {
        "id": "jrMgEX4Nzm0D"
      },
      "execution_count": null,
      "outputs": []
    },
    {
      "cell_type": "code",
      "source": [
        "# If we don't pass step its considered 1\n",
        "print(arr[1:5:])"
      ],
      "metadata": {
        "id": "i0qSf1Jqz6Sc"
      },
      "execution_count": null,
      "outputs": []
    },
    {
      "cell_type": "code",
      "source": [
        "# Print the even elements in the given array\n",
        "ar = np.array([1, 2, 3, 4, 5, 6, 7, 8])\n",
        "print(f\"Even elements are = {ar[1:8:2]}\")"
      ],
      "metadata": {
        "id": "bArgowOW0D6c"
      },
      "execution_count": null,
      "outputs": []
    },
    {
      "cell_type": "markdown",
      "source": [
        "## Create Value With A List"
      ],
      "metadata": {
        "id": "3497RJxN1b0N"
      }
    },
    {
      "cell_type": "code",
      "source": [
        "# use a list to select more than one specific index\n",
        "# The list select contains several values\n",
        "# Create the index list\n",
        "select = [0, 2, 3, 4]\n",
        "select"
      ],
      "metadata": {
        "id": "SedW6QUp00uM"
      },
      "execution_count": null,
      "outputs": []
    },
    {
      "cell_type": "code",
      "source": [
        "# Use List to select elements\n",
        "d = c[select]\n",
        "d"
      ],
      "metadata": {
        "id": "IJkiGIhl1rCU"
      },
      "execution_count": null,
      "outputs": []
    },
    {
      "cell_type": "code",
      "source": [
        "# Assign the specified elements to new value\n",
        "c[select] = 100000\n",
        "c"
      ],
      "metadata": {
        "id": "7ls_JHxS2Toc"
      },
      "execution_count": null,
      "outputs": []
    },
    {
      "cell_type": "markdown",
      "source": [
        "## Other Attributes"
      ],
      "metadata": {
        "id": "xkwOKTtq3iJF"
      }
    },
    {
      "cell_type": "code",
      "source": [
        "# Create a numpy array\n",
        "a = np.array([0, 1, 2, 3, 4])\n",
        "print(a)\n",
        "# Get the size of numpy array\n",
        "a.size"
      ],
      "metadata": {
        "id": "nGPHvGKF2elU"
      },
      "execution_count": null,
      "outputs": []
    },
    {
      "cell_type": "code",
      "source": [
        "# Get the number of dimensions of numpy array\n",
        "a.ndim"
      ],
      "metadata": {
        "id": "cl1swrHK3oLs"
      },
      "execution_count": null,
      "outputs": []
    },
    {
      "cell_type": "code",
      "source": [
        "# Get the shape/size of numpy array\n",
        "a.shape"
      ],
      "metadata": {
        "id": "8jmaGsZ53y10"
      },
      "execution_count": null,
      "outputs": []
    },
    {
      "cell_type": "code",
      "source": [
        "# Find the size ,dimension and shape for the given array \"b1\"\n",
        "b1 = np.array([10, 20, 30, 40, 50, 60, 70])\n",
        "print(f\"Size = {b1.size}\",\n",
        "      f\"\\nDimension = {b1.ndim}\",\n",
        "      f\"\\nShape = {b1.shape}\")"
      ],
      "metadata": {
        "id": "VAgS22bK32hn"
      },
      "execution_count": null,
      "outputs": []
    },
    {
      "cell_type": "markdown",
      "source": [
        "## Numpy Statistical Functions"
      ],
      "metadata": {
        "id": "wQ4XzkMG4sC1"
      }
    },
    {
      "cell_type": "code",
      "source": [
        "# Create a \"A\" numpy array\n",
        "A = np.array([1, -1, 1, -1])"
      ],
      "metadata": {
        "id": "V6xrBxXZ4I_0"
      },
      "execution_count": null,
      "outputs": []
    },
    {
      "cell_type": "code",
      "source": [
        "# Get the mean of numpy array\n",
        "A_mean = A.mean() # 1+(-1)+1+(-1) = 0, mean of 0 is 0\n",
        "print(f\"Mean: {A_mean}\")\n",
        "# Get the standard deviation of numpy array\n",
        "standard_deviation = A.std()\n",
        "print(f\"Standard deviation: {standard_deviation}\")"
      ],
      "metadata": {
        "id": "YlcvVo4H4xd0"
      },
      "execution_count": null,
      "outputs": []
    },
    {
      "cell_type": "code",
      "source": [
        "# Create a \"B\" numpy array\n",
        "B = np.array([-1, 2, 3, 4, 5])\n",
        "print(f\"Array B: {B}\")\n",
        "# Get the biggest value in the numpy array\n",
        "max_B = B.max()\n",
        "print(f\"Max value: {max_B}\")\n",
        "# Get the smallest value in the numpy array\n",
        "min_B = B.min()\n",
        "print(f\"Min value: {min_B}\")"
      ],
      "metadata": {
        "id": "Qa0ne5Ve5ZnU"
      },
      "execution_count": null,
      "outputs": []
    },
    {
      "cell_type": "code",
      "source": [
        "# Find the sum of maximum and minimum value in the given numpy array\n",
        "C = np.array([-10, 201, 43, 94, 502])\n",
        "print(f\"Array C: {C}\",\n",
        "      f\"\\nMax value C: {C.max()}\",\n",
        "      f\"\\nMin value C: {C.min()}\")"
      ],
      "metadata": {
        "id": "Of9DxS5C6TZE"
      },
      "execution_count": null,
      "outputs": []
    },
    {
      "cell_type": "markdown",
      "source": [
        "## Numpy Array Operations"
      ],
      "metadata": {
        "id": "iKI9YeF78gNe"
      }
    },
    {
      "cell_type": "markdown",
      "source": [
        "### Array Addition"
      ],
      "metadata": {
        "id": "UFm4qotPAX0G"
      }
    },
    {
      "cell_type": "code",
      "source": [
        "# Consider the numpy array \"u\" and \"v\"\n",
        "u = np.array([1, 0])\n",
        "print(f\"Array u: {u}\")\n",
        "v = np.array([0, 1])\n",
        "print(f\"Array v: {v}\")\n",
        "\n",
        "# Numpy Array Addition\n",
        "z = np.add(u, v)\n",
        "print(f\"Array result of sum of u and v: {z}\")\n",
        "w = np.append(v, u)\n",
        "print(f\"Array result of appending v and u: {w}\")"
      ],
      "metadata": {
        "id": "EsAI7CfS76Ns"
      },
      "execution_count": null,
      "outputs": []
    },
    {
      "cell_type": "code",
      "source": [
        "# Plotting functions\n",
        "import time\n",
        "import sys\n",
        "import numpy as np\n",
        "\n",
        "import matplotlib.pyplot as plt\n",
        "\n",
        "def Plotvec1(u, z, v):\n",
        "\n",
        "    ax = plt.axes() # to generate the full window axes\n",
        "    # Add an arrow to the u Axes with arrow head width 0.05, color red and arrow head length 0.1\n",
        "    ax.arrow(0, 0, *u, head_width=0.05, color='r', head_length=0.1)\n",
        "    plt.text(*(u + 0.1), 'u') # Adds the text u to the Axes\n",
        "\n",
        "    # Add an arrow to the v Axes with arrow head width 0.05, color blue and arrow head length 0.1\n",
        "    ax.arrow(0, 0, *v, head_width=0.05, color='b', head_length=0.1)\n",
        "    plt.text(*(v + 0.1), 'v') # Adds the text v to the Axes\n",
        "\n",
        "    # Add an arrow to the v Axes with arrow head width 0.05, color blue and arrow head length 0.1\n",
        "    ax.arrow(0, 0, *z, head_width=0.05,color = 'y', head_length=0.1)\n",
        "    plt.text(*(z + 0.1), 'z') # Adds the text z to the Axes\n",
        "    plt.ylim(-2, 2) # set the ylim to bottom(-2), top(2)\n",
        "    plt.xlim(-2, 2) # set the xlim to left(-2), right(2)\n",
        "\n",
        "# Plot numpy arrays\n",
        "Plotvec1(u, z, v)"
      ],
      "metadata": {
        "id": "yWVDpKCh8qb8"
      },
      "execution_count": null,
      "outputs": []
    },
    {
      "cell_type": "code",
      "source": [
        "# Perform addition operation on the given numpy array \"arr1\" and \"arr2\"\n",
        "arr1 = np.array([10, 11, 12, 13, 14, 15])\n",
        "arr2 = np.array([20, 21, 22, 23, 24, 25])\n",
        "add_arr = np.add(arr1, arr2)\n",
        "print(f\"arr1 + arr2 = {add_arr}\")"
      ],
      "metadata": {
        "id": "yCjRGSaU9fId"
      },
      "execution_count": null,
      "outputs": []
    },
    {
      "cell_type": "markdown",
      "source": [
        "### Array Subtraction"
      ],
      "metadata": {
        "id": "B8IDPH-rAUuW"
      }
    },
    {
      "cell_type": "code",
      "source": [
        "# Consider the numpy array \"a_minus\"\n",
        "a_minus = np.array([10, 20, 30])\n",
        "print(f\"Array 1: {a_minus}\")\n",
        "# Consider the numpy array \"b_minus\"\n",
        "b_minus = np.array([5, 10, 15])\n",
        "print(f\"Array 2: {b_minus}\")\n",
        "# subtract the two arrays and assign it to \"c_minus\"\n",
        "c_minus = np.subtract(a_minus, b_minus)\n",
        "print(f\"Subraction of arrays 1 and 2: {c_minus}\")"
      ],
      "metadata": {
        "id": "uXaM1lJF_iHl"
      },
      "execution_count": null,
      "outputs": []
    },
    {
      "cell_type": "markdown",
      "source": [
        "### Array Multiplication"
      ],
      "metadata": {
        "id": "-UTB6zNCh7gv"
      }
    },
    {
      "cell_type": "code",
      "source": [
        "# Create a numpy array X1\n",
        "X1 = np.array([1, 2])\n",
        "print(f\"Array 1: {X1}\")\n",
        "# Create a numpy array Y1\n",
        "Y1 = np.array([2, 1])\n",
        "print(f\"Array 2: {Y1}\")\n",
        "# Numpy Array Multiplication of X! and Y1\n",
        "Z1 = np.multiply(X1, Y1)\n",
        "print(f\"Multiplication of arrays X1 and Y1: {Z1}\")"
      ],
      "metadata": {
        "id": "BLc9kO2Il3Ez"
      },
      "execution_count": null,
      "outputs": []
    },
    {
      "cell_type": "code",
      "source": [
        "# Perform multiply operation on the given numpy array arr_mult1 and arr_mult2\n",
        "arr_mult1 = np.array([10, 20, 30, 40, 50, 60])\n",
        "arr_mult2 = np.array([2, 1, 2, 3, 4, 5])\n",
        "mult_arr = np.multiply(arr_mult1, arr_mult2)\n",
        "print(f\"Array 1 * Array 2 = {mult_arr}\")"
      ],
      "metadata": {
        "id": "grIpLmS3BgCt"
      },
      "execution_count": null,
      "outputs": []
    },
    {
      "cell_type": "markdown",
      "source": [
        "### Array Division"
      ],
      "metadata": {
        "id": "4qHiWagc1Js3"
      }
    },
    {
      "cell_type": "code",
      "source": [
        "# create arrays a, b and c for the base arrays and the division\n",
        "a = np.array([10, 20, 30])\n",
        "print(f\"Array 1: {a}\")\n",
        "b = np.array([2, 10, 5])\n",
        "print(f\"Array 2: {b}\")\n",
        "c = np.divide(a, b)\n",
        "print(f\"Array division: {c}\")"
      ],
      "metadata": {
        "id": "RuqVQm6w1BD4"
      },
      "execution_count": null,
      "outputs": []
    },
    {
      "cell_type": "code",
      "source": [
        "arr1 = np.array([10, 20, 30, 40, 50, 60])\n",
        "arr2 = np.array([3, 5, 10, 8, 2, 33])\n",
        "div = np.divide(arr1, arr2)\n",
        "print(f\"Array 1 / Array 2 = {div}\")"
      ],
      "metadata": {
        "id": "DGpueFO-1r7J"
      },
      "execution_count": null,
      "outputs": []
    },
    {
      "cell_type": "markdown",
      "source": [
        "### Dot Product\n",
        "The dot product is a mathematical operation that takes two equal-length sequences of numbers (usually vectors) and returns a single number."
      ],
      "metadata": {
        "id": "KE7cPFLe2KpY"
      }
    },
    {
      "cell_type": "code",
      "source": [
        "# The dot product of the two numpy arrays u and v is given by\n",
        "X = np.array([1, 2])\n",
        "Y = np.array([3, 2])\n",
        "# Calculate the dot product\n",
        "np.dot(X, Y)"
      ],
      "metadata": {
        "id": "PZ72awYy141v"
      },
      "execution_count": null,
      "outputs": []
    },
    {
      "cell_type": "code",
      "source": [
        "#Elements of X\n",
        "print(X[0])\n",
        "print(X[1])\n",
        "#Elements of Y\n",
        "print(Y[0])\n",
        "print(Y[1])"
      ],
      "metadata": {
        "id": "LqYdGAzc20E4"
      },
      "execution_count": null,
      "outputs": []
    },
    {
      "cell_type": "code",
      "source": [
        "# test\n",
        "arr1 = np.array([3, 5])\n",
        "arr2 = np.array([2, 4])\n",
        "arr3 = np.dot (arr1, arr2)\n",
        "print(f\"Dot product: {arr3}\")"
      ],
      "metadata": {
        "id": "IGs0-UTd25__"
      },
      "execution_count": null,
      "outputs": []
    },
    {
      "cell_type": "markdown",
      "source": [
        "### Adding A Constant To a Numpy Array"
      ],
      "metadata": {
        "id": "xTI1OMyp3QyA"
      }
    },
    {
      "cell_type": "code",
      "source": [
        "# Create a constant to numpy array\n",
        "u = np.array([1, 2, 3, -1])\n",
        "print(u)\n",
        "# Add the constant to array\n",
        "u + 1"
      ],
      "metadata": {
        "id": "jcPCJNTN3M7g"
      },
      "execution_count": null,
      "outputs": []
    },
    {
      "cell_type": "code",
      "source": [
        "# Add Constant 5 to the given numpy array arr\n",
        "arr = np.array([1, 2, 3, -1])\n",
        "arr + 5"
      ],
      "metadata": {
        "id": "apE-55DA3sLP"
      },
      "execution_count": null,
      "outputs": []
    },
    {
      "cell_type": "markdown",
      "source": [
        "### Mathematical Functions"
      ],
      "metadata": {
        "id": "Urmt5DFI4Njf"
      }
    },
    {
      "cell_type": "code",
      "source": [
        "# The value of pi\n",
        "print(np.pi)\n",
        "# Create the numpy array in radians\n",
        "x = np.array([0, np.pi/2 , np.pi])\n",
        "print(x)\n",
        "# Calculate the sin of each elements\n",
        "y = np.sin(x)\n",
        "print(y)"
      ],
      "metadata": {
        "id": "NWuPWFhE4LEI"
      },
      "execution_count": null,
      "outputs": []
    },
    {
      "cell_type": "markdown",
      "source": [
        "### Linspace\n",
        "A useful function for plotting mathematical functions is linspace. Linspace returns evenly spaced numbers over a specified interval.\n",
        "\n",
        "numpy.linspace(start, stop, num = int value)\n",
        "\n",
        "start : start of interval range\n",
        "\n",
        "stop : end of interval range\n",
        "\n",
        "num : Number of samples to generate."
      ],
      "metadata": {
        "id": "3c0KfAO045kH"
      }
    },
    {
      "cell_type": "code",
      "source": [
        "# Makeup a numpy array within [-2, 2] and 5 elements\n",
        "np.linspace(-2, 2, num=5)"
      ],
      "metadata": {
        "id": "P6JDPM9F4xTX"
      },
      "execution_count": null,
      "outputs": []
    },
    {
      "cell_type": "code",
      "source": [
        "# Make a numpy array within [-2, 2] and 9 elements\n",
        "np.linspace(-2, 2, num=9)"
      ],
      "metadata": {
        "id": "4_9UrCvt5sLY"
      },
      "execution_count": null,
      "outputs": []
    },
    {
      "cell_type": "code",
      "source": [
        "# Make a numpy array within [0, 2π] and 100 elements\n",
        "x = np.linspace(0, 2*np.pi, num=100)\n",
        "x"
      ],
      "metadata": {
        "id": "fGGiqbql5viX"
      },
      "execution_count": null,
      "outputs": []
    },
    {
      "cell_type": "code",
      "source": [
        "# We can apply the sine function to each element in the array x and assign it to the array y\n",
        "# Calculate the sine of x list\n",
        "y = np.sin(x)\n",
        "y"
      ],
      "metadata": {
        "id": "UMh7fLnh5_rn"
      },
      "execution_count": null,
      "outputs": []
    },
    {
      "cell_type": "code",
      "source": [
        "# Plot the result\n",
        "plt.plot(x, y)"
      ],
      "metadata": {
        "id": "UftyzyQz6OTX"
      },
      "execution_count": null,
      "outputs": []
    },
    {
      "cell_type": "code",
      "source": [
        "# Make a numpy array within [5, 4] and 6 elements\n",
        "elem5 = np.linspace(4, 5, num = 6)\n",
        "elem5"
      ],
      "metadata": {
        "id": "ip97wFoF6Px_"
      },
      "execution_count": null,
      "outputs": []
    },
    {
      "cell_type": "markdown",
      "source": [
        "### Iterating 1D Arrays"
      ],
      "metadata": {
        "id": "unT8xa_q8d6w"
      }
    },
    {
      "cell_type": "code",
      "source": [
        "# If we execute the numpy array, we get in the array format\n",
        "arr1 = np.array([1, 2, 3])\n",
        "print(arr1)\n",
        "# But if you want to result in the form of the list, then you can use for loop\n",
        "for x in arr1:\n",
        "  print(x)"
      ],
      "metadata": {
        "id": "mIiuv2IE8S1Q"
      },
      "execution_count": null,
      "outputs": []
    },
    {
      "cell_type": "markdown",
      "source": [
        "### Test"
      ],
      "metadata": {
        "id": "yCqhj2Kk-am4"
      }
    },
    {
      "cell_type": "code",
      "source": [
        "# Implement the following vector subtraction in numpy: u-v\n",
        "u = np.array([1, 0])\n",
        "v = np.array([0, 1])\n",
        "subt = np.subtract(u, v)\n",
        "print(f\"Subtraction of arrays u and v: {subt}\")\n",
        "# Multiply the numpy array z with -2\n",
        "z = np.array([2, 4])\n",
        "mult = np.multiply(z , -2)\n",
        "print(f\"Multiplication of array z and -2: {mult}\")\n",
        "# Consider the list [1, 2, 3, 4, 5] and [1, 0, 1, 0, 1]. Cast both lists to a numpy array then multiply them together\n",
        "A = np.array([1, 2, 3, 4, 5])\n",
        "B = np.array([1, 0, 1, 0, 1])\n",
        "AxB = np.multiply(A, B)\n",
        "print(f\"Array A = {A}\",\n",
        "      f\"\\nArray B = {B}\",\n",
        "      f\"\\nArray A*B = {AxB}\")"
      ],
      "metadata": {
        "id": "uIPuxEmm-SlQ"
      },
      "execution_count": null,
      "outputs": []
    },
    {
      "cell_type": "code",
      "source": [
        "import time\n",
        "import sys\n",
        "import numpy as np\n",
        "\n",
        "import matplotlib.pyplot as plt\n",
        "\n",
        "\n",
        "def Plotvec2(a,b):\n",
        "    ax = plt.axes()# to generate the full window axes\n",
        "    ax.arrow(0, 0, *a, head_width=0.05, color ='r', head_length=0.1)#Add an arrow to the  a Axes with arrow head width 0.05, color red and arrow head length 0.1\n",
        "    plt.text(*(a + 0.1), 'a')\n",
        "    ax.arrow(0, 0, *b, head_width=0.05, color ='b', head_length=0.1)#Add an arrow to the  b Axes with arrow head width 0.05, color blue and arrow head length 0.1\n",
        "    plt.text(*(b + 0.1), 'b')\n",
        "    plt.ylim(-2, 2)#set the ylim to bottom(-2), top(2)\n",
        "    plt.xlim(-2, 2)#set the xlim to left(-2), right(2)"
      ],
      "metadata": {
        "id": "SYvpgrQV_YLI"
      },
      "execution_count": null,
      "outputs": []
    },
    {
      "cell_type": "code",
      "source": [
        "# Convert the list [-1, 1] and [1, 1] to numpy arrays a and b\n",
        "# Then, plot the arrays as vectors using the fuction Plotvec2 and find their dot product\n",
        "a = np.array([-1, 1])\n",
        "b = np.array([1, 1])\n",
        "dp = np.dot(a, b)\n",
        "print(f\"Dot point of array a and array b: {dp}\")\n",
        "Plotvec2(a, b)"
      ],
      "metadata": {
        "id": "nyYfPWlm_-KQ"
      },
      "execution_count": null,
      "outputs": []
    },
    {
      "cell_type": "code",
      "source": [
        "# Convert the list [1, 0] and [0, 1] to numpy arrays a and b\n",
        "# Then, plot the arrays as vectors using the function Plotvec2 and find their dot product\n",
        "a = np.array([1, 0])\n",
        "b = np.array([0, 1])\n",
        "dp = np.dot(a, b)\n",
        "print(f\"Dot point of array a and array b: {dp}\")\n",
        "Plotvec2(a, b)"
      ],
      "metadata": {
        "id": "YQlYG5cuA483"
      },
      "execution_count": null,
      "outputs": []
    },
    {
      "cell_type": "code",
      "source": [
        "# Convert the list [1, 1] and [0, 1] to numpy arrays a and b\n",
        "# Then plot the arrays as vectors using the fuction Plotvec2 and find their dot product\n",
        "a = np.array([1, 1])\n",
        "b = np.array([0, 1])\n",
        "dp = np.dot(a, b)\n",
        "print(f\"Dot point of array a and array b: {dp}\")\n",
        "Plotvec2(a, b)"
      ],
      "metadata": {
        "id": "RJXbjLXKBvTA"
      },
      "execution_count": null,
      "outputs": []
    },
    {
      "cell_type": "code",
      "source": [
        "# Convert the list [1, 2, 3] and [8, 9, 10] to numpy arrays arr1 and arr2\n",
        "# Then perform Addition , Subtraction , Multiplication , Division and Dot Operation on the arr1 and arr2\n",
        "arr1 = np.array([1, 2, 3])\n",
        "arr2 = np.array([8, 9, 10])\n",
        "print(f\"Addition: {np.add(arr1, arr2)}\",\n",
        "      f\"\\nSubtraction: {np.subtract(arr2, arr1)}\",\n",
        "      f\"\\nMultiplication: {np.multiply(arr1, arr2)}\",\n",
        "      f\"\\nDivision: {np.divide(arr2, arr1)}\",\n",
        "      f\"\\nDot Operation: {np.dot(arr1, arr2)}\")"
      ],
      "metadata": {
        "id": "L1-RdVmvCIT3"
      },
      "execution_count": null,
      "outputs": []
    },
    {
      "cell_type": "code",
      "source": [
        "# Convert the list [1, 2, 3, 4, 5] and [6, 7, 8, 9, 10] to numpy arrays arr1 and arr2\n",
        "# Then find the even and odd numbers from arr1 and arr2\n",
        "arr1 = np.array([1, 2, 3, 4, 5])\n",
        "arr2 = np.array([6, 7, 8, 9, 10])\n",
        "print(f\"Even numbers from array 1: {arr1[1::2]}\",\n",
        "      f\"\\nOdd numbers from array 1: {arr1[::2]}\",\n",
        "      \"\\n\",\n",
        "      \"-\"*40,\n",
        "      f\"\\nEven numbers from array 2: {arr2[::2]}\",\n",
        "      f\"\\nOdd numbers from array 2: {arr2[1::2]}\")"
      ],
      "metadata": {
        "id": "g-byOoruCogg"
      },
      "execution_count": null,
      "outputs": []
    },
    {
      "cell_type": "markdown",
      "source": [
        "# 2D Numpy in Python"
      ],
      "metadata": {
        "id": "-jLkKoiStwFf"
      }
    },
    {
      "cell_type": "code",
      "source": [
        "# Import the libraries\n",
        "import numpy as np"
      ],
      "metadata": {
        "id": "7nJb9bKAEHpY"
      },
      "execution_count": null,
      "outputs": []
    },
    {
      "cell_type": "code",
      "source": [
        "# Create a list\n",
        "a = [[11, 12, 13], [21, 22, 23], [31, 32, 33], [41, 42, 43]]\n",
        "a"
      ],
      "metadata": {
        "id": "d7Rld-EbtUzN"
      },
      "execution_count": null,
      "outputs": []
    },
    {
      "cell_type": "code",
      "source": [
        "# Convert list to Numpy Array\n",
        "# Every element is the same type\n",
        "A = np.array(a)\n",
        "print(A)"
      ],
      "metadata": {
        "id": "sPSrHqootcem"
      },
      "execution_count": null,
      "outputs": []
    },
    {
      "cell_type": "code",
      "source": [
        "# Show the numpy array dimensions\n",
        "print(A.ndim)\n",
        "# Show the numpy array shape\n",
        "print(A.shape)\n",
        "# Show the numpy array size\n",
        "A.size"
      ],
      "metadata": {
        "id": "fKSAVSPgtdgU"
      },
      "execution_count": null,
      "outputs": []
    },
    {
      "cell_type": "markdown",
      "source": [
        "## Accessing different elements of a Numpy Array"
      ],
      "metadata": {
        "id": "SWBgpC7YuO4o"
      }
    },
    {
      "cell_type": "code",
      "source": [
        "# Access the element on the second row and third column form 1\n",
        "print(A[1,2])\n",
        "# Access the element on the second row and third column form 2\n",
        "print(A[1][2])"
      ],
      "metadata": {
        "id": "iX8oWmpDt61c"
      },
      "execution_count": null,
      "outputs": []
    },
    {
      "cell_type": "code",
      "source": [
        "# Access the elements on the first row, first and second columns (slicing)\n",
        "print(A[0][0:2])\n",
        "#  we can obtain the first two rows of the 3rd column as follows\n",
        "print(A[0:2, 2])"
      ],
      "metadata": {
        "id": "7DEfkV2suk8E"
      },
      "execution_count": null,
      "outputs": []
    },
    {
      "cell_type": "code",
      "source": [
        "# Create a numpy array X\n",
        "X = np.array([[1, 0], [0, 1]])\n",
        "print(f\"List X:\\n{X}\")\n",
        "# Create a numpy array Y\n",
        "Y = np.array([[2, 1], [1, 2]])\n",
        "print(f\"List Y:\\n{Y}\")\n",
        "# Add X and Y\n",
        "Z = X + Y\n",
        "print(f\"Addition of X and Y:\\n{Z}\")\n",
        "# Multiply X and Y\n",
        "Z = X * Y\n",
        "print(f\"Multiplication of X and Y:\\n{Z}\")"
      ],
      "metadata": {
        "id": "mzbQYp2pvRF0"
      },
      "execution_count": null,
      "outputs": []
    },
    {
      "cell_type": "code",
      "source": [
        "# Create a numpy array Y\n",
        "Y_array = np.array([[2, 1], [1, 2]])\n",
        "# Multiply Y with 2\n",
        "Z_array = 2 * Y\n",
        "print(f\"Y array:\\n{Y_array}\",\n",
        "      f\"\\nMultiplication of Y with 2:\\n{Z_array}\")"
      ],
      "metadata": {
        "id": "eisOpRU7vj2c"
      },
      "execution_count": null,
      "outputs": []
    },
    {
      "cell_type": "code",
      "source": [
        "# Create a numpy array X\n",
        "X_array = np.array([[1, 0], [0, 1]])\n",
        "# Multiply X with Y\n",
        "Q_A_mult = X * Y\n",
        "print(f\"X array:\\n{X_array}\",\n",
        "      f\"\\nY array:\\n{Y_array}\",\n",
        "      f\"\\nX and Y array multilication:\\n{Q_A_mult}\")"
      ],
      "metadata": {
        "id": "JAjY-B0HyP2T"
      },
      "execution_count": null,
      "outputs": []
    },
    {
      "cell_type": "code",
      "source": [
        "# We can also perform matrix multiplication with the numpy arrays A and B as follows\n",
        "# Create a matrix A\n",
        "A_array = np.array([[0, 1, 1], [1, 0, 1]])\n",
        "# Create a matrix B\n",
        "B_array = np.array([[1, 1], [1, 1], [-1, 1]])\n",
        "# Calculate the dot product\n",
        "Dot = np.dot(A_array,B_array)\n",
        "# Calculate the sine of Z\n",
        "Sin = np.sin(Dot)\n",
        "# print all\n",
        "print(f\"A array:\\n{A_array}\",\n",
        "      f\"\\nB array:\\n{B_array}\",\n",
        "      f\"\\nDot product:\\n{Dot}\",\n",
        "      f\"\\nSine of the dot product:\\n{Sin}\")"
      ],
      "metadata": {
        "id": "uDVvIORayyPM"
      },
      "execution_count": null,
      "outputs": []
    },
    {
      "cell_type": "code",
      "source": [
        "# Create a matrix C\n",
        "C = np.array([[1,1],[2,2],[3,3]])\n",
        "# Get the transposed matrix of C\n",
        "C_trans = C.T\n",
        "print(f\"C array:\\n{C}\",\n",
        "      f\"\\nTransposed C array:\\n{C_trans}\")"
      ],
      "metadata": {
        "id": "eGDcLDa4z_0z"
      },
      "execution_count": null,
      "outputs": []
    },
    {
      "cell_type": "code",
      "source": [
        "# Consider the following list a, convert it to Numpy Array\n",
        "a = [[1, 2, 3, 4], [5, 6, 7, 8], [9, 10, 11, 12]]\n",
        "a_array = np.array(a)\n",
        "print(f\"List a:\\n{a}\",\n",
        "      f\"\\nNumpy array a:\\n{a_array}\")\n",
        "# Calculate the numpy array size\n",
        "print(f\"Numpy array a size: {a_array.size}\")\n",
        "# # Access the element on the first row and first and second columns\n",
        "print(f\"Array 'a' element on the first row, first and second columns: {a_array[0][0:2]}\")"
      ],
      "metadata": {
        "id": "1DZeXc810f3j"
      },
      "execution_count": null,
      "outputs": []
    },
    {
      "cell_type": "code",
      "source": [
        "# Perform matrix multiplication with the numpy arrays \"a\" and \"b\"\n",
        "b_array = np.array([[0, 1], [1, 0], [1, 1], [-1, 0]])\n",
        "print(f\"Numpy array b:\\n{b_array}\",\n",
        "      f\"\\nArray 'a' multiplication with array 'b':\\n{np.dot(a_array, b_array)}\")"
      ],
      "metadata": {
        "id": "jqsqYFrs1mAq"
      },
      "execution_count": null,
      "outputs": []
    },
    {
      "cell_type": "markdown",
      "source": [
        "# Introduction to APIs\n",
        "Pandas is an API"
      ],
      "metadata": {
        "id": "m3NresRIkROw"
      }
    },
    {
      "cell_type": "code",
      "source": [
        "# Pandas is actually set of software components , much of which is not even written in Python\n",
        "# import dependencies to work\n",
        "import pandas as pd\n",
        "import matplotlib.pyplot as plt"
      ],
      "metadata": {
        "id": "mU5qQm7UkR3w"
      },
      "execution_count": null,
      "outputs": []
    },
    {
      "cell_type": "code",
      "source": [
        "# create a dictionary\n",
        "dict_={'a':[11,21,31],'b':[12,22,32]}\n",
        "# When you create a Pandas object with the dataframe constructor, in API lingo this is an \"instance\"\n",
        "# The data in the dictionary is passed along to the pandas API\n",
        "# You then use the dataframe to communicate with the API\n",
        "df=pd.DataFrame(dict_)\n",
        "type(df)"
      ],
      "metadata": {
        "id": "UfOQtVyc_Zf1"
      },
      "execution_count": null,
      "outputs": []
    },
    {
      "cell_type": "code",
      "source": [
        "print(df)"
      ],
      "metadata": {
        "id": "_miM3mWv_yNd"
      },
      "execution_count": null,
      "outputs": []
    },
    {
      "cell_type": "code",
      "source": [
        "# When you call the method head the dataframe communicates with the API displaying the first few rows of the dataframe\n",
        "df_head = df.head()\n",
        "# When you call the method mean, the API will calculate the mean and return the value\n",
        "df_mean = df.mean()\n",
        "\n",
        "print(f\"Head of dataframe:\\n{df_head}\",\n",
        "      f\"\\nMean of dataframe:\\n{df_mean}\")"
      ],
      "metadata": {
        "id": "Q3ke_Leg_1TE"
      },
      "execution_count": null,
      "outputs": []
    },
    {
      "cell_type": "markdown",
      "source": [
        "## Lab\n",
        "In this lab, we will use the NBA API to determine how well the Golden State Warriors performed against the Toronto Raptors. We will use the API to determine the number of points the Golden State Warriors won or lost by for each game. So if the value is three, the Golden State Warriors won by three points. Similarly it the Golden State Warriors lost by two points the result will be negative two. The API will handle a lot of the details, such a Endpoints and Authentication."
      ],
      "metadata": {
        "id": "cqZZ4f-0BUSk"
      }
    },
    {
      "cell_type": "code",
      "source": [
        "!pip install nba_api\n",
        "from nba_api.stats.static import teams\n",
        "import matplotlib.pyplot as plt\n",
        "\n",
        "def one_dict(list_dict):\n",
        "    keys=list_dict[0].keys()\n",
        "    out_dict={key:[] for key in keys}\n",
        "    for dict_ in list_dict:\n",
        "        for key, value in dict_.items():\n",
        "            out_dict[key].append(value)\n",
        "    return out_dict"
      ],
      "metadata": {
        "id": "5DsrLY63A669"
      },
      "execution_count": null,
      "outputs": []
    },
    {
      "cell_type": "code",
      "source": [
        "# The method get_teams() returns a list of dictionaries\n",
        "nba_teams = teams.get_teams()\n",
        "# The dictionary key id has a unique identifier for each team as a value\n",
        "# Let's look at the first three elements of the list\n",
        "nba_teams[0:3]"
      ],
      "metadata": {
        "id": "vSewvwMoCa8k"
      },
      "execution_count": null,
      "outputs": []
    },
    {
      "cell_type": "code",
      "source": [
        "# convert dict to a table\n",
        "dict_nba_team=one_dict(nba_teams)\n",
        "# convert dictionary to a data frame\n",
        "df_teams=pd.DataFrame(dict_nba_team)\n",
        "df_teams.head()"
      ],
      "metadata": {
        "id": "A4V32dYeDK9T"
      },
      "execution_count": null,
      "outputs": []
    },
    {
      "cell_type": "code",
      "source": [
        "print(f\"NBA dataframe size: {df_teams.size}\")\n",
        "print(f\"NBA dataframe shape: {df_teams.shape}\")"
      ],
      "metadata": {
        "id": "nCXTGR_zC_oT"
      },
      "execution_count": null,
      "outputs": []
    },
    {
      "cell_type": "code",
      "source": [
        "# use the team nickname to find said team and it's unique id\n",
        "df_wolves=df_teams[df_teams['nickname']=='Timberwolves']\n",
        "df_warriors=df_teams[df_teams['nickname']=='Warriors']\n",
        "df_warriors"
      ],
      "metadata": {
        "id": "x3WSVzu9D90L"
      },
      "execution_count": null,
      "outputs": []
    },
    {
      "cell_type": "code",
      "source": [
        "df_wolves"
      ],
      "metadata": {
        "id": "0WdrDcYWFTWj"
      },
      "execution_count": null,
      "outputs": []
    },
    {
      "cell_type": "code",
      "source": [
        "# use the following code to access the first column of DF\n",
        "id_warriors=df_warriors[['id']].values[0][0]\n",
        "id_wolves = df_wolves[['id']].values[0][0]\n",
        "# we now have an integer that can be used to request the Warriors information\n",
        "print(f\"Warriors unique ID: {id_warriors}\")\n",
        "print(f\"Timberwolves unique ID: {id_wolves}\")"
      ],
      "metadata": {
        "id": "crkJ1CnoGgSL"
      },
      "execution_count": null,
      "outputs": []
    },
    {
      "cell_type": "code",
      "source": [
        "# The function \"League Game Finder \" will make an API call, it's in the module stats.endpoints\n",
        "from nba_api.stats.endpoints import leaguegamefinder\n",
        "# Under the hood, the NBA API is making a HTTP request.\n",
        "# The information requested is provided and is transmitted via an HTTP response this is assigned to the object game finder\n",
        "gamefinder = leaguegamefinder.LeagueGameFinder(team_id_nullable=id_warriors) # The parameter team_id_nullable is the unique ID for the warriors\n",
        "gamefinder.get_json() # We can see the json file by running the following line of code\n",
        "games = gamefinder.get_data_frames()[0] # method that returns dataframe\n",
        "games.head()\n",
        "# page does not allow cloud API call"
      ],
      "metadata": {
        "id": "wI-PJrHHG2Dj"
      },
      "execution_count": null,
      "outputs": []
    },
    {
      "cell_type": "code",
      "source": [
        "# we will download the data from a previously stabilished link to use the data in cloud environment\n",
        "# this step is since cloud calls are not accepted by NBA API\n",
        "import requests\n",
        "\n",
        "filename = \"https://s3-api.us-geo.objectstorage.softlayer.net/cf-courses-data/CognitiveClass/PY0101EN/Chapter%205/Labs/Golden_State.pkl\"\n",
        "\n",
        "def download(url, filename):\n",
        "    response = requests.get(url)\n",
        "    if response.status_code == 200:\n",
        "        with open(filename, \"wb\") as f:\n",
        "            f.write(response.content)\n",
        "\n",
        "download(filename, \"Golden_State.pkl\")\n",
        "file_name = \"Golden_State.pkl\"\n",
        "games = pd.read_pickle(file_name)\n",
        "games.head()"
      ],
      "metadata": {
        "id": "DmW6E5h3IRKr"
      },
      "execution_count": null,
      "outputs": []
    },
    {
      "cell_type": "code",
      "source": [
        "# We can create two dataframes, one for the games that the Warriors faced the raptors at home, and the second for away games\n",
        "games_home=games[games['MATCHUP']=='GSW vs. TOR']\n",
        "games_away=games[games['MATCHUP']=='GSW @ TOR']\n",
        "GSW_home = games_home['PLUS_MINUS'].mean()\n",
        "GSW_away = games_away['PLUS_MINUS'].mean()\n",
        "print(f\"GSW home games mean: {round(GSW_home)}\")\n",
        "print(f\"GSW away games mean: {round(GSW_away)}\")"
      ],
      "metadata": {
        "id": "e5SAskkTJTIb"
      },
      "execution_count": null,
      "outputs": []
    },
    {
      "cell_type": "code",
      "source": [
        "# We can plot out the PLUS MINUS column for the dataframes games_home and  games_away\n",
        "fig, ax = plt.subplots()\n",
        "\n",
        "games_away.plot(x='GAME_DATE',y='PLUS_MINUS', ax=ax)\n",
        "games_home.plot(x='GAME_DATE',y='PLUS_MINUS', ax=ax)\n",
        "ax.legend([\"away\", \"home\"])\n",
        "plt.show()\n",
        "# conclusion: warriors play better at home"
      ],
      "metadata": {
        "id": "-X3DcpIoJ8ED"
      },
      "execution_count": null,
      "outputs": []
    },
    {
      "cell_type": "code",
      "source": [
        "# Calculate the mean for the column PTS for the dataframes games_home and  games_away\n",
        "mean_away = games_away['PTS'].mean()\n",
        "mean_home = games_home['PTS'].mean()\n",
        "print(f\"GSW home games mean: {round(mean_home)}\")\n",
        "print(f\"GSW away games mean: {round(mean_away)}\")"
      ],
      "metadata": {
        "id": "cYLOTdZtLo-r"
      },
      "execution_count": null,
      "outputs": []
    },
    {
      "cell_type": "markdown",
      "source": [
        "# Practice project: GDP Data Extraction and Processing\n",
        "In this practice project, you will put the skills acquired through the course to use. You will extract data from a website using webscraping and request APIs process it using Pandas and Numpy libraries.\n",
        "\n",
        "\n",
        "---\n",
        "\n",
        "\n",
        "Scenario:\n",
        "An international firm that is looking to expand its business in different countries across the world has recruited you. You have been hired as a junior Data Engineer and are tasked with creating a script that can extract the list of the top 10 largest economies of the world in descending order of their GDPs in Billion USD (rounded to 2 decimal places), as logged by the International Monetary Fund (IMF).\n",
        "\n",
        "The required data seems to be available on the URL mentioned below:\n",
        "URL: https://web.archive.org/web/20230902185326/https://en.wikipedia.org/wiki/List_of_countries_by_GDP_%28nominal%29\n",
        "\n",
        "\n",
        "---\n",
        "\n",
        "\n",
        "After completing this lab you will be able to:\n",
        "*   Use Webscraping to extract required information from a website.\n",
        "*   Use Pandas to load and process the tabular data as a dataframe.\n",
        "*   Use Numpy to manipulate the information contatined in the dataframe.\n",
        "*   Load the updated dataframe to CSV file.\n"
      ],
      "metadata": {
        "id": "sr-RoFJ7OYR7"
      }
    },
    {
      "cell_type": "code",
      "source": [
        "#Install required packages\n",
        "# pandas for managing the data.\n",
        "# numpy for mathematical operations.\n",
        "!pip install pandas numpy\n",
        "!pip install lxml"
      ],
      "metadata": {
        "id": "By8qT_MJNycb"
      },
      "execution_count": null,
      "outputs": []
    },
    {
      "cell_type": "code",
      "source": [
        "# Importing Required Libraries\n",
        "import numpy as np\n",
        "import pandas as pd\n",
        "\n",
        "# You can also use this section to suppress warnings generated by your code:\n",
        "def warn(*args, **kwargs):\n",
        "    pass\n",
        "import warnings\n",
        "warnings.warn = warn\n",
        "warnings.filterwarnings('ignore')"
      ],
      "metadata": {
        "id": "xteS1RtSRIcC"
      },
      "execution_count": null,
      "outputs": []
    },
    {
      "cell_type": "code",
      "source": [
        "# Extract the required GDP data from the given URL using Web Scraping.\n",
        "URL=\"https://web.archive.org/web/20230902185326/https://en.wikipedia.org/wiki/List_of_countries_by_GDP_%28nominal%29\""
      ],
      "metadata": {
        "id": "n4lxR6l4RUUS"
      },
      "execution_count": null,
      "outputs": []
    },
    {
      "cell_type": "code",
      "source": [
        "# Extract tables from webpage using Pandas. Retain table number 3 as the required dataframe\n",
        "tables = pd.read_html(URL)\n",
        "df = tables[3]\n",
        "# Replace the column headers with column numbers\n",
        "df.columns = range(df.shape[1])\n",
        "# Retain columns with index 0 and 2 (name of country and value of GDP quoted by IMF)\n",
        "df = df.iloc[:, [0, 2]]\n",
        "# Retain the Rows with index 1 to 10, indicating the top 10 economies of the world\n",
        "df = df.iloc[1:11]\n",
        "# Assign column names as \"Country\" and \"GDP (Million USD)\"\n",
        "df.columns = [\"Country\", \"GDP (Million USD)\"]\n",
        "df"
      ],
      "metadata": {
        "id": "tTvzbK2LRZe6"
      },
      "execution_count": null,
      "outputs": []
    },
    {
      "cell_type": "code",
      "source": [
        "# Extract tables from webpage using Pandas. Retain table number 3 as the required dataframe\n",
        "# tables = pd.read_html(URL)\n",
        "tables2 = pd.read_html(URL)\n",
        "df2 = tables[3]\n",
        "# Retain columns with index 0 and 2 (name of country and value of GDP quoted by IMF)\n",
        "df2 = df2.iloc[:, [0, 2]]\n",
        "# Retain the Rows with index 1 to 10, indicating the top 10 economies of the world\n",
        "df2 = df2.iloc[1:11]\n",
        "# Replace the column headers with column numbers\n",
        "df2.columns = range(df.shape[1])\n",
        "# Assign column names as \"Country\" and \"GDP (Million USD)\"\n",
        "df2.columns = [\"Country\", \"GDP (Million USD)\"]\n",
        "df2"
      ],
      "metadata": {
        "id": "OvEj9zJHR8CC"
      },
      "execution_count": null,
      "outputs": []
    },
    {
      "cell_type": "code",
      "source": [
        "# Modify the GDP column of the DataFrame, converting the value available in Million USD to Billion USD\n",
        "# Use the round() method of Numpy library to round the value to 2 decimal places\n",
        "# Modify the header of the DataFrame to GDP (Billion USD)\n",
        "\n",
        "# Ensure the column is numeric, coercing errors to NaN\n",
        "df2[\"GDP (Million USD)\"] = pd.to_numeric(df2[\"GDP (Million USD)\"], errors='coerce')\n",
        "\n",
        "# Now perform the division and rounding\n",
        "df2[\"GDP (Million USD)\"] = df2[\"GDP (Million USD)\"].apply(lambda x: round(x / 1000000, 2))\n",
        "\n",
        "df2.columns = [\"Country\", \"GDP (Billion USD)\"]\n",
        "df2"
      ],
      "metadata": {
        "id": "_JKf3rhYWTiC"
      },
      "execution_count": null,
      "outputs": []
    },
    {
      "cell_type": "code",
      "source": [
        "# Change the data type of the 'GDP (Million USD)' column to integer. Use astype() method\n",
        "df[\"GDP (Million USD)\"] = df[\"GDP (Million USD)\"].astype(int)\n",
        "\n",
        "# Convert the GDP value in Million USD to Billion USD\n",
        "df[\"GDP (Million USD)\"] = df[\"GDP (Million USD)\"].apply(lambda x: round(x / 1000000, 2))\n",
        "\n",
        "# Rename the column header from 'GDP (Million USD)' to 'GDP (Billion USD)'\n",
        "df.columns = [\"Country\", \"GDP (Billion USD)\"]\n",
        "\n",
        "# Use numpy.round() method to round the value to 2 decimal places.\n",
        "df[\"GDP (Billion USD)\"] = np.round(df[\"GDP (Billion USD)\"], 2)\n",
        "df"
      ],
      "metadata": {
        "id": "IvNOIjwMTRUb"
      },
      "execution_count": null,
      "outputs": []
    },
    {
      "cell_type": "code",
      "source": [
        "# Load the DataFrame to the CSV file named \"Largest_economies.csv\"\n",
        "with open(\"Largest_economies.csv\", \"w\") as f:\n",
        "    df.to_csv(f, index=False)"
      ],
      "metadata": {
        "id": "zo6J4NdEYhKr"
      },
      "execution_count": null,
      "outputs": []
    },
    {
      "cell_type": "code",
      "source": [
        "# Verify if the copy is successfully executed\n",
        "with open(\"Largest_economies.csv\", \"r\") as f:\n",
        "    larg_econ = pd.read_csv(f)\n",
        "    df_econ = pd.DataFrame(larg_econ)\n",
        "df_econ"
      ],
      "metadata": {
        "id": "77Ff25ulZEpR"
      },
      "execution_count": null,
      "outputs": []
    },
    {
      "cell_type": "markdown",
      "source": [
        "# Web Scraping and HTML Basics"
      ],
      "metadata": {
        "id": "vZIshf8yM1fS"
      }
    },
    {
      "cell_type": "code",
      "source": [
        "# Import Beautiful Soup to parse the web page content\n",
        "from bs4 import BeautifulSoup\n",
        "import requests\n",
        "\n",
        "# Specify the URL of the webpage you want to scrape\n",
        "url = 'https://en.wikipedia.org/wiki/IBM'\n",
        "\n",
        "# Define a User-Agent header\n",
        "headers = {\n",
        "    'User-Agent': 'MyDataExtractionScript/1.0 (juan.darquea.a@gmail.com)' # Replace with a descriptive string, e.g., 'MyDataExtractionScript/1.0 (contact@example.com)'\n",
        "}\n",
        "\n",
        "# Send an HTTP GET request to the webpage with the headers\n",
        "response = requests.get(url, headers=headers)\n",
        "\n",
        "# Store the HTML content in a variable\n",
        "html_content = response.text\n",
        "\n",
        "# Create a BeautifulSoup object to parse the HTML\n",
        "soup = BeautifulSoup(html_content, 'html.parser')\n",
        "\n",
        "# Display a snippet of the HTML content\n",
        "print(html_content[:500])"
      ],
      "metadata": {
        "id": "hvtm-H-yZQpi"
      },
      "execution_count": null,
      "outputs": []
    },
    {
      "cell_type": "code",
      "source": [
        "# Find all <a> tags (anchor tags) in the HTML\n",
        "links = soup.find_all('a')\n",
        "# Iterate through the list of links and print their text\n",
        "for link in links:\n",
        "    print(link.text)"
      ],
      "metadata": {
        "id": "5q1JXYcYNTdT"
      },
      "execution_count": null,
      "outputs": []
    },
    {
      "cell_type": "markdown",
      "source": [
        "## Lab\n",
        "After completing this lab you will be able to:\n",
        "*   Understand HTTP\n",
        "*   Handle HTTP Requests\n",
        "\n"
      ],
      "metadata": {
        "id": "FzM09ew5PS-S"
      }
    },
    {
      "cell_type": "code",
      "source": [
        "# Requests is a Python Library that allows you to send HTTP/1.1 requests easily\n",
        "import requests\n",
        "# and the following libraries\n",
        "import os\n",
        "from PIL import Image\n",
        "from IPython.display import IFrame\n",
        "\n",
        "# You can make a GET request via the method get to www.ibm.com\n",
        "url='https://www.ibm.com/'\n",
        "r=requests.get(url)\n",
        "\n",
        "# We have the response object r, this has information about the request, like the status of the request\n",
        "# We can view the status code using the attribute status_code\n",
        "r.status_code"
      ],
      "metadata": {
        "id": "ZmYIfY8mNvCC"
      },
      "execution_count": null,
      "outputs": []
    },
    {
      "cell_type": "code",
      "source": [
        "# view the request headers\n",
        "print(r.request.headers)\n",
        "\n",
        "# view the request body, in the following line, as there is no body for a get request we get a None\n",
        "print(\"request body:\", r.request.body)\n",
        "\n",
        "# You can view the HTTP response header using the attribute headers\n",
        "# This returns a python dictionary of HTTP response headers\n",
        "header=r.headers\n",
        "print(r.headers)"
      ],
      "metadata": {
        "id": "5Srb_K3QeZLV"
      },
      "execution_count": null,
      "outputs": []
    },
    {
      "cell_type": "code",
      "source": [
        "# We can obtain the date the request was sent using the key Date\n",
        "header['Date']"
      ],
      "metadata": {
        "id": "2zB6_Ygfevc1"
      },
      "execution_count": null,
      "outputs": []
    },
    {
      "cell_type": "code",
      "source": [
        "# Content-Type indicates the type of data\n",
        "header['Content-Type']"
      ],
      "metadata": {
        "id": "AZT9ND2ifFCl"
      },
      "execution_count": null,
      "outputs": []
    },
    {
      "cell_type": "code",
      "source": [
        "# You can also check the encoding\n",
        "r.encoding"
      ],
      "metadata": {
        "id": "qS18zJuHfHNN"
      },
      "execution_count": null,
      "outputs": []
    },
    {
      "cell_type": "code",
      "source": [
        "# As the Content-Type is text/html we can use the attribute text to display the HTML in the body\n",
        "# We can review the first 100 characters\n",
        "r.text[0:100]"
      ],
      "metadata": {
        "id": "JtxZVHjMfIRd"
      },
      "execution_count": null,
      "outputs": []
    },
    {
      "cell_type": "code",
      "source": [
        "# You can load other types of data for non-text requests, like images\n",
        "# Consider the URL of the following image\n",
        "# Use single quotation marks for defining string\n",
        "url='https://cf-courses-data.s3.us.cloud-object-storage.appdomain.cloud/IBMDeveloperSkillsNetwork-PY0101EN-SkillsNetwork/IDSNlogo.png'\n",
        "\n",
        "# We can make a get request\n",
        "r=requests.get(url)\n",
        "\n",
        "# We can look at the response header\n",
        "print(r.headers)"
      ],
      "metadata": {
        "id": "iunDC3-ifPv9"
      },
      "execution_count": null,
      "outputs": []
    },
    {
      "cell_type": "code",
      "source": [
        "# We can see the 'Content-Type\n",
        "r.headers['Content-Type']"
      ],
      "metadata": {
        "id": "Fbvo5qw5feh1"
      },
      "execution_count": null,
      "outputs": []
    },
    {
      "cell_type": "code",
      "source": [
        "# An image is a response object that contains the image as a bytes-like object\n",
        "# As a result, we must save it using a file object\n",
        "# First, we specify the file path and name\n",
        "path=os.path.join(os.getcwd(),'image.png')\n",
        "\n",
        "# We save the file, in order to access the body of the response we use the attribute content then save it using the open function and write method\n",
        "with open(path,'wb') as f:\n",
        "    f.write(r.content)\n",
        "\n",
        "# We can view the image\n",
        "Image.open(path)"
      ],
      "metadata": {
        "id": "veSh9gNjf-Y1"
      },
      "execution_count": null,
      "outputs": []
    },
    {
      "cell_type": "code",
      "source": [
        "# Consider the following URL\n",
        "# Write the commands to download the txt file in the given link\n",
        "url = 'https://cf-courses-data.s3.us.cloud-object-storage.appdomain.cloud/IBMDeveloperSkillsNetwork-PY0101EN-SkillsNetwork/labs/Module%205/data/Example1.txt'\n",
        "\n",
        "r_txt = requests.get(url)\n",
        "\n",
        "path_txt = os.path.join(os.getcwd(), 'Example1.txt')\n",
        "with open(path_txt, 'wb') as f:\n",
        "  f.write(r_txt.content)\n",
        "\n",
        "# Open and read the file in text mode\n",
        "with open('Example1.txt', 'r') as f:\n",
        "    content = f.read()\n",
        "print(content)"
      ],
      "metadata": {
        "id": "BKUSDx0of_Nd"
      },
      "execution_count": null,
      "outputs": []
    },
    {
      "cell_type": "markdown",
      "source": [
        "### Get Request with URL Parameters\n",
        "You can use the GET method to modify the results of your query, for example retrieving data from an API. We send a GET request to the server. Like before we have the Base URL, in the Route we append /get, this indicates we would like to preform a GET request."
      ],
      "metadata": {
        "id": "iF_6HLPgj6Gw"
      }
    },
    {
      "cell_type": "code",
      "source": [
        "# The Base URL is for http://httpbin.org/ is a simple HTTP Request & Response Service\n",
        "# The URL in Python is given by\n",
        "url_get='http://httpbin.org/get'"
      ],
      "metadata": {
        "id": "1trU3MsyhItm"
      },
      "execution_count": null,
      "outputs": []
    },
    {
      "cell_type": "code",
      "source": [
        "# To create a Query string, add a dictionary\n",
        "# The keys are the parameter names and the values are the value of the Query string\n",
        "payload={\"name\":\"Joseph\",\"ID\":\"123\"}\n",
        "\n",
        "# Then passing the dictionary payload to the params parameter of the  get() function\n",
        "r=requests.get(url_get,params=payload)\n",
        "\n",
        "# We can print out the URL and see the name and values\n",
        "print(r.url)\n",
        "\n",
        "# There is no request body\n",
        "print(\"request body:\", r.request.body)"
      ],
      "metadata": {
        "id": "2zng5hnvlIU-"
      },
      "execution_count": null,
      "outputs": []
    },
    {
      "cell_type": "code",
      "source": [
        "# We can print out the status code\n",
        "print(r.status_code)\n",
        "\n",
        "# We can view the response as text\n",
        "print(r.text)\n",
        "\n",
        "# We can look at the 'Content-Type'\n",
        "r.headers['Content-Type']"
      ],
      "metadata": {
        "id": "BPz-B-3UlJI2"
      },
      "execution_count": null,
      "outputs": []
    },
    {
      "cell_type": "code",
      "source": [
        "# As the content 'Content-Type' is in the JSON format we can use the method json(), it returns a Python dict\n",
        "r.json()"
      ],
      "metadata": {
        "id": "Bpem8rhrlNE_"
      },
      "execution_count": null,
      "outputs": []
    },
    {
      "cell_type": "code",
      "source": [
        "# The key args has the name and values\n",
        "r.json()['args']"
      ],
      "metadata": {
        "id": "lkUPwa_FlSOP"
      },
      "execution_count": null,
      "outputs": []
    },
    {
      "cell_type": "markdown",
      "source": [
        "### Post requests\n",
        "Like a GET request, a POST is used to send data to a server, but the POST request sends the data in a request body. In order to send the Post Request in Python, in the URL we change the route to POST"
      ],
      "metadata": {
        "id": "S9vGmIkBlez3"
      }
    },
    {
      "cell_type": "code",
      "source": [
        "url_post='http://httpbin.org/post'\n",
        "\n",
        "# This endpoint will expect data as a file or as a form\n",
        "# A form is convenient way to configure an HTTP request to send data to a server\n",
        "# To make a POST request we use the post() function, the variable payload is passed to the parameter  data\n",
        "r_post=requests.post(url_post,data=payload)\n",
        "\n",
        "# Comparing the URL from the response object of the GET and POST request we see the POST request has no name or value pairs\n",
        "print(\"POST request URL:\",response.url )\n",
        "print(\"GET request URL:\",r.url)\n",
        "print(\"POST request URL:\", r_post.url)  # Use r_post instead of response"
      ],
      "metadata": {
        "id": "twEQVjBMlaQe"
      },
      "execution_count": null,
      "outputs": []
    },
    {
      "cell_type": "code",
      "source": [
        "# We can compare the POST and GET request body, we see only the POST request has a body\n",
        "print(\"POST request body:\",r_post.request.body)\n",
        "print(\"GET request body:\",r.request.body)"
      ],
      "metadata": {
        "id": "4F0J7h15lpU-"
      },
      "execution_count": null,
      "outputs": []
    },
    {
      "cell_type": "code",
      "source": [
        "# We can view the form as well\n",
        "r_post.json()['form']"
      ],
      "metadata": {
        "id": "XjuAo719mcAv"
      },
      "execution_count": null,
      "outputs": []
    },
    {
      "cell_type": "markdown",
      "source": [
        "## Hands-on Lab: API Examples\n",
        "###Random User and Fruityvice API Example\n",
        "\n",
        "Objectives:\n",
        "\n",
        "* Load and use RandomUser API, using RandomUser() Python library\n",
        "* Load and use Fruityvice API, using requests Python library\n",
        "* Load and use Open-Joke-API, using requests Python library"
      ],
      "metadata": {
        "id": "1UDemtYNuQDn"
      }
    },
    {
      "cell_type": "markdown",
      "source": [
        "### Example 1: RandomUser API"
      ],
      "metadata": {
        "id": "mMkUxoeK96aL"
      }
    },
    {
      "cell_type": "code",
      "source": [
        "# To start using the API you can install the randomuser library running the pip install command\n",
        "!pip install randomuser\n",
        "!pip install pandas\n",
        "from randomuser import RandomUser\n",
        "import pandas as pd\n",
        "\n",
        "# First, we will create a random user object, r\n",
        "r = RandomUser()\n",
        "\n",
        "# Then, using generate_users() function, we get a list of random 10 users\n",
        "some_list = r.generate_users(10)\n",
        "some_list"
      ],
      "metadata": {
        "colab": {
          "base_uri": "https://localhost:8080/"
        },
        "id": "gxND-DrcuSTm",
        "outputId": "632e03dd-b6fc-4df6-a73b-ae4202ccec0d"
      },
      "execution_count": 1,
      "outputs": [
        {
          "output_type": "stream",
          "name": "stdout",
          "text": [
            "Collecting randomuser\n",
            "  Downloading randomuser-1.6.tar.gz (5.0 kB)\n",
            "  Preparing metadata (setup.py) ... \u001b[?25l\u001b[?25hdone\n",
            "Building wheels for collected packages: randomuser\n",
            "  Building wheel for randomuser (setup.py) ... \u001b[?25l\u001b[?25hdone\n",
            "  Created wheel for randomuser: filename=randomuser-1.6-py3-none-any.whl size=5067 sha256=9517d2945c0df2a06bb99916971410fc98556157a8d28b65b25dd893853dbaf1\n",
            "  Stored in directory: /root/.cache/pip/wheels/be/62/c8/71e1b48f4758ea5b78af7595d87178f628cde315a3326610ee\n",
            "Successfully built randomuser\n",
            "Installing collected packages: randomuser\n",
            "Successfully installed randomuser-1.6\n",
            "Requirement already satisfied: pandas in /usr/local/lib/python3.12/dist-packages (2.2.2)\n",
            "Requirement already satisfied: numpy>=1.26.0 in /usr/local/lib/python3.12/dist-packages (from pandas) (2.0.2)\n",
            "Requirement already satisfied: python-dateutil>=2.8.2 in /usr/local/lib/python3.12/dist-packages (from pandas) (2.9.0.post0)\n",
            "Requirement already satisfied: pytz>=2020.1 in /usr/local/lib/python3.12/dist-packages (from pandas) (2025.2)\n",
            "Requirement already satisfied: tzdata>=2022.7 in /usr/local/lib/python3.12/dist-packages (from pandas) (2025.2)\n",
            "Requirement already satisfied: six>=1.5 in /usr/local/lib/python3.12/dist-packages (from python-dateutil>=2.8.2->pandas) (1.17.0)\n"
          ]
        },
        {
          "output_type": "execute_result",
          "data": {
            "text/plain": [
              "[<randomuser.RandomUser at 0x7de869b33c80>,\n",
              " <randomuser.RandomUser at 0x7de869b33cb0>,\n",
              " <randomuser.RandomUser at 0x7de869b33ce0>,\n",
              " <randomuser.RandomUser at 0x7de869b33d10>,\n",
              " <randomuser.RandomUser at 0x7de869b33d40>,\n",
              " <randomuser.RandomUser at 0x7de869b33d70>,\n",
              " <randomuser.RandomUser at 0x7de869b33da0>,\n",
              " <randomuser.RandomUser at 0x7de869b33dd0>,\n",
              " <randomuser.RandomUser at 0x7de869b33e00>,\n",
              " <randomuser.RandomUser at 0x7de869b33e30>]"
            ]
          },
          "metadata": {},
          "execution_count": 1
        }
      ]
    },
    {
      "cell_type": "code",
      "source": [
        "# The \"Get Methods\" functions mentioned at the beginning of this notebook, can generate the required parameters to construct a dataset\n",
        "# For example, to get full name, we call get_full_name() function\n",
        "name = r.get_full_name()\n",
        "\n",
        "# Let's say we only need 10 users with full names and their email addresses\n",
        "# We can write a \"for-loop\" to print these 10 users\n",
        "for user in some_list:\n",
        "    print (user.get_full_name(),\" \",user.get_email())"
      ],
      "metadata": {
        "id": "LenLrgMfmfeu",
        "colab": {
          "base_uri": "https://localhost:8080/"
        },
        "outputId": "8fa3ccce-f888-412b-fa30-b3757f154e1c"
      },
      "execution_count": 2,
      "outputs": [
        {
          "output_type": "stream",
          "name": "stdout",
          "text": [
            "Andre Roux   andre.roux@example.com\n",
            "Allison King   allison.king@example.com\n",
            "Justino Nascimento   justino.nascimento@example.com\n",
            "Gilciane de Souza   gilciane.desouza@example.com\n",
            "Sander Thomsen   sander.thomsen@example.com\n",
            "Cristina Vidal   cristina.vidal@example.com\n",
            "Clara Fernandez   clara.fernandez@example.com\n",
            "Sylvain Dupont   sylvain.dupont@example.com\n",
            "Genesis Nelson   genesis.nelson@example.com\n",
            "محیا سلطانی نژاد   mhy.sltnynjd@example.com\n"
          ]
        }
      ]
    },
    {
      "cell_type": "code",
      "source": [
        "# In this Exercise, generate photos of the random 10 users\n",
        "image = r.get_picture()\n",
        "for user in some_list:\n",
        "    print (user.get_full_name(),\" \",user.get_picture())"
      ],
      "metadata": {
        "colab": {
          "base_uri": "https://localhost:8080/"
        },
        "id": "tPteYDIhzX2x",
        "outputId": "5c1f9ef0-fe51-4452-8332-5d70bbdd63ac"
      },
      "execution_count": 5,
      "outputs": [
        {
          "output_type": "stream",
          "name": "stdout",
          "text": [
            "Andre Roux   https://randomuser.me/api/portraits/men/82.jpg\n",
            "Allison King   https://randomuser.me/api/portraits/women/22.jpg\n",
            "Justino Nascimento   https://randomuser.me/api/portraits/men/18.jpg\n",
            "Gilciane de Souza   https://randomuser.me/api/portraits/women/28.jpg\n",
            "Sander Thomsen   https://randomuser.me/api/portraits/men/10.jpg\n",
            "Cristina Vidal   https://randomuser.me/api/portraits/women/80.jpg\n",
            "Clara Fernandez   https://randomuser.me/api/portraits/women/61.jpg\n",
            "Sylvain Dupont   https://randomuser.me/api/portraits/men/90.jpg\n",
            "Genesis Nelson   https://randomuser.me/api/portraits/women/20.jpg\n",
            "محیا سلطانی نژاد   https://randomuser.me/api/portraits/women/75.jpg\n"
          ]
        }
      ]
    },
    {
      "cell_type": "code",
      "source": [
        "# To generate a table with information about the users, we can write a function containing all desirable parameters\n",
        "# For example, name, gender, city, etc. The parameters will depend on the requirements of the test to be performed\n",
        "# We call the Get Methods, listed at the beginning of this notebook\n",
        "# Then, we return pandas dataframe with the users\n",
        "def get_users():\n",
        "    users =[]\n",
        "\n",
        "    for user in RandomUser.generate_users(10):\n",
        "        users.append({\"Name\":user.get_full_name(),\"Gender\":user.get_gender(),\"City\":user.get_city(),\"State\":user.get_state(),\"Email\":user.get_email(), \"DOB\":user.get_dob(),\"Picture\":user.get_picture()})\n",
        "\n",
        "    return pd.DataFrame(users)\n",
        "\n",
        "get_users()"
      ],
      "metadata": {
        "colab": {
          "base_uri": "https://localhost:8080/",
          "height": 363
        },
        "id": "Qq7I-OgY2XdS",
        "outputId": "8d8022cf-6b44-47b3-d629-85bfa216e44f"
      },
      "execution_count": 6,
      "outputs": [
        {
          "output_type": "execute_result",
          "data": {
            "text/plain": [
              "                   Name  Gender        City            State  \\\n",
              "0     Benjamin Nordeide    male   Glomstein        Trøndelag   \n",
              "1          Chris Graves    male       Nowra  South Australia   \n",
              "2  Christoffer Sørensen    male     Gørløse       Syddanmark   \n",
              "3         Albert Møller    male        Oure         Sjælland   \n",
              "4         Jasper Martin    male  Lower Hutt           Tasman   \n",
              "5     Cristobal Aguilar    male      Madrid          Galicia   \n",
              "6       Daisy Gutierrez  female   Cambridge        Wisconsin   \n",
              "7    Vincent Williamson    male    Kilcoole            Louth   \n",
              "8        Jayden Spencer    male     Sallins            Clare   \n",
              "9        Zeida da Rocha  female    Gravataí       Pernambuco   \n",
              "\n",
              "                              Email                       DOB  \\\n",
              "0     benjamin.nordeide@example.com  1998-06-02T03:27:44.523Z   \n",
              "1          chris.graves@example.com  1996-06-20T13:16:04.663Z   \n",
              "2  christoffer.sorensen@example.com  1969-06-16T10:42:19.498Z   \n",
              "3         albert.moller@example.com  1991-04-13T07:34:02.745Z   \n",
              "4         jasper.martin@example.com  1962-05-02T05:39:53.425Z   \n",
              "5     cristobal.aguilar@example.com  1995-04-18T04:45:24.743Z   \n",
              "6       daisy.gutierrez@example.com  1971-02-12T06:57:03.806Z   \n",
              "7    vincent.williamson@example.com  1965-09-28T04:14:12.170Z   \n",
              "8        jayden.spencer@example.com  1985-09-09T18:00:39.835Z   \n",
              "9         zeida.darocha@example.com  1986-02-17T01:37:11.737Z   \n",
              "\n",
              "                                            Picture  \n",
              "0    https://randomuser.me/api/portraits/men/10.jpg  \n",
              "1    https://randomuser.me/api/portraits/men/86.jpg  \n",
              "2    https://randomuser.me/api/portraits/men/61.jpg  \n",
              "3    https://randomuser.me/api/portraits/men/55.jpg  \n",
              "4    https://randomuser.me/api/portraits/men/99.jpg  \n",
              "5    https://randomuser.me/api/portraits/men/79.jpg  \n",
              "6   https://randomuser.me/api/portraits/women/5.jpg  \n",
              "7    https://randomuser.me/api/portraits/men/56.jpg  \n",
              "8    https://randomuser.me/api/portraits/men/26.jpg  \n",
              "9  https://randomuser.me/api/portraits/women/19.jpg  "
            ],
            "text/html": [
              "\n",
              "  <div id=\"df-7189ff3f-7558-4c52-9008-806204e6121d\" class=\"colab-df-container\">\n",
              "    <div>\n",
              "<style scoped>\n",
              "    .dataframe tbody tr th:only-of-type {\n",
              "        vertical-align: middle;\n",
              "    }\n",
              "\n",
              "    .dataframe tbody tr th {\n",
              "        vertical-align: top;\n",
              "    }\n",
              "\n",
              "    .dataframe thead th {\n",
              "        text-align: right;\n",
              "    }\n",
              "</style>\n",
              "<table border=\"1\" class=\"dataframe\">\n",
              "  <thead>\n",
              "    <tr style=\"text-align: right;\">\n",
              "      <th></th>\n",
              "      <th>Name</th>\n",
              "      <th>Gender</th>\n",
              "      <th>City</th>\n",
              "      <th>State</th>\n",
              "      <th>Email</th>\n",
              "      <th>DOB</th>\n",
              "      <th>Picture</th>\n",
              "    </tr>\n",
              "  </thead>\n",
              "  <tbody>\n",
              "    <tr>\n",
              "      <th>0</th>\n",
              "      <td>Benjamin Nordeide</td>\n",
              "      <td>male</td>\n",
              "      <td>Glomstein</td>\n",
              "      <td>Trøndelag</td>\n",
              "      <td>benjamin.nordeide@example.com</td>\n",
              "      <td>1998-06-02T03:27:44.523Z</td>\n",
              "      <td>https://randomuser.me/api/portraits/men/10.jpg</td>\n",
              "    </tr>\n",
              "    <tr>\n",
              "      <th>1</th>\n",
              "      <td>Chris Graves</td>\n",
              "      <td>male</td>\n",
              "      <td>Nowra</td>\n",
              "      <td>South Australia</td>\n",
              "      <td>chris.graves@example.com</td>\n",
              "      <td>1996-06-20T13:16:04.663Z</td>\n",
              "      <td>https://randomuser.me/api/portraits/men/86.jpg</td>\n",
              "    </tr>\n",
              "    <tr>\n",
              "      <th>2</th>\n",
              "      <td>Christoffer Sørensen</td>\n",
              "      <td>male</td>\n",
              "      <td>Gørløse</td>\n",
              "      <td>Syddanmark</td>\n",
              "      <td>christoffer.sorensen@example.com</td>\n",
              "      <td>1969-06-16T10:42:19.498Z</td>\n",
              "      <td>https://randomuser.me/api/portraits/men/61.jpg</td>\n",
              "    </tr>\n",
              "    <tr>\n",
              "      <th>3</th>\n",
              "      <td>Albert Møller</td>\n",
              "      <td>male</td>\n",
              "      <td>Oure</td>\n",
              "      <td>Sjælland</td>\n",
              "      <td>albert.moller@example.com</td>\n",
              "      <td>1991-04-13T07:34:02.745Z</td>\n",
              "      <td>https://randomuser.me/api/portraits/men/55.jpg</td>\n",
              "    </tr>\n",
              "    <tr>\n",
              "      <th>4</th>\n",
              "      <td>Jasper Martin</td>\n",
              "      <td>male</td>\n",
              "      <td>Lower Hutt</td>\n",
              "      <td>Tasman</td>\n",
              "      <td>jasper.martin@example.com</td>\n",
              "      <td>1962-05-02T05:39:53.425Z</td>\n",
              "      <td>https://randomuser.me/api/portraits/men/99.jpg</td>\n",
              "    </tr>\n",
              "    <tr>\n",
              "      <th>5</th>\n",
              "      <td>Cristobal Aguilar</td>\n",
              "      <td>male</td>\n",
              "      <td>Madrid</td>\n",
              "      <td>Galicia</td>\n",
              "      <td>cristobal.aguilar@example.com</td>\n",
              "      <td>1995-04-18T04:45:24.743Z</td>\n",
              "      <td>https://randomuser.me/api/portraits/men/79.jpg</td>\n",
              "    </tr>\n",
              "    <tr>\n",
              "      <th>6</th>\n",
              "      <td>Daisy Gutierrez</td>\n",
              "      <td>female</td>\n",
              "      <td>Cambridge</td>\n",
              "      <td>Wisconsin</td>\n",
              "      <td>daisy.gutierrez@example.com</td>\n",
              "      <td>1971-02-12T06:57:03.806Z</td>\n",
              "      <td>https://randomuser.me/api/portraits/women/5.jpg</td>\n",
              "    </tr>\n",
              "    <tr>\n",
              "      <th>7</th>\n",
              "      <td>Vincent Williamson</td>\n",
              "      <td>male</td>\n",
              "      <td>Kilcoole</td>\n",
              "      <td>Louth</td>\n",
              "      <td>vincent.williamson@example.com</td>\n",
              "      <td>1965-09-28T04:14:12.170Z</td>\n",
              "      <td>https://randomuser.me/api/portraits/men/56.jpg</td>\n",
              "    </tr>\n",
              "    <tr>\n",
              "      <th>8</th>\n",
              "      <td>Jayden Spencer</td>\n",
              "      <td>male</td>\n",
              "      <td>Sallins</td>\n",
              "      <td>Clare</td>\n",
              "      <td>jayden.spencer@example.com</td>\n",
              "      <td>1985-09-09T18:00:39.835Z</td>\n",
              "      <td>https://randomuser.me/api/portraits/men/26.jpg</td>\n",
              "    </tr>\n",
              "    <tr>\n",
              "      <th>9</th>\n",
              "      <td>Zeida da Rocha</td>\n",
              "      <td>female</td>\n",
              "      <td>Gravataí</td>\n",
              "      <td>Pernambuco</td>\n",
              "      <td>zeida.darocha@example.com</td>\n",
              "      <td>1986-02-17T01:37:11.737Z</td>\n",
              "      <td>https://randomuser.me/api/portraits/women/19.jpg</td>\n",
              "    </tr>\n",
              "  </tbody>\n",
              "</table>\n",
              "</div>\n",
              "    <div class=\"colab-df-buttons\">\n",
              "\n",
              "  <div class=\"colab-df-container\">\n",
              "    <button class=\"colab-df-convert\" onclick=\"convertToInteractive('df-7189ff3f-7558-4c52-9008-806204e6121d')\"\n",
              "            title=\"Convert this dataframe to an interactive table.\"\n",
              "            style=\"display:none;\">\n",
              "\n",
              "  <svg xmlns=\"http://www.w3.org/2000/svg\" height=\"24px\" viewBox=\"0 -960 960 960\">\n",
              "    <path d=\"M120-120v-720h720v720H120Zm60-500h600v-160H180v160Zm220 220h160v-160H400v160Zm0 220h160v-160H400v160ZM180-400h160v-160H180v160Zm440 0h160v-160H620v160ZM180-180h160v-160H180v160Zm440 0h160v-160H620v160Z\"/>\n",
              "  </svg>\n",
              "    </button>\n",
              "\n",
              "  <style>\n",
              "    .colab-df-container {\n",
              "      display:flex;\n",
              "      gap: 12px;\n",
              "    }\n",
              "\n",
              "    .colab-df-convert {\n",
              "      background-color: #E8F0FE;\n",
              "      border: none;\n",
              "      border-radius: 50%;\n",
              "      cursor: pointer;\n",
              "      display: none;\n",
              "      fill: #1967D2;\n",
              "      height: 32px;\n",
              "      padding: 0 0 0 0;\n",
              "      width: 32px;\n",
              "    }\n",
              "\n",
              "    .colab-df-convert:hover {\n",
              "      background-color: #E2EBFA;\n",
              "      box-shadow: 0px 1px 2px rgba(60, 64, 67, 0.3), 0px 1px 3px 1px rgba(60, 64, 67, 0.15);\n",
              "      fill: #174EA6;\n",
              "    }\n",
              "\n",
              "    .colab-df-buttons div {\n",
              "      margin-bottom: 4px;\n",
              "    }\n",
              "\n",
              "    [theme=dark] .colab-df-convert {\n",
              "      background-color: #3B4455;\n",
              "      fill: #D2E3FC;\n",
              "    }\n",
              "\n",
              "    [theme=dark] .colab-df-convert:hover {\n",
              "      background-color: #434B5C;\n",
              "      box-shadow: 0px 1px 3px 1px rgba(0, 0, 0, 0.15);\n",
              "      filter: drop-shadow(0px 1px 2px rgba(0, 0, 0, 0.3));\n",
              "      fill: #FFFFFF;\n",
              "    }\n",
              "  </style>\n",
              "\n",
              "    <script>\n",
              "      const buttonEl =\n",
              "        document.querySelector('#df-7189ff3f-7558-4c52-9008-806204e6121d button.colab-df-convert');\n",
              "      buttonEl.style.display =\n",
              "        google.colab.kernel.accessAllowed ? 'block' : 'none';\n",
              "\n",
              "      async function convertToInteractive(key) {\n",
              "        const element = document.querySelector('#df-7189ff3f-7558-4c52-9008-806204e6121d');\n",
              "        const dataTable =\n",
              "          await google.colab.kernel.invokeFunction('convertToInteractive',\n",
              "                                                    [key], {});\n",
              "        if (!dataTable) return;\n",
              "\n",
              "        const docLinkHtml = 'Like what you see? Visit the ' +\n",
              "          '<a target=\"_blank\" href=https://colab.research.google.com/notebooks/data_table.ipynb>data table notebook</a>'\n",
              "          + ' to learn more about interactive tables.';\n",
              "        element.innerHTML = '';\n",
              "        dataTable['output_type'] = 'display_data';\n",
              "        await google.colab.output.renderOutput(dataTable, element);\n",
              "        const docLink = document.createElement('div');\n",
              "        docLink.innerHTML = docLinkHtml;\n",
              "        element.appendChild(docLink);\n",
              "      }\n",
              "    </script>\n",
              "  </div>\n",
              "\n",
              "\n",
              "    <div id=\"df-48dfdbc9-24df-4ad3-a3e8-cf7bd6f8eb29\">\n",
              "      <button class=\"colab-df-quickchart\" onclick=\"quickchart('df-48dfdbc9-24df-4ad3-a3e8-cf7bd6f8eb29')\"\n",
              "                title=\"Suggest charts\"\n",
              "                style=\"display:none;\">\n",
              "\n",
              "<svg xmlns=\"http://www.w3.org/2000/svg\" height=\"24px\"viewBox=\"0 0 24 24\"\n",
              "     width=\"24px\">\n",
              "    <g>\n",
              "        <path d=\"M19 3H5c-1.1 0-2 .9-2 2v14c0 1.1.9 2 2 2h14c1.1 0 2-.9 2-2V5c0-1.1-.9-2-2-2zM9 17H7v-7h2v7zm4 0h-2V7h2v10zm4 0h-2v-4h2v4z\"/>\n",
              "    </g>\n",
              "</svg>\n",
              "      </button>\n",
              "\n",
              "<style>\n",
              "  .colab-df-quickchart {\n",
              "      --bg-color: #E8F0FE;\n",
              "      --fill-color: #1967D2;\n",
              "      --hover-bg-color: #E2EBFA;\n",
              "      --hover-fill-color: #174EA6;\n",
              "      --disabled-fill-color: #AAA;\n",
              "      --disabled-bg-color: #DDD;\n",
              "  }\n",
              "\n",
              "  [theme=dark] .colab-df-quickchart {\n",
              "      --bg-color: #3B4455;\n",
              "      --fill-color: #D2E3FC;\n",
              "      --hover-bg-color: #434B5C;\n",
              "      --hover-fill-color: #FFFFFF;\n",
              "      --disabled-bg-color: #3B4455;\n",
              "      --disabled-fill-color: #666;\n",
              "  }\n",
              "\n",
              "  .colab-df-quickchart {\n",
              "    background-color: var(--bg-color);\n",
              "    border: none;\n",
              "    border-radius: 50%;\n",
              "    cursor: pointer;\n",
              "    display: none;\n",
              "    fill: var(--fill-color);\n",
              "    height: 32px;\n",
              "    padding: 0;\n",
              "    width: 32px;\n",
              "  }\n",
              "\n",
              "  .colab-df-quickchart:hover {\n",
              "    background-color: var(--hover-bg-color);\n",
              "    box-shadow: 0 1px 2px rgba(60, 64, 67, 0.3), 0 1px 3px 1px rgba(60, 64, 67, 0.15);\n",
              "    fill: var(--button-hover-fill-color);\n",
              "  }\n",
              "\n",
              "  .colab-df-quickchart-complete:disabled,\n",
              "  .colab-df-quickchart-complete:disabled:hover {\n",
              "    background-color: var(--disabled-bg-color);\n",
              "    fill: var(--disabled-fill-color);\n",
              "    box-shadow: none;\n",
              "  }\n",
              "\n",
              "  .colab-df-spinner {\n",
              "    border: 2px solid var(--fill-color);\n",
              "    border-color: transparent;\n",
              "    border-bottom-color: var(--fill-color);\n",
              "    animation:\n",
              "      spin 1s steps(1) infinite;\n",
              "  }\n",
              "\n",
              "  @keyframes spin {\n",
              "    0% {\n",
              "      border-color: transparent;\n",
              "      border-bottom-color: var(--fill-color);\n",
              "      border-left-color: var(--fill-color);\n",
              "    }\n",
              "    20% {\n",
              "      border-color: transparent;\n",
              "      border-left-color: var(--fill-color);\n",
              "      border-top-color: var(--fill-color);\n",
              "    }\n",
              "    30% {\n",
              "      border-color: transparent;\n",
              "      border-left-color: var(--fill-color);\n",
              "      border-top-color: var(--fill-color);\n",
              "      border-right-color: var(--fill-color);\n",
              "    }\n",
              "    40% {\n",
              "      border-color: transparent;\n",
              "      border-right-color: var(--fill-color);\n",
              "      border-top-color: var(--fill-color);\n",
              "    }\n",
              "    60% {\n",
              "      border-color: transparent;\n",
              "      border-right-color: var(--fill-color);\n",
              "    }\n",
              "    80% {\n",
              "      border-color: transparent;\n",
              "      border-right-color: var(--fill-color);\n",
              "      border-bottom-color: var(--fill-color);\n",
              "    }\n",
              "    90% {\n",
              "      border-color: transparent;\n",
              "      border-bottom-color: var(--fill-color);\n",
              "    }\n",
              "  }\n",
              "</style>\n",
              "\n",
              "      <script>\n",
              "        async function quickchart(key) {\n",
              "          const quickchartButtonEl =\n",
              "            document.querySelector('#' + key + ' button');\n",
              "          quickchartButtonEl.disabled = true;  // To prevent multiple clicks.\n",
              "          quickchartButtonEl.classList.add('colab-df-spinner');\n",
              "          try {\n",
              "            const charts = await google.colab.kernel.invokeFunction(\n",
              "                'suggestCharts', [key], {});\n",
              "          } catch (error) {\n",
              "            console.error('Error during call to suggestCharts:', error);\n",
              "          }\n",
              "          quickchartButtonEl.classList.remove('colab-df-spinner');\n",
              "          quickchartButtonEl.classList.add('colab-df-quickchart-complete');\n",
              "        }\n",
              "        (() => {\n",
              "          let quickchartButtonEl =\n",
              "            document.querySelector('#df-48dfdbc9-24df-4ad3-a3e8-cf7bd6f8eb29 button');\n",
              "          quickchartButtonEl.style.display =\n",
              "            google.colab.kernel.accessAllowed ? 'block' : 'none';\n",
              "        })();\n",
              "      </script>\n",
              "    </div>\n",
              "\n",
              "    </div>\n",
              "  </div>\n"
            ],
            "application/vnd.google.colaboratory.intrinsic+json": {
              "type": "dataframe",
              "summary": "{\n  \"name\": \"get_users()\",\n  \"rows\": 10,\n  \"fields\": [\n    {\n      \"column\": \"Name\",\n      \"properties\": {\n        \"dtype\": \"string\",\n        \"num_unique_values\": 10,\n        \"samples\": [\n          \"Jayden Spencer\",\n          \"Chris Graves\",\n          \"Cristobal Aguilar\"\n        ],\n        \"semantic_type\": \"\",\n        \"description\": \"\"\n      }\n    },\n    {\n      \"column\": \"Gender\",\n      \"properties\": {\n        \"dtype\": \"category\",\n        \"num_unique_values\": 2,\n        \"samples\": [\n          \"female\",\n          \"male\"\n        ],\n        \"semantic_type\": \"\",\n        \"description\": \"\"\n      }\n    },\n    {\n      \"column\": \"City\",\n      \"properties\": {\n        \"dtype\": \"string\",\n        \"num_unique_values\": 10,\n        \"samples\": [\n          \"Sallins\",\n          \"Nowra\"\n        ],\n        \"semantic_type\": \"\",\n        \"description\": \"\"\n      }\n    },\n    {\n      \"column\": \"State\",\n      \"properties\": {\n        \"dtype\": \"string\",\n        \"num_unique_values\": 10,\n        \"samples\": [\n          \"Clare\",\n          \"South Australia\"\n        ],\n        \"semantic_type\": \"\",\n        \"description\": \"\"\n      }\n    },\n    {\n      \"column\": \"Email\",\n      \"properties\": {\n        \"dtype\": \"string\",\n        \"num_unique_values\": 10,\n        \"samples\": [\n          \"jayden.spencer@example.com\",\n          \"chris.graves@example.com\"\n        ],\n        \"semantic_type\": \"\",\n        \"description\": \"\"\n      }\n    },\n    {\n      \"column\": \"DOB\",\n      \"properties\": {\n        \"dtype\": \"object\",\n        \"num_unique_values\": 10,\n        \"samples\": [\n          \"1985-09-09T18:00:39.835Z\",\n          \"1996-06-20T13:16:04.663Z\"\n        ],\n        \"semantic_type\": \"\",\n        \"description\": \"\"\n      }\n    },\n    {\n      \"column\": \"Picture\",\n      \"properties\": {\n        \"dtype\": \"string\",\n        \"num_unique_values\": 10,\n        \"samples\": [\n          \"https://randomuser.me/api/portraits/men/26.jpg\",\n          \"https://randomuser.me/api/portraits/men/86.jpg\"\n        ],\n        \"semantic_type\": \"\",\n        \"description\": \"\"\n      }\n    }\n  ]\n}"
            }
          },
          "metadata": {},
          "execution_count": 6
        }
      ]
    },
    {
      "cell_type": "code",
      "source": [
        "df1 = pd.DataFrame(get_users())\n",
        "df1"
      ],
      "metadata": {
        "colab": {
          "base_uri": "https://localhost:8080/",
          "height": 537
        },
        "id": "-2kYGOql3HzJ",
        "outputId": "6523412b-0418-41ee-8415-217cd55c7918"
      },
      "execution_count": 8,
      "outputs": [
        {
          "output_type": "execute_result",
          "data": {
            "text/plain": [
              "               Name  Gender                  City                  State  \\\n",
              "0   Alfred Sørensen    male              Ugerløse            Midtjylland   \n",
              "1  Stephanie Walker  female           Carrigaline                 Galway   \n",
              "2      Susan Porter  female                Oxford               Grampian   \n",
              "3  Zenzi Van Bijnen  female        Spijkerboor Dr              Groningen   \n",
              "4  Marlene Anderson  female             Toowoomba               Victoria   \n",
              "5     Basil Gautier    male            Pfeffingen  Appenzell Innerrhoden   \n",
              "6          Onur Sep    male            Lekkerkerk                Utrecht   \n",
              "7        Alva Sekse  female              Skotselv              Hordaland   \n",
              "8      Severin Laub    male  Clausthal-Zellerfeld               Saarland   \n",
              "9  Bernard Prescott    male           West Jordan                   Ohio   \n",
              "\n",
              "                          Email                       DOB  \\\n",
              "0   alfred.sorensen@example.com  1970-05-29T07:32:00.290Z   \n",
              "1  stephanie.walker@example.com  1989-09-07T03:13:52.017Z   \n",
              "2      susan.porter@example.com  1969-08-03T08:35:06.124Z   \n",
              "3   zenzi.vanbijnen@example.com  1979-10-14T21:25:28.965Z   \n",
              "4  marlene.anderson@example.com  1948-12-18T04:20:26.283Z   \n",
              "5     basil.gautier@example.com  1978-10-18T05:18:20.754Z   \n",
              "6          onur.sep@example.com  1977-09-20T01:45:49.111Z   \n",
              "7        alva.sekse@example.com  1973-08-30T20:20:11.567Z   \n",
              "8      severin.laub@example.com  1978-03-18T12:24:06.898Z   \n",
              "9  bernard.prescott@example.com  1947-05-24T05:00:57.233Z   \n",
              "\n",
              "                                            Picture  \n",
              "0    https://randomuser.me/api/portraits/men/17.jpg  \n",
              "1  https://randomuser.me/api/portraits/women/58.jpg  \n",
              "2  https://randomuser.me/api/portraits/women/25.jpg  \n",
              "3  https://randomuser.me/api/portraits/women/55.jpg  \n",
              "4  https://randomuser.me/api/portraits/women/96.jpg  \n",
              "5    https://randomuser.me/api/portraits/men/32.jpg  \n",
              "6    https://randomuser.me/api/portraits/men/94.jpg  \n",
              "7  https://randomuser.me/api/portraits/women/13.jpg  \n",
              "8    https://randomuser.me/api/portraits/men/99.jpg  \n",
              "9    https://randomuser.me/api/portraits/men/47.jpg  "
            ],
            "text/html": [
              "\n",
              "  <div id=\"df-ceea9b25-3881-4c53-b01b-9da00df712d2\" class=\"colab-df-container\">\n",
              "    <div>\n",
              "<style scoped>\n",
              "    .dataframe tbody tr th:only-of-type {\n",
              "        vertical-align: middle;\n",
              "    }\n",
              "\n",
              "    .dataframe tbody tr th {\n",
              "        vertical-align: top;\n",
              "    }\n",
              "\n",
              "    .dataframe thead th {\n",
              "        text-align: right;\n",
              "    }\n",
              "</style>\n",
              "<table border=\"1\" class=\"dataframe\">\n",
              "  <thead>\n",
              "    <tr style=\"text-align: right;\">\n",
              "      <th></th>\n",
              "      <th>Name</th>\n",
              "      <th>Gender</th>\n",
              "      <th>City</th>\n",
              "      <th>State</th>\n",
              "      <th>Email</th>\n",
              "      <th>DOB</th>\n",
              "      <th>Picture</th>\n",
              "    </tr>\n",
              "  </thead>\n",
              "  <tbody>\n",
              "    <tr>\n",
              "      <th>0</th>\n",
              "      <td>Alfred Sørensen</td>\n",
              "      <td>male</td>\n",
              "      <td>Ugerløse</td>\n",
              "      <td>Midtjylland</td>\n",
              "      <td>alfred.sorensen@example.com</td>\n",
              "      <td>1970-05-29T07:32:00.290Z</td>\n",
              "      <td>https://randomuser.me/api/portraits/men/17.jpg</td>\n",
              "    </tr>\n",
              "    <tr>\n",
              "      <th>1</th>\n",
              "      <td>Stephanie Walker</td>\n",
              "      <td>female</td>\n",
              "      <td>Carrigaline</td>\n",
              "      <td>Galway</td>\n",
              "      <td>stephanie.walker@example.com</td>\n",
              "      <td>1989-09-07T03:13:52.017Z</td>\n",
              "      <td>https://randomuser.me/api/portraits/women/58.jpg</td>\n",
              "    </tr>\n",
              "    <tr>\n",
              "      <th>2</th>\n",
              "      <td>Susan Porter</td>\n",
              "      <td>female</td>\n",
              "      <td>Oxford</td>\n",
              "      <td>Grampian</td>\n",
              "      <td>susan.porter@example.com</td>\n",
              "      <td>1969-08-03T08:35:06.124Z</td>\n",
              "      <td>https://randomuser.me/api/portraits/women/25.jpg</td>\n",
              "    </tr>\n",
              "    <tr>\n",
              "      <th>3</th>\n",
              "      <td>Zenzi Van Bijnen</td>\n",
              "      <td>female</td>\n",
              "      <td>Spijkerboor Dr</td>\n",
              "      <td>Groningen</td>\n",
              "      <td>zenzi.vanbijnen@example.com</td>\n",
              "      <td>1979-10-14T21:25:28.965Z</td>\n",
              "      <td>https://randomuser.me/api/portraits/women/55.jpg</td>\n",
              "    </tr>\n",
              "    <tr>\n",
              "      <th>4</th>\n",
              "      <td>Marlene Anderson</td>\n",
              "      <td>female</td>\n",
              "      <td>Toowoomba</td>\n",
              "      <td>Victoria</td>\n",
              "      <td>marlene.anderson@example.com</td>\n",
              "      <td>1948-12-18T04:20:26.283Z</td>\n",
              "      <td>https://randomuser.me/api/portraits/women/96.jpg</td>\n",
              "    </tr>\n",
              "    <tr>\n",
              "      <th>5</th>\n",
              "      <td>Basil Gautier</td>\n",
              "      <td>male</td>\n",
              "      <td>Pfeffingen</td>\n",
              "      <td>Appenzell Innerrhoden</td>\n",
              "      <td>basil.gautier@example.com</td>\n",
              "      <td>1978-10-18T05:18:20.754Z</td>\n",
              "      <td>https://randomuser.me/api/portraits/men/32.jpg</td>\n",
              "    </tr>\n",
              "    <tr>\n",
              "      <th>6</th>\n",
              "      <td>Onur Sep</td>\n",
              "      <td>male</td>\n",
              "      <td>Lekkerkerk</td>\n",
              "      <td>Utrecht</td>\n",
              "      <td>onur.sep@example.com</td>\n",
              "      <td>1977-09-20T01:45:49.111Z</td>\n",
              "      <td>https://randomuser.me/api/portraits/men/94.jpg</td>\n",
              "    </tr>\n",
              "    <tr>\n",
              "      <th>7</th>\n",
              "      <td>Alva Sekse</td>\n",
              "      <td>female</td>\n",
              "      <td>Skotselv</td>\n",
              "      <td>Hordaland</td>\n",
              "      <td>alva.sekse@example.com</td>\n",
              "      <td>1973-08-30T20:20:11.567Z</td>\n",
              "      <td>https://randomuser.me/api/portraits/women/13.jpg</td>\n",
              "    </tr>\n",
              "    <tr>\n",
              "      <th>8</th>\n",
              "      <td>Severin Laub</td>\n",
              "      <td>male</td>\n",
              "      <td>Clausthal-Zellerfeld</td>\n",
              "      <td>Saarland</td>\n",
              "      <td>severin.laub@example.com</td>\n",
              "      <td>1978-03-18T12:24:06.898Z</td>\n",
              "      <td>https://randomuser.me/api/portraits/men/99.jpg</td>\n",
              "    </tr>\n",
              "    <tr>\n",
              "      <th>9</th>\n",
              "      <td>Bernard Prescott</td>\n",
              "      <td>male</td>\n",
              "      <td>West Jordan</td>\n",
              "      <td>Ohio</td>\n",
              "      <td>bernard.prescott@example.com</td>\n",
              "      <td>1947-05-24T05:00:57.233Z</td>\n",
              "      <td>https://randomuser.me/api/portraits/men/47.jpg</td>\n",
              "    </tr>\n",
              "  </tbody>\n",
              "</table>\n",
              "</div>\n",
              "    <div class=\"colab-df-buttons\">\n",
              "\n",
              "  <div class=\"colab-df-container\">\n",
              "    <button class=\"colab-df-convert\" onclick=\"convertToInteractive('df-ceea9b25-3881-4c53-b01b-9da00df712d2')\"\n",
              "            title=\"Convert this dataframe to an interactive table.\"\n",
              "            style=\"display:none;\">\n",
              "\n",
              "  <svg xmlns=\"http://www.w3.org/2000/svg\" height=\"24px\" viewBox=\"0 -960 960 960\">\n",
              "    <path d=\"M120-120v-720h720v720H120Zm60-500h600v-160H180v160Zm220 220h160v-160H400v160Zm0 220h160v-160H400v160ZM180-400h160v-160H180v160Zm440 0h160v-160H620v160ZM180-180h160v-160H180v160Zm440 0h160v-160H620v160Z\"/>\n",
              "  </svg>\n",
              "    </button>\n",
              "\n",
              "  <style>\n",
              "    .colab-df-container {\n",
              "      display:flex;\n",
              "      gap: 12px;\n",
              "    }\n",
              "\n",
              "    .colab-df-convert {\n",
              "      background-color: #E8F0FE;\n",
              "      border: none;\n",
              "      border-radius: 50%;\n",
              "      cursor: pointer;\n",
              "      display: none;\n",
              "      fill: #1967D2;\n",
              "      height: 32px;\n",
              "      padding: 0 0 0 0;\n",
              "      width: 32px;\n",
              "    }\n",
              "\n",
              "    .colab-df-convert:hover {\n",
              "      background-color: #E2EBFA;\n",
              "      box-shadow: 0px 1px 2px rgba(60, 64, 67, 0.3), 0px 1px 3px 1px rgba(60, 64, 67, 0.15);\n",
              "      fill: #174EA6;\n",
              "    }\n",
              "\n",
              "    .colab-df-buttons div {\n",
              "      margin-bottom: 4px;\n",
              "    }\n",
              "\n",
              "    [theme=dark] .colab-df-convert {\n",
              "      background-color: #3B4455;\n",
              "      fill: #D2E3FC;\n",
              "    }\n",
              "\n",
              "    [theme=dark] .colab-df-convert:hover {\n",
              "      background-color: #434B5C;\n",
              "      box-shadow: 0px 1px 3px 1px rgba(0, 0, 0, 0.15);\n",
              "      filter: drop-shadow(0px 1px 2px rgba(0, 0, 0, 0.3));\n",
              "      fill: #FFFFFF;\n",
              "    }\n",
              "  </style>\n",
              "\n",
              "    <script>\n",
              "      const buttonEl =\n",
              "        document.querySelector('#df-ceea9b25-3881-4c53-b01b-9da00df712d2 button.colab-df-convert');\n",
              "      buttonEl.style.display =\n",
              "        google.colab.kernel.accessAllowed ? 'block' : 'none';\n",
              "\n",
              "      async function convertToInteractive(key) {\n",
              "        const element = document.querySelector('#df-ceea9b25-3881-4c53-b01b-9da00df712d2');\n",
              "        const dataTable =\n",
              "          await google.colab.kernel.invokeFunction('convertToInteractive',\n",
              "                                                    [key], {});\n",
              "        if (!dataTable) return;\n",
              "\n",
              "        const docLinkHtml = 'Like what you see? Visit the ' +\n",
              "          '<a target=\"_blank\" href=https://colab.research.google.com/notebooks/data_table.ipynb>data table notebook</a>'\n",
              "          + ' to learn more about interactive tables.';\n",
              "        element.innerHTML = '';\n",
              "        dataTable['output_type'] = 'display_data';\n",
              "        await google.colab.output.renderOutput(dataTable, element);\n",
              "        const docLink = document.createElement('div');\n",
              "        docLink.innerHTML = docLinkHtml;\n",
              "        element.appendChild(docLink);\n",
              "      }\n",
              "    </script>\n",
              "  </div>\n",
              "\n",
              "\n",
              "    <div id=\"df-76288a15-13c9-459a-a91e-0af3108cd9fc\">\n",
              "      <button class=\"colab-df-quickchart\" onclick=\"quickchart('df-76288a15-13c9-459a-a91e-0af3108cd9fc')\"\n",
              "                title=\"Suggest charts\"\n",
              "                style=\"display:none;\">\n",
              "\n",
              "<svg xmlns=\"http://www.w3.org/2000/svg\" height=\"24px\"viewBox=\"0 0 24 24\"\n",
              "     width=\"24px\">\n",
              "    <g>\n",
              "        <path d=\"M19 3H5c-1.1 0-2 .9-2 2v14c0 1.1.9 2 2 2h14c1.1 0 2-.9 2-2V5c0-1.1-.9-2-2-2zM9 17H7v-7h2v7zm4 0h-2V7h2v10zm4 0h-2v-4h2v4z\"/>\n",
              "    </g>\n",
              "</svg>\n",
              "      </button>\n",
              "\n",
              "<style>\n",
              "  .colab-df-quickchart {\n",
              "      --bg-color: #E8F0FE;\n",
              "      --fill-color: #1967D2;\n",
              "      --hover-bg-color: #E2EBFA;\n",
              "      --hover-fill-color: #174EA6;\n",
              "      --disabled-fill-color: #AAA;\n",
              "      --disabled-bg-color: #DDD;\n",
              "  }\n",
              "\n",
              "  [theme=dark] .colab-df-quickchart {\n",
              "      --bg-color: #3B4455;\n",
              "      --fill-color: #D2E3FC;\n",
              "      --hover-bg-color: #434B5C;\n",
              "      --hover-fill-color: #FFFFFF;\n",
              "      --disabled-bg-color: #3B4455;\n",
              "      --disabled-fill-color: #666;\n",
              "  }\n",
              "\n",
              "  .colab-df-quickchart {\n",
              "    background-color: var(--bg-color);\n",
              "    border: none;\n",
              "    border-radius: 50%;\n",
              "    cursor: pointer;\n",
              "    display: none;\n",
              "    fill: var(--fill-color);\n",
              "    height: 32px;\n",
              "    padding: 0;\n",
              "    width: 32px;\n",
              "  }\n",
              "\n",
              "  .colab-df-quickchart:hover {\n",
              "    background-color: var(--hover-bg-color);\n",
              "    box-shadow: 0 1px 2px rgba(60, 64, 67, 0.3), 0 1px 3px 1px rgba(60, 64, 67, 0.15);\n",
              "    fill: var(--button-hover-fill-color);\n",
              "  }\n",
              "\n",
              "  .colab-df-quickchart-complete:disabled,\n",
              "  .colab-df-quickchart-complete:disabled:hover {\n",
              "    background-color: var(--disabled-bg-color);\n",
              "    fill: var(--disabled-fill-color);\n",
              "    box-shadow: none;\n",
              "  }\n",
              "\n",
              "  .colab-df-spinner {\n",
              "    border: 2px solid var(--fill-color);\n",
              "    border-color: transparent;\n",
              "    border-bottom-color: var(--fill-color);\n",
              "    animation:\n",
              "      spin 1s steps(1) infinite;\n",
              "  }\n",
              "\n",
              "  @keyframes spin {\n",
              "    0% {\n",
              "      border-color: transparent;\n",
              "      border-bottom-color: var(--fill-color);\n",
              "      border-left-color: var(--fill-color);\n",
              "    }\n",
              "    20% {\n",
              "      border-color: transparent;\n",
              "      border-left-color: var(--fill-color);\n",
              "      border-top-color: var(--fill-color);\n",
              "    }\n",
              "    30% {\n",
              "      border-color: transparent;\n",
              "      border-left-color: var(--fill-color);\n",
              "      border-top-color: var(--fill-color);\n",
              "      border-right-color: var(--fill-color);\n",
              "    }\n",
              "    40% {\n",
              "      border-color: transparent;\n",
              "      border-right-color: var(--fill-color);\n",
              "      border-top-color: var(--fill-color);\n",
              "    }\n",
              "    60% {\n",
              "      border-color: transparent;\n",
              "      border-right-color: var(--fill-color);\n",
              "    }\n",
              "    80% {\n",
              "      border-color: transparent;\n",
              "      border-right-color: var(--fill-color);\n",
              "      border-bottom-color: var(--fill-color);\n",
              "    }\n",
              "    90% {\n",
              "      border-color: transparent;\n",
              "      border-bottom-color: var(--fill-color);\n",
              "    }\n",
              "  }\n",
              "</style>\n",
              "\n",
              "      <script>\n",
              "        async function quickchart(key) {\n",
              "          const quickchartButtonEl =\n",
              "            document.querySelector('#' + key + ' button');\n",
              "          quickchartButtonEl.disabled = true;  // To prevent multiple clicks.\n",
              "          quickchartButtonEl.classList.add('colab-df-spinner');\n",
              "          try {\n",
              "            const charts = await google.colab.kernel.invokeFunction(\n",
              "                'suggestCharts', [key], {});\n",
              "          } catch (error) {\n",
              "            console.error('Error during call to suggestCharts:', error);\n",
              "          }\n",
              "          quickchartButtonEl.classList.remove('colab-df-spinner');\n",
              "          quickchartButtonEl.classList.add('colab-df-quickchart-complete');\n",
              "        }\n",
              "        (() => {\n",
              "          let quickchartButtonEl =\n",
              "            document.querySelector('#df-76288a15-13c9-459a-a91e-0af3108cd9fc button');\n",
              "          quickchartButtonEl.style.display =\n",
              "            google.colab.kernel.accessAllowed ? 'block' : 'none';\n",
              "        })();\n",
              "      </script>\n",
              "    </div>\n",
              "\n",
              "  <div id=\"id_f1707c9c-cde2-491e-a607-672aa2a2269c\">\n",
              "    <style>\n",
              "      .colab-df-generate {\n",
              "        background-color: #E8F0FE;\n",
              "        border: none;\n",
              "        border-radius: 50%;\n",
              "        cursor: pointer;\n",
              "        display: none;\n",
              "        fill: #1967D2;\n",
              "        height: 32px;\n",
              "        padding: 0 0 0 0;\n",
              "        width: 32px;\n",
              "      }\n",
              "\n",
              "      .colab-df-generate:hover {\n",
              "        background-color: #E2EBFA;\n",
              "        box-shadow: 0px 1px 2px rgba(60, 64, 67, 0.3), 0px 1px 3px 1px rgba(60, 64, 67, 0.15);\n",
              "        fill: #174EA6;\n",
              "      }\n",
              "\n",
              "      [theme=dark] .colab-df-generate {\n",
              "        background-color: #3B4455;\n",
              "        fill: #D2E3FC;\n",
              "      }\n",
              "\n",
              "      [theme=dark] .colab-df-generate:hover {\n",
              "        background-color: #434B5C;\n",
              "        box-shadow: 0px 1px 3px 1px rgba(0, 0, 0, 0.15);\n",
              "        filter: drop-shadow(0px 1px 2px rgba(0, 0, 0, 0.3));\n",
              "        fill: #FFFFFF;\n",
              "      }\n",
              "    </style>\n",
              "    <button class=\"colab-df-generate\" onclick=\"generateWithVariable('df1')\"\n",
              "            title=\"Generate code using this dataframe.\"\n",
              "            style=\"display:none;\">\n",
              "\n",
              "  <svg xmlns=\"http://www.w3.org/2000/svg\" height=\"24px\"viewBox=\"0 0 24 24\"\n",
              "       width=\"24px\">\n",
              "    <path d=\"M7,19H8.4L18.45,9,17,7.55,7,17.6ZM5,21V16.75L18.45,3.32a2,2,0,0,1,2.83,0l1.4,1.43a1.91,1.91,0,0,1,.58,1.4,1.91,1.91,0,0,1-.58,1.4L9.25,21ZM18.45,9,17,7.55Zm-12,3A5.31,5.31,0,0,0,4.9,8.1,5.31,5.31,0,0,0,1,6.5,5.31,5.31,0,0,0,4.9,4.9,5.31,5.31,0,0,0,6.5,1,5.31,5.31,0,0,0,8.1,4.9,5.31,5.31,0,0,0,12,6.5,5.46,5.46,0,0,0,6.5,12Z\"/>\n",
              "  </svg>\n",
              "    </button>\n",
              "    <script>\n",
              "      (() => {\n",
              "      const buttonEl =\n",
              "        document.querySelector('#id_f1707c9c-cde2-491e-a607-672aa2a2269c button.colab-df-generate');\n",
              "      buttonEl.style.display =\n",
              "        google.colab.kernel.accessAllowed ? 'block' : 'none';\n",
              "\n",
              "      buttonEl.onclick = () => {\n",
              "        google.colab.notebook.generateWithVariable('df1');\n",
              "      }\n",
              "      })();\n",
              "    </script>\n",
              "  </div>\n",
              "\n",
              "    </div>\n",
              "  </div>\n"
            ],
            "application/vnd.google.colaboratory.intrinsic+json": {
              "type": "dataframe",
              "variable_name": "df1",
              "summary": "{\n  \"name\": \"df1\",\n  \"rows\": 10,\n  \"fields\": [\n    {\n      \"column\": \"Name\",\n      \"properties\": {\n        \"dtype\": \"string\",\n        \"num_unique_values\": 10,\n        \"samples\": [\n          \"Severin Laub\",\n          \"Stephanie Walker\",\n          \"Basil Gautier\"\n        ],\n        \"semantic_type\": \"\",\n        \"description\": \"\"\n      }\n    },\n    {\n      \"column\": \"Gender\",\n      \"properties\": {\n        \"dtype\": \"category\",\n        \"num_unique_values\": 2,\n        \"samples\": [\n          \"female\",\n          \"male\"\n        ],\n        \"semantic_type\": \"\",\n        \"description\": \"\"\n      }\n    },\n    {\n      \"column\": \"City\",\n      \"properties\": {\n        \"dtype\": \"string\",\n        \"num_unique_values\": 10,\n        \"samples\": [\n          \"Clausthal-Zellerfeld\",\n          \"Carrigaline\"\n        ],\n        \"semantic_type\": \"\",\n        \"description\": \"\"\n      }\n    },\n    {\n      \"column\": \"State\",\n      \"properties\": {\n        \"dtype\": \"string\",\n        \"num_unique_values\": 10,\n        \"samples\": [\n          \"Saarland\",\n          \"Galway\"\n        ],\n        \"semantic_type\": \"\",\n        \"description\": \"\"\n      }\n    },\n    {\n      \"column\": \"Email\",\n      \"properties\": {\n        \"dtype\": \"string\",\n        \"num_unique_values\": 10,\n        \"samples\": [\n          \"severin.laub@example.com\",\n          \"stephanie.walker@example.com\"\n        ],\n        \"semantic_type\": \"\",\n        \"description\": \"\"\n      }\n    },\n    {\n      \"column\": \"DOB\",\n      \"properties\": {\n        \"dtype\": \"object\",\n        \"num_unique_values\": 10,\n        \"samples\": [\n          \"1978-03-18T12:24:06.898Z\",\n          \"1989-09-07T03:13:52.017Z\"\n        ],\n        \"semantic_type\": \"\",\n        \"description\": \"\"\n      }\n    },\n    {\n      \"column\": \"Picture\",\n      \"properties\": {\n        \"dtype\": \"string\",\n        \"num_unique_values\": 10,\n        \"samples\": [\n          \"https://randomuser.me/api/portraits/men/99.jpg\",\n          \"https://randomuser.me/api/portraits/women/58.jpg\"\n        ],\n        \"semantic_type\": \"\",\n        \"description\": \"\"\n      }\n    }\n  ]\n}"
            }
          },
          "metadata": {},
          "execution_count": 8
        }
      ]
    },
    {
      "cell_type": "code",
      "source": [
        "def get_users2():\n",
        "    users =[]\n",
        "\n",
        "    for user in some_list:\n",
        "        users.append({\"Name\":user.get_full_name(),\"Gender\":user.get_gender(),\"City\":user.get_city(),\"State\":user.get_state(),\"Email\":user.get_email(), \"DOB\":user.get_dob(),\"Picture\":user.get_picture()})\n",
        "\n",
        "    return pd.DataFrame(users)\n",
        "\n",
        "get_users2()"
      ],
      "metadata": {
        "colab": {
          "base_uri": "https://localhost:8080/",
          "height": 537
        },
        "id": "TN8TdsuC3LW4",
        "outputId": "e72740d3-3497-4057-97df-6c2a4131f989"
      },
      "execution_count": 9,
      "outputs": [
        {
          "output_type": "execute_result",
          "data": {
            "text/plain": [
              "                 Name  Gender               City  \\\n",
              "0          Andre Roux    male             Bedano   \n",
              "1        Allison King  female          Devonport   \n",
              "2  Justino Nascimento    male             Jequié   \n",
              "3   Gilciane de Souza  female   Francisco Morato   \n",
              "4      Sander Thomsen    male           Roedovre   \n",
              "5      Cristina Vidal  female           Arrecife   \n",
              "6     Clara Fernandez  female  Torrejón de Ardoz   \n",
              "7      Sylvain Dupont    male  Oberwil bei Büren   \n",
              "8      Genesis Nelson  female         Kalgoorlie   \n",
              "9    محیا سلطانی نژاد  female              گرگان   \n",
              "\n",
              "                          State                           Email  \\\n",
              "0                          Bern          andre.roux@example.com   \n",
              "1                    Queensland        allison.king@example.com   \n",
              "2                         Ceará  justino.nascimento@example.com   \n",
              "3                     Tocantins    gilciane.desouza@example.com   \n",
              "4                       Danmark      sander.thomsen@example.com   \n",
              "5               Castilla y León      cristina.vidal@example.com   \n",
              "6               Castilla y León     clara.fernandez@example.com   \n",
              "7                    Graubünden      sylvain.dupont@example.com   \n",
              "8  Australian Capital Territory      genesis.nelson@example.com   \n",
              "9                آذربایجان شرقی        mhy.sltnynjd@example.com   \n",
              "\n",
              "                        DOB                                           Picture  \n",
              "0  1982-10-16T00:37:49.351Z    https://randomuser.me/api/portraits/men/82.jpg  \n",
              "1  1968-08-28T18:13:31.950Z  https://randomuser.me/api/portraits/women/22.jpg  \n",
              "2  1979-08-03T08:02:19.687Z    https://randomuser.me/api/portraits/men/18.jpg  \n",
              "3  1976-10-04T14:00:22.471Z  https://randomuser.me/api/portraits/women/28.jpg  \n",
              "4  1954-03-07T02:42:08.727Z    https://randomuser.me/api/portraits/men/10.jpg  \n",
              "5  1980-10-02T21:18:18.528Z  https://randomuser.me/api/portraits/women/80.jpg  \n",
              "6  1951-06-03T14:46:52.147Z  https://randomuser.me/api/portraits/women/61.jpg  \n",
              "7  1951-01-04T11:40:49.133Z    https://randomuser.me/api/portraits/men/90.jpg  \n",
              "8  1980-05-13T12:52:20.863Z  https://randomuser.me/api/portraits/women/20.jpg  \n",
              "9  1950-09-25T06:54:44.577Z  https://randomuser.me/api/portraits/women/75.jpg  "
            ],
            "text/html": [
              "\n",
              "  <div id=\"df-18fc5611-6207-481a-9a21-d9ed7eccf694\" class=\"colab-df-container\">\n",
              "    <div>\n",
              "<style scoped>\n",
              "    .dataframe tbody tr th:only-of-type {\n",
              "        vertical-align: middle;\n",
              "    }\n",
              "\n",
              "    .dataframe tbody tr th {\n",
              "        vertical-align: top;\n",
              "    }\n",
              "\n",
              "    .dataframe thead th {\n",
              "        text-align: right;\n",
              "    }\n",
              "</style>\n",
              "<table border=\"1\" class=\"dataframe\">\n",
              "  <thead>\n",
              "    <tr style=\"text-align: right;\">\n",
              "      <th></th>\n",
              "      <th>Name</th>\n",
              "      <th>Gender</th>\n",
              "      <th>City</th>\n",
              "      <th>State</th>\n",
              "      <th>Email</th>\n",
              "      <th>DOB</th>\n",
              "      <th>Picture</th>\n",
              "    </tr>\n",
              "  </thead>\n",
              "  <tbody>\n",
              "    <tr>\n",
              "      <th>0</th>\n",
              "      <td>Andre Roux</td>\n",
              "      <td>male</td>\n",
              "      <td>Bedano</td>\n",
              "      <td>Bern</td>\n",
              "      <td>andre.roux@example.com</td>\n",
              "      <td>1982-10-16T00:37:49.351Z</td>\n",
              "      <td>https://randomuser.me/api/portraits/men/82.jpg</td>\n",
              "    </tr>\n",
              "    <tr>\n",
              "      <th>1</th>\n",
              "      <td>Allison King</td>\n",
              "      <td>female</td>\n",
              "      <td>Devonport</td>\n",
              "      <td>Queensland</td>\n",
              "      <td>allison.king@example.com</td>\n",
              "      <td>1968-08-28T18:13:31.950Z</td>\n",
              "      <td>https://randomuser.me/api/portraits/women/22.jpg</td>\n",
              "    </tr>\n",
              "    <tr>\n",
              "      <th>2</th>\n",
              "      <td>Justino Nascimento</td>\n",
              "      <td>male</td>\n",
              "      <td>Jequié</td>\n",
              "      <td>Ceará</td>\n",
              "      <td>justino.nascimento@example.com</td>\n",
              "      <td>1979-08-03T08:02:19.687Z</td>\n",
              "      <td>https://randomuser.me/api/portraits/men/18.jpg</td>\n",
              "    </tr>\n",
              "    <tr>\n",
              "      <th>3</th>\n",
              "      <td>Gilciane de Souza</td>\n",
              "      <td>female</td>\n",
              "      <td>Francisco Morato</td>\n",
              "      <td>Tocantins</td>\n",
              "      <td>gilciane.desouza@example.com</td>\n",
              "      <td>1976-10-04T14:00:22.471Z</td>\n",
              "      <td>https://randomuser.me/api/portraits/women/28.jpg</td>\n",
              "    </tr>\n",
              "    <tr>\n",
              "      <th>4</th>\n",
              "      <td>Sander Thomsen</td>\n",
              "      <td>male</td>\n",
              "      <td>Roedovre</td>\n",
              "      <td>Danmark</td>\n",
              "      <td>sander.thomsen@example.com</td>\n",
              "      <td>1954-03-07T02:42:08.727Z</td>\n",
              "      <td>https://randomuser.me/api/portraits/men/10.jpg</td>\n",
              "    </tr>\n",
              "    <tr>\n",
              "      <th>5</th>\n",
              "      <td>Cristina Vidal</td>\n",
              "      <td>female</td>\n",
              "      <td>Arrecife</td>\n",
              "      <td>Castilla y León</td>\n",
              "      <td>cristina.vidal@example.com</td>\n",
              "      <td>1980-10-02T21:18:18.528Z</td>\n",
              "      <td>https://randomuser.me/api/portraits/women/80.jpg</td>\n",
              "    </tr>\n",
              "    <tr>\n",
              "      <th>6</th>\n",
              "      <td>Clara Fernandez</td>\n",
              "      <td>female</td>\n",
              "      <td>Torrejón de Ardoz</td>\n",
              "      <td>Castilla y León</td>\n",
              "      <td>clara.fernandez@example.com</td>\n",
              "      <td>1951-06-03T14:46:52.147Z</td>\n",
              "      <td>https://randomuser.me/api/portraits/women/61.jpg</td>\n",
              "    </tr>\n",
              "    <tr>\n",
              "      <th>7</th>\n",
              "      <td>Sylvain Dupont</td>\n",
              "      <td>male</td>\n",
              "      <td>Oberwil bei Büren</td>\n",
              "      <td>Graubünden</td>\n",
              "      <td>sylvain.dupont@example.com</td>\n",
              "      <td>1951-01-04T11:40:49.133Z</td>\n",
              "      <td>https://randomuser.me/api/portraits/men/90.jpg</td>\n",
              "    </tr>\n",
              "    <tr>\n",
              "      <th>8</th>\n",
              "      <td>Genesis Nelson</td>\n",
              "      <td>female</td>\n",
              "      <td>Kalgoorlie</td>\n",
              "      <td>Australian Capital Territory</td>\n",
              "      <td>genesis.nelson@example.com</td>\n",
              "      <td>1980-05-13T12:52:20.863Z</td>\n",
              "      <td>https://randomuser.me/api/portraits/women/20.jpg</td>\n",
              "    </tr>\n",
              "    <tr>\n",
              "      <th>9</th>\n",
              "      <td>محیا سلطانی نژاد</td>\n",
              "      <td>female</td>\n",
              "      <td>گرگان</td>\n",
              "      <td>آذربایجان شرقی</td>\n",
              "      <td>mhy.sltnynjd@example.com</td>\n",
              "      <td>1950-09-25T06:54:44.577Z</td>\n",
              "      <td>https://randomuser.me/api/portraits/women/75.jpg</td>\n",
              "    </tr>\n",
              "  </tbody>\n",
              "</table>\n",
              "</div>\n",
              "    <div class=\"colab-df-buttons\">\n",
              "\n",
              "  <div class=\"colab-df-container\">\n",
              "    <button class=\"colab-df-convert\" onclick=\"convertToInteractive('df-18fc5611-6207-481a-9a21-d9ed7eccf694')\"\n",
              "            title=\"Convert this dataframe to an interactive table.\"\n",
              "            style=\"display:none;\">\n",
              "\n",
              "  <svg xmlns=\"http://www.w3.org/2000/svg\" height=\"24px\" viewBox=\"0 -960 960 960\">\n",
              "    <path d=\"M120-120v-720h720v720H120Zm60-500h600v-160H180v160Zm220 220h160v-160H400v160Zm0 220h160v-160H400v160ZM180-400h160v-160H180v160Zm440 0h160v-160H620v160ZM180-180h160v-160H180v160Zm440 0h160v-160H620v160Z\"/>\n",
              "  </svg>\n",
              "    </button>\n",
              "\n",
              "  <style>\n",
              "    .colab-df-container {\n",
              "      display:flex;\n",
              "      gap: 12px;\n",
              "    }\n",
              "\n",
              "    .colab-df-convert {\n",
              "      background-color: #E8F0FE;\n",
              "      border: none;\n",
              "      border-radius: 50%;\n",
              "      cursor: pointer;\n",
              "      display: none;\n",
              "      fill: #1967D2;\n",
              "      height: 32px;\n",
              "      padding: 0 0 0 0;\n",
              "      width: 32px;\n",
              "    }\n",
              "\n",
              "    .colab-df-convert:hover {\n",
              "      background-color: #E2EBFA;\n",
              "      box-shadow: 0px 1px 2px rgba(60, 64, 67, 0.3), 0px 1px 3px 1px rgba(60, 64, 67, 0.15);\n",
              "      fill: #174EA6;\n",
              "    }\n",
              "\n",
              "    .colab-df-buttons div {\n",
              "      margin-bottom: 4px;\n",
              "    }\n",
              "\n",
              "    [theme=dark] .colab-df-convert {\n",
              "      background-color: #3B4455;\n",
              "      fill: #D2E3FC;\n",
              "    }\n",
              "\n",
              "    [theme=dark] .colab-df-convert:hover {\n",
              "      background-color: #434B5C;\n",
              "      box-shadow: 0px 1px 3px 1px rgba(0, 0, 0, 0.15);\n",
              "      filter: drop-shadow(0px 1px 2px rgba(0, 0, 0, 0.3));\n",
              "      fill: #FFFFFF;\n",
              "    }\n",
              "  </style>\n",
              "\n",
              "    <script>\n",
              "      const buttonEl =\n",
              "        document.querySelector('#df-18fc5611-6207-481a-9a21-d9ed7eccf694 button.colab-df-convert');\n",
              "      buttonEl.style.display =\n",
              "        google.colab.kernel.accessAllowed ? 'block' : 'none';\n",
              "\n",
              "      async function convertToInteractive(key) {\n",
              "        const element = document.querySelector('#df-18fc5611-6207-481a-9a21-d9ed7eccf694');\n",
              "        const dataTable =\n",
              "          await google.colab.kernel.invokeFunction('convertToInteractive',\n",
              "                                                    [key], {});\n",
              "        if (!dataTable) return;\n",
              "\n",
              "        const docLinkHtml = 'Like what you see? Visit the ' +\n",
              "          '<a target=\"_blank\" href=https://colab.research.google.com/notebooks/data_table.ipynb>data table notebook</a>'\n",
              "          + ' to learn more about interactive tables.';\n",
              "        element.innerHTML = '';\n",
              "        dataTable['output_type'] = 'display_data';\n",
              "        await google.colab.output.renderOutput(dataTable, element);\n",
              "        const docLink = document.createElement('div');\n",
              "        docLink.innerHTML = docLinkHtml;\n",
              "        element.appendChild(docLink);\n",
              "      }\n",
              "    </script>\n",
              "  </div>\n",
              "\n",
              "\n",
              "    <div id=\"df-40debf87-dc6c-4ea6-a15c-f3c73d9d0e81\">\n",
              "      <button class=\"colab-df-quickchart\" onclick=\"quickchart('df-40debf87-dc6c-4ea6-a15c-f3c73d9d0e81')\"\n",
              "                title=\"Suggest charts\"\n",
              "                style=\"display:none;\">\n",
              "\n",
              "<svg xmlns=\"http://www.w3.org/2000/svg\" height=\"24px\"viewBox=\"0 0 24 24\"\n",
              "     width=\"24px\">\n",
              "    <g>\n",
              "        <path d=\"M19 3H5c-1.1 0-2 .9-2 2v14c0 1.1.9 2 2 2h14c1.1 0 2-.9 2-2V5c0-1.1-.9-2-2-2zM9 17H7v-7h2v7zm4 0h-2V7h2v10zm4 0h-2v-4h2v4z\"/>\n",
              "    </g>\n",
              "</svg>\n",
              "      </button>\n",
              "\n",
              "<style>\n",
              "  .colab-df-quickchart {\n",
              "      --bg-color: #E8F0FE;\n",
              "      --fill-color: #1967D2;\n",
              "      --hover-bg-color: #E2EBFA;\n",
              "      --hover-fill-color: #174EA6;\n",
              "      --disabled-fill-color: #AAA;\n",
              "      --disabled-bg-color: #DDD;\n",
              "  }\n",
              "\n",
              "  [theme=dark] .colab-df-quickchart {\n",
              "      --bg-color: #3B4455;\n",
              "      --fill-color: #D2E3FC;\n",
              "      --hover-bg-color: #434B5C;\n",
              "      --hover-fill-color: #FFFFFF;\n",
              "      --disabled-bg-color: #3B4455;\n",
              "      --disabled-fill-color: #666;\n",
              "  }\n",
              "\n",
              "  .colab-df-quickchart {\n",
              "    background-color: var(--bg-color);\n",
              "    border: none;\n",
              "    border-radius: 50%;\n",
              "    cursor: pointer;\n",
              "    display: none;\n",
              "    fill: var(--fill-color);\n",
              "    height: 32px;\n",
              "    padding: 0;\n",
              "    width: 32px;\n",
              "  }\n",
              "\n",
              "  .colab-df-quickchart:hover {\n",
              "    background-color: var(--hover-bg-color);\n",
              "    box-shadow: 0 1px 2px rgba(60, 64, 67, 0.3), 0 1px 3px 1px rgba(60, 64, 67, 0.15);\n",
              "    fill: var(--button-hover-fill-color);\n",
              "  }\n",
              "\n",
              "  .colab-df-quickchart-complete:disabled,\n",
              "  .colab-df-quickchart-complete:disabled:hover {\n",
              "    background-color: var(--disabled-bg-color);\n",
              "    fill: var(--disabled-fill-color);\n",
              "    box-shadow: none;\n",
              "  }\n",
              "\n",
              "  .colab-df-spinner {\n",
              "    border: 2px solid var(--fill-color);\n",
              "    border-color: transparent;\n",
              "    border-bottom-color: var(--fill-color);\n",
              "    animation:\n",
              "      spin 1s steps(1) infinite;\n",
              "  }\n",
              "\n",
              "  @keyframes spin {\n",
              "    0% {\n",
              "      border-color: transparent;\n",
              "      border-bottom-color: var(--fill-color);\n",
              "      border-left-color: var(--fill-color);\n",
              "    }\n",
              "    20% {\n",
              "      border-color: transparent;\n",
              "      border-left-color: var(--fill-color);\n",
              "      border-top-color: var(--fill-color);\n",
              "    }\n",
              "    30% {\n",
              "      border-color: transparent;\n",
              "      border-left-color: var(--fill-color);\n",
              "      border-top-color: var(--fill-color);\n",
              "      border-right-color: var(--fill-color);\n",
              "    }\n",
              "    40% {\n",
              "      border-color: transparent;\n",
              "      border-right-color: var(--fill-color);\n",
              "      border-top-color: var(--fill-color);\n",
              "    }\n",
              "    60% {\n",
              "      border-color: transparent;\n",
              "      border-right-color: var(--fill-color);\n",
              "    }\n",
              "    80% {\n",
              "      border-color: transparent;\n",
              "      border-right-color: var(--fill-color);\n",
              "      border-bottom-color: var(--fill-color);\n",
              "    }\n",
              "    90% {\n",
              "      border-color: transparent;\n",
              "      border-bottom-color: var(--fill-color);\n",
              "    }\n",
              "  }\n",
              "</style>\n",
              "\n",
              "      <script>\n",
              "        async function quickchart(key) {\n",
              "          const quickchartButtonEl =\n",
              "            document.querySelector('#' + key + ' button');\n",
              "          quickchartButtonEl.disabled = true;  // To prevent multiple clicks.\n",
              "          quickchartButtonEl.classList.add('colab-df-spinner');\n",
              "          try {\n",
              "            const charts = await google.colab.kernel.invokeFunction(\n",
              "                'suggestCharts', [key], {});\n",
              "          } catch (error) {\n",
              "            console.error('Error during call to suggestCharts:', error);\n",
              "          }\n",
              "          quickchartButtonEl.classList.remove('colab-df-spinner');\n",
              "          quickchartButtonEl.classList.add('colab-df-quickchart-complete');\n",
              "        }\n",
              "        (() => {\n",
              "          let quickchartButtonEl =\n",
              "            document.querySelector('#df-40debf87-dc6c-4ea6-a15c-f3c73d9d0e81 button');\n",
              "          quickchartButtonEl.style.display =\n",
              "            google.colab.kernel.accessAllowed ? 'block' : 'none';\n",
              "        })();\n",
              "      </script>\n",
              "    </div>\n",
              "\n",
              "    </div>\n",
              "  </div>\n"
            ],
            "application/vnd.google.colaboratory.intrinsic+json": {
              "type": "dataframe",
              "summary": "{\n  \"name\": \"get_users2()\",\n  \"rows\": 10,\n  \"fields\": [\n    {\n      \"column\": \"Name\",\n      \"properties\": {\n        \"dtype\": \"string\",\n        \"num_unique_values\": 10,\n        \"samples\": [\n          \"Genesis Nelson\",\n          \"Allison King\",\n          \"Cristina Vidal\"\n        ],\n        \"semantic_type\": \"\",\n        \"description\": \"\"\n      }\n    },\n    {\n      \"column\": \"Gender\",\n      \"properties\": {\n        \"dtype\": \"category\",\n        \"num_unique_values\": 2,\n        \"samples\": [\n          \"female\",\n          \"male\"\n        ],\n        \"semantic_type\": \"\",\n        \"description\": \"\"\n      }\n    },\n    {\n      \"column\": \"City\",\n      \"properties\": {\n        \"dtype\": \"string\",\n        \"num_unique_values\": 10,\n        \"samples\": [\n          \"Kalgoorlie\",\n          \"Devonport\"\n        ],\n        \"semantic_type\": \"\",\n        \"description\": \"\"\n      }\n    },\n    {\n      \"column\": \"State\",\n      \"properties\": {\n        \"dtype\": \"string\",\n        \"num_unique_values\": 9,\n        \"samples\": [\n          \"Australian Capital Territory\",\n          \"Queensland\"\n        ],\n        \"semantic_type\": \"\",\n        \"description\": \"\"\n      }\n    },\n    {\n      \"column\": \"Email\",\n      \"properties\": {\n        \"dtype\": \"string\",\n        \"num_unique_values\": 10,\n        \"samples\": [\n          \"genesis.nelson@example.com\",\n          \"allison.king@example.com\"\n        ],\n        \"semantic_type\": \"\",\n        \"description\": \"\"\n      }\n    },\n    {\n      \"column\": \"DOB\",\n      \"properties\": {\n        \"dtype\": \"object\",\n        \"num_unique_values\": 10,\n        \"samples\": [\n          \"1980-05-13T12:52:20.863Z\",\n          \"1968-08-28T18:13:31.950Z\"\n        ],\n        \"semantic_type\": \"\",\n        \"description\": \"\"\n      }\n    },\n    {\n      \"column\": \"Picture\",\n      \"properties\": {\n        \"dtype\": \"string\",\n        \"num_unique_values\": 10,\n        \"samples\": [\n          \"https://randomuser.me/api/portraits/women/20.jpg\",\n          \"https://randomuser.me/api/portraits/women/22.jpg\"\n        ],\n        \"semantic_type\": \"\",\n        \"description\": \"\"\n      }\n    }\n  ]\n}"
            }
          },
          "metadata": {},
          "execution_count": 9
        }
      ]
    },
    {
      "cell_type": "markdown",
      "source": [
        "### Example 2: Fruityvice API\n",
        "Another, more common way to use APIs, is through requests library. The next lab, Requests and HTTP, will contain more information about requests"
      ],
      "metadata": {
        "id": "I8rCi9ye9-3i"
      }
    },
    {
      "cell_type": "code",
      "source": [
        "# We will start by importing all required libraries\n",
        "import requests\n",
        "import json\n",
        "\n",
        "# We will obtain the fruityvice API data using requests.get(\"url\") function. The data is in a json format\n",
        "data = requests.get(\"https://web.archive.org/web/20240929211114/https://fruityvice.com/api/fruit/all\")\n",
        "\n",
        "# We will retrieve results using json.loads() function\n",
        "results = json.loads(data.text)\n",
        "\n",
        "# We will convert our json data into pandas data frame\n",
        "pd.DataFrame(results)"
      ],
      "metadata": {
        "colab": {
          "base_uri": "https://localhost:8080/",
          "height": 1000
        },
        "id": "3n7OItYd9lTr",
        "outputId": "33f62e42-4bfe-46f9-a1f5-1b59496dd815"
      },
      "execution_count": 11,
      "outputs": [
        {
          "output_type": "execute_result",
          "data": {
            "text/plain": [
              "                  name   id           family             order         genus  \\\n",
              "0            Persimmon   52        Ebenaceae           Rosales     Diospyros   \n",
              "1           Strawberry    3         Rosaceae           Rosales      Fragaria   \n",
              "2               Banana    1         Musaceae      Zingiberales          Musa   \n",
              "3               Tomato    5       Solanaceae         Solanales       Solanum   \n",
              "4                 Pear    4         Rosaceae           Rosales         Pyrus   \n",
              "5               Durian   60        Malvaceae          Malvales         Durio   \n",
              "6           Blackberry   64         Rosaceae           Rosales         Rubus   \n",
              "7          Lingonberry   65        Ericaceae          Ericales     Vaccinium   \n",
              "8                 Kiwi   66    Actinidiaceae  Struthioniformes       Apteryx   \n",
              "9               Lychee   67      Sapindaceae        Sapindales        Litchi   \n",
              "10           Pineapple   10     Bromeliaceae            Poales        Ananas   \n",
              "11                 Fig   68         Moraceae           Rosales         Ficus   \n",
              "12          Gooseberry   69  Grossulariaceae      Saxifragales         Ribes   \n",
              "13        Passionfruit   70   Passifloraceae      Malpighiales    Passiflora   \n",
              "14                Plum   71         Rosaceae           Rosales        Prunus   \n",
              "15              Orange    2         Rutaceae        Sapindales        Citrus   \n",
              "16          GreenApple   72         Rosaceae           Rosales         Malus   \n",
              "17           Raspberry   23         Rosaceae           Rosales         Rubus   \n",
              "18          Watermelon   25    Cucurbitaceae      Cucurbitales     Citrullus   \n",
              "19               Lemon   26         Rutaceae        Sapindales        Citrus   \n",
              "20               Mango   27    Anacardiaceae        Sapindales     Mangifera   \n",
              "21           Blueberry   33         Rosaceae           Rosales      Fragaria   \n",
              "22               Apple    6         Rosaceae           Rosales         Malus   \n",
              "23               Guava   37        Myrtaceae          Myrtales       Psidium   \n",
              "24             Apricot   35         Rosaceae           Rosales        Prunus   \n",
              "25               Melon   41    Cucurbitaceae     Cucurbitaceae       Cucumis   \n",
              "26           Tangerine   77         Rutaceae        Sapindales        Citrus   \n",
              "27            Pitahaya   78        Cactaceae    Caryophyllales     Cactaceae   \n",
              "28                Lime   44         Rutaceae        Sapindales        Citrus   \n",
              "29         Pomegranate   79       Lythraceae          Myrtales        Punica   \n",
              "30         Dragonfruit   80        Cactaceae    Caryophyllales  Selenicereus   \n",
              "31               Grape   81         Vitaceae           Vitales         Vitis   \n",
              "32               Morus   82         Moraceae           Rosales         Morus   \n",
              "33              Feijoa   76        Myrtaceae        Myrtoideae    Sellowiana   \n",
              "34             Avocado   84        Lauraceae          Laurales        Persea   \n",
              "35           Kiwifruit   85    Actinidiaceae          Ericales     Actinidia   \n",
              "36           Cranberry   87        Ericaceae          Ericales     Vaccinium   \n",
              "37              Cherry    9         Rosaceae           Rosales        Prunus   \n",
              "38               Peach   86         Rosaceae           Rosales        Prunus   \n",
              "39           Jackfruit   94         Moraceae           Rosales    Artocarpus   \n",
              "40        Horned Melon   95    Cucurbitaceae      Cucurbitales       Cucumis   \n",
              "41            Hazelnut   96       Betulaceae           Fagales       Corylus   \n",
              "42              Pomelo   98         Rutaceae        Sapindales        Citrus   \n",
              "43          Mangosteen   99       Clusiaceae      Malpighiales      Garcinia   \n",
              "44             Pumpkin  100    Cucurbitaceae      Cucurbitales     Cucurbita   \n",
              "45  Japanese Persimmon  101        Ebenaceae          Ericales     Diospyros   \n",
              "46              Papaya   42       Caricaceae       Brassicales        Carica   \n",
              "47              Annona  103       Annonaceae           Rosales       Annonas   \n",
              "48   Ceylon Gooseberry  104       Salicaceae      Malpighiales      Dovyalis   \n",
              "\n",
              "                                           nutritions  \n",
              "0   {'calories': 81, 'fat': 0.0, 'sugar': 18.0, 'c...  \n",
              "1   {'calories': 29, 'fat': 0.4, 'sugar': 5.4, 'ca...  \n",
              "2   {'calories': 96, 'fat': 0.2, 'sugar': 17.2, 'c...  \n",
              "3   {'calories': 74, 'fat': 0.2, 'sugar': 2.6, 'ca...  \n",
              "4   {'calories': 57, 'fat': 0.1, 'sugar': 10.0, 'c...  \n",
              "5   {'calories': 147, 'fat': 5.3, 'sugar': 6.75, '...  \n",
              "6   {'calories': 40, 'fat': 0.4, 'sugar': 4.5, 'ca...  \n",
              "7   {'calories': 50, 'fat': 0.34, 'sugar': 5.74, '...  \n",
              "8   {'calories': 61, 'fat': 0.5, 'sugar': 9.0, 'ca...  \n",
              "9   {'calories': 66, 'fat': 0.44, 'sugar': 15.0, '...  \n",
              "10  {'calories': 50, 'fat': 0.12, 'sugar': 9.85, '...  \n",
              "11  {'calories': 74, 'fat': 0.3, 'sugar': 16.0, 'c...  \n",
              "12  {'calories': 44, 'fat': 0.6, 'sugar': 0.0, 'ca...  \n",
              "13  {'calories': 97, 'fat': 0.7, 'sugar': 11.2, 'c...  \n",
              "14  {'calories': 46, 'fat': 0.28, 'sugar': 9.92, '...  \n",
              "15  {'calories': 43, 'fat': 0.2, 'sugar': 8.2, 'ca...  \n",
              "16  {'calories': 21, 'fat': 0.1, 'sugar': 6.4, 'ca...  \n",
              "17  {'calories': 53, 'fat': 0.7, 'sugar': 4.4, 'ca...  \n",
              "18  {'calories': 30, 'fat': 0.2, 'sugar': 6.0, 'ca...  \n",
              "19  {'calories': 29, 'fat': 0.3, 'sugar': 2.5, 'ca...  \n",
              "20  {'calories': 60, 'fat': 0.38, 'sugar': 13.7, '...  \n",
              "21  {'calories': 29, 'fat': 0.4, 'sugar': 5.4, 'ca...  \n",
              "22  {'calories': 52, 'fat': 0.4, 'sugar': 10.3, 'c...  \n",
              "23  {'calories': 68, 'fat': 1.0, 'sugar': 9.0, 'ca...  \n",
              "24  {'calories': 15, 'fat': 0.1, 'sugar': 3.2, 'ca...  \n",
              "25  {'calories': 34, 'fat': 0.0, 'sugar': 8.0, 'ca...  \n",
              "26  {'calories': 45, 'fat': 0.4, 'sugar': 9.1, 'ca...  \n",
              "27  {'calories': 36, 'fat': 0.4, 'sugar': 3.0, 'ca...  \n",
              "28  {'calories': 25, 'fat': 0.1, 'sugar': 1.7, 'ca...  \n",
              "29  {'calories': 83, 'fat': 1.2, 'sugar': 13.7, 'c...  \n",
              "30  {'calories': 60, 'fat': 1.5, 'sugar': 8.0, 'ca...  \n",
              "31  {'calories': 69, 'fat': 0.16, 'sugar': 16.0, '...  \n",
              "32  {'calories': 43, 'fat': 0.39, 'sugar': 8.1, 'c...  \n",
              "33  {'calories': 44, 'fat': 0.4, 'sugar': 3.0, 'ca...  \n",
              "34  {'calories': 160, 'fat': 14.66, 'sugar': 0.66,...  \n",
              "35  {'calories': 61, 'fat': 0.5, 'sugar': 8.9, 'ca...  \n",
              "36  {'calories': 46, 'fat': 0.1, 'sugar': 4.0, 'ca...  \n",
              "37  {'calories': 50, 'fat': 0.3, 'sugar': 8.0, 'ca...  \n",
              "38  {'calories': 39, 'fat': 0.25, 'sugar': 8.4, 'c...  \n",
              "39  {'calories': 95, 'fat': 0.0, 'sugar': 19.1, 'c...  \n",
              "40  {'calories': 44, 'fat': 1.26, 'sugar': 0.5, 'c...  \n",
              "41  {'calories': 628, 'fat': 61.0, 'sugar': 4.3, '...  \n",
              "42  {'calories': 37, 'fat': 0.0, 'sugar': 8.5, 'ca...  \n",
              "43  {'calories': 73, 'fat': 0.58, 'sugar': 16.11, ...  \n",
              "44  {'calories': 25, 'fat': 0.3, 'sugar': 3.3, 'ca...  \n",
              "45  {'calories': 70, 'fat': 0.2, 'sugar': 13.0, 'c...  \n",
              "46  {'calories': 39, 'fat': 0.3, 'sugar': 4.4, 'ca...  \n",
              "47  {'calories': 92, 'fat': 0.29, 'sugar': 3.4, 'c...  \n",
              "48  {'calories': 47, 'fat': 0.3, 'sugar': 8.1, 'ca...  "
            ],
            "text/html": [
              "\n",
              "  <div id=\"df-4d4b3a2a-03c6-4b13-9e60-e5c9b920e95c\" class=\"colab-df-container\">\n",
              "    <div>\n",
              "<style scoped>\n",
              "    .dataframe tbody tr th:only-of-type {\n",
              "        vertical-align: middle;\n",
              "    }\n",
              "\n",
              "    .dataframe tbody tr th {\n",
              "        vertical-align: top;\n",
              "    }\n",
              "\n",
              "    .dataframe thead th {\n",
              "        text-align: right;\n",
              "    }\n",
              "</style>\n",
              "<table border=\"1\" class=\"dataframe\">\n",
              "  <thead>\n",
              "    <tr style=\"text-align: right;\">\n",
              "      <th></th>\n",
              "      <th>name</th>\n",
              "      <th>id</th>\n",
              "      <th>family</th>\n",
              "      <th>order</th>\n",
              "      <th>genus</th>\n",
              "      <th>nutritions</th>\n",
              "    </tr>\n",
              "  </thead>\n",
              "  <tbody>\n",
              "    <tr>\n",
              "      <th>0</th>\n",
              "      <td>Persimmon</td>\n",
              "      <td>52</td>\n",
              "      <td>Ebenaceae</td>\n",
              "      <td>Rosales</td>\n",
              "      <td>Diospyros</td>\n",
              "      <td>{'calories': 81, 'fat': 0.0, 'sugar': 18.0, 'c...</td>\n",
              "    </tr>\n",
              "    <tr>\n",
              "      <th>1</th>\n",
              "      <td>Strawberry</td>\n",
              "      <td>3</td>\n",
              "      <td>Rosaceae</td>\n",
              "      <td>Rosales</td>\n",
              "      <td>Fragaria</td>\n",
              "      <td>{'calories': 29, 'fat': 0.4, 'sugar': 5.4, 'ca...</td>\n",
              "    </tr>\n",
              "    <tr>\n",
              "      <th>2</th>\n",
              "      <td>Banana</td>\n",
              "      <td>1</td>\n",
              "      <td>Musaceae</td>\n",
              "      <td>Zingiberales</td>\n",
              "      <td>Musa</td>\n",
              "      <td>{'calories': 96, 'fat': 0.2, 'sugar': 17.2, 'c...</td>\n",
              "    </tr>\n",
              "    <tr>\n",
              "      <th>3</th>\n",
              "      <td>Tomato</td>\n",
              "      <td>5</td>\n",
              "      <td>Solanaceae</td>\n",
              "      <td>Solanales</td>\n",
              "      <td>Solanum</td>\n",
              "      <td>{'calories': 74, 'fat': 0.2, 'sugar': 2.6, 'ca...</td>\n",
              "    </tr>\n",
              "    <tr>\n",
              "      <th>4</th>\n",
              "      <td>Pear</td>\n",
              "      <td>4</td>\n",
              "      <td>Rosaceae</td>\n",
              "      <td>Rosales</td>\n",
              "      <td>Pyrus</td>\n",
              "      <td>{'calories': 57, 'fat': 0.1, 'sugar': 10.0, 'c...</td>\n",
              "    </tr>\n",
              "    <tr>\n",
              "      <th>5</th>\n",
              "      <td>Durian</td>\n",
              "      <td>60</td>\n",
              "      <td>Malvaceae</td>\n",
              "      <td>Malvales</td>\n",
              "      <td>Durio</td>\n",
              "      <td>{'calories': 147, 'fat': 5.3, 'sugar': 6.75, '...</td>\n",
              "    </tr>\n",
              "    <tr>\n",
              "      <th>6</th>\n",
              "      <td>Blackberry</td>\n",
              "      <td>64</td>\n",
              "      <td>Rosaceae</td>\n",
              "      <td>Rosales</td>\n",
              "      <td>Rubus</td>\n",
              "      <td>{'calories': 40, 'fat': 0.4, 'sugar': 4.5, 'ca...</td>\n",
              "    </tr>\n",
              "    <tr>\n",
              "      <th>7</th>\n",
              "      <td>Lingonberry</td>\n",
              "      <td>65</td>\n",
              "      <td>Ericaceae</td>\n",
              "      <td>Ericales</td>\n",
              "      <td>Vaccinium</td>\n",
              "      <td>{'calories': 50, 'fat': 0.34, 'sugar': 5.74, '...</td>\n",
              "    </tr>\n",
              "    <tr>\n",
              "      <th>8</th>\n",
              "      <td>Kiwi</td>\n",
              "      <td>66</td>\n",
              "      <td>Actinidiaceae</td>\n",
              "      <td>Struthioniformes</td>\n",
              "      <td>Apteryx</td>\n",
              "      <td>{'calories': 61, 'fat': 0.5, 'sugar': 9.0, 'ca...</td>\n",
              "    </tr>\n",
              "    <tr>\n",
              "      <th>9</th>\n",
              "      <td>Lychee</td>\n",
              "      <td>67</td>\n",
              "      <td>Sapindaceae</td>\n",
              "      <td>Sapindales</td>\n",
              "      <td>Litchi</td>\n",
              "      <td>{'calories': 66, 'fat': 0.44, 'sugar': 15.0, '...</td>\n",
              "    </tr>\n",
              "    <tr>\n",
              "      <th>10</th>\n",
              "      <td>Pineapple</td>\n",
              "      <td>10</td>\n",
              "      <td>Bromeliaceae</td>\n",
              "      <td>Poales</td>\n",
              "      <td>Ananas</td>\n",
              "      <td>{'calories': 50, 'fat': 0.12, 'sugar': 9.85, '...</td>\n",
              "    </tr>\n",
              "    <tr>\n",
              "      <th>11</th>\n",
              "      <td>Fig</td>\n",
              "      <td>68</td>\n",
              "      <td>Moraceae</td>\n",
              "      <td>Rosales</td>\n",
              "      <td>Ficus</td>\n",
              "      <td>{'calories': 74, 'fat': 0.3, 'sugar': 16.0, 'c...</td>\n",
              "    </tr>\n",
              "    <tr>\n",
              "      <th>12</th>\n",
              "      <td>Gooseberry</td>\n",
              "      <td>69</td>\n",
              "      <td>Grossulariaceae</td>\n",
              "      <td>Saxifragales</td>\n",
              "      <td>Ribes</td>\n",
              "      <td>{'calories': 44, 'fat': 0.6, 'sugar': 0.0, 'ca...</td>\n",
              "    </tr>\n",
              "    <tr>\n",
              "      <th>13</th>\n",
              "      <td>Passionfruit</td>\n",
              "      <td>70</td>\n",
              "      <td>Passifloraceae</td>\n",
              "      <td>Malpighiales</td>\n",
              "      <td>Passiflora</td>\n",
              "      <td>{'calories': 97, 'fat': 0.7, 'sugar': 11.2, 'c...</td>\n",
              "    </tr>\n",
              "    <tr>\n",
              "      <th>14</th>\n",
              "      <td>Plum</td>\n",
              "      <td>71</td>\n",
              "      <td>Rosaceae</td>\n",
              "      <td>Rosales</td>\n",
              "      <td>Prunus</td>\n",
              "      <td>{'calories': 46, 'fat': 0.28, 'sugar': 9.92, '...</td>\n",
              "    </tr>\n",
              "    <tr>\n",
              "      <th>15</th>\n",
              "      <td>Orange</td>\n",
              "      <td>2</td>\n",
              "      <td>Rutaceae</td>\n",
              "      <td>Sapindales</td>\n",
              "      <td>Citrus</td>\n",
              "      <td>{'calories': 43, 'fat': 0.2, 'sugar': 8.2, 'ca...</td>\n",
              "    </tr>\n",
              "    <tr>\n",
              "      <th>16</th>\n",
              "      <td>GreenApple</td>\n",
              "      <td>72</td>\n",
              "      <td>Rosaceae</td>\n",
              "      <td>Rosales</td>\n",
              "      <td>Malus</td>\n",
              "      <td>{'calories': 21, 'fat': 0.1, 'sugar': 6.4, 'ca...</td>\n",
              "    </tr>\n",
              "    <tr>\n",
              "      <th>17</th>\n",
              "      <td>Raspberry</td>\n",
              "      <td>23</td>\n",
              "      <td>Rosaceae</td>\n",
              "      <td>Rosales</td>\n",
              "      <td>Rubus</td>\n",
              "      <td>{'calories': 53, 'fat': 0.7, 'sugar': 4.4, 'ca...</td>\n",
              "    </tr>\n",
              "    <tr>\n",
              "      <th>18</th>\n",
              "      <td>Watermelon</td>\n",
              "      <td>25</td>\n",
              "      <td>Cucurbitaceae</td>\n",
              "      <td>Cucurbitales</td>\n",
              "      <td>Citrullus</td>\n",
              "      <td>{'calories': 30, 'fat': 0.2, 'sugar': 6.0, 'ca...</td>\n",
              "    </tr>\n",
              "    <tr>\n",
              "      <th>19</th>\n",
              "      <td>Lemon</td>\n",
              "      <td>26</td>\n",
              "      <td>Rutaceae</td>\n",
              "      <td>Sapindales</td>\n",
              "      <td>Citrus</td>\n",
              "      <td>{'calories': 29, 'fat': 0.3, 'sugar': 2.5, 'ca...</td>\n",
              "    </tr>\n",
              "    <tr>\n",
              "      <th>20</th>\n",
              "      <td>Mango</td>\n",
              "      <td>27</td>\n",
              "      <td>Anacardiaceae</td>\n",
              "      <td>Sapindales</td>\n",
              "      <td>Mangifera</td>\n",
              "      <td>{'calories': 60, 'fat': 0.38, 'sugar': 13.7, '...</td>\n",
              "    </tr>\n",
              "    <tr>\n",
              "      <th>21</th>\n",
              "      <td>Blueberry</td>\n",
              "      <td>33</td>\n",
              "      <td>Rosaceae</td>\n",
              "      <td>Rosales</td>\n",
              "      <td>Fragaria</td>\n",
              "      <td>{'calories': 29, 'fat': 0.4, 'sugar': 5.4, 'ca...</td>\n",
              "    </tr>\n",
              "    <tr>\n",
              "      <th>22</th>\n",
              "      <td>Apple</td>\n",
              "      <td>6</td>\n",
              "      <td>Rosaceae</td>\n",
              "      <td>Rosales</td>\n",
              "      <td>Malus</td>\n",
              "      <td>{'calories': 52, 'fat': 0.4, 'sugar': 10.3, 'c...</td>\n",
              "    </tr>\n",
              "    <tr>\n",
              "      <th>23</th>\n",
              "      <td>Guava</td>\n",
              "      <td>37</td>\n",
              "      <td>Myrtaceae</td>\n",
              "      <td>Myrtales</td>\n",
              "      <td>Psidium</td>\n",
              "      <td>{'calories': 68, 'fat': 1.0, 'sugar': 9.0, 'ca...</td>\n",
              "    </tr>\n",
              "    <tr>\n",
              "      <th>24</th>\n",
              "      <td>Apricot</td>\n",
              "      <td>35</td>\n",
              "      <td>Rosaceae</td>\n",
              "      <td>Rosales</td>\n",
              "      <td>Prunus</td>\n",
              "      <td>{'calories': 15, 'fat': 0.1, 'sugar': 3.2, 'ca...</td>\n",
              "    </tr>\n",
              "    <tr>\n",
              "      <th>25</th>\n",
              "      <td>Melon</td>\n",
              "      <td>41</td>\n",
              "      <td>Cucurbitaceae</td>\n",
              "      <td>Cucurbitaceae</td>\n",
              "      <td>Cucumis</td>\n",
              "      <td>{'calories': 34, 'fat': 0.0, 'sugar': 8.0, 'ca...</td>\n",
              "    </tr>\n",
              "    <tr>\n",
              "      <th>26</th>\n",
              "      <td>Tangerine</td>\n",
              "      <td>77</td>\n",
              "      <td>Rutaceae</td>\n",
              "      <td>Sapindales</td>\n",
              "      <td>Citrus</td>\n",
              "      <td>{'calories': 45, 'fat': 0.4, 'sugar': 9.1, 'ca...</td>\n",
              "    </tr>\n",
              "    <tr>\n",
              "      <th>27</th>\n",
              "      <td>Pitahaya</td>\n",
              "      <td>78</td>\n",
              "      <td>Cactaceae</td>\n",
              "      <td>Caryophyllales</td>\n",
              "      <td>Cactaceae</td>\n",
              "      <td>{'calories': 36, 'fat': 0.4, 'sugar': 3.0, 'ca...</td>\n",
              "    </tr>\n",
              "    <tr>\n",
              "      <th>28</th>\n",
              "      <td>Lime</td>\n",
              "      <td>44</td>\n",
              "      <td>Rutaceae</td>\n",
              "      <td>Sapindales</td>\n",
              "      <td>Citrus</td>\n",
              "      <td>{'calories': 25, 'fat': 0.1, 'sugar': 1.7, 'ca...</td>\n",
              "    </tr>\n",
              "    <tr>\n",
              "      <th>29</th>\n",
              "      <td>Pomegranate</td>\n",
              "      <td>79</td>\n",
              "      <td>Lythraceae</td>\n",
              "      <td>Myrtales</td>\n",
              "      <td>Punica</td>\n",
              "      <td>{'calories': 83, 'fat': 1.2, 'sugar': 13.7, 'c...</td>\n",
              "    </tr>\n",
              "    <tr>\n",
              "      <th>30</th>\n",
              "      <td>Dragonfruit</td>\n",
              "      <td>80</td>\n",
              "      <td>Cactaceae</td>\n",
              "      <td>Caryophyllales</td>\n",
              "      <td>Selenicereus</td>\n",
              "      <td>{'calories': 60, 'fat': 1.5, 'sugar': 8.0, 'ca...</td>\n",
              "    </tr>\n",
              "    <tr>\n",
              "      <th>31</th>\n",
              "      <td>Grape</td>\n",
              "      <td>81</td>\n",
              "      <td>Vitaceae</td>\n",
              "      <td>Vitales</td>\n",
              "      <td>Vitis</td>\n",
              "      <td>{'calories': 69, 'fat': 0.16, 'sugar': 16.0, '...</td>\n",
              "    </tr>\n",
              "    <tr>\n",
              "      <th>32</th>\n",
              "      <td>Morus</td>\n",
              "      <td>82</td>\n",
              "      <td>Moraceae</td>\n",
              "      <td>Rosales</td>\n",
              "      <td>Morus</td>\n",
              "      <td>{'calories': 43, 'fat': 0.39, 'sugar': 8.1, 'c...</td>\n",
              "    </tr>\n",
              "    <tr>\n",
              "      <th>33</th>\n",
              "      <td>Feijoa</td>\n",
              "      <td>76</td>\n",
              "      <td>Myrtaceae</td>\n",
              "      <td>Myrtoideae</td>\n",
              "      <td>Sellowiana</td>\n",
              "      <td>{'calories': 44, 'fat': 0.4, 'sugar': 3.0, 'ca...</td>\n",
              "    </tr>\n",
              "    <tr>\n",
              "      <th>34</th>\n",
              "      <td>Avocado</td>\n",
              "      <td>84</td>\n",
              "      <td>Lauraceae</td>\n",
              "      <td>Laurales</td>\n",
              "      <td>Persea</td>\n",
              "      <td>{'calories': 160, 'fat': 14.66, 'sugar': 0.66,...</td>\n",
              "    </tr>\n",
              "    <tr>\n",
              "      <th>35</th>\n",
              "      <td>Kiwifruit</td>\n",
              "      <td>85</td>\n",
              "      <td>Actinidiaceae</td>\n",
              "      <td>Ericales</td>\n",
              "      <td>Actinidia</td>\n",
              "      <td>{'calories': 61, 'fat': 0.5, 'sugar': 8.9, 'ca...</td>\n",
              "    </tr>\n",
              "    <tr>\n",
              "      <th>36</th>\n",
              "      <td>Cranberry</td>\n",
              "      <td>87</td>\n",
              "      <td>Ericaceae</td>\n",
              "      <td>Ericales</td>\n",
              "      <td>Vaccinium</td>\n",
              "      <td>{'calories': 46, 'fat': 0.1, 'sugar': 4.0, 'ca...</td>\n",
              "    </tr>\n",
              "    <tr>\n",
              "      <th>37</th>\n",
              "      <td>Cherry</td>\n",
              "      <td>9</td>\n",
              "      <td>Rosaceae</td>\n",
              "      <td>Rosales</td>\n",
              "      <td>Prunus</td>\n",
              "      <td>{'calories': 50, 'fat': 0.3, 'sugar': 8.0, 'ca...</td>\n",
              "    </tr>\n",
              "    <tr>\n",
              "      <th>38</th>\n",
              "      <td>Peach</td>\n",
              "      <td>86</td>\n",
              "      <td>Rosaceae</td>\n",
              "      <td>Rosales</td>\n",
              "      <td>Prunus</td>\n",
              "      <td>{'calories': 39, 'fat': 0.25, 'sugar': 8.4, 'c...</td>\n",
              "    </tr>\n",
              "    <tr>\n",
              "      <th>39</th>\n",
              "      <td>Jackfruit</td>\n",
              "      <td>94</td>\n",
              "      <td>Moraceae</td>\n",
              "      <td>Rosales</td>\n",
              "      <td>Artocarpus</td>\n",
              "      <td>{'calories': 95, 'fat': 0.0, 'sugar': 19.1, 'c...</td>\n",
              "    </tr>\n",
              "    <tr>\n",
              "      <th>40</th>\n",
              "      <td>Horned Melon</td>\n",
              "      <td>95</td>\n",
              "      <td>Cucurbitaceae</td>\n",
              "      <td>Cucurbitales</td>\n",
              "      <td>Cucumis</td>\n",
              "      <td>{'calories': 44, 'fat': 1.26, 'sugar': 0.5, 'c...</td>\n",
              "    </tr>\n",
              "    <tr>\n",
              "      <th>41</th>\n",
              "      <td>Hazelnut</td>\n",
              "      <td>96</td>\n",
              "      <td>Betulaceae</td>\n",
              "      <td>Fagales</td>\n",
              "      <td>Corylus</td>\n",
              "      <td>{'calories': 628, 'fat': 61.0, 'sugar': 4.3, '...</td>\n",
              "    </tr>\n",
              "    <tr>\n",
              "      <th>42</th>\n",
              "      <td>Pomelo</td>\n",
              "      <td>98</td>\n",
              "      <td>Rutaceae</td>\n",
              "      <td>Sapindales</td>\n",
              "      <td>Citrus</td>\n",
              "      <td>{'calories': 37, 'fat': 0.0, 'sugar': 8.5, 'ca...</td>\n",
              "    </tr>\n",
              "    <tr>\n",
              "      <th>43</th>\n",
              "      <td>Mangosteen</td>\n",
              "      <td>99</td>\n",
              "      <td>Clusiaceae</td>\n",
              "      <td>Malpighiales</td>\n",
              "      <td>Garcinia</td>\n",
              "      <td>{'calories': 73, 'fat': 0.58, 'sugar': 16.11, ...</td>\n",
              "    </tr>\n",
              "    <tr>\n",
              "      <th>44</th>\n",
              "      <td>Pumpkin</td>\n",
              "      <td>100</td>\n",
              "      <td>Cucurbitaceae</td>\n",
              "      <td>Cucurbitales</td>\n",
              "      <td>Cucurbita</td>\n",
              "      <td>{'calories': 25, 'fat': 0.3, 'sugar': 3.3, 'ca...</td>\n",
              "    </tr>\n",
              "    <tr>\n",
              "      <th>45</th>\n",
              "      <td>Japanese Persimmon</td>\n",
              "      <td>101</td>\n",
              "      <td>Ebenaceae</td>\n",
              "      <td>Ericales</td>\n",
              "      <td>Diospyros</td>\n",
              "      <td>{'calories': 70, 'fat': 0.2, 'sugar': 13.0, 'c...</td>\n",
              "    </tr>\n",
              "    <tr>\n",
              "      <th>46</th>\n",
              "      <td>Papaya</td>\n",
              "      <td>42</td>\n",
              "      <td>Caricaceae</td>\n",
              "      <td>Brassicales</td>\n",
              "      <td>Carica</td>\n",
              "      <td>{'calories': 39, 'fat': 0.3, 'sugar': 4.4, 'ca...</td>\n",
              "    </tr>\n",
              "    <tr>\n",
              "      <th>47</th>\n",
              "      <td>Annona</td>\n",
              "      <td>103</td>\n",
              "      <td>Annonaceae</td>\n",
              "      <td>Rosales</td>\n",
              "      <td>Annonas</td>\n",
              "      <td>{'calories': 92, 'fat': 0.29, 'sugar': 3.4, 'c...</td>\n",
              "    </tr>\n",
              "    <tr>\n",
              "      <th>48</th>\n",
              "      <td>Ceylon Gooseberry</td>\n",
              "      <td>104</td>\n",
              "      <td>Salicaceae</td>\n",
              "      <td>Malpighiales</td>\n",
              "      <td>Dovyalis</td>\n",
              "      <td>{'calories': 47, 'fat': 0.3, 'sugar': 8.1, 'ca...</td>\n",
              "    </tr>\n",
              "  </tbody>\n",
              "</table>\n",
              "</div>\n",
              "    <div class=\"colab-df-buttons\">\n",
              "\n",
              "  <div class=\"colab-df-container\">\n",
              "    <button class=\"colab-df-convert\" onclick=\"convertToInteractive('df-4d4b3a2a-03c6-4b13-9e60-e5c9b920e95c')\"\n",
              "            title=\"Convert this dataframe to an interactive table.\"\n",
              "            style=\"display:none;\">\n",
              "\n",
              "  <svg xmlns=\"http://www.w3.org/2000/svg\" height=\"24px\" viewBox=\"0 -960 960 960\">\n",
              "    <path d=\"M120-120v-720h720v720H120Zm60-500h600v-160H180v160Zm220 220h160v-160H400v160Zm0 220h160v-160H400v160ZM180-400h160v-160H180v160Zm440 0h160v-160H620v160ZM180-180h160v-160H180v160Zm440 0h160v-160H620v160Z\"/>\n",
              "  </svg>\n",
              "    </button>\n",
              "\n",
              "  <style>\n",
              "    .colab-df-container {\n",
              "      display:flex;\n",
              "      gap: 12px;\n",
              "    }\n",
              "\n",
              "    .colab-df-convert {\n",
              "      background-color: #E8F0FE;\n",
              "      border: none;\n",
              "      border-radius: 50%;\n",
              "      cursor: pointer;\n",
              "      display: none;\n",
              "      fill: #1967D2;\n",
              "      height: 32px;\n",
              "      padding: 0 0 0 0;\n",
              "      width: 32px;\n",
              "    }\n",
              "\n",
              "    .colab-df-convert:hover {\n",
              "      background-color: #E2EBFA;\n",
              "      box-shadow: 0px 1px 2px rgba(60, 64, 67, 0.3), 0px 1px 3px 1px rgba(60, 64, 67, 0.15);\n",
              "      fill: #174EA6;\n",
              "    }\n",
              "\n",
              "    .colab-df-buttons div {\n",
              "      margin-bottom: 4px;\n",
              "    }\n",
              "\n",
              "    [theme=dark] .colab-df-convert {\n",
              "      background-color: #3B4455;\n",
              "      fill: #D2E3FC;\n",
              "    }\n",
              "\n",
              "    [theme=dark] .colab-df-convert:hover {\n",
              "      background-color: #434B5C;\n",
              "      box-shadow: 0px 1px 3px 1px rgba(0, 0, 0, 0.15);\n",
              "      filter: drop-shadow(0px 1px 2px rgba(0, 0, 0, 0.3));\n",
              "      fill: #FFFFFF;\n",
              "    }\n",
              "  </style>\n",
              "\n",
              "    <script>\n",
              "      const buttonEl =\n",
              "        document.querySelector('#df-4d4b3a2a-03c6-4b13-9e60-e5c9b920e95c button.colab-df-convert');\n",
              "      buttonEl.style.display =\n",
              "        google.colab.kernel.accessAllowed ? 'block' : 'none';\n",
              "\n",
              "      async function convertToInteractive(key) {\n",
              "        const element = document.querySelector('#df-4d4b3a2a-03c6-4b13-9e60-e5c9b920e95c');\n",
              "        const dataTable =\n",
              "          await google.colab.kernel.invokeFunction('convertToInteractive',\n",
              "                                                    [key], {});\n",
              "        if (!dataTable) return;\n",
              "\n",
              "        const docLinkHtml = 'Like what you see? Visit the ' +\n",
              "          '<a target=\"_blank\" href=https://colab.research.google.com/notebooks/data_table.ipynb>data table notebook</a>'\n",
              "          + ' to learn more about interactive tables.';\n",
              "        element.innerHTML = '';\n",
              "        dataTable['output_type'] = 'display_data';\n",
              "        await google.colab.output.renderOutput(dataTable, element);\n",
              "        const docLink = document.createElement('div');\n",
              "        docLink.innerHTML = docLinkHtml;\n",
              "        element.appendChild(docLink);\n",
              "      }\n",
              "    </script>\n",
              "  </div>\n",
              "\n",
              "\n",
              "    <div id=\"df-1c601b29-36fd-40df-a579-9d545174b82a\">\n",
              "      <button class=\"colab-df-quickchart\" onclick=\"quickchart('df-1c601b29-36fd-40df-a579-9d545174b82a')\"\n",
              "                title=\"Suggest charts\"\n",
              "                style=\"display:none;\">\n",
              "\n",
              "<svg xmlns=\"http://www.w3.org/2000/svg\" height=\"24px\"viewBox=\"0 0 24 24\"\n",
              "     width=\"24px\">\n",
              "    <g>\n",
              "        <path d=\"M19 3H5c-1.1 0-2 .9-2 2v14c0 1.1.9 2 2 2h14c1.1 0 2-.9 2-2V5c0-1.1-.9-2-2-2zM9 17H7v-7h2v7zm4 0h-2V7h2v10zm4 0h-2v-4h2v4z\"/>\n",
              "    </g>\n",
              "</svg>\n",
              "      </button>\n",
              "\n",
              "<style>\n",
              "  .colab-df-quickchart {\n",
              "      --bg-color: #E8F0FE;\n",
              "      --fill-color: #1967D2;\n",
              "      --hover-bg-color: #E2EBFA;\n",
              "      --hover-fill-color: #174EA6;\n",
              "      --disabled-fill-color: #AAA;\n",
              "      --disabled-bg-color: #DDD;\n",
              "  }\n",
              "\n",
              "  [theme=dark] .colab-df-quickchart {\n",
              "      --bg-color: #3B4455;\n",
              "      --fill-color: #D2E3FC;\n",
              "      --hover-bg-color: #434B5C;\n",
              "      --hover-fill-color: #FFFFFF;\n",
              "      --disabled-bg-color: #3B4455;\n",
              "      --disabled-fill-color: #666;\n",
              "  }\n",
              "\n",
              "  .colab-df-quickchart {\n",
              "    background-color: var(--bg-color);\n",
              "    border: none;\n",
              "    border-radius: 50%;\n",
              "    cursor: pointer;\n",
              "    display: none;\n",
              "    fill: var(--fill-color);\n",
              "    height: 32px;\n",
              "    padding: 0;\n",
              "    width: 32px;\n",
              "  }\n",
              "\n",
              "  .colab-df-quickchart:hover {\n",
              "    background-color: var(--hover-bg-color);\n",
              "    box-shadow: 0 1px 2px rgba(60, 64, 67, 0.3), 0 1px 3px 1px rgba(60, 64, 67, 0.15);\n",
              "    fill: var(--button-hover-fill-color);\n",
              "  }\n",
              "\n",
              "  .colab-df-quickchart-complete:disabled,\n",
              "  .colab-df-quickchart-complete:disabled:hover {\n",
              "    background-color: var(--disabled-bg-color);\n",
              "    fill: var(--disabled-fill-color);\n",
              "    box-shadow: none;\n",
              "  }\n",
              "\n",
              "  .colab-df-spinner {\n",
              "    border: 2px solid var(--fill-color);\n",
              "    border-color: transparent;\n",
              "    border-bottom-color: var(--fill-color);\n",
              "    animation:\n",
              "      spin 1s steps(1) infinite;\n",
              "  }\n",
              "\n",
              "  @keyframes spin {\n",
              "    0% {\n",
              "      border-color: transparent;\n",
              "      border-bottom-color: var(--fill-color);\n",
              "      border-left-color: var(--fill-color);\n",
              "    }\n",
              "    20% {\n",
              "      border-color: transparent;\n",
              "      border-left-color: var(--fill-color);\n",
              "      border-top-color: var(--fill-color);\n",
              "    }\n",
              "    30% {\n",
              "      border-color: transparent;\n",
              "      border-left-color: var(--fill-color);\n",
              "      border-top-color: var(--fill-color);\n",
              "      border-right-color: var(--fill-color);\n",
              "    }\n",
              "    40% {\n",
              "      border-color: transparent;\n",
              "      border-right-color: var(--fill-color);\n",
              "      border-top-color: var(--fill-color);\n",
              "    }\n",
              "    60% {\n",
              "      border-color: transparent;\n",
              "      border-right-color: var(--fill-color);\n",
              "    }\n",
              "    80% {\n",
              "      border-color: transparent;\n",
              "      border-right-color: var(--fill-color);\n",
              "      border-bottom-color: var(--fill-color);\n",
              "    }\n",
              "    90% {\n",
              "      border-color: transparent;\n",
              "      border-bottom-color: var(--fill-color);\n",
              "    }\n",
              "  }\n",
              "</style>\n",
              "\n",
              "      <script>\n",
              "        async function quickchart(key) {\n",
              "          const quickchartButtonEl =\n",
              "            document.querySelector('#' + key + ' button');\n",
              "          quickchartButtonEl.disabled = true;  // To prevent multiple clicks.\n",
              "          quickchartButtonEl.classList.add('colab-df-spinner');\n",
              "          try {\n",
              "            const charts = await google.colab.kernel.invokeFunction(\n",
              "                'suggestCharts', [key], {});\n",
              "          } catch (error) {\n",
              "            console.error('Error during call to suggestCharts:', error);\n",
              "          }\n",
              "          quickchartButtonEl.classList.remove('colab-df-spinner');\n",
              "          quickchartButtonEl.classList.add('colab-df-quickchart-complete');\n",
              "        }\n",
              "        (() => {\n",
              "          let quickchartButtonEl =\n",
              "            document.querySelector('#df-1c601b29-36fd-40df-a579-9d545174b82a button');\n",
              "          quickchartButtonEl.style.display =\n",
              "            google.colab.kernel.accessAllowed ? 'block' : 'none';\n",
              "        })();\n",
              "      </script>\n",
              "    </div>\n",
              "\n",
              "    </div>\n",
              "  </div>\n"
            ],
            "application/vnd.google.colaboratory.intrinsic+json": {
              "type": "dataframe",
              "summary": "{\n  \"name\": \"pd\",\n  \"rows\": 49,\n  \"fields\": [\n    {\n      \"column\": \"name\",\n      \"properties\": {\n        \"dtype\": \"string\",\n        \"num_unique_values\": 49,\n        \"samples\": [\n          \"Passionfruit\",\n          \"Japanese Persimmon\",\n          \"Annona\"\n        ],\n        \"semantic_type\": \"\",\n        \"description\": \"\"\n      }\n    },\n    {\n      \"column\": \"id\",\n      \"properties\": {\n        \"dtype\": \"number\",\n        \"std\": 32,\n        \"min\": 1,\n        \"max\": 104,\n        \"num_unique_values\": 49,\n        \"samples\": [\n          70,\n          101,\n          103\n        ],\n        \"semantic_type\": \"\",\n        \"description\": \"\"\n      }\n    },\n    {\n      \"column\": \"family\",\n      \"properties\": {\n        \"dtype\": \"string\",\n        \"num_unique_values\": 26,\n        \"samples\": [\n          \"Bromeliaceae\",\n          \"Cactaceae\",\n          \"Ebenaceae\"\n        ],\n        \"semantic_type\": \"\",\n        \"description\": \"\"\n      }\n    },\n    {\n      \"column\": \"order\",\n      \"properties\": {\n        \"dtype\": \"category\",\n        \"num_unique_values\": 20,\n        \"samples\": [\n          \"Rosales\",\n          \"Fagales\",\n          \"Myrtoideae\"\n        ],\n        \"semantic_type\": \"\",\n        \"description\": \"\"\n      }\n    },\n    {\n      \"column\": \"genus\",\n      \"properties\": {\n        \"dtype\": \"string\",\n        \"num_unique_values\": 36,\n        \"samples\": [\n          \"Dovyalis\",\n          \"Passiflora\",\n          \"Sellowiana\"\n        ],\n        \"semantic_type\": \"\",\n        \"description\": \"\"\n      }\n    },\n    {\n      \"column\": \"nutritions\",\n      \"properties\": {\n        \"dtype\": \"object\",\n        \"semantic_type\": \"\",\n        \"description\": \"\"\n      }\n    }\n  ]\n}"
            }
          },
          "metadata": {},
          "execution_count": 11
        }
      ]
    },
    {
      "cell_type": "code",
      "source": [
        "# The result is in a nested json format\n",
        "# The 'nutrition' column contains multiple subcolumns, so the data needs to be 'flattened' or normalized\n",
        "df2 = pd.json_normalize(results)\n",
        "df2"
      ],
      "metadata": {
        "colab": {
          "base_uri": "https://localhost:8080/",
          "height": 1000
        },
        "id": "QuRizNci-r7a",
        "outputId": "2c89c12a-239f-4c2f-9d20-6138ce2612b5"
      },
      "execution_count": 12,
      "outputs": [
        {
          "output_type": "execute_result",
          "data": {
            "text/plain": [
              "                  name   id           family             order         genus  \\\n",
              "0            Persimmon   52        Ebenaceae           Rosales     Diospyros   \n",
              "1           Strawberry    3         Rosaceae           Rosales      Fragaria   \n",
              "2               Banana    1         Musaceae      Zingiberales          Musa   \n",
              "3               Tomato    5       Solanaceae         Solanales       Solanum   \n",
              "4                 Pear    4         Rosaceae           Rosales         Pyrus   \n",
              "5               Durian   60        Malvaceae          Malvales         Durio   \n",
              "6           Blackberry   64         Rosaceae           Rosales         Rubus   \n",
              "7          Lingonberry   65        Ericaceae          Ericales     Vaccinium   \n",
              "8                 Kiwi   66    Actinidiaceae  Struthioniformes       Apteryx   \n",
              "9               Lychee   67      Sapindaceae        Sapindales        Litchi   \n",
              "10           Pineapple   10     Bromeliaceae            Poales        Ananas   \n",
              "11                 Fig   68         Moraceae           Rosales         Ficus   \n",
              "12          Gooseberry   69  Grossulariaceae      Saxifragales         Ribes   \n",
              "13        Passionfruit   70   Passifloraceae      Malpighiales    Passiflora   \n",
              "14                Plum   71         Rosaceae           Rosales        Prunus   \n",
              "15              Orange    2         Rutaceae        Sapindales        Citrus   \n",
              "16          GreenApple   72         Rosaceae           Rosales         Malus   \n",
              "17           Raspberry   23         Rosaceae           Rosales         Rubus   \n",
              "18          Watermelon   25    Cucurbitaceae      Cucurbitales     Citrullus   \n",
              "19               Lemon   26         Rutaceae        Sapindales        Citrus   \n",
              "20               Mango   27    Anacardiaceae        Sapindales     Mangifera   \n",
              "21           Blueberry   33         Rosaceae           Rosales      Fragaria   \n",
              "22               Apple    6         Rosaceae           Rosales         Malus   \n",
              "23               Guava   37        Myrtaceae          Myrtales       Psidium   \n",
              "24             Apricot   35         Rosaceae           Rosales        Prunus   \n",
              "25               Melon   41    Cucurbitaceae     Cucurbitaceae       Cucumis   \n",
              "26           Tangerine   77         Rutaceae        Sapindales        Citrus   \n",
              "27            Pitahaya   78        Cactaceae    Caryophyllales     Cactaceae   \n",
              "28                Lime   44         Rutaceae        Sapindales        Citrus   \n",
              "29         Pomegranate   79       Lythraceae          Myrtales        Punica   \n",
              "30         Dragonfruit   80        Cactaceae    Caryophyllales  Selenicereus   \n",
              "31               Grape   81         Vitaceae           Vitales         Vitis   \n",
              "32               Morus   82         Moraceae           Rosales         Morus   \n",
              "33              Feijoa   76        Myrtaceae        Myrtoideae    Sellowiana   \n",
              "34             Avocado   84        Lauraceae          Laurales        Persea   \n",
              "35           Kiwifruit   85    Actinidiaceae          Ericales     Actinidia   \n",
              "36           Cranberry   87        Ericaceae          Ericales     Vaccinium   \n",
              "37              Cherry    9         Rosaceae           Rosales        Prunus   \n",
              "38               Peach   86         Rosaceae           Rosales        Prunus   \n",
              "39           Jackfruit   94         Moraceae           Rosales    Artocarpus   \n",
              "40        Horned Melon   95    Cucurbitaceae      Cucurbitales       Cucumis   \n",
              "41            Hazelnut   96       Betulaceae           Fagales       Corylus   \n",
              "42              Pomelo   98         Rutaceae        Sapindales        Citrus   \n",
              "43          Mangosteen   99       Clusiaceae      Malpighiales      Garcinia   \n",
              "44             Pumpkin  100    Cucurbitaceae      Cucurbitales     Cucurbita   \n",
              "45  Japanese Persimmon  101        Ebenaceae          Ericales     Diospyros   \n",
              "46              Papaya   42       Caricaceae       Brassicales        Carica   \n",
              "47              Annona  103       Annonaceae           Rosales       Annonas   \n",
              "48   Ceylon Gooseberry  104       Salicaceae      Malpighiales      Dovyalis   \n",
              "\n",
              "    nutritions.calories  nutritions.fat  nutritions.sugar  \\\n",
              "0                    81            0.00             18.00   \n",
              "1                    29            0.40              5.40   \n",
              "2                    96            0.20             17.20   \n",
              "3                    74            0.20              2.60   \n",
              "4                    57            0.10             10.00   \n",
              "5                   147            5.30              6.75   \n",
              "6                    40            0.40              4.50   \n",
              "7                    50            0.34              5.74   \n",
              "8                    61            0.50              9.00   \n",
              "9                    66            0.44             15.00   \n",
              "10                   50            0.12              9.85   \n",
              "11                   74            0.30             16.00   \n",
              "12                   44            0.60              0.00   \n",
              "13                   97            0.70             11.20   \n",
              "14                   46            0.28              9.92   \n",
              "15                   43            0.20              8.20   \n",
              "16                   21            0.10              6.40   \n",
              "17                   53            0.70              4.40   \n",
              "18                   30            0.20              6.00   \n",
              "19                   29            0.30              2.50   \n",
              "20                   60            0.38             13.70   \n",
              "21                   29            0.40              5.40   \n",
              "22                   52            0.40             10.30   \n",
              "23                   68            1.00              9.00   \n",
              "24                   15            0.10              3.20   \n",
              "25                   34            0.00              8.00   \n",
              "26                   45            0.40              9.10   \n",
              "27                   36            0.40              3.00   \n",
              "28                   25            0.10              1.70   \n",
              "29                   83            1.20             13.70   \n",
              "30                   60            1.50              8.00   \n",
              "31                   69            0.16             16.00   \n",
              "32                   43            0.39              8.10   \n",
              "33                   44            0.40              3.00   \n",
              "34                  160           14.66              0.66   \n",
              "35                   61            0.50              8.90   \n",
              "36                   46            0.10              4.00   \n",
              "37                   50            0.30              8.00   \n",
              "38                   39            0.25              8.40   \n",
              "39                   95            0.00             19.10   \n",
              "40                   44            1.26              0.50   \n",
              "41                  628           61.00              4.30   \n",
              "42                   37            0.00              8.50   \n",
              "43                   73            0.58             16.11   \n",
              "44                   25            0.30              3.30   \n",
              "45                   70            0.20             13.00   \n",
              "46                   39            0.30              4.40   \n",
              "47                   92            0.29              3.40   \n",
              "48                   47            0.30              8.10   \n",
              "\n",
              "    nutritions.carbohydrates  nutritions.protein  \n",
              "0                      18.00                0.00  \n",
              "1                       5.50                0.80  \n",
              "2                      22.00                1.00  \n",
              "3                       3.90                0.90  \n",
              "4                      15.00                0.40  \n",
              "5                      27.10                1.50  \n",
              "6                       9.00                1.30  \n",
              "7                      11.30                0.75  \n",
              "8                      15.00                1.10  \n",
              "9                      17.00                0.80  \n",
              "10                     13.12                0.54  \n",
              "11                     19.00                0.80  \n",
              "12                     10.00                0.90  \n",
              "13                     22.40                2.20  \n",
              "14                     11.40                0.70  \n",
              "15                      8.30                1.00  \n",
              "16                      3.10                0.40  \n",
              "17                     12.00                1.20  \n",
              "18                      8.00                0.60  \n",
              "19                      9.00                1.10  \n",
              "20                     15.00                0.82  \n",
              "21                      5.50                0.00  \n",
              "22                     11.40                0.30  \n",
              "23                     14.00                2.60  \n",
              "24                      3.90                0.50  \n",
              "25                      8.00                0.00  \n",
              "26                      8.30                0.00  \n",
              "27                      7.00                1.00  \n",
              "28                      8.40                0.30  \n",
              "29                     18.70                1.70  \n",
              "30                      9.00                9.00  \n",
              "31                     18.10                0.72  \n",
              "32                      9.80                1.44  \n",
              "33                      8.00                0.60  \n",
              "34                      8.53                2.00  \n",
              "35                     14.60                1.14  \n",
              "36                     12.20                0.40  \n",
              "37                     12.00                1.00  \n",
              "38                      9.50                0.90  \n",
              "39                     23.20                1.72  \n",
              "40                      7.56                1.78  \n",
              "41                     17.00               15.00  \n",
              "42                      9.67                0.82  \n",
              "43                     17.91                0.41  \n",
              "44                      4.60                1.10  \n",
              "45                     19.00                0.60  \n",
              "46                      5.80                0.50  \n",
              "47                     19.10                1.50  \n",
              "48                      9.60                1.20  "
            ],
            "text/html": [
              "\n",
              "  <div id=\"df-5f07013b-bd25-4fe0-a37b-0a273dc3b231\" class=\"colab-df-container\">\n",
              "    <div>\n",
              "<style scoped>\n",
              "    .dataframe tbody tr th:only-of-type {\n",
              "        vertical-align: middle;\n",
              "    }\n",
              "\n",
              "    .dataframe tbody tr th {\n",
              "        vertical-align: top;\n",
              "    }\n",
              "\n",
              "    .dataframe thead th {\n",
              "        text-align: right;\n",
              "    }\n",
              "</style>\n",
              "<table border=\"1\" class=\"dataframe\">\n",
              "  <thead>\n",
              "    <tr style=\"text-align: right;\">\n",
              "      <th></th>\n",
              "      <th>name</th>\n",
              "      <th>id</th>\n",
              "      <th>family</th>\n",
              "      <th>order</th>\n",
              "      <th>genus</th>\n",
              "      <th>nutritions.calories</th>\n",
              "      <th>nutritions.fat</th>\n",
              "      <th>nutritions.sugar</th>\n",
              "      <th>nutritions.carbohydrates</th>\n",
              "      <th>nutritions.protein</th>\n",
              "    </tr>\n",
              "  </thead>\n",
              "  <tbody>\n",
              "    <tr>\n",
              "      <th>0</th>\n",
              "      <td>Persimmon</td>\n",
              "      <td>52</td>\n",
              "      <td>Ebenaceae</td>\n",
              "      <td>Rosales</td>\n",
              "      <td>Diospyros</td>\n",
              "      <td>81</td>\n",
              "      <td>0.00</td>\n",
              "      <td>18.00</td>\n",
              "      <td>18.00</td>\n",
              "      <td>0.00</td>\n",
              "    </tr>\n",
              "    <tr>\n",
              "      <th>1</th>\n",
              "      <td>Strawberry</td>\n",
              "      <td>3</td>\n",
              "      <td>Rosaceae</td>\n",
              "      <td>Rosales</td>\n",
              "      <td>Fragaria</td>\n",
              "      <td>29</td>\n",
              "      <td>0.40</td>\n",
              "      <td>5.40</td>\n",
              "      <td>5.50</td>\n",
              "      <td>0.80</td>\n",
              "    </tr>\n",
              "    <tr>\n",
              "      <th>2</th>\n",
              "      <td>Banana</td>\n",
              "      <td>1</td>\n",
              "      <td>Musaceae</td>\n",
              "      <td>Zingiberales</td>\n",
              "      <td>Musa</td>\n",
              "      <td>96</td>\n",
              "      <td>0.20</td>\n",
              "      <td>17.20</td>\n",
              "      <td>22.00</td>\n",
              "      <td>1.00</td>\n",
              "    </tr>\n",
              "    <tr>\n",
              "      <th>3</th>\n",
              "      <td>Tomato</td>\n",
              "      <td>5</td>\n",
              "      <td>Solanaceae</td>\n",
              "      <td>Solanales</td>\n",
              "      <td>Solanum</td>\n",
              "      <td>74</td>\n",
              "      <td>0.20</td>\n",
              "      <td>2.60</td>\n",
              "      <td>3.90</td>\n",
              "      <td>0.90</td>\n",
              "    </tr>\n",
              "    <tr>\n",
              "      <th>4</th>\n",
              "      <td>Pear</td>\n",
              "      <td>4</td>\n",
              "      <td>Rosaceae</td>\n",
              "      <td>Rosales</td>\n",
              "      <td>Pyrus</td>\n",
              "      <td>57</td>\n",
              "      <td>0.10</td>\n",
              "      <td>10.00</td>\n",
              "      <td>15.00</td>\n",
              "      <td>0.40</td>\n",
              "    </tr>\n",
              "    <tr>\n",
              "      <th>5</th>\n",
              "      <td>Durian</td>\n",
              "      <td>60</td>\n",
              "      <td>Malvaceae</td>\n",
              "      <td>Malvales</td>\n",
              "      <td>Durio</td>\n",
              "      <td>147</td>\n",
              "      <td>5.30</td>\n",
              "      <td>6.75</td>\n",
              "      <td>27.10</td>\n",
              "      <td>1.50</td>\n",
              "    </tr>\n",
              "    <tr>\n",
              "      <th>6</th>\n",
              "      <td>Blackberry</td>\n",
              "      <td>64</td>\n",
              "      <td>Rosaceae</td>\n",
              "      <td>Rosales</td>\n",
              "      <td>Rubus</td>\n",
              "      <td>40</td>\n",
              "      <td>0.40</td>\n",
              "      <td>4.50</td>\n",
              "      <td>9.00</td>\n",
              "      <td>1.30</td>\n",
              "    </tr>\n",
              "    <tr>\n",
              "      <th>7</th>\n",
              "      <td>Lingonberry</td>\n",
              "      <td>65</td>\n",
              "      <td>Ericaceae</td>\n",
              "      <td>Ericales</td>\n",
              "      <td>Vaccinium</td>\n",
              "      <td>50</td>\n",
              "      <td>0.34</td>\n",
              "      <td>5.74</td>\n",
              "      <td>11.30</td>\n",
              "      <td>0.75</td>\n",
              "    </tr>\n",
              "    <tr>\n",
              "      <th>8</th>\n",
              "      <td>Kiwi</td>\n",
              "      <td>66</td>\n",
              "      <td>Actinidiaceae</td>\n",
              "      <td>Struthioniformes</td>\n",
              "      <td>Apteryx</td>\n",
              "      <td>61</td>\n",
              "      <td>0.50</td>\n",
              "      <td>9.00</td>\n",
              "      <td>15.00</td>\n",
              "      <td>1.10</td>\n",
              "    </tr>\n",
              "    <tr>\n",
              "      <th>9</th>\n",
              "      <td>Lychee</td>\n",
              "      <td>67</td>\n",
              "      <td>Sapindaceae</td>\n",
              "      <td>Sapindales</td>\n",
              "      <td>Litchi</td>\n",
              "      <td>66</td>\n",
              "      <td>0.44</td>\n",
              "      <td>15.00</td>\n",
              "      <td>17.00</td>\n",
              "      <td>0.80</td>\n",
              "    </tr>\n",
              "    <tr>\n",
              "      <th>10</th>\n",
              "      <td>Pineapple</td>\n",
              "      <td>10</td>\n",
              "      <td>Bromeliaceae</td>\n",
              "      <td>Poales</td>\n",
              "      <td>Ananas</td>\n",
              "      <td>50</td>\n",
              "      <td>0.12</td>\n",
              "      <td>9.85</td>\n",
              "      <td>13.12</td>\n",
              "      <td>0.54</td>\n",
              "    </tr>\n",
              "    <tr>\n",
              "      <th>11</th>\n",
              "      <td>Fig</td>\n",
              "      <td>68</td>\n",
              "      <td>Moraceae</td>\n",
              "      <td>Rosales</td>\n",
              "      <td>Ficus</td>\n",
              "      <td>74</td>\n",
              "      <td>0.30</td>\n",
              "      <td>16.00</td>\n",
              "      <td>19.00</td>\n",
              "      <td>0.80</td>\n",
              "    </tr>\n",
              "    <tr>\n",
              "      <th>12</th>\n",
              "      <td>Gooseberry</td>\n",
              "      <td>69</td>\n",
              "      <td>Grossulariaceae</td>\n",
              "      <td>Saxifragales</td>\n",
              "      <td>Ribes</td>\n",
              "      <td>44</td>\n",
              "      <td>0.60</td>\n",
              "      <td>0.00</td>\n",
              "      <td>10.00</td>\n",
              "      <td>0.90</td>\n",
              "    </tr>\n",
              "    <tr>\n",
              "      <th>13</th>\n",
              "      <td>Passionfruit</td>\n",
              "      <td>70</td>\n",
              "      <td>Passifloraceae</td>\n",
              "      <td>Malpighiales</td>\n",
              "      <td>Passiflora</td>\n",
              "      <td>97</td>\n",
              "      <td>0.70</td>\n",
              "      <td>11.20</td>\n",
              "      <td>22.40</td>\n",
              "      <td>2.20</td>\n",
              "    </tr>\n",
              "    <tr>\n",
              "      <th>14</th>\n",
              "      <td>Plum</td>\n",
              "      <td>71</td>\n",
              "      <td>Rosaceae</td>\n",
              "      <td>Rosales</td>\n",
              "      <td>Prunus</td>\n",
              "      <td>46</td>\n",
              "      <td>0.28</td>\n",
              "      <td>9.92</td>\n",
              "      <td>11.40</td>\n",
              "      <td>0.70</td>\n",
              "    </tr>\n",
              "    <tr>\n",
              "      <th>15</th>\n",
              "      <td>Orange</td>\n",
              "      <td>2</td>\n",
              "      <td>Rutaceae</td>\n",
              "      <td>Sapindales</td>\n",
              "      <td>Citrus</td>\n",
              "      <td>43</td>\n",
              "      <td>0.20</td>\n",
              "      <td>8.20</td>\n",
              "      <td>8.30</td>\n",
              "      <td>1.00</td>\n",
              "    </tr>\n",
              "    <tr>\n",
              "      <th>16</th>\n",
              "      <td>GreenApple</td>\n",
              "      <td>72</td>\n",
              "      <td>Rosaceae</td>\n",
              "      <td>Rosales</td>\n",
              "      <td>Malus</td>\n",
              "      <td>21</td>\n",
              "      <td>0.10</td>\n",
              "      <td>6.40</td>\n",
              "      <td>3.10</td>\n",
              "      <td>0.40</td>\n",
              "    </tr>\n",
              "    <tr>\n",
              "      <th>17</th>\n",
              "      <td>Raspberry</td>\n",
              "      <td>23</td>\n",
              "      <td>Rosaceae</td>\n",
              "      <td>Rosales</td>\n",
              "      <td>Rubus</td>\n",
              "      <td>53</td>\n",
              "      <td>0.70</td>\n",
              "      <td>4.40</td>\n",
              "      <td>12.00</td>\n",
              "      <td>1.20</td>\n",
              "    </tr>\n",
              "    <tr>\n",
              "      <th>18</th>\n",
              "      <td>Watermelon</td>\n",
              "      <td>25</td>\n",
              "      <td>Cucurbitaceae</td>\n",
              "      <td>Cucurbitales</td>\n",
              "      <td>Citrullus</td>\n",
              "      <td>30</td>\n",
              "      <td>0.20</td>\n",
              "      <td>6.00</td>\n",
              "      <td>8.00</td>\n",
              "      <td>0.60</td>\n",
              "    </tr>\n",
              "    <tr>\n",
              "      <th>19</th>\n",
              "      <td>Lemon</td>\n",
              "      <td>26</td>\n",
              "      <td>Rutaceae</td>\n",
              "      <td>Sapindales</td>\n",
              "      <td>Citrus</td>\n",
              "      <td>29</td>\n",
              "      <td>0.30</td>\n",
              "      <td>2.50</td>\n",
              "      <td>9.00</td>\n",
              "      <td>1.10</td>\n",
              "    </tr>\n",
              "    <tr>\n",
              "      <th>20</th>\n",
              "      <td>Mango</td>\n",
              "      <td>27</td>\n",
              "      <td>Anacardiaceae</td>\n",
              "      <td>Sapindales</td>\n",
              "      <td>Mangifera</td>\n",
              "      <td>60</td>\n",
              "      <td>0.38</td>\n",
              "      <td>13.70</td>\n",
              "      <td>15.00</td>\n",
              "      <td>0.82</td>\n",
              "    </tr>\n",
              "    <tr>\n",
              "      <th>21</th>\n",
              "      <td>Blueberry</td>\n",
              "      <td>33</td>\n",
              "      <td>Rosaceae</td>\n",
              "      <td>Rosales</td>\n",
              "      <td>Fragaria</td>\n",
              "      <td>29</td>\n",
              "      <td>0.40</td>\n",
              "      <td>5.40</td>\n",
              "      <td>5.50</td>\n",
              "      <td>0.00</td>\n",
              "    </tr>\n",
              "    <tr>\n",
              "      <th>22</th>\n",
              "      <td>Apple</td>\n",
              "      <td>6</td>\n",
              "      <td>Rosaceae</td>\n",
              "      <td>Rosales</td>\n",
              "      <td>Malus</td>\n",
              "      <td>52</td>\n",
              "      <td>0.40</td>\n",
              "      <td>10.30</td>\n",
              "      <td>11.40</td>\n",
              "      <td>0.30</td>\n",
              "    </tr>\n",
              "    <tr>\n",
              "      <th>23</th>\n",
              "      <td>Guava</td>\n",
              "      <td>37</td>\n",
              "      <td>Myrtaceae</td>\n",
              "      <td>Myrtales</td>\n",
              "      <td>Psidium</td>\n",
              "      <td>68</td>\n",
              "      <td>1.00</td>\n",
              "      <td>9.00</td>\n",
              "      <td>14.00</td>\n",
              "      <td>2.60</td>\n",
              "    </tr>\n",
              "    <tr>\n",
              "      <th>24</th>\n",
              "      <td>Apricot</td>\n",
              "      <td>35</td>\n",
              "      <td>Rosaceae</td>\n",
              "      <td>Rosales</td>\n",
              "      <td>Prunus</td>\n",
              "      <td>15</td>\n",
              "      <td>0.10</td>\n",
              "      <td>3.20</td>\n",
              "      <td>3.90</td>\n",
              "      <td>0.50</td>\n",
              "    </tr>\n",
              "    <tr>\n",
              "      <th>25</th>\n",
              "      <td>Melon</td>\n",
              "      <td>41</td>\n",
              "      <td>Cucurbitaceae</td>\n",
              "      <td>Cucurbitaceae</td>\n",
              "      <td>Cucumis</td>\n",
              "      <td>34</td>\n",
              "      <td>0.00</td>\n",
              "      <td>8.00</td>\n",
              "      <td>8.00</td>\n",
              "      <td>0.00</td>\n",
              "    </tr>\n",
              "    <tr>\n",
              "      <th>26</th>\n",
              "      <td>Tangerine</td>\n",
              "      <td>77</td>\n",
              "      <td>Rutaceae</td>\n",
              "      <td>Sapindales</td>\n",
              "      <td>Citrus</td>\n",
              "      <td>45</td>\n",
              "      <td>0.40</td>\n",
              "      <td>9.10</td>\n",
              "      <td>8.30</td>\n",
              "      <td>0.00</td>\n",
              "    </tr>\n",
              "    <tr>\n",
              "      <th>27</th>\n",
              "      <td>Pitahaya</td>\n",
              "      <td>78</td>\n",
              "      <td>Cactaceae</td>\n",
              "      <td>Caryophyllales</td>\n",
              "      <td>Cactaceae</td>\n",
              "      <td>36</td>\n",
              "      <td>0.40</td>\n",
              "      <td>3.00</td>\n",
              "      <td>7.00</td>\n",
              "      <td>1.00</td>\n",
              "    </tr>\n",
              "    <tr>\n",
              "      <th>28</th>\n",
              "      <td>Lime</td>\n",
              "      <td>44</td>\n",
              "      <td>Rutaceae</td>\n",
              "      <td>Sapindales</td>\n",
              "      <td>Citrus</td>\n",
              "      <td>25</td>\n",
              "      <td>0.10</td>\n",
              "      <td>1.70</td>\n",
              "      <td>8.40</td>\n",
              "      <td>0.30</td>\n",
              "    </tr>\n",
              "    <tr>\n",
              "      <th>29</th>\n",
              "      <td>Pomegranate</td>\n",
              "      <td>79</td>\n",
              "      <td>Lythraceae</td>\n",
              "      <td>Myrtales</td>\n",
              "      <td>Punica</td>\n",
              "      <td>83</td>\n",
              "      <td>1.20</td>\n",
              "      <td>13.70</td>\n",
              "      <td>18.70</td>\n",
              "      <td>1.70</td>\n",
              "    </tr>\n",
              "    <tr>\n",
              "      <th>30</th>\n",
              "      <td>Dragonfruit</td>\n",
              "      <td>80</td>\n",
              "      <td>Cactaceae</td>\n",
              "      <td>Caryophyllales</td>\n",
              "      <td>Selenicereus</td>\n",
              "      <td>60</td>\n",
              "      <td>1.50</td>\n",
              "      <td>8.00</td>\n",
              "      <td>9.00</td>\n",
              "      <td>9.00</td>\n",
              "    </tr>\n",
              "    <tr>\n",
              "      <th>31</th>\n",
              "      <td>Grape</td>\n",
              "      <td>81</td>\n",
              "      <td>Vitaceae</td>\n",
              "      <td>Vitales</td>\n",
              "      <td>Vitis</td>\n",
              "      <td>69</td>\n",
              "      <td>0.16</td>\n",
              "      <td>16.00</td>\n",
              "      <td>18.10</td>\n",
              "      <td>0.72</td>\n",
              "    </tr>\n",
              "    <tr>\n",
              "      <th>32</th>\n",
              "      <td>Morus</td>\n",
              "      <td>82</td>\n",
              "      <td>Moraceae</td>\n",
              "      <td>Rosales</td>\n",
              "      <td>Morus</td>\n",
              "      <td>43</td>\n",
              "      <td>0.39</td>\n",
              "      <td>8.10</td>\n",
              "      <td>9.80</td>\n",
              "      <td>1.44</td>\n",
              "    </tr>\n",
              "    <tr>\n",
              "      <th>33</th>\n",
              "      <td>Feijoa</td>\n",
              "      <td>76</td>\n",
              "      <td>Myrtaceae</td>\n",
              "      <td>Myrtoideae</td>\n",
              "      <td>Sellowiana</td>\n",
              "      <td>44</td>\n",
              "      <td>0.40</td>\n",
              "      <td>3.00</td>\n",
              "      <td>8.00</td>\n",
              "      <td>0.60</td>\n",
              "    </tr>\n",
              "    <tr>\n",
              "      <th>34</th>\n",
              "      <td>Avocado</td>\n",
              "      <td>84</td>\n",
              "      <td>Lauraceae</td>\n",
              "      <td>Laurales</td>\n",
              "      <td>Persea</td>\n",
              "      <td>160</td>\n",
              "      <td>14.66</td>\n",
              "      <td>0.66</td>\n",
              "      <td>8.53</td>\n",
              "      <td>2.00</td>\n",
              "    </tr>\n",
              "    <tr>\n",
              "      <th>35</th>\n",
              "      <td>Kiwifruit</td>\n",
              "      <td>85</td>\n",
              "      <td>Actinidiaceae</td>\n",
              "      <td>Ericales</td>\n",
              "      <td>Actinidia</td>\n",
              "      <td>61</td>\n",
              "      <td>0.50</td>\n",
              "      <td>8.90</td>\n",
              "      <td>14.60</td>\n",
              "      <td>1.14</td>\n",
              "    </tr>\n",
              "    <tr>\n",
              "      <th>36</th>\n",
              "      <td>Cranberry</td>\n",
              "      <td>87</td>\n",
              "      <td>Ericaceae</td>\n",
              "      <td>Ericales</td>\n",
              "      <td>Vaccinium</td>\n",
              "      <td>46</td>\n",
              "      <td>0.10</td>\n",
              "      <td>4.00</td>\n",
              "      <td>12.20</td>\n",
              "      <td>0.40</td>\n",
              "    </tr>\n",
              "    <tr>\n",
              "      <th>37</th>\n",
              "      <td>Cherry</td>\n",
              "      <td>9</td>\n",
              "      <td>Rosaceae</td>\n",
              "      <td>Rosales</td>\n",
              "      <td>Prunus</td>\n",
              "      <td>50</td>\n",
              "      <td>0.30</td>\n",
              "      <td>8.00</td>\n",
              "      <td>12.00</td>\n",
              "      <td>1.00</td>\n",
              "    </tr>\n",
              "    <tr>\n",
              "      <th>38</th>\n",
              "      <td>Peach</td>\n",
              "      <td>86</td>\n",
              "      <td>Rosaceae</td>\n",
              "      <td>Rosales</td>\n",
              "      <td>Prunus</td>\n",
              "      <td>39</td>\n",
              "      <td>0.25</td>\n",
              "      <td>8.40</td>\n",
              "      <td>9.50</td>\n",
              "      <td>0.90</td>\n",
              "    </tr>\n",
              "    <tr>\n",
              "      <th>39</th>\n",
              "      <td>Jackfruit</td>\n",
              "      <td>94</td>\n",
              "      <td>Moraceae</td>\n",
              "      <td>Rosales</td>\n",
              "      <td>Artocarpus</td>\n",
              "      <td>95</td>\n",
              "      <td>0.00</td>\n",
              "      <td>19.10</td>\n",
              "      <td>23.20</td>\n",
              "      <td>1.72</td>\n",
              "    </tr>\n",
              "    <tr>\n",
              "      <th>40</th>\n",
              "      <td>Horned Melon</td>\n",
              "      <td>95</td>\n",
              "      <td>Cucurbitaceae</td>\n",
              "      <td>Cucurbitales</td>\n",
              "      <td>Cucumis</td>\n",
              "      <td>44</td>\n",
              "      <td>1.26</td>\n",
              "      <td>0.50</td>\n",
              "      <td>7.56</td>\n",
              "      <td>1.78</td>\n",
              "    </tr>\n",
              "    <tr>\n",
              "      <th>41</th>\n",
              "      <td>Hazelnut</td>\n",
              "      <td>96</td>\n",
              "      <td>Betulaceae</td>\n",
              "      <td>Fagales</td>\n",
              "      <td>Corylus</td>\n",
              "      <td>628</td>\n",
              "      <td>61.00</td>\n",
              "      <td>4.30</td>\n",
              "      <td>17.00</td>\n",
              "      <td>15.00</td>\n",
              "    </tr>\n",
              "    <tr>\n",
              "      <th>42</th>\n",
              "      <td>Pomelo</td>\n",
              "      <td>98</td>\n",
              "      <td>Rutaceae</td>\n",
              "      <td>Sapindales</td>\n",
              "      <td>Citrus</td>\n",
              "      <td>37</td>\n",
              "      <td>0.00</td>\n",
              "      <td>8.50</td>\n",
              "      <td>9.67</td>\n",
              "      <td>0.82</td>\n",
              "    </tr>\n",
              "    <tr>\n",
              "      <th>43</th>\n",
              "      <td>Mangosteen</td>\n",
              "      <td>99</td>\n",
              "      <td>Clusiaceae</td>\n",
              "      <td>Malpighiales</td>\n",
              "      <td>Garcinia</td>\n",
              "      <td>73</td>\n",
              "      <td>0.58</td>\n",
              "      <td>16.11</td>\n",
              "      <td>17.91</td>\n",
              "      <td>0.41</td>\n",
              "    </tr>\n",
              "    <tr>\n",
              "      <th>44</th>\n",
              "      <td>Pumpkin</td>\n",
              "      <td>100</td>\n",
              "      <td>Cucurbitaceae</td>\n",
              "      <td>Cucurbitales</td>\n",
              "      <td>Cucurbita</td>\n",
              "      <td>25</td>\n",
              "      <td>0.30</td>\n",
              "      <td>3.30</td>\n",
              "      <td>4.60</td>\n",
              "      <td>1.10</td>\n",
              "    </tr>\n",
              "    <tr>\n",
              "      <th>45</th>\n",
              "      <td>Japanese Persimmon</td>\n",
              "      <td>101</td>\n",
              "      <td>Ebenaceae</td>\n",
              "      <td>Ericales</td>\n",
              "      <td>Diospyros</td>\n",
              "      <td>70</td>\n",
              "      <td>0.20</td>\n",
              "      <td>13.00</td>\n",
              "      <td>19.00</td>\n",
              "      <td>0.60</td>\n",
              "    </tr>\n",
              "    <tr>\n",
              "      <th>46</th>\n",
              "      <td>Papaya</td>\n",
              "      <td>42</td>\n",
              "      <td>Caricaceae</td>\n",
              "      <td>Brassicales</td>\n",
              "      <td>Carica</td>\n",
              "      <td>39</td>\n",
              "      <td>0.30</td>\n",
              "      <td>4.40</td>\n",
              "      <td>5.80</td>\n",
              "      <td>0.50</td>\n",
              "    </tr>\n",
              "    <tr>\n",
              "      <th>47</th>\n",
              "      <td>Annona</td>\n",
              "      <td>103</td>\n",
              "      <td>Annonaceae</td>\n",
              "      <td>Rosales</td>\n",
              "      <td>Annonas</td>\n",
              "      <td>92</td>\n",
              "      <td>0.29</td>\n",
              "      <td>3.40</td>\n",
              "      <td>19.10</td>\n",
              "      <td>1.50</td>\n",
              "    </tr>\n",
              "    <tr>\n",
              "      <th>48</th>\n",
              "      <td>Ceylon Gooseberry</td>\n",
              "      <td>104</td>\n",
              "      <td>Salicaceae</td>\n",
              "      <td>Malpighiales</td>\n",
              "      <td>Dovyalis</td>\n",
              "      <td>47</td>\n",
              "      <td>0.30</td>\n",
              "      <td>8.10</td>\n",
              "      <td>9.60</td>\n",
              "      <td>1.20</td>\n",
              "    </tr>\n",
              "  </tbody>\n",
              "</table>\n",
              "</div>\n",
              "    <div class=\"colab-df-buttons\">\n",
              "\n",
              "  <div class=\"colab-df-container\">\n",
              "    <button class=\"colab-df-convert\" onclick=\"convertToInteractive('df-5f07013b-bd25-4fe0-a37b-0a273dc3b231')\"\n",
              "            title=\"Convert this dataframe to an interactive table.\"\n",
              "            style=\"display:none;\">\n",
              "\n",
              "  <svg xmlns=\"http://www.w3.org/2000/svg\" height=\"24px\" viewBox=\"0 -960 960 960\">\n",
              "    <path d=\"M120-120v-720h720v720H120Zm60-500h600v-160H180v160Zm220 220h160v-160H400v160Zm0 220h160v-160H400v160ZM180-400h160v-160H180v160Zm440 0h160v-160H620v160ZM180-180h160v-160H180v160Zm440 0h160v-160H620v160Z\"/>\n",
              "  </svg>\n",
              "    </button>\n",
              "\n",
              "  <style>\n",
              "    .colab-df-container {\n",
              "      display:flex;\n",
              "      gap: 12px;\n",
              "    }\n",
              "\n",
              "    .colab-df-convert {\n",
              "      background-color: #E8F0FE;\n",
              "      border: none;\n",
              "      border-radius: 50%;\n",
              "      cursor: pointer;\n",
              "      display: none;\n",
              "      fill: #1967D2;\n",
              "      height: 32px;\n",
              "      padding: 0 0 0 0;\n",
              "      width: 32px;\n",
              "    }\n",
              "\n",
              "    .colab-df-convert:hover {\n",
              "      background-color: #E2EBFA;\n",
              "      box-shadow: 0px 1px 2px rgba(60, 64, 67, 0.3), 0px 1px 3px 1px rgba(60, 64, 67, 0.15);\n",
              "      fill: #174EA6;\n",
              "    }\n",
              "\n",
              "    .colab-df-buttons div {\n",
              "      margin-bottom: 4px;\n",
              "    }\n",
              "\n",
              "    [theme=dark] .colab-df-convert {\n",
              "      background-color: #3B4455;\n",
              "      fill: #D2E3FC;\n",
              "    }\n",
              "\n",
              "    [theme=dark] .colab-df-convert:hover {\n",
              "      background-color: #434B5C;\n",
              "      box-shadow: 0px 1px 3px 1px rgba(0, 0, 0, 0.15);\n",
              "      filter: drop-shadow(0px 1px 2px rgba(0, 0, 0, 0.3));\n",
              "      fill: #FFFFFF;\n",
              "    }\n",
              "  </style>\n",
              "\n",
              "    <script>\n",
              "      const buttonEl =\n",
              "        document.querySelector('#df-5f07013b-bd25-4fe0-a37b-0a273dc3b231 button.colab-df-convert');\n",
              "      buttonEl.style.display =\n",
              "        google.colab.kernel.accessAllowed ? 'block' : 'none';\n",
              "\n",
              "      async function convertToInteractive(key) {\n",
              "        const element = document.querySelector('#df-5f07013b-bd25-4fe0-a37b-0a273dc3b231');\n",
              "        const dataTable =\n",
              "          await google.colab.kernel.invokeFunction('convertToInteractive',\n",
              "                                                    [key], {});\n",
              "        if (!dataTable) return;\n",
              "\n",
              "        const docLinkHtml = 'Like what you see? Visit the ' +\n",
              "          '<a target=\"_blank\" href=https://colab.research.google.com/notebooks/data_table.ipynb>data table notebook</a>'\n",
              "          + ' to learn more about interactive tables.';\n",
              "        element.innerHTML = '';\n",
              "        dataTable['output_type'] = 'display_data';\n",
              "        await google.colab.output.renderOutput(dataTable, element);\n",
              "        const docLink = document.createElement('div');\n",
              "        docLink.innerHTML = docLinkHtml;\n",
              "        element.appendChild(docLink);\n",
              "      }\n",
              "    </script>\n",
              "  </div>\n",
              "\n",
              "\n",
              "    <div id=\"df-d824a561-47d0-4807-b394-4d5f5f3777f2\">\n",
              "      <button class=\"colab-df-quickchart\" onclick=\"quickchart('df-d824a561-47d0-4807-b394-4d5f5f3777f2')\"\n",
              "                title=\"Suggest charts\"\n",
              "                style=\"display:none;\">\n",
              "\n",
              "<svg xmlns=\"http://www.w3.org/2000/svg\" height=\"24px\"viewBox=\"0 0 24 24\"\n",
              "     width=\"24px\">\n",
              "    <g>\n",
              "        <path d=\"M19 3H5c-1.1 0-2 .9-2 2v14c0 1.1.9 2 2 2h14c1.1 0 2-.9 2-2V5c0-1.1-.9-2-2-2zM9 17H7v-7h2v7zm4 0h-2V7h2v10zm4 0h-2v-4h2v4z\"/>\n",
              "    </g>\n",
              "</svg>\n",
              "      </button>\n",
              "\n",
              "<style>\n",
              "  .colab-df-quickchart {\n",
              "      --bg-color: #E8F0FE;\n",
              "      --fill-color: #1967D2;\n",
              "      --hover-bg-color: #E2EBFA;\n",
              "      --hover-fill-color: #174EA6;\n",
              "      --disabled-fill-color: #AAA;\n",
              "      --disabled-bg-color: #DDD;\n",
              "  }\n",
              "\n",
              "  [theme=dark] .colab-df-quickchart {\n",
              "      --bg-color: #3B4455;\n",
              "      --fill-color: #D2E3FC;\n",
              "      --hover-bg-color: #434B5C;\n",
              "      --hover-fill-color: #FFFFFF;\n",
              "      --disabled-bg-color: #3B4455;\n",
              "      --disabled-fill-color: #666;\n",
              "  }\n",
              "\n",
              "  .colab-df-quickchart {\n",
              "    background-color: var(--bg-color);\n",
              "    border: none;\n",
              "    border-radius: 50%;\n",
              "    cursor: pointer;\n",
              "    display: none;\n",
              "    fill: var(--fill-color);\n",
              "    height: 32px;\n",
              "    padding: 0;\n",
              "    width: 32px;\n",
              "  }\n",
              "\n",
              "  .colab-df-quickchart:hover {\n",
              "    background-color: var(--hover-bg-color);\n",
              "    box-shadow: 0 1px 2px rgba(60, 64, 67, 0.3), 0 1px 3px 1px rgba(60, 64, 67, 0.15);\n",
              "    fill: var(--button-hover-fill-color);\n",
              "  }\n",
              "\n",
              "  .colab-df-quickchart-complete:disabled,\n",
              "  .colab-df-quickchart-complete:disabled:hover {\n",
              "    background-color: var(--disabled-bg-color);\n",
              "    fill: var(--disabled-fill-color);\n",
              "    box-shadow: none;\n",
              "  }\n",
              "\n",
              "  .colab-df-spinner {\n",
              "    border: 2px solid var(--fill-color);\n",
              "    border-color: transparent;\n",
              "    border-bottom-color: var(--fill-color);\n",
              "    animation:\n",
              "      spin 1s steps(1) infinite;\n",
              "  }\n",
              "\n",
              "  @keyframes spin {\n",
              "    0% {\n",
              "      border-color: transparent;\n",
              "      border-bottom-color: var(--fill-color);\n",
              "      border-left-color: var(--fill-color);\n",
              "    }\n",
              "    20% {\n",
              "      border-color: transparent;\n",
              "      border-left-color: var(--fill-color);\n",
              "      border-top-color: var(--fill-color);\n",
              "    }\n",
              "    30% {\n",
              "      border-color: transparent;\n",
              "      border-left-color: var(--fill-color);\n",
              "      border-top-color: var(--fill-color);\n",
              "      border-right-color: var(--fill-color);\n",
              "    }\n",
              "    40% {\n",
              "      border-color: transparent;\n",
              "      border-right-color: var(--fill-color);\n",
              "      border-top-color: var(--fill-color);\n",
              "    }\n",
              "    60% {\n",
              "      border-color: transparent;\n",
              "      border-right-color: var(--fill-color);\n",
              "    }\n",
              "    80% {\n",
              "      border-color: transparent;\n",
              "      border-right-color: var(--fill-color);\n",
              "      border-bottom-color: var(--fill-color);\n",
              "    }\n",
              "    90% {\n",
              "      border-color: transparent;\n",
              "      border-bottom-color: var(--fill-color);\n",
              "    }\n",
              "  }\n",
              "</style>\n",
              "\n",
              "      <script>\n",
              "        async function quickchart(key) {\n",
              "          const quickchartButtonEl =\n",
              "            document.querySelector('#' + key + ' button');\n",
              "          quickchartButtonEl.disabled = true;  // To prevent multiple clicks.\n",
              "          quickchartButtonEl.classList.add('colab-df-spinner');\n",
              "          try {\n",
              "            const charts = await google.colab.kernel.invokeFunction(\n",
              "                'suggestCharts', [key], {});\n",
              "          } catch (error) {\n",
              "            console.error('Error during call to suggestCharts:', error);\n",
              "          }\n",
              "          quickchartButtonEl.classList.remove('colab-df-spinner');\n",
              "          quickchartButtonEl.classList.add('colab-df-quickchart-complete');\n",
              "        }\n",
              "        (() => {\n",
              "          let quickchartButtonEl =\n",
              "            document.querySelector('#df-d824a561-47d0-4807-b394-4d5f5f3777f2 button');\n",
              "          quickchartButtonEl.style.display =\n",
              "            google.colab.kernel.accessAllowed ? 'block' : 'none';\n",
              "        })();\n",
              "      </script>\n",
              "    </div>\n",
              "\n",
              "  <div id=\"id_8097ae09-c5f4-44ba-81c0-9c9294b4e08c\">\n",
              "    <style>\n",
              "      .colab-df-generate {\n",
              "        background-color: #E8F0FE;\n",
              "        border: none;\n",
              "        border-radius: 50%;\n",
              "        cursor: pointer;\n",
              "        display: none;\n",
              "        fill: #1967D2;\n",
              "        height: 32px;\n",
              "        padding: 0 0 0 0;\n",
              "        width: 32px;\n",
              "      }\n",
              "\n",
              "      .colab-df-generate:hover {\n",
              "        background-color: #E2EBFA;\n",
              "        box-shadow: 0px 1px 2px rgba(60, 64, 67, 0.3), 0px 1px 3px 1px rgba(60, 64, 67, 0.15);\n",
              "        fill: #174EA6;\n",
              "      }\n",
              "\n",
              "      [theme=dark] .colab-df-generate {\n",
              "        background-color: #3B4455;\n",
              "        fill: #D2E3FC;\n",
              "      }\n",
              "\n",
              "      [theme=dark] .colab-df-generate:hover {\n",
              "        background-color: #434B5C;\n",
              "        box-shadow: 0px 1px 3px 1px rgba(0, 0, 0, 0.15);\n",
              "        filter: drop-shadow(0px 1px 2px rgba(0, 0, 0, 0.3));\n",
              "        fill: #FFFFFF;\n",
              "      }\n",
              "    </style>\n",
              "    <button class=\"colab-df-generate\" onclick=\"generateWithVariable('df2')\"\n",
              "            title=\"Generate code using this dataframe.\"\n",
              "            style=\"display:none;\">\n",
              "\n",
              "  <svg xmlns=\"http://www.w3.org/2000/svg\" height=\"24px\"viewBox=\"0 0 24 24\"\n",
              "       width=\"24px\">\n",
              "    <path d=\"M7,19H8.4L18.45,9,17,7.55,7,17.6ZM5,21V16.75L18.45,3.32a2,2,0,0,1,2.83,0l1.4,1.43a1.91,1.91,0,0,1,.58,1.4,1.91,1.91,0,0,1-.58,1.4L9.25,21ZM18.45,9,17,7.55Zm-12,3A5.31,5.31,0,0,0,4.9,8.1,5.31,5.31,0,0,0,1,6.5,5.31,5.31,0,0,0,4.9,4.9,5.31,5.31,0,0,0,6.5,1,5.31,5.31,0,0,0,8.1,4.9,5.31,5.31,0,0,0,12,6.5,5.46,5.46,0,0,0,6.5,12Z\"/>\n",
              "  </svg>\n",
              "    </button>\n",
              "    <script>\n",
              "      (() => {\n",
              "      const buttonEl =\n",
              "        document.querySelector('#id_8097ae09-c5f4-44ba-81c0-9c9294b4e08c button.colab-df-generate');\n",
              "      buttonEl.style.display =\n",
              "        google.colab.kernel.accessAllowed ? 'block' : 'none';\n",
              "\n",
              "      buttonEl.onclick = () => {\n",
              "        google.colab.notebook.generateWithVariable('df2');\n",
              "      }\n",
              "      })();\n",
              "    </script>\n",
              "  </div>\n",
              "\n",
              "    </div>\n",
              "  </div>\n"
            ],
            "application/vnd.google.colaboratory.intrinsic+json": {
              "type": "dataframe",
              "variable_name": "df2",
              "summary": "{\n  \"name\": \"df2\",\n  \"rows\": 49,\n  \"fields\": [\n    {\n      \"column\": \"name\",\n      \"properties\": {\n        \"dtype\": \"string\",\n        \"num_unique_values\": 49,\n        \"samples\": [\n          \"Passionfruit\",\n          \"Japanese Persimmon\",\n          \"Annona\"\n        ],\n        \"semantic_type\": \"\",\n        \"description\": \"\"\n      }\n    },\n    {\n      \"column\": \"id\",\n      \"properties\": {\n        \"dtype\": \"number\",\n        \"std\": 32,\n        \"min\": 1,\n        \"max\": 104,\n        \"num_unique_values\": 49,\n        \"samples\": [\n          70,\n          101,\n          103\n        ],\n        \"semantic_type\": \"\",\n        \"description\": \"\"\n      }\n    },\n    {\n      \"column\": \"family\",\n      \"properties\": {\n        \"dtype\": \"string\",\n        \"num_unique_values\": 26,\n        \"samples\": [\n          \"Bromeliaceae\",\n          \"Cactaceae\",\n          \"Ebenaceae\"\n        ],\n        \"semantic_type\": \"\",\n        \"description\": \"\"\n      }\n    },\n    {\n      \"column\": \"order\",\n      \"properties\": {\n        \"dtype\": \"category\",\n        \"num_unique_values\": 20,\n        \"samples\": [\n          \"Rosales\",\n          \"Fagales\",\n          \"Myrtoideae\"\n        ],\n        \"semantic_type\": \"\",\n        \"description\": \"\"\n      }\n    },\n    {\n      \"column\": \"genus\",\n      \"properties\": {\n        \"dtype\": \"string\",\n        \"num_unique_values\": 36,\n        \"samples\": [\n          \"Dovyalis\",\n          \"Passiflora\",\n          \"Sellowiana\"\n        ],\n        \"semantic_type\": \"\",\n        \"description\": \"\"\n      }\n    },\n    {\n      \"column\": \"nutritions.calories\",\n      \"properties\": {\n        \"dtype\": \"number\",\n        \"std\": 86,\n        \"min\": 15,\n        \"max\": 628,\n        \"num_unique_values\": 36,\n        \"samples\": [\n          47,\n          43,\n          69\n        ],\n        \"semantic_type\": \"\",\n        \"description\": \"\"\n      }\n    },\n    {\n      \"column\": \"nutritions.fat\",\n      \"properties\": {\n        \"dtype\": \"number\",\n        \"std\": 8.872052356146467,\n        \"min\": 0.0,\n        \"max\": 61.0,\n        \"num_unique_values\": 25,\n        \"samples\": [\n          0.12,\n          1.5,\n          0.0\n        ],\n        \"semantic_type\": \"\",\n        \"description\": \"\"\n      }\n    },\n    {\n      \"column\": \"nutritions.sugar\",\n      \"properties\": {\n        \"dtype\": \"number\",\n        \"std\": 4.9071635388071835,\n        \"min\": 0.0,\n        \"max\": 19.1,\n        \"num_unique_values\": 40,\n        \"samples\": [\n          2.5,\n          6.4,\n          8.2\n        ],\n        \"semantic_type\": \"\",\n        \"description\": \"\"\n      }\n    },\n    {\n      \"column\": \"nutritions.carbohydrates\",\n      \"properties\": {\n        \"dtype\": \"number\",\n        \"std\": 5.6617705564013585,\n        \"min\": 3.1,\n        \"max\": 27.1,\n        \"num_unique_values\": 36,\n        \"samples\": [\n          9.6,\n          11.4,\n          12.2\n        ],\n        \"semantic_type\": \"\",\n        \"description\": \"\"\n      }\n    },\n    {\n      \"column\": \"nutritions.protein\",\n      \"properties\": {\n        \"dtype\": \"number\",\n        \"std\": 2.36702051944122,\n        \"min\": 0.0,\n        \"max\": 15.0,\n        \"num_unique_values\": 28,\n        \"samples\": [\n          0.54,\n          1.78,\n          1.1\n        ],\n        \"semantic_type\": \"\",\n        \"description\": \"\"\n      }\n    }\n  ]\n}"
            }
          },
          "metadata": {},
          "execution_count": 12
        }
      ]
    },
    {
      "cell_type": "code",
      "source": [
        "# In this Exercise, find out how many calories are contained in a banana\n",
        "banana_calories = df2[df2['name'] == 'Banana']['nutritions.calories'].iloc[0]\n",
        "print(f\"Calories in a banana: {banana_calories}\")\n",
        "\n",
        "# Or\n",
        "# cal_banana = df2.loc[df2[\"name\"] == 'Banana']\n",
        "# cal_banana.iloc[0]['nutritions.calories']"
      ],
      "metadata": {
        "colab": {
          "base_uri": "https://localhost:8080/"
        },
        "id": "Ir-ilJpa-wKC",
        "outputId": "55805ba4-e61c-4229-b4b9-b4a9fb402e21"
      },
      "execution_count": 13,
      "outputs": [
        {
          "output_type": "stream",
          "name": "stdout",
          "text": [
            "Calories in a banana: 96\n"
          ]
        }
      ]
    },
    {
      "cell_type": "code",
      "source": [],
      "metadata": {
        "id": "0shwbY1r_sgL"
      },
      "execution_count": null,
      "outputs": []
    }
  ]
}