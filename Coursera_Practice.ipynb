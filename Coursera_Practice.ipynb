{
  "nbformat": 4,
  "nbformat_minor": 0,
  "metadata": {
    "colab": {
      "provenance": [],
      "authorship_tag": "ABX9TyNOpgZK9a42bIG05casv0Rw",
      "include_colab_link": true
    },
    "kernelspec": {
      "name": "python3",
      "display_name": "Python 3"
    },
    "language_info": {
      "name": "python"
    }
  },
  "cells": [
    {
      "cell_type": "markdown",
      "metadata": {
        "id": "view-in-github",
        "colab_type": "text"
      },
      "source": [
        "<a href=\"https://colab.research.google.com/github/JuanDarquea/Think_Python_Practice/blob/main/Coursera_Practice.ipynb\" target=\"_parent\"><img src=\"https://colab.research.google.com/assets/colab-badge.svg\" alt=\"Open In Colab\"/></a>"
      ]
    },
    {
      "cell_type": "markdown",
      "source": [
        "# Reading files with open()"
      ],
      "metadata": {
        "id": "7I8t6znAehGQ"
      }
    },
    {
      "cell_type": "code",
      "source": [
        "with open('file.txt', 'w') as file:\n",
        "  file.write('This is line A\\n')\n",
        "  file.write('This is line B\\n')\n",
        "\n",
        "with open('file.txt', 'a') as file:\n",
        "  file.write('This is line C\\n')\n",
        "\n",
        "with open('file.txt', 'r') as file:\n",
        "  file_stuff = file.read()\n",
        "  print(file_stuff)\n",
        "\n",
        "with open('file.txt', 'r') as file:\n",
        "  line1 = file.readline()\n",
        "  print(line1)\n",
        "  line2 = file.readline()\n",
        "  print(line2)"
      ],
      "metadata": {
        "id": "m-tYQZDVerAS",
        "colab": {
          "base_uri": "https://localhost:8080/"
        },
        "outputId": "4533de4f-16a1-4d34-82a8-fdf5c5005ec5"
      },
      "execution_count": 3,
      "outputs": [
        {
          "output_type": "stream",
          "name": "stdout",
          "text": [
            "This is line A\n",
            "This is line B\n",
            "This is line C\n",
            "\n",
            "This is line A\n",
            "\n",
            "This is line B\n",
            "\n"
          ]
        }
      ]
    },
    {
      "cell_type": "markdown",
      "source": [
        "# Writing file with open()"
      ],
      "metadata": {
        "id": "wxo6kogderVC"
      }
    },
    {
      "cell_type": "code",
      "execution_count": null,
      "metadata": {
        "id": "OvtTM7YKcDPX"
      },
      "outputs": [],
      "source": [
        "exmp2 = 'Example2.txt' # Creating variable \"exmp2\" with the file to be created name\n",
        "with open(exmp2, \"w\") as wf: # Assining the creation and writing of the file to \"wf\"\n",
        "  wf.write(\"This is line A\\n\") # Create first line in \"Example2.txt\"\n",
        "  wf.write(\"This is line B\\n\")"
      ]
    },
    {
      "cell_type": "code",
      "source": [
        "with open(exmp2, \"r\") as twf: # Open the file inside to variable \"exmp2\" as read, and assigning the action to \"twf\"\n",
        "  print(twf.read()) # Print the whole file"
      ],
      "metadata": {
        "id": "MUgOxyqHewXm"
      },
      "execution_count": null,
      "outputs": []
    },
    {
      "cell_type": "code",
      "source": [
        "with open(exmp2, \"w\") as wf:\n",
        "  wf.write(\"This is line C\\n\")"
      ],
      "metadata": {
        "id": "cpW9yPsSfL6D"
      },
      "execution_count": null,
      "outputs": []
    },
    {
      "cell_type": "code",
      "source": [
        "with open(exmp2, \"r\") as twf:\n",
        "  print(twf.read())"
      ],
      "metadata": {
        "id": "P0ZKfwUmjNr8"
      },
      "execution_count": null,
      "outputs": []
    },
    {
      "cell_type": "code",
      "source": [
        "Lines = [\"This is line A\", \"\\nThis is line B\", \"\\nThis is line C\", \"\\nThis is line D\"] # Creats a list of strings\n",
        "Lines # Shows/prints the list"
      ],
      "metadata": {
        "id": "4kYqjF7ejW_S"
      },
      "execution_count": null,
      "outputs": []
    },
    {
      "cell_type": "code",
      "source": [
        "with open(\"/Example2.txt\", \"w\") as wf:\n",
        "  for line in Lines: # Assigns \"line\" to the list \"Lines\"\n",
        "    print(line) # Prints list\n",
        "    wf.write(line) # Writes in file \"Example2.txt\" the content of list \"Lines\""
      ],
      "metadata": {
        "id": "iBRCH9x2ksdh"
      },
      "execution_count": null,
      "outputs": []
    },
    {
      "cell_type": "code",
      "source": [
        "with open(\"/Example2.txt\", \"r\") as twf:\n",
        "  print(twf.read())"
      ],
      "metadata": {
        "id": "2fSbbeYGlaXJ"
      },
      "execution_count": null,
      "outputs": []
    },
    {
      "cell_type": "code",
      "source": [
        "with open(\"/Example2.txt\", \"w\") as wf:\n",
        "  wf.write(\"This file was overwritten\")"
      ],
      "metadata": {
        "id": "pPKOXb1VlbOi"
      },
      "execution_count": null,
      "outputs": []
    },
    {
      "cell_type": "code",
      "source": [
        "with open(\"/Example2.txt\", \"r\") as twf:\n",
        "  print(twf.read())"
      ],
      "metadata": {
        "id": "Vkdax1MDmDgp"
      },
      "execution_count": null,
      "outputs": []
    },
    {
      "cell_type": "code",
      "source": [
        "with open(\"/Example2.txt\", \"w\") as wf:\n",
        "  for line in Lines:\n",
        "    wf.write(line)\n",
        "with open(\"/Example2.txt\", \"a\") as wf: # Open file as append\n",
        "  wf.write(\"\\nThis is line E\") # Write text to append to existing file\n",
        "  wf.write(\"\\nThis is line F\")\n",
        "Lines2 = [\"\\nThis is line G\", \"\\nThis is line H\", \"\\nThis is line I\", \"\\nThis is line J\"] # Create a second list\n",
        "with open(\"/Example2.txt\", \"a\") as wf:\n",
        "  for line in Lines2: # Assigns value to \"line\" as list \"Lines2\"\n",
        "    wf.write(line) # Writes list content as an append to the file\n",
        "with open(\"/Example2.txt\", \"r\") as twf:\n",
        "  print(twf.read())"
      ],
      "metadata": {
        "id": "W86ye5WWmQdI"
      },
      "execution_count": null,
      "outputs": []
    },
    {
      "cell_type": "code",
      "source": [
        "with open(\"/Example2.txt\", \"a+\") as twf: # Open file as append + read\n",
        "  twf.write(\"\\nThis is line K\") # Writes new lines to append to file and existing content\n",
        "  twf.write(\"\\nThis is line L\")\n",
        "  print(twf.read()) # Reads file, but from the point where the cursor is, \"a\" unlike \"w\" or \"r\", doesn't reset cursor"
      ],
      "metadata": {
        "id": "fQC1wdvYneSI"
      },
      "execution_count": null,
      "outputs": []
    },
    {
      "cell_type": "code",
      "source": [
        "with open(\"/Example2.txt\", \"a+\") as twf:\n",
        "  print(\"Initial Location: {}\".format(twf.tell())) # Print the initial location of the cursor\n",
        "\n",
        "  data = twf.read()\n",
        "  if (not data): # Assign a return if the file is empty from where the cursor is\n",
        "    print(\"Read nothing\")\n",
        "  else:\n",
        "    print(twf.read())\n",
        "\n",
        "  twf.seek(0,0) # Move cursor 0 bytes from the beggining\n",
        "  print(\"\\nNew Location: {}\".format(twf.tell())) # Print the current location of cursor\n",
        "  data = twf.read() # Assing value of the data read to \"data\"\n",
        "  if (not data): # Conditional \"if\" in case there is no data after cursor\n",
        "    print(\"Read nothing\")\n",
        "  else: # Conditional \"if\" in case there is data after cursor\n",
        "    print(data)\n",
        "\n",
        "  print(\"Location after read: {}\".format(twf.tell()))# Print the final location of cursor"
      ],
      "metadata": {
        "id": "jomDYUWRoWGQ"
      },
      "execution_count": null,
      "outputs": []
    },
    {
      "cell_type": "code",
      "source": [
        "with open('/Example2.txt', 'r+') as testwritefile:\n",
        "    testwritefile.seek(0,0) # write at beginning of file\n",
        "    testwritefile.write(\"Line 1\" + \"\\n\")\n",
        "    testwritefile.write(\"Line 2\" + \"\\n\")\n",
        "    testwritefile.write(\"Line 3\" + \"\\n\")\n",
        "    testwritefile.write(\"Line 4\" + \"\\n\")\n",
        "    testwritefile.write(\"finished\\n\")\n",
        "    testwritefile.seek(0,0)\n",
        "    print(testwritefile.read())"
      ],
      "metadata": {
        "id": "yiICd0COsbjf"
      },
      "execution_count": null,
      "outputs": []
    },
    {
      "cell_type": "code",
      "source": [
        "with open('/Example2.txt', 'r+') as testwritefile:\n",
        "    testwritefile.seek(0,0) # Cursor at the beggining of file to write\n",
        "    testwritefile.write(\"Line 1\" + \"\\n\")\n",
        "    testwritefile.write(\"Line 2\" + \"\\n\")\n",
        "    testwritefile.write(\"Line 3\" + \"\\n\")\n",
        "    testwritefile.write(\"Line 4\" + \"\\n\")\n",
        "    testwritefile.write(\"finished\\n\")\n",
        "    testwritefile.truncate() # The order \".truncate\" deletes the rest of the file from this point on\n",
        "    testwritefile.seek(0,0) # Cursor at the beggining of file to read\n",
        "    print(testwritefile.read())"
      ],
      "metadata": {
        "id": "cYVzSCtqtrnP"
      },
      "execution_count": null,
      "outputs": []
    },
    {
      "cell_type": "code",
      "source": [
        "with open('/Example2.txt', 'r+') as twf: # Open file as read + write (maintainning existing text)\n",
        "    twf.seek(0,0) # Cursor at the beggining of file to write\n",
        "    print(len(twf.read())) # Print the length of the file"
      ],
      "metadata": {
        "id": "HiwAmzr7uN1V"
      },
      "execution_count": null,
      "outputs": []
    },
    {
      "cell_type": "code",
      "source": [
        "with open('/Example2.txt', 'r+') as twf: # \"r\" opens file without deleting it's previows content, contrary to \"w\"\n",
        "    twf.seek(37,0) # Set cursor at end of file\n",
        "    twf.write(\"New line\") # Write \"New Line\" at end of file\n",
        "    twf.seek(0,0) # Set cursor at beggining of file\n",
        "    print(twf.read()) # Print whole content of file"
      ],
      "metadata": {
        "id": "MSw_b9BRxYYs"
      },
      "execution_count": null,
      "outputs": []
    },
    {
      "cell_type": "code",
      "source": [
        "# Copy file\n",
        "with open('/Example2.txt','r') as rf:\n",
        "    with open('/Example3.txt','w') as wf:\n",
        "          for line in rf:\n",
        "                wf.write(line)"
      ],
      "metadata": {
        "id": "DSE7_p4-xxI8"
      },
      "execution_count": null,
      "outputs": []
    },
    {
      "cell_type": "code",
      "source": [
        "with open(\"/Example3.txt\", \"r\") as rf:\n",
        "  print(rf.read())\n",
        "  rf.seek(0,0)\n",
        "  print()\n",
        "  # print(len(rf.read()))\n",
        "with open(\"/Example3.txt\", \"r+\") as rf:\n",
        "  rf.seek(45,0)\n",
        "  rf.write(\"\\nNew line2\")\n",
        "  rf.seek(0,0)\n",
        "  print(rf.read())"
      ],
      "metadata": {
        "id": "Q_Yp4NBnzKFM"
      },
      "execution_count": null,
      "outputs": []
    },
    {
      "cell_type": "code",
      "source": [
        "print(\"---File 3---\")\n",
        "with open(\"/Example3.txt\", \"r\") as rf:\n",
        "  print(rf.read())\n",
        "  print()\n",
        "print(\"---File 2---\")\n",
        "with open(\"/Example2.txt\", \"r\") as rf2:\n",
        "  print(rf2.read())"
      ],
      "metadata": {
        "id": "jaXHugYKzSK7"
      },
      "execution_count": null,
      "outputs": []
    },
    {
      "cell_type": "code",
      "source": [
        "# Exercise\n",
        "# Run this prior to starting the exercise, creation of player lists\n",
        "from random import randint as rnd\n",
        "\n",
        "memReg = '/members.txt'\n",
        "exReg = '/inactive.txt'\n",
        "fee =('yes','no')\n",
        "\n",
        "def genFiles(current,old):\n",
        "    with open(current,'w+') as writefile:\n",
        "        writefile.write('Membership No  Date Joined  Active  \\n')\n",
        "        data = \"{:^13}  {:<11}  {:<6}\\n\"\n",
        "\n",
        "        for rowno in range(20):\n",
        "            date = str(rnd(2015,2020))+ '-' + str(rnd(1,12))+'-'+str(rnd(1,25))\n",
        "            writefile.write(data.format(rnd(10000,99999),date,fee[rnd(0,1)]))\n",
        "\n",
        "    with open(old,'w+') as writefile:\n",
        "        writefile.write('Membership No  Date Joined  Active  \\n')\n",
        "        data = \"{:^13}  {:<11}  {:<6}\\n\"\n",
        "        for rowno in range(3):\n",
        "            date = str(rnd(2015,2020))+ '-' + str(rnd(1,12))+'-'+str(rnd(1,25))\n",
        "            writefile.write(data.format(rnd(10000,99999),date,fee[1]))\n",
        "\n",
        "genFiles(memReg,exReg)\n",
        "with open(\"/members.txt\", \"r\") as rf:\n",
        "    print(rf.read())\n",
        "print()\n",
        "with open(\"/inactive.txt\", \"r\") as rf2:\n",
        "    print(rf2.read())"
      ],
      "metadata": {
        "id": "Zv7wuNAa0l9N"
      },
      "execution_count": null,
      "outputs": []
    },
    {
      "cell_type": "code",
      "source": [
        "def cleanFiles(currentMem, exMem): # Define function to ccreate and run clean files\n",
        "  with open(currentMem, \"r+\") as writeFile:\n",
        "        with open(exMem, \"a+\") as appendFile:\n",
        "            writeFile.seek(0)\n",
        "            members = writeFile.readlines()\n",
        "            #remove header\n",
        "            header = members[0]\n",
        "            members.pop(0)\n",
        "\n",
        "            inactive = [member for member in members if ('no' in member)]\n",
        "            #go to the beginning of the write file\n",
        "            writeFile.seek(0)\n",
        "            writeFile.write(header)\n",
        "            for member in members:\n",
        "                if (member in inactive):\n",
        "                    appendFile.write(member)\n",
        "                else:\n",
        "                    writeFile.write(member)\n",
        "            writeFile.truncate()\n",
        "\n",
        "memReg = '/members.txt'\n",
        "exReg = '/inactive.txt'\n",
        "cleanFiles(memReg,exReg)\n",
        "\n",
        "\n",
        "headers = \"Membership No  Date Joined  Active  \\n\"\n",
        "with open(memReg,'r') as readFile:\n",
        "    print(\"Active Members: \\n\")\n",
        "    print(readFile.read())\n",
        "\n",
        "with open(exReg,'r') as readFile:\n",
        "    print(\"\\nInactive Members: \\n\")\n",
        "    print(readFile.read())"
      ],
      "metadata": {
        "id": "UvL1f2Qu6NKx"
      },
      "execution_count": null,
      "outputs": []
    }
  ]
}