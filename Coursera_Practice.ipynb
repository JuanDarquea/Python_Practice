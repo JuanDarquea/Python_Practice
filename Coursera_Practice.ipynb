{
  "cells": [
    {
      "cell_type": "markdown",
      "metadata": {
        "id": "7I8t6znAehGQ"
      },
      "source": [
        "# Reading files with open()"
      ]
    },
    {
      "cell_type": "code",
      "execution_count": null,
      "metadata": {
        "id": "m-tYQZDVerAS"
      },
      "outputs": [],
      "source": [
        "with open('file.txt', 'w') as file: # create file and open it as \"write\", using \"read\" does not create a file\n",
        "  file.write('This is line A\\n')    # write lines inside the file\n",
        "  file.write('This is line B\\n')\n",
        "\n",
        "with open('file.txt', 'a') as file: # file opened as \"append\" to add to the file without erasing past data\n",
        "  file.write('This is line C\\n')\n",
        "\n",
        "with open('file.txt', 'r') as file: # with file now created, it can be opened as \"read\"\n",
        "  file_stuff = file.read()          # assign the file full content to a variable\n",
        "  print(file_stuff)                 # print said content\n",
        "\n",
        "with open('file.txt', 'r') as file:\n",
        "  line1 = file.readline()           # read file line by line\n",
        "  print(line1)\n",
        "  line2 = file.readline()           # cursor does move when reading inside an opened file\n",
        "  print(line2)\n",
        "\n",
        "with open('file.txt', 'a+') as file:      # use of \"append+\" to append and read the file\n",
        "  file.write('This is special line D\\n')\n",
        "  file.seek(0)                            # move the cursor to the beginning to read\n",
        "  file1 = file.read()\n",
        "  if \"special\" in file1:\n",
        "    print('True\\n')\n",
        "    print(file1)\n",
        "  else:\n",
        "    print('False')"
      ]
    },
    {
      "cell_type": "code",
      "execution_count": null,
      "metadata": {
        "id": "czJ0xpLy7wao"
      },
      "outputs": [],
      "source": [
        "file = open('file.txt', 'r')\n",
        "line1 = file.readline()\n",
        "line2 = file.readline()\n",
        "line3 = file.readline()\n",
        "line4 = file.readline()\n",
        "\n",
        "print(line3)\n",
        "if \"special\" in line4:        # using if to search for specifc parts of the line inside the file\n",
        "  print(f\"{line4}\\n\")\n",
        "else:\n",
        "  print('False')\n",
        "\n",
        "file.seek(0)                  # seek goes outside of loop, else it creates an infinite loop\n",
        "while True:                   # using while to read the whole file in a loop, line by line\n",
        "  line = file.readline()\n",
        "  if not line:\n",
        "    break\n",
        "  print(line)\n",
        "file.close()                  # always close the file when opening it without the use of \"with\"\n"
      ]
    },
    {
      "cell_type": "code",
      "execution_count": null,
      "metadata": {
        "id": "nNCPxY7Y-RUf"
      },
      "outputs": [],
      "source": [
        "file = open('file.txt', 'r')\n",
        "file.seek(15)\n",
        "line2 = file.readline()       # reading full second line first by modifying the placing of cursor\n",
        "print(line2)\n",
        "file.seek(23)                 # using seek to put cursor on a specific part of the file\n",
        "halfline2 = file.read(6)      # reading the next 6 characters from the cursor\n",
        "print(halfline2)              # print said characters assigned to a variable\n",
        "file.close()"
      ]
    },
    {
      "cell_type": "markdown",
      "metadata": {
        "id": "LIScidW-DeJ4"
      },
      "source": [
        "## Lab exercises"
      ]
    },
    {
      "cell_type": "code",
      "execution_count": null,
      "metadata": {
        "id": "FG2RQQL_DdEB"
      },
      "outputs": [],
      "source": [
        "import urllib.request\n",
        "url = 'https://cf-courses-data.s3.us.cloud-object-storage.appdomain.cloud/IBMDeveloperSkillsNetwork-PY0101EN-SkillsNetwork/labs/Module%204/data/example1.txt'\n",
        "filename = 'Example1.txt'\n",
        "urllib.request.urlretrieve(url, filename)\n",
        "\n",
        "## Download Example file\n",
        "!wget https://cf-courses-data.s3.us.cloud-object-storage.appdomain.cloud/IBMDeveloperSkillsNetwork-PY0101EN-SkillsNetwork/labs/Module%204/data/example1.txt\n",
        "\n",
        "import pandas as pd\n",
        "\n",
        "filename = \"https://cf-courses-data.s3.us.cloud-object-storage.appdomain.cloud/IBMDeveloperSkillsNetwork-PY0101EN-SkillsNetwork/labs/Module%204/data/example1.txt\"\n",
        "\n",
        "print(\"done\")"
      ]
    },
    {
      "cell_type": "code",
      "execution_count": null,
      "metadata": {
        "id": "G7TlS71IFxHY"
      },
      "outputs": [],
      "source": [
        "# Read the Example1.txt\n",
        "example1 = \"example1.txt\"\n",
        "file1 = open(example1, \"r\")\n",
        "\n",
        "# Print the path of file\n",
        "print(f\"File name: {file1.name}\")\n",
        "print(\"-\" * 20)\n",
        "\n",
        "# Print the mode of file, either 'r' or 'w'\n",
        "print(f\"File mode: {file1.mode}\")\n",
        "print(\"-\" * 20)\n",
        "\n",
        "# Read the file\n",
        "FileContent = file1.read()\n",
        "FileContent\n",
        "\n",
        "# Print the file with '\\n' as a new line\n",
        "print(\"Content:\")\n",
        "print(FileContent)\n",
        "print(\"-\" * 20)\n",
        "\n",
        "# Type of file content\n",
        "contet_type = type(FileContent)\n",
        "print(\"Content type:\")\n",
        "print(contet_type)\n",
        "print(\"-\" * 20)\n",
        "\n",
        "# Close file after finish\n",
        "file1.close()"
      ]
    },
    {
      "cell_type": "code",
      "execution_count": null,
      "metadata": {
        "id": "ICWkqWSbIN6h"
      },
      "outputs": [],
      "source": [
        "# Open file using with\n",
        "\n",
        "with open(example1, \"r\") as file1:\n",
        "    FileContent = file1.read()\n",
        "    print(f\"{FileContent}\")\n",
        "    print(\"-\" * 20)\n",
        "\n",
        "# Verify if the file is closed\n",
        "print(\"Is file closed?\")\n",
        "print(f\"{file1.closed}\")\n",
        "print(\"-\" * 20)\n",
        "\n",
        "# See the content of file\n",
        "print(FileContent)"
      ]
    },
    {
      "cell_type": "code",
      "execution_count": null,
      "metadata": {
        "id": "PDgQE08tJv2U"
      },
      "outputs": [],
      "source": [
        "# Read first four characters\n",
        "with open(example1, \"r\") as file1:\n",
        "    print(file1.read(4))\n",
        "    print(\"-\" * 20)\n",
        "\n",
        "# Read certain amount of characters\n",
        "with open(example1, \"r\") as file1:\n",
        "    print(file1.read(4))\n",
        "    print(file1.read(4))\n",
        "    print(file1.read(7))\n",
        "    print(file1.read(15))\n",
        "    print(\"-\" * 20)\n",
        "\n",
        "# Read certain amount of characters\n",
        "with open(example1, \"r\") as file1:\n",
        "    print(file1.read(16))\n",
        "    print(file1.read(5))\n",
        "    print(file1.read(9))"
      ]
    },
    {
      "cell_type": "code",
      "execution_count": null,
      "metadata": {
        "id": "uxDUfUx7Kwmp"
      },
      "outputs": [],
      "source": [
        "# Read one line\n",
        "with open(example1, \"r\") as file1:\n",
        "    print(\"first line: \" + file1.readline())\n",
        "    print(\"-\" * 20)\n",
        "\n",
        "with open(example1, \"r\") as file1:\n",
        "    print(file1.readline(20)) # does not read past the end of line\n",
        "    print(file1.read(20)) # Returns the next 20 chars\n",
        "    print(\"-\" * 20)\n",
        "\n",
        "# Iterate through the lines\n",
        "with open(example1,\"r\") as file1:\n",
        "        i = 0;\n",
        "        for line in file1:\n",
        "            print(\"Iteration\", str(i), \": \", line)\n",
        "            i = i + 1\n",
        "        print(\"-\" * 20)\n",
        "\n",
        "# Read all lines and save as a list\n",
        "with open(example1, \"r\") as file1:\n",
        "    FileasList = file1.readlines()\n",
        "\n",
        "# Print the first line\n",
        "print(FileasList[0])\n",
        "print(\"-\" * 20)\n",
        "# Print the second line\n",
        "print(FileasList[1])\n",
        "print(\"-\" * 20)\n",
        "# Print the third line\n",
        "print(FileasList[2])\n",
        "print(\"-\" * 20)"
      ]
    },
    {
      "cell_type": "markdown",
      "metadata": {
        "id": "wxo6kogderVC"
      },
      "source": [
        "# Writing file with open()"
      ]
    },
    {
      "cell_type": "code",
      "execution_count": null,
      "metadata": {
        "id": "OvtTM7YKcDPX"
      },
      "outputs": [],
      "source": [
        "# Write line to file\n",
        "exmp2 = 'Example2.txt' # Creating variable \"exmp2\" with the file to be created name\n",
        "with open(exmp2, \"w\") as wf: # Assining the creation and writing of the file to \"wf\"\n",
        "  wf.write(\"This is line A\\n\") # Create first line in \"Example2.txt\"\n",
        "  wf.write(\"This is line B\\n\")"
      ]
    },
    {
      "cell_type": "code",
      "execution_count": null,
      "metadata": {
        "id": "MUgOxyqHewXm"
      },
      "outputs": [],
      "source": [
        "# Read file\n",
        "with open(exmp2, \"r\") as twf: # Open the file inside to variable \"exmp2\" as read, and assigning the action to \"twf\"\n",
        "  print(twf.read()) # Print the whole file"
      ]
    },
    {
      "cell_type": "code",
      "execution_count": null,
      "metadata": {
        "id": "cpW9yPsSfL6D"
      },
      "outputs": [],
      "source": [
        "# Write lines to file\n",
        "with open(exmp2, \"w\") as wf:\n",
        "  wf.write(\"This is line C\\n\")"
      ]
    },
    {
      "cell_type": "code",
      "execution_count": null,
      "metadata": {
        "id": "P0ZKfwUmjNr8"
      },
      "outputs": [],
      "source": [
        "# Check whether write to file\n",
        "with open(exmp2, \"r\") as twf:\n",
        "  print(twf.read())"
      ]
    },
    {
      "cell_type": "code",
      "execution_count": null,
      "metadata": {
        "id": "4kYqjF7ejW_S"
      },
      "outputs": [],
      "source": [
        "# Sample list of text\n",
        "Lines = [\"This is line A\", \"\\nThis is line B\", \"\\nThis is line C\", \"\\nThis is line D\"] # Creats a list of strings\n",
        "Lines # Shows/prints the list"
      ]
    },
    {
      "cell_type": "code",
      "execution_count": null,
      "metadata": {
        "id": "iBRCH9x2ksdh"
      },
      "outputs": [],
      "source": [
        "# Write the strings in the list to text file\n",
        "with open(\"/Example2.txt\", \"w\") as wf:\n",
        "  for line in Lines: # Assigns \"line\" to the list \"Lines\"\n",
        "    print(line) # Prints list\n",
        "    wf.write(line) # Writes in file \"Example2.txt\" the content of list \"Lines\""
      ]
    },
    {
      "cell_type": "code",
      "execution_count": null,
      "metadata": {
        "id": "2fSbbeYGlaXJ"
      },
      "outputs": [],
      "source": [
        "# Verify if writing to file is successfully executed\n",
        "with open(\"/Example2.txt\", \"r\") as twf:\n",
        "  print(twf.read())"
      ]
    },
    {
      "cell_type": "code",
      "execution_count": null,
      "metadata": {
        "id": "pPKOXb1VlbOi"
      },
      "outputs": [],
      "source": [
        "with open(\"/Example2.txt\", \"w\") as wf:\n",
        "  wf.write(\"This file was overwritten\")"
      ]
    },
    {
      "cell_type": "code",
      "execution_count": null,
      "metadata": {
        "id": "Vkdax1MDmDgp"
      },
      "outputs": [],
      "source": [
        "with open(\"/Example2.txt\", \"w\") as wf:\n",
        "  for line in Lines:\n",
        "    wf.write(line)"
      ]
    },
    {
      "cell_type": "code",
      "execution_count": null,
      "metadata": {
        "id": "W86ye5WWmQdI"
      },
      "outputs": [],
      "source": [
        "# Write a new line to text file\n",
        "with open(\"/Example2.txt\", \"a\") as wf: # Open file as append\n",
        "  wf.write(\"\\nThis is line E\") # Write text to append to existing file\n",
        "  wf.write(\"\\nThis is line F\")"
      ]
    },
    {
      "cell_type": "code",
      "execution_count": null,
      "metadata": {
        "id": "gF_hAk2kMR_V"
      },
      "outputs": [],
      "source": [
        "# Sample list of text\n",
        "Lines2 = [\"\\nThis is line G\", \"\\nThis is line H\", \"\\nThis is line I\", \"\\nThis is line J\"] # Creats a list of strings\n",
        "Lines2 # Shows/prints the list"
      ]
    },
    {
      "cell_type": "code",
      "execution_count": null,
      "metadata": {
        "id": "NnSQw-3KMq4N"
      },
      "outputs": [],
      "source": [
        "# Append list from \"Lines2\"\n",
        "with open(\"/Example2.txt\", \"a\") as wf:\n",
        "  for line in Lines2:\n",
        "    wf.write(line)"
      ]
    },
    {
      "cell_type": "code",
      "execution_count": null,
      "metadata": {
        "id": "fQC1wdvYneSI"
      },
      "outputs": [],
      "source": [
        "# Verify if the new line is in the text file\n",
        "with open(\"/Example2.txt\", \"a+\") as twf: # Open file as append + read\n",
        "  twf.write(\"\\nThis is line K\") # Writes new lines to append to file and existing content\n",
        "  twf.write(\"\\nThis is line L\")\n",
        "  print(twf.read()) # Reads file, but from the point where the cursor is, \"a\" unlike \"w\" or \"r\", doesn't reset cursor, so shows nothing"
      ]
    },
    {
      "cell_type": "code",
      "execution_count": null,
      "metadata": {
        "id": "DHQJQa1vN4BO"
      },
      "outputs": [],
      "source": [
        "# reset cursor location and open + print full document\n",
        "with open('/Example2.txt', 'r') as wf:\n",
        "  wf.seek(0, 0) # bring cursor to beggining of file\n",
        "  print(wf.read())"
      ]
    },
    {
      "cell_type": "code",
      "execution_count": null,
      "metadata": {
        "id": "jomDYUWRoWGQ"
      },
      "outputs": [],
      "source": [
        "with open(\"/Example2.txt\", \"a+\") as twf:\n",
        "  print(\"Initial Location: {}\".format(twf.tell())) # Print the initial location of the cursor\n",
        "\n",
        "  data = twf.read()\n",
        "  if (not data): # Assign a return if the file is empty from where the cursor is\n",
        "    print(\"Cursor at the end, file empty from cursor onward\")\n",
        "  else:\n",
        "    print(twf.read())"
      ]
    },
    {
      "cell_type": "code",
      "execution_count": null,
      "metadata": {
        "id": "4NLA-aVBO7T1"
      },
      "outputs": [],
      "source": [
        "with open('/Example2.txt', 'r+') as twf:\n",
        "  twf.seek(0,0) # Move cursor 0 bytes from the beggining\n",
        "  print(\"New Location: {}\\n\".format(twf.tell())) # Print the current location of cursor\n",
        "  data = twf.read() # Assing value of the data read to \"data\"\n",
        "  if (not data): # Conditional \"if\" in case there is no data after cursor\n",
        "    print(\"Cursor at the end, file empty from cursor onward\")\n",
        "  else: # Conditional \"if\" in case there is data after cursor\n",
        "    print(data)\n",
        "\n",
        "  print(\"\\nLocation after read: {}\".format(twf.tell()))# Print the final location of cursor"
      ]
    },
    {
      "cell_type": "code",
      "execution_count": null,
      "metadata": {
        "id": "yiICd0COsbjf"
      },
      "outputs": [],
      "source": [
        "# example of writing over the existing data of file, but without erasing all the extra data\n",
        "with open('/Example2.txt', 'r+') as testwritefile:\n",
        "    testwritefile.seek(0,0) # write at beginning of file\n",
        "    testwritefile.write(\"Line 1\" + \"\\n\")\n",
        "    testwritefile.write(\"Line 2\" + \"\\n\")\n",
        "    testwritefile.write(\"Line 3\" + \"\\n\")\n",
        "    testwritefile.write(\"Line 4\" + \"\\n\")\n",
        "    testwritefile.write(\"finished\\n\")\n",
        "    testwritefile.seek(0,0)\n",
        "    print(testwritefile.read())"
      ]
    },
    {
      "cell_type": "code",
      "execution_count": null,
      "metadata": {
        "id": "cYVzSCtqtrnP"
      },
      "outputs": [],
      "source": [
        "# here we use the order \".truncate\" to delete the rest of data\n",
        "with open('/Example2.txt', 'r+') as testwritefile:\n",
        "  print(\"Location before cursor reset: {}\\n\".format(testwritefile.tell()))\n",
        "  #testwritefile.seek(0,0) # Cursor at the beggining of file to write, redundant when correctly used at the end of \"with\"\n",
        "  testwritefile.write(\"Line 1\" + \"\\n\")\n",
        "  testwritefile.write(\"Line 2\" + \"\\n\")\n",
        "  testwritefile.write(\"Line 3\" + \"\\n\")\n",
        "  testwritefile.write(\"Line 4\" + \"\\n\")\n",
        "  testwritefile.write(\"finished\")\n",
        "  testwritefile.truncate() # The order \".truncate\" deletes the rest of the file from this point on\n",
        "  testwritefile.seek(0,0) # Cursor at the beggining of file to read\n",
        "  print(testwritefile.read())\n",
        "  testwritefile.seek(0,0) # Leave cursor at beggining of file for future use\n",
        "  print(\"\\nLocation of cursor at the end: {}\".format(testwritefile.tell()))"
      ]
    },
    {
      "cell_type": "code",
      "execution_count": null,
      "metadata": {
        "id": "HiwAmzr7uN1V"
      },
      "outputs": [],
      "source": [
        "with open('/Example2.txt', 'r+') as twf: # Open file as read + write (maintainning existing text)\n",
        "    twf.seek(0,0) # Cursor at the beggining of file to write\n",
        "    print(len(twf.read())) # Print the length of the file\n",
        "    print(\"\\nLocation of cursor at the end: {}\".format(twf.tell()))"
      ]
    },
    {
      "cell_type": "code",
      "execution_count": null,
      "metadata": {
        "id": "MSw_b9BRxYYs"
      },
      "outputs": [],
      "source": [
        "with open('/Example2.txt', 'r+') as twf: # \"r\" opens file without deleting it's previows content, contrary to \"w\"\n",
        "    twf.seek(37,0) # Set cursor at end of file\n",
        "    twf.write(\"\\nNew line\") # Write \"New Line\" at end of file\n",
        "    twf.seek(0,0) # Set cursor at beggining of file\n",
        "    print(twf.read()) # Print whole content of file\n",
        "    print(\"\\nLocation of cursor at the end: {}\".format(twf.tell()))"
      ]
    },
    {
      "cell_type": "code",
      "execution_count": null,
      "metadata": {
        "id": "DSE7_p4-xxI8"
      },
      "outputs": [],
      "source": [
        "# Copy file to another\n",
        "with open('/Example2.txt','r') as rf:\n",
        "    with open('/Example3.txt','w') as wf:\n",
        "          for line in rf:\n",
        "                wf.write(line)"
      ]
    },
    {
      "cell_type": "code",
      "execution_count": null,
      "metadata": {
        "collapsed": true,
        "id": "Q_Yp4NBnzKFM"
      },
      "outputs": [],
      "source": [
        "# Verify if the copy is successfully executed\n",
        "with open(\"/Example3.txt\", \"r\") as rf:\n",
        "  print(rf.read())\n",
        "  rf.seek(0,0)\n",
        "  print()\n",
        "  # print(len(rf.read()))\n",
        "with open(\"/Example3.txt\", \"r+\") as rf:\n",
        "  rf.seek(45,0)\n",
        "  rf.write(\"\\nNew line2\")\n",
        "  rf.seek(0,0)\n",
        "  print(rf.read())"
      ]
    },
    {
      "cell_type": "code",
      "execution_count": null,
      "metadata": {
        "id": "jaXHugYKzSK7"
      },
      "outputs": [],
      "source": [
        "print(\"---File 3---\")\n",
        "with open(\"/Example3.txt\", \"r\") as rf:\n",
        "  print(rf.read())\n",
        "  print()\n",
        "print(\"---File 2---\")\n",
        "with open(\"/Example2.txt\", \"r\") as rf2:\n",
        "  print(rf2.read())"
      ]
    },
    {
      "cell_type": "markdown",
      "metadata": {
        "id": "TZxsC-XPGpaJ"
      },
      "source": [
        "## Lab Exercises"
      ]
    },
    {
      "cell_type": "code",
      "execution_count": null,
      "metadata": {
        "id": "Zv7wuNAa0l9N"
      },
      "outputs": [],
      "source": [
        "# Run this prior to starting the exercise, creation of player lists\n",
        "from random import randint as rnd\n",
        "\n",
        "memReg = '/members.txt'\n",
        "exReg = '/inactive.txt'\n",
        "fee =('yes','no')\n",
        "\n",
        "def genFiles(current,old):\n",
        "    with open(current,'w+') as writefile:\n",
        "        writefile.write('Membership No  Date Joined  Active  \\n')\n",
        "        data = \"{:^13}  {:<11}  {:<6}\\n\"\n",
        "\n",
        "        for rowno in range(20):\n",
        "            date = str(rnd(2015,2020))+ '-' + str(rnd(1,12))+'-'+str(rnd(1,25))\n",
        "            writefile.write(data.format(rnd(10000,99999),date,fee[rnd(0,1)]))\n",
        "\n",
        "    with open(old,'w+') as writefile:\n",
        "        writefile.write('Membership No  Date Joined  Active  \\n')\n",
        "        data = \"{:^13}  {:<11}  {:<6}\\n\"\n",
        "        for rowno in range(3):\n",
        "            date = str(rnd(2015,2020))+ '-' + str(rnd(1,12))+'-'+str(rnd(1,25))\n",
        "            writefile.write(data.format(rnd(10000,99999),date,fee[1]))\n",
        "\n",
        "genFiles(memReg,exReg)\n",
        "with open(\"/members.txt\", \"r\") as rf:\n",
        "    print(rf.read())\n",
        "print()\n",
        "with open(\"/inactive.txt\", \"r\") as rf2:\n",
        "    print(rf2.read())"
      ]
    },
    {
      "cell_type": "code",
      "execution_count": null,
      "metadata": {
        "collapsed": true,
        "id": "UvL1f2Qu6NKx"
      },
      "outputs": [],
      "source": [
        "def cleanFiles(currentMem, exMem): # Define function to create and run clean files\n",
        "  with open(currentMem, \"r+\") as writeFile:\n",
        "        with open(exMem, \"a+\") as appendFile:\n",
        "            writeFile.seek(0)\n",
        "            members = writeFile.readlines()\n",
        "            #remove header\n",
        "            header = members[0]\n",
        "            members.pop(0)\n",
        "\n",
        "            inactive = [member for member in members if ('no' in member)]\n",
        "            #go to the beginning of the write file\n",
        "            writeFile.seek(0)\n",
        "            writeFile.write(header)\n",
        "            for member in members:\n",
        "                if (member in inactive):\n",
        "                    appendFile.write(member)\n",
        "                else:\n",
        "                    writeFile.write(member)\n",
        "            writeFile.truncate()\n",
        "\n",
        "memReg = '/members.txt'\n",
        "exReg = '/inactive.txt'\n",
        "cleanFiles(memReg,exReg)\n",
        "\n",
        "\n",
        "headers = \"Membership No  Date Joined  Active  \\n\"\n",
        "with open(memReg,'r') as readFile:\n",
        "    print(\"Active Members: \\n\")\n",
        "    print(readFile.read())\n",
        "\n",
        "with open(exReg,'r') as readFile:\n",
        "    print(\"\\nInactive Members: \\n\")\n",
        "    print(readFile.read())"
      ]
    },
    {
      "cell_type": "markdown",
      "metadata": {
        "id": "Kgl2HedQYPDe"
      },
      "source": [
        "# Pandas: Selecting Data"
      ]
    },
    {
      "cell_type": "code",
      "execution_count": null,
      "metadata": {
        "id": "bUMV69_drI_F"
      },
      "outputs": [],
      "source": [
        "# !pip install pandas # only use when in need to install the library before importing it, here it would be redundant"
      ]
    },
    {
      "cell_type": "code",
      "execution_count": null,
      "metadata": {
        "id": "XCnCXGikvkPA"
      },
      "outputs": [],
      "source": [
        "import pandas as pd # import library and assign a variable to said library"
      ]
    },
    {
      "cell_type": "code",
      "execution_count": null,
      "metadata": {
        "id": "fCexi7YPYUbO"
      },
      "outputs": [],
      "source": [
        "# read the content of a .csv file and assign it to a variable\n",
        "df = pd.read_csv('file.csv') # this file does not exist, will cause error, replace with existing file"
      ]
    },
    {
      "cell_type": "code",
      "execution_count": null,
      "metadata": {
        "id": "5Msi5QXIvQ8Z"
      },
      "outputs": [],
      "source": [
        "# example of data series\n",
        "series = [10, 20, 30, 40, 50] # create series for the dataframe\n",
        "series_pd = pd.Series(series) # assign series to a vaiable as a dataframe\n",
        "print(series_pd)"
      ]
    },
    {
      "cell_type": "code",
      "execution_count": null,
      "metadata": {
        "id": "66LJKEN6wKXj"
      },
      "outputs": [],
      "source": [
        "# accessing series elements\n",
        "print(series_pd[2]) # accessing series elements by label\n",
        "print('-'*10)\n",
        "print(series_pd.iloc[0]) # accessing series elements by position\n",
        "print('-'*10)\n",
        "print(series_pd[2:4]) # accessing a series. range of elements by index"
      ]
    },
    {
      "cell_type": "code",
      "execution_count": null,
      "metadata": {
        "id": "pmz9yBouxkmW"
      },
      "outputs": [],
      "source": [
        "print(series_pd.size) # number of elements in a series\n",
        "print('-'*10)\n",
        "print(series_pd.ndim) # total number of dimensions in a series, pandas series are one dimensional\n",
        "print('-'*10)\n",
        "print(series_pd.shape) # represents a result as first elements and dimensiones, as a touple\n",
        "print('-'*10)\n",
        "print(series_pd.values) # returns a series values as an array\n",
        "print('-'*10)\n",
        "print(series_pd.index) # index of a series"
      ]
    },
    {
      "cell_type": "code",
      "execution_count": null,
      "metadata": {
        "id": "VDF1I_rhyGSd"
      },
      "outputs": [],
      "source": [
        "# Creating a DataFrame from a dictionary\n",
        "data = {'Name': ['Alice', 'Bob', 'Charlie', 'David'], # create dictionary and assing it to a variable\n",
        "        'Age': [25, 30, 35, 28],\n",
        "        'City': ['New York', 'San Francisco', 'Los Angeles', 'Chicago']}\n",
        "\n",
        "df = pd.DataFrame(data) # put the dictionary into a dataframe and assign the dataframe to a variable\n",
        "print(df)"
      ]
    },
    {
      "cell_type": "code",
      "execution_count": null,
      "metadata": {
        "id": "AC6-jrsx0F1O"
      },
      "outputs": [],
      "source": [
        "# dataframe navigation by columns\n",
        "print(df['Name'])  # access the 'Name' column"
      ]
    },
    {
      "cell_type": "code",
      "execution_count": null,
      "metadata": {
        "id": "rWdD87470gvE"
      },
      "outputs": [],
      "source": [
        "# dataframe navigation by row\n",
        "print(df.iloc[2])   # Access the third row by position\n",
        "print('-'*30)\n",
        "print(df.loc[1])    # Access the second row by label"
      ]
    },
    {
      "cell_type": "code",
      "execution_count": null,
      "metadata": {
        "id": "Ds8EiyPY0xPt"
      },
      "outputs": [],
      "source": [
        "# slicing a dataframe\n",
        "print(df[['Name', 'Age']])  # Select specific columns\n",
        "print('-'*35)\n",
        "print(df[1:3])             # Select specific rows"
      ]
    },
    {
      "cell_type": "code",
      "execution_count": null,
      "metadata": {
        "id": "9qziyskF1GYE"
      },
      "outputs": [],
      "source": [
        "# finding unique elements in a dataframe\n",
        "unique_dates = df['Age'].unique()\n",
        "print(unique_dates)\n",
        "print('-'*40)\n",
        "\n",
        "# conditional filtering\n",
        "high_above_102 = df[df['Age'] > 25]\n",
        "print(high_above_102)\n",
        "print('-'*40)\n",
        "\n",
        "# saving dataframes\n",
        "df.to_csv('trading_data.csv', index=False)"
      ]
    },
    {
      "cell_type": "code",
      "execution_count": null,
      "metadata": {
        "id": "uqMKyu4H1Q46"
      },
      "outputs": [],
      "source": [
        "#Define a dictionary 'x', then create a dataframe from the dictionary using the function pd.DataFrame(dict)\n",
        "x = {'Name': ['Rose','John', 'Jane', 'Mary'], 'ID': [1, 2, 3, 4], 'Department': ['Architect Group', 'Software Group', 'Design Team', 'Infrastructure'],\n",
        "      'Salary':[100000, 80000, 50000, 60000]}\n",
        "\n",
        "df = pd.DataFrame(x) #cast the dictionary to a DataFrame\n",
        "df #display the result df"
      ]
    },
    {
      "cell_type": "code",
      "execution_count": null,
      "metadata": {
        "id": "_afJoE8Us0P-"
      },
      "outputs": [],
      "source": [
        "'''Column selection'''\n",
        "#Retrieving the \"ID\" column and assigning it to a variable x_ID\n",
        "x_ID = df[['ID']]\n",
        "print(x_ID)\n",
        "print('-'*30)\n",
        "#check the type of x\n",
        "type(x_ID)"
      ]
    },
    {
      "cell_type": "code",
      "execution_count": null,
      "metadata": {
        "id": "cRiawQr7tM49"
      },
      "outputs": [],
      "source": [
        "'''Access multiple columns'''\n",
        "#Retrieving the Department, Salary and ID columns and assigning it to a variable z\n",
        "z = df[['Department','Salary','ID']]\n",
        "z"
      ]
    },
    {
      "cell_type": "markdown",
      "metadata": {
        "id": "aWwRD6ZGuJyW"
      },
      "source": [
        "## Lab exercises"
      ]
    },
    {
      "cell_type": "markdown",
      "metadata": {
        "id": "H9mrpBwIuWk1"
      },
      "source": [
        "Problem 1: Create a dataframe to display the result as below:\n",
        "\n",
        "![Coursera_Pandas_Practice_Problem1.jpg](data:image/jpeg;base64,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)"
      ]
    },
    {
      "cell_type": "code",
      "execution_count": null,
      "metadata": {
        "id": "RdUQA6f7t_Bu"
      },
      "outputs": [],
      "source": [
        "class_A = {'Student': ['David', 'Samuel', 'Terry', 'Evan'],\n",
        "           'Age': ['27', '24', '22', '32'],\n",
        "           'Country': ['UK', 'Canada', 'China', 'USA'],\n",
        "           'Course': ['Python', 'Data Structures', 'Machine Learning', 'Web Development'],\n",
        "           'Marks': ['85', '72', '89', '76']}\n",
        "df2 = pd.DataFrame(class_A)\n",
        "df2"
      ]
    },
    {
      "cell_type": "code",
      "execution_count": null,
      "metadata": {
        "id": "dU4DHGauv9Nm"
      },
      "outputs": [],
      "source": [
        "# Problem 2: Retrieve the Marks column and assign it to a variable b\n",
        "b = df2['Marks']\n",
        "b"
      ]
    },
    {
      "cell_type": "code",
      "execution_count": null,
      "metadata": {
        "id": "sCm8DfK2wffd"
      },
      "outputs": [],
      "source": [
        "# Problem 3: Retrieve the Country and Course columns and assign it to a variable c\n",
        "c = df2[['Country', 'Course']]\n",
        "c"
      ]
    },
    {
      "cell_type": "code",
      "execution_count": null,
      "metadata": {
        "id": "2O_8sce2xOwu"
      },
      "outputs": [],
      "source": [
        "# Get the Student column as a series Object\n",
        "x = df2['Student']\n",
        "x"
      ]
    },
    {
      "cell_type": "code",
      "execution_count": null,
      "metadata": {
        "id": "wDZPqxkRx2g-"
      },
      "outputs": [],
      "source": [
        "#check the type of x\n",
        "type(x)"
      ]
    },
    {
      "cell_type": "code",
      "execution_count": null,
      "metadata": {
        "id": "7JRLN52dx26m"
      },
      "outputs": [],
      "source": [
        "'''loc() and iloc() functions'''\n",
        "# Access the value on the first row and the first column\n",
        "df2.iloc[0, 0]"
      ]
    },
    {
      "cell_type": "code",
      "execution_count": null,
      "metadata": {
        "id": "AM4n2bMdzMW-"
      },
      "outputs": [],
      "source": [
        "# Access the value on the first row and the third column\n",
        "df2.iloc[0,2]"
      ]
    },
    {
      "cell_type": "code",
      "execution_count": null,
      "metadata": {
        "id": "VujruIa2zUK2"
      },
      "outputs": [],
      "source": [
        "# Access the column using the name\n",
        "df.loc[0, 'Salary']"
      ]
    },
    {
      "cell_type": "code",
      "execution_count": null,
      "metadata": {
        "id": "GeoGuOY7z26m"
      },
      "outputs": [],
      "source": [
        "# Let us create a new dataframe called 'df3' and assign 'df' to it.\n",
        "# Now, let us set the \"Name\" column as an index column using the method set_index().\n",
        "df3 = df\n",
        "df3 = df3.set_index(\"Name\")\n",
        "df3"
      ]
    },
    {
      "cell_type": "code",
      "execution_count": null,
      "metadata": {
        "id": "mVmrSvfz1TAG"
      },
      "outputs": [],
      "source": [
        "#To display the first 5 rows of new dataframe\n",
        "df3.head()"
      ]
    },
    {
      "cell_type": "code",
      "execution_count": null,
      "metadata": {
        "id": "hlCIgF6L1VpW"
      },
      "outputs": [],
      "source": [
        "# Now, let us access the column using the name\n",
        "int(df3.loc['Jane', 'Salary'])"
      ]
    },
    {
      "cell_type": "code",
      "execution_count": null,
      "metadata": {
        "id": "vlmWQtBa19kP"
      },
      "outputs": [],
      "source": [
        "# Use the loc() function,to get the Department of Jane in the newly created dataframe df3.\n",
        "df3.loc['Jane', 'Department']"
      ]
    },
    {
      "cell_type": "code",
      "execution_count": null,
      "metadata": {
        "id": "Wo3BROYv2ANW"
      },
      "outputs": [],
      "source": [
        "# Use the iloc() function to get the Salary of Mary in the newly created dataframe df3.\n",
        "df3.iloc[3, 2]"
      ]
    },
    {
      "cell_type": "code",
      "execution_count": null,
      "metadata": {
        "id": "7efewMH32mku"
      },
      "outputs": [],
      "source": [
        "'''Slicing'''\n",
        "# let us do the slicing using iloc() in the old dataframe \"df\"\n",
        "df.iloc[0:2, 0:3]"
      ]
    },
    {
      "cell_type": "code",
      "execution_count": null,
      "metadata": {
        "id": "o1vye6bC3vvO"
      },
      "outputs": [],
      "source": [
        "#let us do the slicing using loc() function on old dataframe \"df\" where index column is having labels as 0,1,2\n",
        "df.loc[0:2,'Name':'Department']"
      ]
    },
    {
      "cell_type": "code",
      "execution_count": null,
      "metadata": {
        "id": "GVHpQpS93ygH"
      },
      "outputs": [],
      "source": [
        "#let us do the slicing using loc() function on new dataframe \"df3\" where index column is Name having labels: Rose, John and Jane\n",
        "df3.loc['Rose':'Jane', 'ID':'Department']"
      ]
    },
    {
      "cell_type": "code",
      "execution_count": null,
      "metadata": {
        "id": "UkuB3AeG4VYo"
      },
      "outputs": [],
      "source": [
        "# using loc() function, do slicing on old dataframe df to retrieve the Name, ID and Department of index column having labels as 2,3\n",
        "df.loc[2:3, 'Name':'Department']"
      ]
    },
    {
      "cell_type": "markdown",
      "metadata": {
        "id": "tLrtHQ1lyw3F"
      },
      "source": [
        "# Pandas: Loading data"
      ]
    },
    {
      "cell_type": "code",
      "execution_count": null,
      "metadata": {
        "id": "DDJ1f4CAy70V"
      },
      "outputs": [
        {
          "name": "stdout",
          "output_type": "stream",
          "text": [
            "Defaulting to user installation because normal site-packages is not writeable\n"
          ]
        },
        {
          "name": "stderr",
          "output_type": "stream",
          "text": [
            "ERROR: Invalid requirement: '#': Expected package name at the start of dependency specifier\n",
            "    #\n",
            "    ^\n"
          ]
        }
      ],
      "source": [
        "# !pip install pandas # only use when in need to install the library before importing it, here it would be redundant"
      ]
    },
    {
      "cell_type": "code",
      "execution_count": 2,
      "metadata": {
        "id": "2ZO2qSyLy3ws"
      },
      "outputs": [],
      "source": [
        "import pandas as pd # import library and assign a variable to said library"
      ]
    },
    {
      "cell_type": "code",
      "execution_count": null,
      "metadata": {
        "id": "ugdn3tBly9Nd"
      },
      "outputs": [],
      "source": [
        "# Read data from CSV file\n",
        "csv_path = 'https://cf-courses-data.s3.us.cloud-object-storage.appdomain.cloud/LXjSAttmoxJfEG6il1Bqfw/Product-sales.csv'\n",
        "df = pd.read_csv(csv_path)"
      ]
    },
    {
      "cell_type": "code",
      "execution_count": null,
      "metadata": {
        "id": "LJu2Y0qzz3xV"
      },
      "outputs": [],
      "source": [
        "df.head() # display the first five rows from file"
      ]
    },
    {
      "cell_type": "code",
      "execution_count": null,
      "metadata": {
        "id": "vx1wKHcJ0Nks"
      },
      "outputs": [],
      "source": [
        "df2 = df.set_index(\"OrderID\")\n",
        "df2"
      ]
    },
    {
      "cell_type": "code",
      "execution_count": null,
      "metadata": {
        "id": "WdY1m13b1rEN"
      },
      "outputs": [],
      "source": [
        "# read data from a excel file and print the first 5 rows\n",
        "# xlsx_path = 'https://cf-courses-data.s3.us.cloud-object-storage.appdomain.cloud/n9LOuKI9SlUa1b5zkaCMeg/Product-sales.xlsx'\n",
        "# await download(xlsx_path, \"Product-sales.xlsx\")\n",
        "# two lines used in other programming environments, like notebook or pyodide based environments\n",
        "\n",
        "!wget https://cf-courses-data.s3.us.cloud-object-storage.appdomain.cloud/n9LOuKI9SlUa1b5zkaCMeg/Product-sales.xlsx\n",
        "df_excl = pd.read_excel(\"Product-sales.xlsx\")\n",
        "df_excl.head()"
      ]
    },
    {
      "cell_type": "code",
      "execution_count": null,
      "metadata": {
        "id": "JHXk2NzI2E79"
      },
      "outputs": [],
      "source": [
        "# Access the \"Quantity\" column Length as a datarame = [[]]\n",
        "x_quant = df_excl[['Quantity']]\n",
        "x_quant"
      ]
    },
    {
      "cell_type": "code",
      "execution_count": null,
      "metadata": {
        "id": "fd10IGCz4G51"
      },
      "outputs": [],
      "source": [
        "# Get the column as a series = []\n",
        "x_prod = df_excl['Product']\n",
        "x_prod"
      ]
    },
    {
      "cell_type": "code",
      "execution_count": null,
      "metadata": {
        "id": "6zwMyCAZ4c1d"
      },
      "outputs": [],
      "source": [
        "print(type(x_quant))\n",
        "print(type(x_prod))"
      ]
    },
    {
      "cell_type": "code",
      "execution_count": null,
      "metadata": {
        "id": "wmthJ_RP4tpN"
      },
      "outputs": [],
      "source": [
        "# Access to multiple columns\n",
        "y = df_excl[['Product','Category', 'Quantity']]\n",
        "y"
      ]
    },
    {
      "cell_type": "code",
      "execution_count": null,
      "metadata": {
        "id": "qfub067d4_B2"
      },
      "outputs": [],
      "source": [
        "# Access the value on the first row and the first column\n",
        "print(df_excl.iloc[0, 0])\n",
        "print(\"-\"*20)\n",
        "# Access the value on the second row and the first column\n",
        "print(df_excl.iloc[1,0])\n",
        "print(\"-\"*20)\n",
        "# Access the value on the first row and the third column\n",
        "print(df_excl.iloc[0,2])\n",
        "print(\"-\"*20)\n",
        "# Access the value on the third row and the third column\n",
        "df_excl.iloc[2,2]"
      ]
    },
    {
      "cell_type": "code",
      "execution_count": null,
      "metadata": {
        "id": "VOklIDHF5VeV"
      },
      "outputs": [],
      "source": [
        "# Access the column using the name\n",
        "df_excl.loc[0, 'Product']"
      ]
    },
    {
      "cell_type": "code",
      "execution_count": null,
      "metadata": {
        "id": "11iFJbZz6Eed"
      },
      "outputs": [],
      "source": [
        "# Access the column using the name\n",
        "df_excl.loc[1, 'Product']"
      ]
    },
    {
      "cell_type": "code",
      "execution_count": null,
      "metadata": {
        "id": "0DDwEMNQ6F4l"
      },
      "outputs": [],
      "source": [
        "# Access the column using the name\n",
        "df_excl.loc[1, 'CustomerCity']"
      ]
    },
    {
      "cell_type": "code",
      "execution_count": null,
      "metadata": {
        "id": "S0kz-yV36Ijt"
      },
      "outputs": [],
      "source": [
        "# Access the column using the name\n",
        "int(df_excl.loc[1, 'Total'])"
      ]
    },
    {
      "cell_type": "code",
      "execution_count": null,
      "metadata": {
        "id": "JEtG5jH_6KvN"
      },
      "outputs": [],
      "source": [
        "# Slicing the dataframe\n",
        "\n",
        "df_excl.iloc[0:2, 0:3]"
      ]
    },
    {
      "cell_type": "code",
      "execution_count": null,
      "metadata": {
        "id": "4TCVzzdH6h81"
      },
      "outputs": [],
      "source": [
        "# Slicing the dataframe using name\n",
        "\n",
        "df_excl.loc[0:2, 'OrderID':'Category']"
      ]
    },
    {
      "cell_type": "markdown",
      "metadata": {
        "id": "c085olI_rtWj"
      },
      "source": [
        "## Tests"
      ]
    },
    {
      "cell_type": "code",
      "execution_count": null,
      "metadata": {
        "id": "YZ0fKjXO6z69"
      },
      "outputs": [],
      "source": [
        "# Use a variable q to store the column Price as a dataframe\n",
        "q1 = df_excl[['Price']]\n",
        "q1"
      ]
    },
    {
      "cell_type": "code",
      "execution_count": null,
      "metadata": {
        "id": "Rn4uNWe-cpzx"
      },
      "outputs": [],
      "source": [
        "# Assign the variable q to the dataframe that is made up of the column Product and Category\n",
        "q2 = df_excl[['Product', 'Category']]\n",
        "q2"
      ]
    },
    {
      "cell_type": "code",
      "execution_count": null,
      "metadata": {
        "id": "t9W4zF7Yc35x"
      },
      "outputs": [],
      "source": [
        "# Access the 2nd row and the 3rd column of df\n",
        "df_excl.iloc[1, 2]"
      ]
    },
    {
      "cell_type": "code",
      "execution_count": null,
      "metadata": {
        "id": "LvwNjJH7dKgy"
      },
      "outputs": [],
      "source": [
        "# Use the following list to convert the dataframe index df to characters and assign it to df_new;\n",
        "# find the element corresponding to the row index \"a\" and column \"CustomerCity\".\n",
        "# Then select the rows \"a\" through \"d\" for the column \"CustomerCity\"\n",
        "new_index=['a','b','c','d','e']\n",
        "df_new = df_excl\n",
        "df_new.index = new_index\n",
        "print(df_new.loc['a', 'CustomerCity'])\n",
        "print('-'*20)\n",
        "df_new.loc['a':'d', 'CustomerCity']"
      ]
    },
    {
      "cell_type": "code",
      "execution_count": null,
      "metadata": {
        "id": "B29qdaffd7HC"
      },
      "outputs": [],
      "source": [
        "df_new # full dataframe"
      ]
    },
    {
      "cell_type": "code",
      "execution_count": null,
      "metadata": {
        "id": "Mf-z1PHOd_pB"
      },
      "outputs": [],
      "source": [
        "df_new.loc['0':'c', 'Category':'OrderDate'] # part of new dataframe with new index, useas numbers(position), letters(index) or name as location"
      ]
    },
    {
      "cell_type": "code",
      "execution_count": null,
      "metadata": {
        "id": "ebPDcaRgegzZ"
      },
      "outputs": [],
      "source": [
        "df_new.iloc[0:3, 1:3] # iloc uses numbers even if index is letters"
      ]
    },
    {
      "cell_type": "markdown",
      "metadata": {
        "id": "qCuSSOZxrhXc"
      },
      "source": [
        "# One dimensional Numpy"
      ]
    },
    {
      "cell_type": "code",
      "execution_count": null,
      "metadata": {
        "id": "G9hxFBvOe0Kh"
      },
      "outputs": [],
      "source": [
        "# import numpy library\n",
        "import numpy as np\n",
        "# Create a numpy array\n",
        "a = np.array([0, 1, 2, 3, 4])\n",
        "a"
      ]
    },
    {
      "cell_type": "code",
      "execution_count": null,
      "metadata": {
        "id": "hpiI5FfQvKRr"
      },
      "outputs": [],
      "source": [
        "# Print each element\n",
        "print(\"a[0]:\", a[0])\n",
        "print(\"a[1]:\", a[1])\n",
        "print(\"a[2]:\", a[2])\n",
        "print(\"a[3]:\", a[3])\n",
        "print(\"a[4]:\", a[4])"
      ]
    },
    {
      "cell_type": "code",
      "execution_count": null,
      "metadata": {
        "id": "cZAEUzDbvc3k"
      },
      "outputs": [],
      "source": [
        "# Numpy version\n",
        "print(np.__version__)"
      ]
    },
    {
      "cell_type": "code",
      "execution_count": null,
      "metadata": {
        "id": "P45WivV1vh0r"
      },
      "outputs": [],
      "source": [
        "# Check the type of the array\n",
        "type(a)"
      ]
    },
    {
      "cell_type": "code",
      "execution_count": null,
      "metadata": {
        "id": "ItHhZbVxvwtr"
      },
      "outputs": [],
      "source": [
        "# Check the type of the values stored in numpy array\n",
        "a.dtype"
      ]
    },
    {
      "cell_type": "code",
      "execution_count": null,
      "metadata": {
        "id": "HqkPgUrgv18T"
      },
      "outputs": [],
      "source": [
        "# Check the type of the array and Value type for the given array\n",
        "b = np.array([3.1, 11.02, 6.2, 213.2, 5.2])\n",
        "print(type(b))\n",
        "print('-'*20)\n",
        "print(b.dtype)"
      ]
    },
    {
      "cell_type": "markdown",
      "metadata": {
        "id": "4D8IdsTf1PJ9"
      },
      "source": [
        "## Assign Value"
      ]
    },
    {
      "cell_type": "code",
      "execution_count": null,
      "metadata": {
        "id": "cepRRYO0wL4j"
      },
      "outputs": [],
      "source": [
        "# change the value of the array\n",
        "# Create numpy array \"c\"\n",
        "c = np.array([20, 1, 2, 3, 4])\n",
        "c"
      ]
    },
    {
      "cell_type": "code",
      "execution_count": null,
      "metadata": {
        "id": "r8yzizswwqub"
      },
      "outputs": [],
      "source": [
        "# Assign the first element to 100\n",
        "c[0] = 100\n",
        "c"
      ]
    },
    {
      "cell_type": "code",
      "execution_count": null,
      "metadata": {
        "id": "l-wF7_6nwwDL"
      },
      "outputs": [],
      "source": [
        "# Assign the 5th element to 0\n",
        "c[4] = 0\n",
        "c"
      ]
    },
    {
      "cell_type": "code",
      "execution_count": null,
      "metadata": {
        "id": "Q1TB9kIIxjwr"
      },
      "outputs": [],
      "source": [
        "# Assign the value 20 for the second element in the given array\n",
        "a2 = np.array([10, 2, 30, 40,50])\n",
        "a2"
      ]
    },
    {
      "cell_type": "code",
      "execution_count": null,
      "metadata": {
        "id": "8BLKRFeFxvlT"
      },
      "outputs": [],
      "source": [
        "a2[1] =  20\n",
        "a2"
      ]
    },
    {
      "cell_type": "markdown",
      "metadata": {
        "id": "ghuyGVb41VCF"
      },
      "source": [
        "## Slicing"
      ]
    },
    {
      "cell_type": "code",
      "execution_count": null,
      "metadata": {
        "id": "YaY4a5Bfx43b"
      },
      "outputs": [],
      "source": [
        "# Slicing the numpy array\n",
        "d = c[1:4]\n",
        "d"
      ]
    },
    {
      "cell_type": "code",
      "execution_count": null,
      "metadata": {
        "id": "eczVX9guyGs7"
      },
      "outputs": [],
      "source": [
        "# Set the fourth element and fifth element to 300 and 400\n",
        "c[3:5] = 300, 400\n",
        "c"
      ]
    },
    {
      "cell_type": "code",
      "execution_count": null,
      "metadata": {
        "id": "GKLmlltSyj3r"
      },
      "outputs": [],
      "source": [
        "# We can also define the steps in slicing, like this: [start:end:step] in this case the step is every 2 values\n",
        "arr = np.array([1, 2, 3, 4, 5, 6, 7])\n",
        "print(arr[1:5:2])"
      ]
    },
    {
      "cell_type": "code",
      "execution_count": null,
      "metadata": {
        "id": "iPl-pL5nywvj"
      },
      "outputs": [],
      "source": [
        "# If we don't pass start its considered 0\n",
        "print(arr[:4])"
      ]
    },
    {
      "cell_type": "code",
      "execution_count": null,
      "metadata": {
        "id": "jrMgEX4Nzm0D"
      },
      "outputs": [],
      "source": [
        "# If we don't pass end it considers till the length of array\n",
        "print(arr[4:])"
      ]
    },
    {
      "cell_type": "code",
      "execution_count": null,
      "metadata": {
        "id": "i0qSf1Jqz6Sc"
      },
      "outputs": [],
      "source": [
        "# If we don't pass step its considered 1\n",
        "print(arr[1:5:])"
      ]
    },
    {
      "cell_type": "code",
      "execution_count": null,
      "metadata": {
        "id": "bArgowOW0D6c"
      },
      "outputs": [],
      "source": [
        "# Print the even elements in the given array\n",
        "ar = np.array([1, 2, 3, 4, 5, 6, 7, 8])\n",
        "print(f\"Even elements are = {ar[1:8:2]}\")"
      ]
    },
    {
      "cell_type": "markdown",
      "metadata": {
        "id": "3497RJxN1b0N"
      },
      "source": [
        "## Create Value With A List"
      ]
    },
    {
      "cell_type": "code",
      "execution_count": null,
      "metadata": {
        "id": "SedW6QUp00uM"
      },
      "outputs": [],
      "source": [
        "# use a list to select more than one specific index\n",
        "# The list select contains several values\n",
        "# Create the index list\n",
        "select = [0, 2, 3, 4]\n",
        "select"
      ]
    },
    {
      "cell_type": "code",
      "execution_count": null,
      "metadata": {
        "id": "IJkiGIhl1rCU"
      },
      "outputs": [],
      "source": [
        "# Use List to select elements\n",
        "d = c[select]\n",
        "d"
      ]
    },
    {
      "cell_type": "code",
      "execution_count": null,
      "metadata": {
        "id": "7ls_JHxS2Toc"
      },
      "outputs": [],
      "source": [
        "# Assign the specified elements to new value\n",
        "c[select] = 100000\n",
        "c"
      ]
    },
    {
      "cell_type": "markdown",
      "metadata": {
        "id": "xkwOKTtq3iJF"
      },
      "source": [
        "## Other Attributes"
      ]
    },
    {
      "cell_type": "code",
      "execution_count": null,
      "metadata": {
        "id": "nGPHvGKF2elU"
      },
      "outputs": [],
      "source": [
        "# Create a numpy array\n",
        "a = np.array([0, 1, 2, 3, 4])\n",
        "print(a)\n",
        "# Get the size of numpy array\n",
        "a.size"
      ]
    },
    {
      "cell_type": "code",
      "execution_count": null,
      "metadata": {
        "id": "cl1swrHK3oLs"
      },
      "outputs": [],
      "source": [
        "# Get the number of dimensions of numpy array\n",
        "a.ndim"
      ]
    },
    {
      "cell_type": "code",
      "execution_count": null,
      "metadata": {
        "id": "8jmaGsZ53y10"
      },
      "outputs": [],
      "source": [
        "# Get the shape/size of numpy array\n",
        "a.shape"
      ]
    },
    {
      "cell_type": "code",
      "execution_count": null,
      "metadata": {
        "id": "VAgS22bK32hn"
      },
      "outputs": [],
      "source": [
        "# Find the size ,dimension and shape for the given array \"b1\"\n",
        "b1 = np.array([10, 20, 30, 40, 50, 60, 70])\n",
        "print(f\"Size = {b1.size}\",\n",
        "      f\"\\nDimension = {b1.ndim}\",\n",
        "      f\"\\nShape = {b1.shape}\")"
      ]
    },
    {
      "cell_type": "markdown",
      "metadata": {
        "id": "wQ4XzkMG4sC1"
      },
      "source": [
        "## Numpy Statistical Functions"
      ]
    },
    {
      "cell_type": "code",
      "execution_count": null,
      "metadata": {
        "id": "V6xrBxXZ4I_0"
      },
      "outputs": [],
      "source": [
        "# Create a \"A\" numpy array\n",
        "A = np.array([1, -1, 1, -1])"
      ]
    },
    {
      "cell_type": "code",
      "execution_count": null,
      "metadata": {
        "id": "YlcvVo4H4xd0"
      },
      "outputs": [],
      "source": [
        "# Get the mean of numpy array\n",
        "A_mean = A.mean() # 1+(-1)+1+(-1) = 0, mean of 0 is 0\n",
        "print(f\"Mean: {A_mean}\")\n",
        "# Get the standard deviation of numpy array\n",
        "standard_deviation = A.std()\n",
        "print(f\"Standard deviation: {standard_deviation}\")"
      ]
    },
    {
      "cell_type": "code",
      "execution_count": null,
      "metadata": {
        "id": "Qa0ne5Ve5ZnU"
      },
      "outputs": [],
      "source": [
        "# Create a \"B\" numpy array\n",
        "B = np.array([-1, 2, 3, 4, 5])\n",
        "print(f\"Array B: {B}\")\n",
        "# Get the biggest value in the numpy array\n",
        "max_B = B.max()\n",
        "print(f\"Max value: {max_B}\")\n",
        "# Get the smallest value in the numpy array\n",
        "min_B = B.min()\n",
        "print(f\"Min value: {min_B}\")"
      ]
    },
    {
      "cell_type": "code",
      "execution_count": null,
      "metadata": {
        "id": "Of9DxS5C6TZE"
      },
      "outputs": [],
      "source": [
        "# Find the sum of maximum and minimum value in the given numpy array\n",
        "C = np.array([-10, 201, 43, 94, 502])\n",
        "print(f\"Array C: {C}\",\n",
        "      f\"\\nMax value C: {C.max()}\",\n",
        "      f\"\\nMin value C: {C.min()}\")"
      ]
    },
    {
      "cell_type": "markdown",
      "metadata": {
        "id": "iKI9YeF78gNe"
      },
      "source": [
        "## Numpy Array Operations"
      ]
    },
    {
      "cell_type": "markdown",
      "metadata": {
        "id": "UFm4qotPAX0G"
      },
      "source": [
        "### Array Addition"
      ]
    },
    {
      "cell_type": "code",
      "execution_count": null,
      "metadata": {
        "id": "EsAI7CfS76Ns"
      },
      "outputs": [],
      "source": [
        "# Consider the numpy array \"u\" and \"v\"\n",
        "u = np.array([1, 0])\n",
        "print(f\"Array u: {u}\")\n",
        "v = np.array([0, 1])\n",
        "print(f\"Array v: {v}\")\n",
        "\n",
        "# Numpy Array Addition\n",
        "z = np.add(u, v)\n",
        "print(f\"Array result of sum of u and v: {z}\")\n",
        "w = np.append(v, u)\n",
        "print(f\"Array result of appending v and u: {w}\")"
      ]
    },
    {
      "cell_type": "code",
      "execution_count": null,
      "metadata": {
        "id": "yWVDpKCh8qb8"
      },
      "outputs": [],
      "source": [
        "# Plotting functions\n",
        "import time\n",
        "import sys\n",
        "import numpy as np\n",
        "\n",
        "import matplotlib.pyplot as plt\n",
        "\n",
        "def Plotvec1(u, z, v):\n",
        "\n",
        "    ax = plt.axes() # to generate the full window axes\n",
        "    # Add an arrow to the u Axes with arrow head width 0.05, color red and arrow head length 0.1\n",
        "    ax.arrow(0, 0, *u, head_width=0.05, color='r', head_length=0.1)\n",
        "    plt.text(*(u + 0.1), 'u') # Adds the text u to the Axes\n",
        "\n",
        "    # Add an arrow to the v Axes with arrow head width 0.05, color blue and arrow head length 0.1\n",
        "    ax.arrow(0, 0, *v, head_width=0.05, color='b', head_length=0.1)\n",
        "    plt.text(*(v + 0.1), 'v') # Adds the text v to the Axes\n",
        "\n",
        "    # Add an arrow to the v Axes with arrow head width 0.05, color blue and arrow head length 0.1\n",
        "    ax.arrow(0, 0, *z, head_width=0.05,color = 'y', head_length=0.1)\n",
        "    plt.text(*(z + 0.1), 'z') # Adds the text z to the Axes\n",
        "    plt.ylim(-2, 2) # set the ylim to bottom(-2), top(2)\n",
        "    plt.xlim(-2, 2) # set the xlim to left(-2), right(2)\n",
        "\n",
        "# Plot numpy arrays\n",
        "Plotvec1(u, z, v)"
      ]
    },
    {
      "cell_type": "code",
      "execution_count": null,
      "metadata": {
        "id": "yCjRGSaU9fId"
      },
      "outputs": [],
      "source": [
        "# Perform addition operation on the given numpy array \"arr1\" and \"arr2\"\n",
        "arr1 = np.array([10, 11, 12, 13, 14, 15])\n",
        "arr2 = np.array([20, 21, 22, 23, 24, 25])\n",
        "add_arr = np.add(arr1, arr2)\n",
        "print(f\"arr1 + arr2 = {add_arr}\")"
      ]
    },
    {
      "cell_type": "markdown",
      "metadata": {
        "id": "B8IDPH-rAUuW"
      },
      "source": [
        "### Array Subtraction"
      ]
    },
    {
      "cell_type": "code",
      "execution_count": null,
      "metadata": {
        "id": "uXaM1lJF_iHl"
      },
      "outputs": [],
      "source": [
        "# Consider the numpy array \"a_minus\"\n",
        "a_minus = np.array([10, 20, 30])\n",
        "print(f\"Array 1: {a_minus}\")\n",
        "# Consider the numpy array \"b_minus\"\n",
        "b_minus = np.array([5, 10, 15])\n",
        "print(f\"Array 2: {b_minus}\")\n",
        "# subtract the two arrays and assign it to \"c_minus\"\n",
        "c_minus = np.subtract(a_minus, b_minus)\n",
        "print(f\"Subraction of arrays 1 and 2: {c_minus}\")"
      ]
    },
    {
      "cell_type": "markdown",
      "metadata": {
        "id": "-UTB6zNCh7gv"
      },
      "source": [
        "### Array Multiplication"
      ]
    },
    {
      "cell_type": "code",
      "execution_count": null,
      "metadata": {
        "id": "BLc9kO2Il3Ez"
      },
      "outputs": [],
      "source": [
        "# Create a numpy array X1\n",
        "X1 = np.array([1, 2])\n",
        "print(f\"Array 1: {X1}\")\n",
        "# Create a numpy array Y1\n",
        "Y1 = np.array([2, 1])\n",
        "print(f\"Array 2: {Y1}\")\n",
        "# Numpy Array Multiplication of X! and Y1\n",
        "Z1 = np.multiply(X1, Y1)\n",
        "print(f\"Multiplication of arrays X1 and Y1: {Z1}\")"
      ]
    },
    {
      "cell_type": "code",
      "execution_count": null,
      "metadata": {
        "id": "grIpLmS3BgCt"
      },
      "outputs": [],
      "source": [
        "# Perform multiply operation on the given numpy array arr_mult1 and arr_mult2\n",
        "arr_mult1 = np.array([10, 20, 30, 40, 50, 60])\n",
        "arr_mult2 = np.array([2, 1, 2, 3, 4, 5])\n",
        "mult_arr = np.multiply(arr_mult1, arr_mult2)\n",
        "print(f\"Array 1 * Array 2 = {mult_arr}\")"
      ]
    },
    {
      "cell_type": "markdown",
      "metadata": {
        "id": "4qHiWagc1Js3"
      },
      "source": [
        "### Array Division"
      ]
    },
    {
      "cell_type": "code",
      "execution_count": null,
      "metadata": {
        "id": "RuqVQm6w1BD4"
      },
      "outputs": [],
      "source": [
        "# create arrays a, b and c for the base arrays and the division\n",
        "a = np.array([10, 20, 30])\n",
        "print(f\"Array 1: {a}\")\n",
        "b = np.array([2, 10, 5])\n",
        "print(f\"Array 2: {b}\")\n",
        "c = np.divide(a, b)\n",
        "print(f\"Array division: {c}\")"
      ]
    },
    {
      "cell_type": "code",
      "execution_count": null,
      "metadata": {
        "id": "DGpueFO-1r7J"
      },
      "outputs": [],
      "source": [
        "arr1 = np.array([10, 20, 30, 40, 50, 60])\n",
        "arr2 = np.array([3, 5, 10, 8, 2, 33])\n",
        "div = np.divide(arr1, arr2)\n",
        "print(f\"Array 1 / Array 2 = {div}\")"
      ]
    },
    {
      "cell_type": "markdown",
      "metadata": {
        "id": "KE7cPFLe2KpY"
      },
      "source": [
        "### Dot Product\n",
        "The dot product is a mathematical operation that takes two equal-length sequences of numbers (usually vectors) and returns a single number."
      ]
    },
    {
      "cell_type": "code",
      "execution_count": null,
      "metadata": {
        "id": "PZ72awYy141v"
      },
      "outputs": [],
      "source": [
        "# The dot product of the two numpy arrays u and v is given by\n",
        "X = np.array([1, 2])\n",
        "Y = np.array([3, 2])\n",
        "# Calculate the dot product\n",
        "np.dot(X, Y)"
      ]
    },
    {
      "cell_type": "code",
      "execution_count": null,
      "metadata": {
        "id": "LqYdGAzc20E4"
      },
      "outputs": [],
      "source": [
        "#Elements of X\n",
        "print(X[0])\n",
        "print(X[1])\n",
        "#Elements of Y\n",
        "print(Y[0])\n",
        "print(Y[1])"
      ]
    },
    {
      "cell_type": "code",
      "execution_count": null,
      "metadata": {
        "id": "IGs0-UTd25__"
      },
      "outputs": [],
      "source": [
        "# test\n",
        "arr1 = np.array([3, 5])\n",
        "arr2 = np.array([2, 4])\n",
        "arr3 = np.dot (arr1, arr2)\n",
        "print(f\"Dot product: {arr3}\")"
      ]
    },
    {
      "cell_type": "markdown",
      "metadata": {
        "id": "xTI1OMyp3QyA"
      },
      "source": [
        "### Adding A Constant To a Numpy Array"
      ]
    },
    {
      "cell_type": "code",
      "execution_count": null,
      "metadata": {
        "id": "jcPCJNTN3M7g"
      },
      "outputs": [],
      "source": [
        "# Create a constant to numpy array\n",
        "u = np.array([1, 2, 3, -1])\n",
        "print(u)\n",
        "# Add the constant to array\n",
        "u + 1"
      ]
    },
    {
      "cell_type": "code",
      "execution_count": null,
      "metadata": {
        "id": "apE-55DA3sLP"
      },
      "outputs": [],
      "source": [
        "# Add Constant 5 to the given numpy array arr\n",
        "arr = np.array([1, 2, 3, -1])\n",
        "arr + 5"
      ]
    },
    {
      "cell_type": "markdown",
      "metadata": {
        "id": "Urmt5DFI4Njf"
      },
      "source": [
        "### Mathematical Functions"
      ]
    },
    {
      "cell_type": "code",
      "execution_count": null,
      "metadata": {
        "id": "NWuPWFhE4LEI"
      },
      "outputs": [],
      "source": [
        "# The value of pi\n",
        "print(np.pi)\n",
        "# Create the numpy array in radians\n",
        "x = np.array([0, np.pi/2 , np.pi])\n",
        "print(x)\n",
        "# Calculate the sin of each elements\n",
        "y = np.sin(x)\n",
        "print(y)"
      ]
    },
    {
      "cell_type": "markdown",
      "metadata": {
        "id": "3c0KfAO045kH"
      },
      "source": [
        "### Linspace\n",
        "A useful function for plotting mathematical functions is linspace. Linspace returns evenly spaced numbers over a specified interval.\n",
        "\n",
        "numpy.linspace(start, stop, num = int value)\n",
        "\n",
        "start : start of interval range\n",
        "\n",
        "stop : end of interval range\n",
        "\n",
        "num : Number of samples to generate."
      ]
    },
    {
      "cell_type": "code",
      "execution_count": null,
      "metadata": {
        "id": "P6JDPM9F4xTX"
      },
      "outputs": [],
      "source": [
        "# Makeup a numpy array within [-2, 2] and 5 elements\n",
        "np.linspace(-2, 2, num=5)"
      ]
    },
    {
      "cell_type": "code",
      "execution_count": null,
      "metadata": {
        "id": "4_9UrCvt5sLY"
      },
      "outputs": [],
      "source": [
        "# Make a numpy array within [-2, 2] and 9 elements\n",
        "np.linspace(-2, 2, num=9)"
      ]
    },
    {
      "cell_type": "code",
      "execution_count": null,
      "metadata": {
        "id": "fGGiqbql5viX"
      },
      "outputs": [],
      "source": [
        "# Make a numpy array within [0, 2π] and 100 elements\n",
        "x = np.linspace(0, 2*np.pi, num=100)\n",
        "x"
      ]
    },
    {
      "cell_type": "code",
      "execution_count": null,
      "metadata": {
        "id": "UMh7fLnh5_rn"
      },
      "outputs": [],
      "source": [
        "# We can apply the sine function to each element in the array x and assign it to the array y\n",
        "# Calculate the sine of x list\n",
        "y = np.sin(x)\n",
        "y"
      ]
    },
    {
      "cell_type": "code",
      "execution_count": null,
      "metadata": {
        "id": "UftyzyQz6OTX"
      },
      "outputs": [],
      "source": [
        "# Plot the result\n",
        "plt.plot(x, y)"
      ]
    },
    {
      "cell_type": "code",
      "execution_count": null,
      "metadata": {
        "id": "ip97wFoF6Px_"
      },
      "outputs": [],
      "source": [
        "# Make a numpy array within [5, 4] and 6 elements\n",
        "elem5 = np.linspace(4, 5, num = 6)\n",
        "elem5"
      ]
    },
    {
      "cell_type": "markdown",
      "metadata": {
        "id": "unT8xa_q8d6w"
      },
      "source": [
        "### Iterating 1D Arrays"
      ]
    },
    {
      "cell_type": "code",
      "execution_count": null,
      "metadata": {
        "id": "mIiuv2IE8S1Q"
      },
      "outputs": [],
      "source": [
        "# If we execute the numpy array, we get in the array format\n",
        "arr1 = np.array([1, 2, 3])\n",
        "print(arr1)\n",
        "# But if you want to result in the form of the list, then you can use for loop\n",
        "for x in arr1:\n",
        "  print(x)"
      ]
    },
    {
      "cell_type": "markdown",
      "metadata": {
        "id": "yCqhj2Kk-am4"
      },
      "source": [
        "### Test"
      ]
    },
    {
      "cell_type": "code",
      "execution_count": null,
      "metadata": {
        "id": "uIPuxEmm-SlQ"
      },
      "outputs": [],
      "source": [
        "# Implement the following vector subtraction in numpy: u-v\n",
        "u = np.array([1, 0])\n",
        "v = np.array([0, 1])\n",
        "subt = np.subtract(u, v)\n",
        "print(f\"Subtraction of arrays u and v: {subt}\")\n",
        "# Multiply the numpy array z with -2\n",
        "z = np.array([2, 4])\n",
        "mult = np.multiply(z , -2)\n",
        "print(f\"Multiplication of array z and -2: {mult}\")\n",
        "# Consider the list [1, 2, 3, 4, 5] and [1, 0, 1, 0, 1]. Cast both lists to a numpy array then multiply them together\n",
        "A = np.array([1, 2, 3, 4, 5])\n",
        "B = np.array([1, 0, 1, 0, 1])\n",
        "AxB = np.multiply(A, B)\n",
        "print(f\"Array A = {A}\",\n",
        "      f\"\\nArray B = {B}\",\n",
        "      f\"\\nArray A*B = {AxB}\")"
      ]
    },
    {
      "cell_type": "code",
      "execution_count": null,
      "metadata": {
        "id": "SYvpgrQV_YLI"
      },
      "outputs": [],
      "source": [
        "import time\n",
        "import sys\n",
        "import numpy as np\n",
        "\n",
        "import matplotlib.pyplot as plt\n",
        "\n",
        "\n",
        "def Plotvec2(a,b):\n",
        "    ax = plt.axes()# to generate the full window axes\n",
        "    ax.arrow(0, 0, *a, head_width=0.05, color ='r', head_length=0.1)#Add an arrow to the  a Axes with arrow head width 0.05, color red and arrow head length 0.1\n",
        "    plt.text(*(a + 0.1), 'a')\n",
        "    ax.arrow(0, 0, *b, head_width=0.05, color ='b', head_length=0.1)#Add an arrow to the  b Axes with arrow head width 0.05, color blue and arrow head length 0.1\n",
        "    plt.text(*(b + 0.1), 'b')\n",
        "    plt.ylim(-2, 2)#set the ylim to bottom(-2), top(2)\n",
        "    plt.xlim(-2, 2)#set the xlim to left(-2), right(2)"
      ]
    },
    {
      "cell_type": "code",
      "execution_count": null,
      "metadata": {
        "id": "nyYfPWlm_-KQ"
      },
      "outputs": [],
      "source": [
        "# Convert the list [-1, 1] and [1, 1] to numpy arrays a and b\n",
        "# Then, plot the arrays as vectors using the fuction Plotvec2 and find their dot product\n",
        "a = np.array([-1, 1])\n",
        "b = np.array([1, 1])\n",
        "dp = np.dot(a, b)\n",
        "print(f\"Dot point of array a and array b: {dp}\")\n",
        "Plotvec2(a, b)"
      ]
    },
    {
      "cell_type": "code",
      "execution_count": null,
      "metadata": {
        "id": "YQlYG5cuA483"
      },
      "outputs": [],
      "source": [
        "# Convert the list [1, 0] and [0, 1] to numpy arrays a and b\n",
        "# Then, plot the arrays as vectors using the function Plotvec2 and find their dot product\n",
        "a = np.array([1, 0])\n",
        "b = np.array([0, 1])\n",
        "dp = np.dot(a, b)\n",
        "print(f\"Dot point of array a and array b: {dp}\")\n",
        "Plotvec2(a, b)"
      ]
    },
    {
      "cell_type": "code",
      "execution_count": null,
      "metadata": {
        "id": "RJXbjLXKBvTA"
      },
      "outputs": [],
      "source": [
        "# Convert the list [1, 1] and [0, 1] to numpy arrays a and b\n",
        "# Then plot the arrays as vectors using the fuction Plotvec2 and find their dot product\n",
        "a = np.array([1, 1])\n",
        "b = np.array([0, 1])\n",
        "dp = np.dot(a, b)\n",
        "print(f\"Dot point of array a and array b: {dp}\")\n",
        "Plotvec2(a, b)"
      ]
    },
    {
      "cell_type": "code",
      "execution_count": null,
      "metadata": {
        "id": "L1-RdVmvCIT3"
      },
      "outputs": [],
      "source": [
        "# Convert the list [1, 2, 3] and [8, 9, 10] to numpy arrays arr1 and arr2\n",
        "# Then perform Addition , Subtraction , Multiplication , Division and Dot Operation on the arr1 and arr2\n",
        "arr1 = np.array([1, 2, 3])\n",
        "arr2 = np.array([8, 9, 10])\n",
        "print(f\"Addition: {np.add(arr1, arr2)}\",\n",
        "      f\"\\nSubtraction: {np.subtract(arr2, arr1)}\",\n",
        "      f\"\\nMultiplication: {np.multiply(arr1, arr2)}\",\n",
        "      f\"\\nDivision: {np.divide(arr2, arr1)}\",\n",
        "      f\"\\nDot Operation: {np.dot(arr1, arr2)}\")"
      ]
    },
    {
      "cell_type": "code",
      "execution_count": null,
      "metadata": {
        "id": "g-byOoruCogg"
      },
      "outputs": [],
      "source": [
        "# Convert the list [1, 2, 3, 4, 5] and [6, 7, 8, 9, 10] to numpy arrays arr1 and arr2\n",
        "# Then find the even and odd numbers from arr1 and arr2\n",
        "arr1 = np.array([1, 2, 3, 4, 5])\n",
        "arr2 = np.array([6, 7, 8, 9, 10])\n",
        "print(f\"Even numbers from array 1: {arr1[1::2]}\",\n",
        "      f\"\\nOdd numbers from array 1: {arr1[::2]}\",\n",
        "      \"\\n\",\n",
        "      \"-\"*40,\n",
        "      f\"\\nEven numbers from array 2: {arr2[::2]}\",\n",
        "      f\"\\nOdd numbers from array 2: {arr2[1::2]}\")"
      ]
    },
    {
      "cell_type": "markdown",
      "metadata": {
        "id": "-jLkKoiStwFf"
      },
      "source": [
        "# 2D Numpy in Python"
      ]
    },
    {
      "cell_type": "code",
      "execution_count": null,
      "metadata": {
        "id": "7nJb9bKAEHpY"
      },
      "outputs": [],
      "source": [
        "# Import the libraries\n",
        "import numpy as np"
      ]
    },
    {
      "cell_type": "code",
      "execution_count": null,
      "metadata": {
        "id": "d7Rld-EbtUzN"
      },
      "outputs": [],
      "source": [
        "# Create a list\n",
        "a = [[11, 12, 13], [21, 22, 23], [31, 32, 33], [41, 42, 43]]\n",
        "a"
      ]
    },
    {
      "cell_type": "code",
      "execution_count": null,
      "metadata": {
        "id": "sPSrHqootcem"
      },
      "outputs": [],
      "source": [
        "# Convert list to Numpy Array\n",
        "# Every element is the same type\n",
        "A = np.array(a)\n",
        "print(A)"
      ]
    },
    {
      "cell_type": "code",
      "execution_count": null,
      "metadata": {
        "id": "fKSAVSPgtdgU"
      },
      "outputs": [],
      "source": [
        "# Show the numpy array dimensions\n",
        "print(A.ndim)\n",
        "# Show the numpy array shape\n",
        "print(A.shape)\n",
        "# Show the numpy array size\n",
        "A.size"
      ]
    },
    {
      "cell_type": "markdown",
      "metadata": {
        "id": "SWBgpC7YuO4o"
      },
      "source": [
        "## Accessing different elements of a Numpy Array"
      ]
    },
    {
      "cell_type": "code",
      "execution_count": null,
      "metadata": {
        "id": "iX8oWmpDt61c"
      },
      "outputs": [],
      "source": [
        "# Access the element on the second row and third column form 1\n",
        "print(A[1,2])\n",
        "# Access the element on the second row and third column form 2\n",
        "print(A[1][2])"
      ]
    },
    {
      "cell_type": "code",
      "execution_count": null,
      "metadata": {
        "id": "7DEfkV2suk8E"
      },
      "outputs": [],
      "source": [
        "# Access the elements on the first row, first and second columns (slicing)\n",
        "print(A[0][0:2])\n",
        "#  we can obtain the first two rows of the 3rd column as follows\n",
        "print(A[0:2, 2])"
      ]
    },
    {
      "cell_type": "code",
      "execution_count": null,
      "metadata": {
        "id": "mzbQYp2pvRF0"
      },
      "outputs": [],
      "source": [
        "# Create a numpy array X\n",
        "X = np.array([[1, 0], [0, 1]])\n",
        "print(f\"List X:\\n{X}\")\n",
        "# Create a numpy array Y\n",
        "Y = np.array([[2, 1], [1, 2]])\n",
        "print(f\"List Y:\\n{Y}\")\n",
        "# Add X and Y\n",
        "Z = X + Y\n",
        "print(f\"Addition of X and Y:\\n{Z}\")\n",
        "# Multiply X and Y\n",
        "Z = X * Y\n",
        "print(f\"Multiplication of X and Y:\\n{Z}\")"
      ]
    },
    {
      "cell_type": "code",
      "execution_count": null,
      "metadata": {
        "id": "eisOpRU7vj2c"
      },
      "outputs": [],
      "source": [
        "# Create a numpy array Y\n",
        "Y_array = np.array([[2, 1], [1, 2]])\n",
        "# Multiply Y with 2\n",
        "Z_array = 2 * Y\n",
        "print(f\"Y array:\\n{Y_array}\",\n",
        "      f\"\\nMultiplication of Y with 2:\\n{Z_array}\")"
      ]
    },
    {
      "cell_type": "code",
      "execution_count": null,
      "metadata": {
        "id": "JAjY-B0HyP2T"
      },
      "outputs": [],
      "source": [
        "# Create a numpy array X\n",
        "X_array = np.array([[1, 0], [0, 1]])\n",
        "# Multiply X with Y\n",
        "Q_A_mult = X * Y\n",
        "print(f\"X array:\\n{X_array}\",\n",
        "      f\"\\nY array:\\n{Y_array}\",\n",
        "      f\"\\nX and Y array multilication:\\n{Q_A_mult}\")"
      ]
    },
    {
      "cell_type": "code",
      "execution_count": null,
      "metadata": {
        "id": "uDVvIORayyPM"
      },
      "outputs": [],
      "source": [
        "# We can also perform matrix multiplication with the numpy arrays A and B as follows\n",
        "# Create a matrix A\n",
        "A_array = np.array([[0, 1, 1], [1, 0, 1]])\n",
        "# Create a matrix B\n",
        "B_array = np.array([[1, 1], [1, 1], [-1, 1]])\n",
        "# Calculate the dot product\n",
        "Dot = np.dot(A_array,B_array)\n",
        "# Calculate the sine of Z\n",
        "Sin = np.sin(Dot)\n",
        "# print all\n",
        "print(f\"A array:\\n{A_array}\",\n",
        "      f\"\\nB array:\\n{B_array}\",\n",
        "      f\"\\nDot product:\\n{Dot}\",\n",
        "      f\"\\nSine of the dot product:\\n{Sin}\")"
      ]
    },
    {
      "cell_type": "code",
      "execution_count": null,
      "metadata": {
        "id": "eGDcLDa4z_0z"
      },
      "outputs": [],
      "source": [
        "# Create a matrix C\n",
        "C = np.array([[1,1],[2,2],[3,3]])\n",
        "# Get the transposed matrix of C\n",
        "C_trans = C.T\n",
        "print(f\"C array:\\n{C}\",\n",
        "      f\"\\nTransposed C array:\\n{C_trans}\")"
      ]
    },
    {
      "cell_type": "code",
      "execution_count": null,
      "metadata": {
        "id": "1DZeXc810f3j"
      },
      "outputs": [],
      "source": [
        "# Consider the following list a, convert it to Numpy Array\n",
        "a = [[1, 2, 3, 4], [5, 6, 7, 8], [9, 10, 11, 12]]\n",
        "a_array = np.array(a)\n",
        "print(f\"List a:\\n{a}\",\n",
        "      f\"\\nNumpy array a:\\n{a_array}\")\n",
        "# Calculate the numpy array size\n",
        "print(f\"Numpy array a size: {a_array.size}\")\n",
        "# # Access the element on the first row and first and second columns\n",
        "print(f\"Array 'a' element on the first row, first and second columns: {a_array[0][0:2]}\")"
      ]
    },
    {
      "cell_type": "code",
      "execution_count": null,
      "metadata": {
        "id": "jqsqYFrs1mAq"
      },
      "outputs": [],
      "source": [
        "# Perform matrix multiplication with the numpy arrays \"a\" and \"b\"\n",
        "b_array = np.array([[0, 1], [1, 0], [1, 1], [-1, 0]])\n",
        "print(f\"Numpy array b:\\n{b_array}\",\n",
        "      f\"\\nArray 'a' multiplication with array 'b':\\n{np.dot(a_array, b_array)}\")"
      ]
    },
    {
      "cell_type": "markdown",
      "metadata": {
        "id": "m3NresRIkROw"
      },
      "source": [
        "# Introduction to APIs\n",
        "Pandas is an API"
      ]
    },
    {
      "cell_type": "code",
      "execution_count": 3,
      "metadata": {
        "id": "mU5qQm7UkR3w"
      },
      "outputs": [],
      "source": [
        "# Pandas is actually set of software components , much of which is not even written in Python\n",
        "# import dependencies to work\n",
        "import pandas as pd\n",
        "import matplotlib.pyplot as plt"
      ]
    },
    {
      "cell_type": "code",
      "execution_count": 4,
      "metadata": {
        "id": "UfOQtVyc_Zf1"
      },
      "outputs": [
        {
          "data": {
            "text/plain": [
              "pandas.core.frame.DataFrame"
            ]
          },
          "execution_count": 4,
          "metadata": {},
          "output_type": "execute_result"
        }
      ],
      "source": [
        "# create a dictionary\n",
        "dict_={'a':[11,21,31],'b':[12,22,32]}\n",
        "# When you create a Pandas object with the dataframe constructor, in API lingo this is an \"instance\"\n",
        "# The data in the dictionary is passed along to the pandas API\n",
        "# You then use the dataframe to communicate with the API\n",
        "df=pd.DataFrame(dict_)\n",
        "type(df)"
      ]
    },
    {
      "cell_type": "code",
      "execution_count": 5,
      "metadata": {
        "id": "_miM3mWv_yNd"
      },
      "outputs": [
        {
          "name": "stdout",
          "output_type": "stream",
          "text": [
            "    a   b\n",
            "0  11  12\n",
            "1  21  22\n",
            "2  31  32\n"
          ]
        }
      ],
      "source": [
        "print(df)"
      ]
    },
    {
      "cell_type": "code",
      "execution_count": null,
      "metadata": {
        "id": "Q3ke_Leg_1TE"
      },
      "outputs": [],
      "source": [
        "# When you call the method head the dataframe communicates with the API displaying the first few rows of the dataframe\n",
        "df_head = df.head()\n",
        "# When you call the method mean, the API will calculate the mean and return the value\n",
        "df_mean = df.mean()\n",
        "\n",
        "print(f\"Head of dataframe:\\n{df_head}\",\n",
        "      f\"\\nMean of dataframe:\\n{df_mean}\")"
      ]
    },
    {
      "cell_type": "markdown",
      "metadata": {
        "id": "cqZZ4f-0BUSk"
      },
      "source": [
        "## Lab\n",
        "In this lab, we will use the NBA API to determine how well the Golden State Warriors performed against the Toronto Raptors. We will use the API to determine the number of points the Golden State Warriors won or lost by for each game. So if the value is three, the Golden State Warriors won by three points. Similarly it the Golden State Warriors lost by two points the result will be negative two. The API will handle a lot of the details, such a Endpoints and Authentication."
      ]
    },
    {
      "cell_type": "code",
      "execution_count": 6,
      "metadata": {
        "id": "5DsrLY63A669"
      },
      "outputs": [
        {
          "name": "stdout",
          "output_type": "stream",
          "text": [
            "Defaulting to user installation because normal site-packages is not writeable\n",
            "Collecting nba_api\n",
            "  Downloading nba_api-1.10.0-py3-none-any.whl.metadata (5.8 kB)\n",
            "Requirement already satisfied: numpy>=2.1.0 in c:\\users\\usuario\\appdata\\roaming\\python\\python313\\site-packages (from nba_api) (2.3.2)\n",
            "Requirement already satisfied: pandas>=2.2.0 in c:\\users\\usuario\\appdata\\roaming\\python\\python313\\site-packages (from nba_api) (2.3.2)\n",
            "Requirement already satisfied: requests<3.0.0,>=2.32.3 in c:\\users\\usuario\\appdata\\roaming\\python\\python313\\site-packages (from nba_api) (2.32.5)\n",
            "Requirement already satisfied: charset_normalizer<4,>=2 in c:\\users\\usuario\\appdata\\roaming\\python\\python313\\site-packages (from requests<3.0.0,>=2.32.3->nba_api) (3.4.3)\n",
            "Requirement already satisfied: idna<4,>=2.5 in c:\\users\\usuario\\appdata\\roaming\\python\\python313\\site-packages (from requests<3.0.0,>=2.32.3->nba_api) (3.10)\n",
            "Requirement already satisfied: urllib3<3,>=1.21.1 in c:\\users\\usuario\\appdata\\roaming\\python\\python313\\site-packages (from requests<3.0.0,>=2.32.3->nba_api) (2.5.0)\n",
            "Requirement already satisfied: certifi>=2017.4.17 in c:\\users\\usuario\\appdata\\roaming\\python\\python313\\site-packages (from requests<3.0.0,>=2.32.3->nba_api) (2025.8.3)\n",
            "Requirement already satisfied: python-dateutil>=2.8.2 in c:\\users\\usuario\\appdata\\roaming\\python\\python313\\site-packages (from pandas>=2.2.0->nba_api) (2.9.0.post0)\n",
            "Requirement already satisfied: pytz>=2020.1 in c:\\users\\usuario\\appdata\\roaming\\python\\python313\\site-packages (from pandas>=2.2.0->nba_api) (2025.2)\n",
            "Requirement already satisfied: tzdata>=2022.7 in c:\\users\\usuario\\appdata\\roaming\\python\\python313\\site-packages (from pandas>=2.2.0->nba_api) (2025.2)\n",
            "Requirement already satisfied: six>=1.5 in c:\\users\\usuario\\appdata\\roaming\\python\\python313\\site-packages (from python-dateutil>=2.8.2->pandas>=2.2.0->nba_api) (1.17.0)\n",
            "Downloading nba_api-1.10.0-py3-none-any.whl (285 kB)\n",
            "Installing collected packages: nba_api\n",
            "Successfully installed nba_api-1.10.0\n"
          ]
        }
      ],
      "source": [
        "!pip install nba_api\n",
        "from nba_api.stats.static import teams\n",
        "import matplotlib.pyplot as plt\n",
        "\n",
        "def one_dict(list_dict):\n",
        "    keys=list_dict[0].keys()\n",
        "    out_dict={key:[] for key in keys}\n",
        "    for dict_ in list_dict:\n",
        "        for key, value in dict_.items():\n",
        "            out_dict[key].append(value)\n",
        "    return out_dict"
      ]
    },
    {
      "cell_type": "code",
      "execution_count": null,
      "metadata": {
        "id": "vSewvwMoCa8k"
      },
      "outputs": [],
      "source": [
        "# The method get_teams() returns a list of dictionaries\n",
        "nba_teams = teams.get_teams()\n",
        "# The dictionary key id has a unique identifier for each team as a value\n",
        "# Let's look at the first three elements of the list\n",
        "nba_teams[0:3]"
      ]
    },
    {
      "cell_type": "code",
      "execution_count": null,
      "metadata": {
        "id": "A4V32dYeDK9T"
      },
      "outputs": [],
      "source": [
        "# convert dict to a table\n",
        "dict_nba_team=one_dict(nba_teams)\n",
        "# convert dictionary to a data frame\n",
        "df_teams=pd.DataFrame(dict_nba_team)\n",
        "df_teams.head()"
      ]
    },
    {
      "cell_type": "code",
      "execution_count": null,
      "metadata": {
        "id": "nCXTGR_zC_oT"
      },
      "outputs": [],
      "source": [
        "print(f\"NBA dataframe size: {df_teams.size}\")\n",
        "print(f\"NBA dataframe shape: {df_teams.shape}\")"
      ]
    },
    {
      "cell_type": "code",
      "execution_count": null,
      "metadata": {
        "id": "x3WSVzu9D90L"
      },
      "outputs": [],
      "source": [
        "# use the team nickname to find said team and it's unique id\n",
        "df_wolves=df_teams[df_teams['nickname']=='Timberwolves']\n",
        "df_warriors=df_teams[df_teams['nickname']=='Warriors']\n",
        "df_warriors"
      ]
    },
    {
      "cell_type": "code",
      "execution_count": null,
      "metadata": {
        "id": "0WdrDcYWFTWj"
      },
      "outputs": [],
      "source": [
        "df_wolves"
      ]
    },
    {
      "cell_type": "code",
      "execution_count": null,
      "metadata": {
        "id": "crkJ1CnoGgSL"
      },
      "outputs": [],
      "source": [
        "# use the following code to access the first column of DF\n",
        "id_warriors=df_warriors[['id']].values[0][0]\n",
        "id_wolves = df_wolves[['id']].values[0][0]\n",
        "# we now have an integer that can be used to request the Warriors information\n",
        "print(f\"Warriors unique ID: {id_warriors}\")\n",
        "print(f\"Timberwolves unique ID: {id_wolves}\")"
      ]
    },
    {
      "cell_type": "code",
      "execution_count": null,
      "metadata": {
        "id": "wI-PJrHHG2Dj"
      },
      "outputs": [],
      "source": [
        "# The function \"League Game Finder \" will make an API call, it's in the module stats.endpoints\n",
        "from nba_api.stats.endpoints import leaguegamefinder\n",
        "# Under the hood, the NBA API is making a HTTP request.\n",
        "# The information requested is provided and is transmitted via an HTTP response this is assigned to the object game finder\n",
        "gamefinder = leaguegamefinder.LeagueGameFinder(team_id_nullable=id_warriors) # The parameter team_id_nullable is the unique ID for the warriors\n",
        "gamefinder.get_json() # We can see the json file by running the following line of code\n",
        "games = gamefinder.get_data_frames()[0] # method that returns dataframe\n",
        "games.head()\n",
        "# page does not allow cloud API call"
      ]
    },
    {
      "cell_type": "code",
      "execution_count": null,
      "metadata": {
        "id": "DmW6E5h3IRKr"
      },
      "outputs": [],
      "source": [
        "# we will download the data from a previously stabilished link to use the data in cloud environment\n",
        "# this step is since cloud calls are not accepted by NBA API\n",
        "import requests\n",
        "\n",
        "filename = \"https://s3-api.us-geo.objectstorage.softlayer.net/cf-courses-data/CognitiveClass/PY0101EN/Chapter%205/Labs/Golden_State.pkl\"\n",
        "\n",
        "def download(url, filename):\n",
        "    response = requests.get(url)\n",
        "    if response.status_code == 200:\n",
        "        with open(filename, \"wb\") as f:\n",
        "            f.write(response.content)\n",
        "\n",
        "download(filename, \"Golden_State.pkl\")\n",
        "file_name = \"Golden_State.pkl\"\n",
        "games = pd.read_pickle(file_name)\n",
        "games.head()"
      ]
    },
    {
      "cell_type": "code",
      "execution_count": null,
      "metadata": {
        "id": "e5SAskkTJTIb"
      },
      "outputs": [],
      "source": [
        "# We can create two dataframes, one for the games that the Warriors faced the raptors at home, and the second for away games\n",
        "games_home=games[games['MATCHUP']=='GSW vs. TOR']\n",
        "games_away=games[games['MATCHUP']=='GSW @ TOR']\n",
        "GSW_home = games_home['PLUS_MINUS'].mean()\n",
        "GSW_away = games_away['PLUS_MINUS'].mean()\n",
        "print(f\"GSW home games mean: {round(GSW_home)}\")\n",
        "print(f\"GSW away games mean: {round(GSW_away)}\")"
      ]
    },
    {
      "cell_type": "code",
      "execution_count": null,
      "metadata": {
        "id": "-X3DcpIoJ8ED"
      },
      "outputs": [],
      "source": [
        "# We can plot out the PLUS MINUS column for the dataframes games_home and  games_away\n",
        "fig, ax = plt.subplots()\n",
        "\n",
        "games_away.plot(x='GAME_DATE',y='PLUS_MINUS', ax=ax)\n",
        "games_home.plot(x='GAME_DATE',y='PLUS_MINUS', ax=ax)\n",
        "ax.legend([\"away\", \"home\"])\n",
        "plt.show()\n",
        "# conclusion: warriors play better at home"
      ]
    },
    {
      "cell_type": "code",
      "execution_count": null,
      "metadata": {
        "id": "cYLOTdZtLo-r"
      },
      "outputs": [],
      "source": [
        "# Calculate the mean for the column PTS for the dataframes games_home and  games_away\n",
        "mean_away = games_away['PTS'].mean()\n",
        "mean_home = games_home['PTS'].mean()\n",
        "print(f\"GSW home games mean: {round(mean_home)}\")\n",
        "print(f\"GSW away games mean: {round(mean_away)}\")"
      ]
    },
    {
      "cell_type": "markdown",
      "metadata": {
        "id": "sr-RoFJ7OYR7"
      },
      "source": [
        "# Practice project: GDP Data Extraction and Processing\n",
        "In this practice project, you will put the skills acquired through the course to use. You will extract data from a website using webscraping and request APIs process it using Pandas and Numpy libraries.\n",
        "\n",
        "\n",
        "---\n",
        "\n",
        "\n",
        "Scenario:\n",
        "An international firm that is looking to expand its business in different countries across the world has recruited you. You have been hired as a junior Data Engineer and are tasked with creating a script that can extract the list of the top 10 largest economies of the world in descending order of their GDPs in Billion USD (rounded to 2 decimal places), as logged by the International Monetary Fund (IMF).\n",
        "\n",
        "The required data seems to be available on the URL mentioned below:\n",
        "URL: https://web.archive.org/web/20230902185326/https://en.wikipedia.org/wiki/List_of_countries_by_GDP_%28nominal%29\n",
        "\n",
        "\n",
        "---\n",
        "\n",
        "\n",
        "After completing this lab you will be able to:\n",
        "*   Use Webscraping to extract required information from a website.\n",
        "*   Use Pandas to load and process the tabular data as a dataframe.\n",
        "*   Use Numpy to manipulate the information contatined in the dataframe.\n",
        "*   Load the updated dataframe to CSV file.\n"
      ]
    },
    {
      "cell_type": "code",
      "execution_count": null,
      "metadata": {
        "id": "By8qT_MJNycb"
      },
      "outputs": [],
      "source": [
        "#Install required packages\n",
        "# pandas for managing the data.\n",
        "# numpy for mathematical operations.\n",
        "!pip install pandas numpy\n",
        "!pip install lxml"
      ]
    },
    {
      "cell_type": "code",
      "execution_count": null,
      "metadata": {
        "id": "xteS1RtSRIcC"
      },
      "outputs": [],
      "source": [
        "# Importing Required Libraries\n",
        "import numpy as np\n",
        "import pandas as pd\n",
        "\n",
        "# You can also use this section to suppress warnings generated by your code:\n",
        "def warn(*args, **kwargs):\n",
        "    pass\n",
        "import warnings\n",
        "warnings.warn = warn\n",
        "warnings.filterwarnings('ignore')"
      ]
    },
    {
      "cell_type": "code",
      "execution_count": null,
      "metadata": {
        "id": "n4lxR6l4RUUS"
      },
      "outputs": [],
      "source": [
        "# Extract the required GDP data from the given URL using Web Scraping.\n",
        "URL=\"https://web.archive.org/web/20230902185326/https://en.wikipedia.org/wiki/List_of_countries_by_GDP_%28nominal%29\""
      ]
    },
    {
      "cell_type": "code",
      "execution_count": null,
      "metadata": {
        "id": "tTvzbK2LRZe6"
      },
      "outputs": [],
      "source": [
        "# Extract tables from webpage using Pandas. Retain table number 3 as the required dataframe\n",
        "tables = pd.read_html(URL)\n",
        "df = tables[3]\n",
        "# Replace the column headers with column numbers\n",
        "df.columns = range(df.shape[1])\n",
        "# Retain columns with index 0 and 2 (name of country and value of GDP quoted by IMF)\n",
        "df = df.iloc[:, [0, 2]]\n",
        "# Retain the Rows with index 1 to 10, indicating the top 10 economies of the world\n",
        "df = df.iloc[1:11]\n",
        "# Assign column names as \"Country\" and \"GDP (Million USD)\"\n",
        "df.columns = [\"Country\", \"GDP (Million USD)\"]\n",
        "df"
      ]
    },
    {
      "cell_type": "code",
      "execution_count": null,
      "metadata": {
        "id": "OvEj9zJHR8CC"
      },
      "outputs": [],
      "source": [
        "# Extract tables from webpage using Pandas. Retain table number 3 as the required dataframe\n",
        "# tables = pd.read_html(URL)\n",
        "tables2 = pd.read_html(URL)\n",
        "df2 = tables[3]\n",
        "# Retain columns with index 0 and 2 (name of country and value of GDP quoted by IMF)\n",
        "df2 = df2.iloc[:, [0, 2]]\n",
        "# Retain the Rows with index 1 to 10, indicating the top 10 economies of the world\n",
        "df2 = df2.iloc[1:11]\n",
        "# Replace the column headers with column numbers\n",
        "df2.columns = range(df.shape[1])\n",
        "# Assign column names as \"Country\" and \"GDP (Million USD)\"\n",
        "df2.columns = [\"Country\", \"GDP (Million USD)\"]\n",
        "df2"
      ]
    },
    {
      "cell_type": "code",
      "execution_count": null,
      "metadata": {
        "id": "_JKf3rhYWTiC"
      },
      "outputs": [],
      "source": [
        "# Modify the GDP column of the DataFrame, converting the value available in Million USD to Billion USD\n",
        "# Use the round() method of Numpy library to round the value to 2 decimal places\n",
        "# Modify the header of the DataFrame to GDP (Billion USD)\n",
        "\n",
        "# Ensure the column is numeric, coercing errors to NaN\n",
        "df2[\"GDP (Million USD)\"] = pd.to_numeric(df2[\"GDP (Million USD)\"], errors='coerce')\n",
        "\n",
        "# Now perform the division and rounding\n",
        "df2[\"GDP (Million USD)\"] = df2[\"GDP (Million USD)\"].apply(lambda x: round(x / 1000000, 2))\n",
        "\n",
        "df2.columns = [\"Country\", \"GDP (Billion USD)\"]\n",
        "df2"
      ]
    },
    {
      "cell_type": "code",
      "execution_count": null,
      "metadata": {
        "id": "IvNOIjwMTRUb"
      },
      "outputs": [],
      "source": [
        "# Change the data type of the 'GDP (Million USD)' column to integer. Use astype() method\n",
        "df[\"GDP (Million USD)\"] = df[\"GDP (Million USD)\"].astype(int)\n",
        "\n",
        "# Convert the GDP value in Million USD to Billion USD\n",
        "df[\"GDP (Million USD)\"] = df[\"GDP (Million USD)\"].apply(lambda x: round(x / 1000000, 2))\n",
        "\n",
        "# Rename the column header from 'GDP (Million USD)' to 'GDP (Billion USD)'\n",
        "df.columns = [\"Country\", \"GDP (Billion USD)\"]\n",
        "\n",
        "# Use numpy.round() method to round the value to 2 decimal places.\n",
        "df[\"GDP (Billion USD)\"] = np.round(df[\"GDP (Billion USD)\"], 2)\n",
        "df"
      ]
    },
    {
      "cell_type": "code",
      "execution_count": null,
      "metadata": {
        "id": "zo6J4NdEYhKr"
      },
      "outputs": [],
      "source": [
        "# Load the DataFrame to the CSV file named \"Largest_economies.csv\"\n",
        "with open(\"Largest_economies.csv\", \"w\") as f:\n",
        "    df.to_csv(f, index=False)"
      ]
    },
    {
      "cell_type": "code",
      "execution_count": null,
      "metadata": {
        "id": "77Ff25ulZEpR"
      },
      "outputs": [],
      "source": [
        "# Verify if the copy is successfully executed\n",
        "with open(\"Largest_economies.csv\", \"r\") as f:\n",
        "    larg_econ = pd.read_csv(f)\n",
        "    df_econ = pd.DataFrame(larg_econ)\n",
        "df_econ"
      ]
    },
    {
      "cell_type": "markdown",
      "metadata": {
        "id": "vZIshf8yM1fS"
      },
      "source": [
        "# Web Scraping and HTML Basics"
      ]
    },
    {
      "cell_type": "code",
      "execution_count": 8,
      "metadata": {
        "id": "hvtm-H-yZQpi"
      },
      "outputs": [
        {
          "name": "stdout",
          "output_type": "stream",
          "text": [
            "Defaulting to user installation because normal site-packages is not writeable\n",
            "Collecting bs4\n",
            "  Downloading bs4-0.0.2-py2.py3-none-any.whl.metadata (411 bytes)\n",
            "Collecting beautifulsoup4 (from bs4)\n",
            "  Downloading beautifulsoup4-4.13.5-py3-none-any.whl.metadata (3.8 kB)\n",
            "Collecting soupsieve>1.2 (from beautifulsoup4->bs4)\n",
            "  Downloading soupsieve-2.8-py3-none-any.whl.metadata (4.6 kB)\n",
            "Collecting typing-extensions>=4.0.0 (from beautifulsoup4->bs4)\n",
            "  Downloading typing_extensions-4.15.0-py3-none-any.whl.metadata (3.3 kB)\n",
            "Downloading bs4-0.0.2-py2.py3-none-any.whl (1.2 kB)\n",
            "Downloading beautifulsoup4-4.13.5-py3-none-any.whl (105 kB)\n",
            "Downloading soupsieve-2.8-py3-none-any.whl (36 kB)\n",
            "Downloading typing_extensions-4.15.0-py3-none-any.whl (44 kB)\n",
            "Installing collected packages: typing-extensions, soupsieve, beautifulsoup4, bs4\n",
            "\n",
            "   ---------------------------------------- 0/4 [typing-extensions]\n",
            "   ---------- ----------------------------- 1/4 [soupsieve]\n",
            "   -------------------- ------------------- 2/4 [beautifulsoup4]\n",
            "   -------------------- ------------------- 2/4 [beautifulsoup4]\n",
            "   ------------------------------ --------- 3/4 [bs4]\n",
            "   ------------------------------ --------- 3/4 [bs4]\n",
            "   ---------------------------------------- 4/4 [bs4]\n",
            "\n",
            "Successfully installed beautifulsoup4-4.13.5 bs4-0.0.2 soupsieve-2.8 typing-extensions-4.15.0\n",
            "<!DOCTYPE html>\n",
            "<html class=\"client-nojs vector-feature-language-in-header-enabled vector-feature-language-in-main-page-header-disabled vector-feature-page-tools-pinned-disabled vector-feature-toc-pinned-clientpref-1 vector-feature-main-menu-pinned-disabled vector-feature-limited-width-clientpref-1 vector-feature-limited-width-content-enabled vector-feature-custom-font-size-clientpref-1 vector-feature-appearance-pinned-clientpref-1 vector-feature-night-mode-enabled skin-theme-clientpref-day vect\n"
          ]
        }
      ],
      "source": [
        "# Import Beautiful Soup to parse the web page content\n",
        "!pip install bs4\n",
        "from bs4 import BeautifulSoup\n",
        "import requests\n",
        "\n",
        "# Specify the URL of the webpage you want to scrape\n",
        "url = 'https://en.wikipedia.org/wiki/IBM'\n",
        "\n",
        "# Define a User-Agent header\n",
        "headers = {\n",
        "    'User-Agent': 'MyDataExtractionScript/1.0 (juan.darquea.a@gmail.com)' # Replace with a descriptive string, e.g., 'MyDataExtractionScript/1.0 (contact@example.com)'\n",
        "}\n",
        "\n",
        "# Send an HTTP GET request to the webpage with the headers\n",
        "response = requests.get(url, headers=headers)\n",
        "\n",
        "# Store the HTML content in a variable\n",
        "html_content = response.text\n",
        "\n",
        "# Create a BeautifulSoup object to parse the HTML\n",
        "soup = BeautifulSoup(html_content, 'html.parser')\n",
        "\n",
        "# Display a snippet of the HTML content\n",
        "print(html_content[:500])"
      ]
    },
    {
      "cell_type": "code",
      "execution_count": null,
      "metadata": {
        "id": "5q1JXYcYNTdT"
      },
      "outputs": [],
      "source": [
        "# Find all <a> tags (anchor tags) in the HTML\n",
        "links = soup.find_all('a')\n",
        "# Iterate through the list of links and print their text\n",
        "for link in links:\n",
        "    print(link.text)"
      ]
    },
    {
      "cell_type": "markdown",
      "metadata": {
        "id": "FzM09ew5PS-S"
      },
      "source": [
        "## Lab\n",
        "After completing this lab you will be able to:\n",
        "*   Understand HTTP\n",
        "*   Handle HTTP Requests\n",
        "\n"
      ]
    },
    {
      "cell_type": "code",
      "execution_count": null,
      "metadata": {
        "id": "ZmYIfY8mNvCC"
      },
      "outputs": [],
      "source": [
        "# Requests is a Python Library that allows you to send HTTP/1.1 requests easily\n",
        "import requests\n",
        "# and the following libraries\n",
        "import os\n",
        "from PIL import Image\n",
        "from IPython.display import IFrame\n",
        "\n",
        "# You can make a GET request via the method get to www.ibm.com\n",
        "url='https://www.ibm.com/'\n",
        "r=requests.get(url)\n",
        "\n",
        "# We have the response object r, this has information about the request, like the status of the request\n",
        "# We can view the status code using the attribute status_code\n",
        "r.status_code"
      ]
    },
    {
      "cell_type": "code",
      "execution_count": null,
      "metadata": {
        "id": "5Srb_K3QeZLV"
      },
      "outputs": [],
      "source": [
        "# view the request headers\n",
        "print(r.request.headers)\n",
        "\n",
        "# view the request body, in the following line, as there is no body for a get request we get a None\n",
        "print(\"request body:\", r.request.body)\n",
        "\n",
        "# You can view the HTTP response header using the attribute headers\n",
        "# This returns a python dictionary of HTTP response headers\n",
        "header=r.headers\n",
        "print(r.headers)"
      ]
    },
    {
      "cell_type": "code",
      "execution_count": null,
      "metadata": {
        "id": "2zB6_Ygfevc1"
      },
      "outputs": [],
      "source": [
        "# We can obtain the date the request was sent using the key Date\n",
        "header['Date']"
      ]
    },
    {
      "cell_type": "code",
      "execution_count": null,
      "metadata": {
        "id": "AZT9ND2ifFCl"
      },
      "outputs": [],
      "source": [
        "# Content-Type indicates the type of data\n",
        "header['Content-Type']"
      ]
    },
    {
      "cell_type": "code",
      "execution_count": null,
      "metadata": {
        "id": "qS18zJuHfHNN"
      },
      "outputs": [],
      "source": [
        "# You can also check the encoding\n",
        "r.encoding"
      ]
    },
    {
      "cell_type": "code",
      "execution_count": null,
      "metadata": {
        "id": "JtxZVHjMfIRd"
      },
      "outputs": [],
      "source": [
        "# As the Content-Type is text/html we can use the attribute text to display the HTML in the body\n",
        "# We can review the first 100 characters\n",
        "r.text[0:100]"
      ]
    },
    {
      "cell_type": "code",
      "execution_count": null,
      "metadata": {
        "id": "iunDC3-ifPv9"
      },
      "outputs": [],
      "source": [
        "# You can load other types of data for non-text requests, like images\n",
        "# Consider the URL of the following image\n",
        "# Use single quotation marks for defining string\n",
        "url='https://cf-courses-data.s3.us.cloud-object-storage.appdomain.cloud/IBMDeveloperSkillsNetwork-PY0101EN-SkillsNetwork/IDSNlogo.png'\n",
        "\n",
        "# We can make a get request\n",
        "r=requests.get(url)\n",
        "\n",
        "# We can look at the response header\n",
        "print(r.headers)"
      ]
    },
    {
      "cell_type": "code",
      "execution_count": null,
      "metadata": {
        "id": "Fbvo5qw5feh1"
      },
      "outputs": [],
      "source": [
        "# We can see the 'Content-Type\n",
        "r.headers['Content-Type']"
      ]
    },
    {
      "cell_type": "code",
      "execution_count": null,
      "metadata": {
        "id": "veSh9gNjf-Y1"
      },
      "outputs": [],
      "source": [
        "# An image is a response object that contains the image as a bytes-like object\n",
        "# As a result, we must save it using a file object\n",
        "# First, we specify the file path and name\n",
        "path=os.path.join(os.getcwd(),'image.png')\n",
        "\n",
        "# We save the file, in order to access the body of the response we use the attribute content then save it using the open function and write method\n",
        "with open(path,'wb') as f:\n",
        "    f.write(r.content)\n",
        "\n",
        "# We can view the image\n",
        "Image.open(path)"
      ]
    },
    {
      "cell_type": "code",
      "execution_count": null,
      "metadata": {
        "id": "BKUSDx0of_Nd"
      },
      "outputs": [],
      "source": [
        "# Consider the following URL\n",
        "# Write the commands to download the txt file in the given link\n",
        "url = 'https://cf-courses-data.s3.us.cloud-object-storage.appdomain.cloud/IBMDeveloperSkillsNetwork-PY0101EN-SkillsNetwork/labs/Module%205/data/Example1.txt'\n",
        "\n",
        "r_txt = requests.get(url)\n",
        "\n",
        "path_txt = os.path.join(os.getcwd(), 'Example1.txt')\n",
        "with open(path_txt, 'wb') as f:\n",
        "  f.write(r_txt.content)\n",
        "\n",
        "# Open and read the file in text mode\n",
        "with open('Example1.txt', 'r') as f:\n",
        "    content = f.read()\n",
        "print(content)"
      ]
    },
    {
      "cell_type": "markdown",
      "metadata": {
        "id": "iF_6HLPgj6Gw"
      },
      "source": [
        "### Get Request with URL Parameters\n",
        "You can use the GET method to modify the results of your query, for example retrieving data from an API. We send a GET request to the server. Like before we have the Base URL, in the Route we append /get, this indicates we would like to preform a GET request."
      ]
    },
    {
      "cell_type": "code",
      "execution_count": null,
      "metadata": {
        "id": "1trU3MsyhItm"
      },
      "outputs": [],
      "source": [
        "# The Base URL is for http://httpbin.org/ is a simple HTTP Request & Response Service\n",
        "# The URL in Python is given by\n",
        "url_get='http://httpbin.org/get'"
      ]
    },
    {
      "cell_type": "code",
      "execution_count": null,
      "metadata": {
        "id": "2zng5hnvlIU-"
      },
      "outputs": [],
      "source": [
        "# To create a Query string, add a dictionary\n",
        "# The keys are the parameter names and the values are the value of the Query string\n",
        "payload={\"name\":\"Joseph\",\"ID\":\"123\"}\n",
        "\n",
        "# Then passing the dictionary payload to the params parameter of the  get() function\n",
        "r=requests.get(url_get,params=payload)\n",
        "\n",
        "# We can print out the URL and see the name and values\n",
        "print(r.url)\n",
        "\n",
        "# There is no request body\n",
        "print(\"request body:\", r.request.body)"
      ]
    },
    {
      "cell_type": "code",
      "execution_count": null,
      "metadata": {
        "id": "BPz-B-3UlJI2"
      },
      "outputs": [],
      "source": [
        "# We can print out the status code\n",
        "print(r.status_code)\n",
        "\n",
        "# We can view the response as text\n",
        "print(r.text)\n",
        "\n",
        "# We can look at the 'Content-Type'\n",
        "r.headers['Content-Type']"
      ]
    },
    {
      "cell_type": "code",
      "execution_count": null,
      "metadata": {
        "id": "Bpem8rhrlNE_"
      },
      "outputs": [],
      "source": [
        "# As the content 'Content-Type' is in the JSON format we can use the method json(), it returns a Python dict\n",
        "r.json()"
      ]
    },
    {
      "cell_type": "code",
      "execution_count": null,
      "metadata": {
        "id": "lkUPwa_FlSOP"
      },
      "outputs": [],
      "source": [
        "# The key args has the name and values\n",
        "r.json()['args']"
      ]
    },
    {
      "cell_type": "markdown",
      "metadata": {
        "id": "S9vGmIkBlez3"
      },
      "source": [
        "### Post requests\n",
        "Like a GET request, a POST is used to send data to a server, but the POST request sends the data in a request body. In order to send the Post Request in Python, in the URL we change the route to POST"
      ]
    },
    {
      "cell_type": "code",
      "execution_count": null,
      "metadata": {
        "id": "twEQVjBMlaQe"
      },
      "outputs": [],
      "source": [
        "url_post='http://httpbin.org/post'\n",
        "\n",
        "# This endpoint will expect data as a file or as a form\n",
        "# A form is convenient way to configure an HTTP request to send data to a server\n",
        "# To make a POST request we use the post() function, the variable payload is passed to the parameter  data\n",
        "r_post=requests.post(url_post,data=payload)\n",
        "\n",
        "# Comparing the URL from the response object of the GET and POST request we see the POST request has no name or value pairs\n",
        "print(\"POST request URL:\",response.url )\n",
        "print(\"GET request URL:\",r.url)\n",
        "print(\"POST request URL:\", r_post.url)  # Use r_post instead of response"
      ]
    },
    {
      "cell_type": "code",
      "execution_count": null,
      "metadata": {
        "id": "4F0J7h15lpU-"
      },
      "outputs": [],
      "source": [
        "# We can compare the POST and GET request body, we see only the POST request has a body\n",
        "print(\"POST request body:\",r_post.request.body)\n",
        "print(\"GET request body:\",r.request.body)"
      ]
    },
    {
      "cell_type": "code",
      "execution_count": null,
      "metadata": {
        "id": "XjuAo719mcAv"
      },
      "outputs": [],
      "source": [
        "# We can view the form as well\n",
        "r_post.json()['form']"
      ]
    },
    {
      "cell_type": "markdown",
      "metadata": {
        "id": "1UDemtYNuQDn"
      },
      "source": [
        "## Hands-on Lab: API Examples\n",
        "###Random User and Fruityvice API Example\n",
        "\n",
        "Objectives:\n",
        "\n",
        "* Load and use RandomUser API, using RandomUser() Python library\n",
        "* Load and use Fruityvice API, using requests Python library\n",
        "* Load and use Open-Joke-API, using requests Python library"
      ]
    },
    {
      "cell_type": "markdown",
      "metadata": {
        "id": "mMkUxoeK96aL"
      },
      "source": [
        "### Example 1: RandomUser API"
      ]
    },
    {
      "cell_type": "code",
      "execution_count": 9,
      "metadata": {
        "id": "gxND-DrcuSTm"
      },
      "outputs": [
        {
          "name": "stdout",
          "output_type": "stream",
          "text": [
            "Defaulting to user installation because normal site-packages is not writeable\n",
            "Collecting randomuser\n",
            "  Downloading randomuser-1.6.tar.gz (5.0 kB)\n",
            "  Installing build dependencies: started\n",
            "  Installing build dependencies: finished with status 'done'\n",
            "  Getting requirements to build wheel: started\n",
            "  Getting requirements to build wheel: finished with status 'done'\n",
            "  Preparing metadata (pyproject.toml): started\n",
            "  Preparing metadata (pyproject.toml): finished with status 'done'\n",
            "Building wheels for collected packages: randomuser\n",
            "  Building wheel for randomuser (pyproject.toml): started\n",
            "  Building wheel for randomuser (pyproject.toml): finished with status 'done'\n",
            "  Created wheel for randomuser: filename=randomuser-1.6-py3-none-any.whl size=5128 sha256=3276de5ea4149edf1f6dd35db6c87573b88958a64d0b959b92f4f8bf46687d84\n",
            "  Stored in directory: c:\\users\\usuario\\appdata\\local\\pip\\cache\\wheels\\a8\\ce\\f1\\713605b6f257e4f0efca0fe272df8e2427bd335cf907ab0dff\n",
            "Successfully built randomuser\n",
            "Installing collected packages: randomuser\n",
            "Successfully installed randomuser-1.6\n"
          ]
        },
        {
          "data": {
            "text/plain": [
              "[<randomuser.RandomUser at 0x233e6e71bd0>,\n",
              " <randomuser.RandomUser at 0x233e6e71d10>,\n",
              " <randomuser.RandomUser at 0x233e673fce0>,\n",
              " <randomuser.RandomUser at 0x233e673fe10>,\n",
              " <randomuser.RandomUser at 0x233e67eccb0>,\n",
              " <randomuser.RandomUser at 0x233e67c3350>,\n",
              " <randomuser.RandomUser at 0x233e67c3240>,\n",
              " <randomuser.RandomUser at 0x233e73a3150>,\n",
              " <randomuser.RandomUser at 0x233e73a2e50>,\n",
              " <randomuser.RandomUser at 0x233e65297c0>]"
            ]
          },
          "execution_count": 9,
          "metadata": {},
          "output_type": "execute_result"
        }
      ],
      "source": [
        "# To start using the API you can install the randomuser library running the pip install command\n",
        "!pip install randomuser\n",
        "# !pip install pandas\n",
        "from randomuser import RandomUser\n",
        "import pandas as pd\n",
        "\n",
        "# First, we will create a random user object, r\n",
        "r = RandomUser()\n",
        "\n",
        "# Then, using generate_users() function, we get a list of random 10 users\n",
        "some_list = r.generate_users(10)\n",
        "some_list"
      ]
    },
    {
      "cell_type": "code",
      "execution_count": null,
      "metadata": {
        "id": "LenLrgMfmfeu"
      },
      "outputs": [],
      "source": [
        "# The \"Get Methods\" functions mentioned at the beginning of this notebook, can generate the required parameters to construct a dataset\n",
        "# For example, to get full name, we call get_full_name() function\n",
        "name = r.get_full_name()\n",
        "\n",
        "# Let's say we only need 10 users with full names and their email addresses\n",
        "# We can write a \"for-loop\" to print these 10 users\n",
        "for user in some_list:\n",
        "    print (user.get_full_name(),\" \",user.get_email())"
      ]
    },
    {
      "cell_type": "code",
      "execution_count": null,
      "metadata": {
        "id": "tPteYDIhzX2x"
      },
      "outputs": [],
      "source": [
        "# In this Exercise, generate photos of the random 10 users\n",
        "image = r.get_picture()\n",
        "for user in some_list:\n",
        "    print (user.get_full_name(),\" \",user.get_picture())"
      ]
    },
    {
      "cell_type": "code",
      "execution_count": null,
      "metadata": {
        "id": "Qq7I-OgY2XdS"
      },
      "outputs": [],
      "source": [
        "# To generate a table with information about the users, we can write a function containing all desirable parameters\n",
        "# For example, name, gender, city, etc. The parameters will depend on the requirements of the test to be performed\n",
        "# We call the Get Methods, listed at the beginning of this notebook\n",
        "# Then, we return pandas dataframe with the users\n",
        "def get_users():\n",
        "    users =[]\n",
        "\n",
        "    for user in RandomUser.generate_users(10):\n",
        "        users.append({\"Name\":user.get_full_name(),\"Gender\":user.get_gender(),\"City\":user.get_city(),\"State\":user.get_state(),\"Email\":user.get_email(), \"DOB\":user.get_dob(),\"Picture\":user.get_picture()})\n",
        "\n",
        "    return pd.DataFrame(users)\n",
        "\n",
        "get_users()"
      ]
    },
    {
      "cell_type": "code",
      "execution_count": null,
      "metadata": {
        "id": "-2kYGOql3HzJ"
      },
      "outputs": [],
      "source": [
        "df1 = pd.DataFrame(get_users())\n",
        "df1"
      ]
    },
    {
      "cell_type": "code",
      "execution_count": null,
      "metadata": {
        "id": "TN8TdsuC3LW4"
      },
      "outputs": [],
      "source": [
        "def get_users2():\n",
        "    users =[]\n",
        "\n",
        "    for user in some_list:\n",
        "        users.append({\"Name\":user.get_full_name(),\"Gender\":user.get_gender(),\"City\":user.get_city(),\"State\":user.get_state(),\"Email\":user.get_email(), \"DOB\":user.get_dob(),\"Picture\":user.get_picture()})\n",
        "\n",
        "    return pd.DataFrame(users)\n",
        "\n",
        "get_users2()"
      ]
    },
    {
      "cell_type": "markdown",
      "metadata": {
        "id": "I8rCi9ye9-3i"
      },
      "source": [
        "### Example 2: Fruityvice API\n",
        "Another, more common way to use APIs, is through requests library. The next lab, Requests and HTTP, will contain more information about requests"
      ]
    },
    {
      "cell_type": "code",
      "execution_count": null,
      "metadata": {
        "collapsed": true,
        "id": "3n7OItYd9lTr"
      },
      "outputs": [],
      "source": [
        "# We will start by importing all required libraries\n",
        "import requests\n",
        "import json\n",
        "\n",
        "# We will obtain the fruityvice API data using requests.get(\"url\") function. The data is in a json format\n",
        "data = requests.get(\"https://web.archive.org/web/20240929211114/https://fruityvice.com/api/fruit/all\")\n",
        "\n",
        "# We will retrieve results using json.loads() function\n",
        "results = json.loads(data.text)\n",
        "\n",
        "# We will convert our json data into pandas data frame\n",
        "pd.DataFrame(results)"
      ]
    },
    {
      "cell_type": "code",
      "execution_count": null,
      "metadata": {
        "collapsed": true,
        "id": "QuRizNci-r7a"
      },
      "outputs": [],
      "source": [
        "# The result is in a nested json format\n",
        "# The 'nutrition' column contains multiple subcolumns, so the data needs to be 'flattened' or normalized\n",
        "df2 = pd.json_normalize(results)\n",
        "df2"
      ]
    },
    {
      "cell_type": "code",
      "execution_count": null,
      "metadata": {
        "id": "Ir-ilJpa-wKC"
      },
      "outputs": [],
      "source": [
        "# In this Exercise, find out how many calories are contained in a banana\n",
        "banana_calories = df2[df2['name'] == 'Banana']['nutritions.calories'].iloc[0]\n",
        "print(f\"Calories in a banana: {banana_calories}\")\n",
        "\n",
        "# Or\n",
        "# cal_banana = df2.loc[df2[\"name\"] == 'Banana']\n",
        "# cal_banana.iloc[0]['nutritions.calories']"
      ]
    },
    {
      "cell_type": "markdown",
      "metadata": {
        "id": "lfauXZiPgi9m"
      },
      "source": [
        "### Example 3: Official Joke API\n",
        "This API returns random jokes from a database. The following URL can be used to retrieve 10 random jokes."
      ]
    },
    {
      "cell_type": "code",
      "execution_count": 10,
      "metadata": {
        "id": "0shwbY1r_sgL"
      },
      "outputs": [
        {
          "data": {
            "text/html": [
              "<div>\n",
              "<style scoped>\n",
              "    .dataframe tbody tr th:only-of-type {\n",
              "        vertical-align: middle;\n",
              "    }\n",
              "\n",
              "    .dataframe tbody tr th {\n",
              "        vertical-align: top;\n",
              "    }\n",
              "\n",
              "    .dataframe thead th {\n",
              "        text-align: right;\n",
              "    }\n",
              "</style>\n",
              "<table border=\"1\" class=\"dataframe\">\n",
              "  <thead>\n",
              "    <tr style=\"text-align: right;\">\n",
              "      <th></th>\n",
              "      <th>type</th>\n",
              "      <th>setup</th>\n",
              "      <th>punchline</th>\n",
              "      <th>id</th>\n",
              "    </tr>\n",
              "  </thead>\n",
              "  <tbody>\n",
              "    <tr>\n",
              "      <th>0</th>\n",
              "      <td>general</td>\n",
              "      <td>Why did the chicken cross the playground?</td>\n",
              "      <td>To get to the other slide.</td>\n",
              "      <td>428</td>\n",
              "    </tr>\n",
              "    <tr>\n",
              "      <th>1</th>\n",
              "      <td>general</td>\n",
              "      <td>I dropped a pear in my car this morning.</td>\n",
              "      <td>You should drop another one, then you would ha...</td>\n",
              "      <td>57</td>\n",
              "    </tr>\n",
              "    <tr>\n",
              "      <th>2</th>\n",
              "      <td>general</td>\n",
              "      <td>Why didn't the skeleton go for prom?</td>\n",
              "      <td>Because it had nobody.</td>\n",
              "      <td>396</td>\n",
              "    </tr>\n",
              "    <tr>\n",
              "      <th>3</th>\n",
              "      <td>general</td>\n",
              "      <td>How many tickles does it take to tickle an oct...</td>\n",
              "      <td>Ten-tickles!</td>\n",
              "      <td>143</td>\n",
              "    </tr>\n",
              "    <tr>\n",
              "      <th>4</th>\n",
              "      <td>general</td>\n",
              "      <td>Why did the A go to the bathroom and come out ...</td>\n",
              "      <td>Because he had a vowel movement.</td>\n",
              "      <td>314</td>\n",
              "    </tr>\n",
              "    <tr>\n",
              "      <th>5</th>\n",
              "      <td>general</td>\n",
              "      <td>What did the traffic light say to the car as i...</td>\n",
              "      <td>Don't look I'm changing!</td>\n",
              "      <td>185</td>\n",
              "    </tr>\n",
              "    <tr>\n",
              "      <th>6</th>\n",
              "      <td>general</td>\n",
              "      <td>Why did Sweden start painting barcodes on the ...</td>\n",
              "      <td>So they could Scandinavian.</td>\n",
              "      <td>313</td>\n",
              "    </tr>\n",
              "    <tr>\n",
              "      <th>7</th>\n",
              "      <td>general</td>\n",
              "      <td>What did Michael Jackson name his denim store?</td>\n",
              "      <td>Billy Jeans!</td>\n",
              "      <td>159</td>\n",
              "    </tr>\n",
              "    <tr>\n",
              "      <th>8</th>\n",
              "      <td>general</td>\n",
              "      <td>What's the best thing about Switzerland?</td>\n",
              "      <td>I don't know, but their flag is a big plus.</td>\n",
              "      <td>426</td>\n",
              "    </tr>\n",
              "    <tr>\n",
              "      <th>9</th>\n",
              "      <td>general</td>\n",
              "      <td>What is the least spoken language in the world?</td>\n",
              "      <td>Sign Language</td>\n",
              "      <td>247</td>\n",
              "    </tr>\n",
              "  </tbody>\n",
              "</table>\n",
              "</div>"
            ],
            "text/plain": [
              "      type                                              setup  \\\n",
              "0  general          Why did the chicken cross the playground?   \n",
              "1  general           I dropped a pear in my car this morning.   \n",
              "2  general               Why didn't the skeleton go for prom?   \n",
              "3  general  How many tickles does it take to tickle an oct...   \n",
              "4  general  Why did the A go to the bathroom and come out ...   \n",
              "5  general  What did the traffic light say to the car as i...   \n",
              "6  general  Why did Sweden start painting barcodes on the ...   \n",
              "7  general     What did Michael Jackson name his denim store?   \n",
              "8  general           What's the best thing about Switzerland?   \n",
              "9  general    What is the least spoken language in the world?   \n",
              "\n",
              "                                           punchline   id  \n",
              "0                         To get to the other slide.  428  \n",
              "1  You should drop another one, then you would ha...   57  \n",
              "2                             Because it had nobody.  396  \n",
              "3                                       Ten-tickles!  143  \n",
              "4                   Because he had a vowel movement.  314  \n",
              "5                           Don't look I'm changing!  185  \n",
              "6                        So they could Scandinavian.  313  \n",
              "7                                       Billy Jeans!  159  \n",
              "8        I don't know, but their flag is a big plus.  426  \n",
              "9                                      Sign Language  247  "
            ]
          },
          "execution_count": 10,
          "metadata": {},
          "output_type": "execute_result"
        }
      ],
      "source": [
        "# We will start by importing all required libraries\n",
        "import pandas as pd\n",
        "import requests\n",
        "import json\n",
        "\n",
        "# Using requests.get(\"url\") function, load the data from the URL\n",
        "joke_url = requests.get(\"https://official-joke-api.appspot.com/jokes/ten\")\n",
        "\n",
        "# Retrieve results using json.loads() function\n",
        "res = json.loads(joke_url.text)\n",
        "\n",
        "# Convert json data into pandas data frame\n",
        "pd.DataFrame(res)"
      ]
    },
    {
      "cell_type": "code",
      "execution_count": null,
      "metadata": {
        "collapsed": true,
        "id": "Y795Sc5Wjv5f"
      },
      "outputs": [],
      "source": [
        "# Drop the type and id columns\n",
        "df3 = pd.DataFrame(res)\n",
        "df3.drop(['type', 'id'], axis=1, inplace=True)\n",
        "df3"
      ]
    },
    {
      "cell_type": "markdown",
      "metadata": {
        "id": "t64B_9Wakz02"
      },
      "source": [
        "###Example 4: BeautifulSoup\n",
        "BeautifulSoup is a Python library used for web scraping purposes to pull the data out of HTML and XML files. It creates a parse tree from page source code that can be used to extract data in a hierarchical and more readable manner."
      ]
    },
    {
      "cell_type": "code",
      "execution_count": null,
      "metadata": {
        "id": "r47DNBb-kEdO"
      },
      "outputs": [],
      "source": [
        "from bs4 import BeautifulSoup\n",
        "import requests\n",
        "URL = \"http://www.example.com\"\n",
        "page = requests.get(URL)\n",
        "soup = BeautifulSoup(page.content, \"html.parser\")"
      ]
    },
    {
      "cell_type": "markdown",
      "metadata": {
        "id": "1H_i-vzZzyEa"
      },
      "source": [
        "###Example 5: Scrapy\n",
        "Is an open-source and collaborative web crawling framework for Python. It is used to extract the data from the website."
      ]
    },
    {
      "cell_type": "code",
      "execution_count": null,
      "metadata": {
        "collapsed": true,
        "id": "e3460e57"
      },
      "outputs": [],
      "source": [
        "!pip install scrapy\n",
        "import scrapy\n",
        "class QuotesSpider(scrapy.Spider):\n",
        "    name = \"quotes\"\n",
        "    start_urls = ['http://quotes.toscrape.com/tag/humor/',]\n",
        "    def parse(self, response):\n",
        "        for quote in response.css('div.quote'):\n",
        "            yield {'quote': quote.css('span.text::text').get()}"
      ]
    },
    {
      "cell_type": "markdown",
      "metadata": {
        "id": "m5vMKiB90eT6"
      },
      "source": [
        "###Example 6: Selenium\n",
        "Selenium is a tool used for controlling web browsers through programs and automating browser tasks."
      ]
    },
    {
      "cell_type": "code",
      "execution_count": null,
      "metadata": {
        "collapsed": true,
        "id": "HD6iuv0Q0Cu5"
      },
      "outputs": [],
      "source": [
        "# Not working with colab\n",
        "!pip install selenium\n",
        "!pip install webdriver-manager\n",
        "from selenium import webdriver\n",
        "driver = webdriver.Firefox()\n",
        "driver.get(\"http://www.example.com\")"
      ]
    },
    {
      "cell_type": "code",
      "execution_count": null,
      "metadata": {
        "collapsed": true,
        "id": "3cff0872"
      },
      "outputs": [],
      "source": [
        "# Not working with colab (gemini attempt to make it work with colab)\n",
        "# Install headless Chrome and its driver\n",
        "!apt-get update\n",
        "!apt-get install -y chromium-browser\n",
        "\n",
        "# Install webdriver-manager\n",
        "!pip install webdriver-manager\n",
        "\n",
        "# Set up Chrome options for headless mode\n",
        "from selenium import webdriver\n",
        "from selenium.webdriver.chrome.service import Service\n",
        "from selenium.webdriver.chrome.options import Options\n",
        "from webdriver_manager.chrome import ChromeDriverManager\n",
        "\n",
        "chrome_options = Options()\n",
        "chrome_options.add_argument(\"--headless\")\n",
        "chrome_options.add_argument(\"--no-sandbox\")\n",
        "chrome_options.add_argument(\"--disable-dev-shm-usage\")\n",
        "chrome_options.add_argument(\"--disable-gpu\")\n",
        "chrome_options.add_argument(\"--window-size=1920,1080\")\n",
        "chrome_options.add_argument(\"--incognito\")\n",
        "\n",
        "\n",
        "# Use webdriver-manager to get the latest chromedriver\n",
        "webdriver_service = Service(ChromeDriverManager().install())\n",
        "\n",
        "# Initialize the WebDriver with options and service\n",
        "driver = webdriver.Chrome(service=webdriver_service, options=chrome_options)\n",
        "\n",
        "# Now you can use the driver to open a webpage\n",
        "driver.get(\"http://www.example.com\")\n",
        "\n",
        "# Print the page title to verify it's working\n",
        "print(driver.title)\n",
        "\n",
        "# Don't forget to quit the driver when you're done\n",
        "driver.quit()"
      ]
    },
    {
      "cell_type": "markdown",
      "metadata": {
        "id": "eCg2Riw62nDr"
      },
      "source": [
        "## Web Scraping Tables using Pandas"
      ]
    },
    {
      "cell_type": "code",
      "execution_count": null,
      "metadata": {
        "id": "n2IYGngr0od6"
      },
      "outputs": [],
      "source": [
        "import pandas as pd\n",
        "import requests\n",
        "\n",
        "URL = 'https://en.wikipedia.org/wiki/List_of_largest_banks'\n",
        "\n",
        "# Define a User-Agent header\n",
        "headers = {\n",
        "    'User-Agent': 'Mozilla/5.0 (Windows NT 10.0; Win64; x64) AppleWebKit/537.36 (KHTML, like Gecko) Chrome/91.0.4472.124 Safari/537.36'\n",
        "}\n",
        "\n",
        "# Send an HTTP GET request to the webpage with the headers\n",
        "response = requests.get(URL, headers=headers)\n",
        "\n",
        "# Check if the request was successful\n",
        "if response.status_code == 200:\n",
        "    # Read the HTML content into a list of DataFrames\n",
        "    tab = pd.read_html(response.text)\n",
        "    # Assuming the table you want is the first one (index 0)\n",
        "    df_tab = tab[0]\n",
        "    print(df_tab)\n",
        "else:\n",
        "    print(f\"Failed to retrieve the page. Status code: {response.status_code}\")"
      ]
    },
    {
      "cell_type": "code",
      "execution_count": null,
      "metadata": {
        "id": "7vgHM-5F6Qaj"
      },
      "outputs": [],
      "source": [
        "URL_gdp = 'https://en.wikipedia.org/wiki/List_of_countries_by_GDP_(nominal)'\n",
        "# Define a User-Agent header\n",
        "headers = {\n",
        "    'User-Agent': 'Mozilla/5.0 (Windows NT 10.0; Win64; x64) AppleWebKit/537.36 (KHTML, like Gecko) Chrome/91.0.4472.124 Safari/537.36'\n",
        "}\n",
        "\n",
        "# Send an HTTP GET request to the webpage with the headers\n",
        "response2 = requests.get(URL_gdp, headers=headers)\n",
        "tables3 = pd.read_html(response2.text)\n",
        "df4 = tables3[2] # the required table will have index 2\n",
        "print(df4)\n",
        "\n",
        "# Note that the hyperlink texts have also been retained in the code output\n",
        "# It is further prudent to point out, that this method exclusively operates only on tabular data extraction\n",
        "# BeautifulSoup library still remains the default method of extracting any kind of information from web pages"
      ]
    },
    {
      "cell_type": "markdown",
      "metadata": {
        "id": "ftxkMd0RWANs"
      },
      "source": [
        "## Web Scraping Lab\n",
        "Objectives:\n",
        "\n",
        "* Familiar with the basics of the BeautifulSoup Python library\n",
        "* Be able to scrape webpages for data and filter the data"
      ]
    },
    {
      "cell_type": "code",
      "execution_count": 11,
      "metadata": {
        "id": "AS82GJIj8UM8"
      },
      "outputs": [
        {
          "name": "stdout",
          "output_type": "stream",
          "text": [
            "Defaulting to user installation because normal site-packages is not writeable\n",
            "Requirement already satisfied: bs4 in c:\\users\\usuario\\appdata\\roaming\\python\\python313\\site-packages (0.0.2)\n",
            "Requirement already satisfied: beautifulsoup4 in c:\\users\\usuario\\appdata\\roaming\\python\\python313\\site-packages (from bs4) (4.13.5)\n",
            "Requirement already satisfied: soupsieve>1.2 in c:\\users\\usuario\\appdata\\roaming\\python\\python313\\site-packages (from beautifulsoup4->bs4) (2.8)\n",
            "Requirement already satisfied: typing-extensions>=4.0.0 in c:\\users\\usuario\\appdata\\roaming\\python\\python313\\site-packages (from beautifulsoup4->bs4) (4.15.0)\n"
          ]
        }
      ],
      "source": [
        "!pip install bs4\n",
        "# !pip install requests pandas\n",
        "from bs4 import BeautifulSoup # this module helps in web scrapping.\n",
        "import requests  # this module helps us to download a web page"
      ]
    },
    {
      "cell_type": "markdown",
      "metadata": {
        "id": "GemOURhyWsrc"
      },
      "source": [
        "Beautiful Soup is a Python library for pulling data out of HTML and XML files, we will focus on HTML files. This is accomplished by representing the HTML as a set of objects with methods used to parse the HTML. We can navigate the HTML as a tree, and/or filter out what we are looking for.\n",
        "\n",
        "Consider the following HTML:"
      ]
    },
    {
      "cell_type": "code",
      "execution_count": null,
      "metadata": {
        "id": "H2OcktpgWds8"
      },
      "outputs": [],
      "source": [
        "%%html\n",
        "<!DOCTYPE html>\n",
        "<html>\n",
        "<head>\n",
        "<title>Page Title</title>\n",
        "</head>\n",
        "<body>\n",
        "<h3><b id='boldest'>Lebron James</b></h3>\n",
        "<p> Salary: $ 92,000,000 </p>\n",
        "<h3> Stephen Curry</h3>\n",
        "<p> Salary: $85,000, 000 </p>\n",
        "<h3> Kevin Durant </h3>\n",
        "<p> Salary: $73,200, 000</p>\n",
        "</body>\n",
        "</html>"
      ]
    },
    {
      "cell_type": "code",
      "execution_count": null,
      "metadata": {
        "id": "J7VoJBsvXQeE"
      },
      "outputs": [],
      "source": [
        "html=\"<!DOCTYPE html><html><head><title>Page Title</title></head><body><h3><b id='boldest'>Lebron James</b></h3><p> Salary: $ 92,000,000 </p><h3> Stephen Curry</h3><p> Salary: $85,000, 000 </p><h3> Kevin Durant </h3><p> Salary: $73,200, 000</p></body></html>\"\n",
        "\n",
        "# To parse a document, pass it into the BeautifulSoup constructor\n",
        "# The BeautifulSoup object represents the document as a nested data structure\n",
        "soup = BeautifulSoup(html, 'html.parser')\n",
        "print(soup)"
      ]
    },
    {
      "cell_type": "markdown",
      "metadata": {
        "id": "qID06Kw4XH8s"
      },
      "source": [
        "First, the document is converted to Unicode (similar to ASCII) and HTML entities are converted to Unicode characters. Beautiful Soup transforms a complex HTML document into a complex tree of Python objects. The BeautifulSoup object can create other types of objects.\n",
        "\n",
        "In this lab, we will cover BeautifulSoup and Tag objects, that for the purposes of this lab are identical. Finally, we will look at NavigableString objects.\n",
        "\n",
        "We can use the method prettify() to display the HTML in the nested structure:"
      ]
    },
    {
      "cell_type": "code",
      "execution_count": null,
      "metadata": {
        "id": "EtXtcj0jWzSb"
      },
      "outputs": [],
      "source": [
        "print(soup.prettify())"
      ]
    },
    {
      "cell_type": "markdown",
      "metadata": {
        "id": "fbbvF-wJXqzE"
      },
      "source": [
        "### Tags\n",
        "Let's say we want the title of the page and the name of the top paid player. We can use the Tag. The Tag object corresponds to an HTML tag in the original document, for example, the tag title."
      ]
    },
    {
      "cell_type": "code",
      "execution_count": null,
      "metadata": {
        "id": "i924flFBXckT"
      },
      "outputs": [],
      "source": [
        "tag_object=soup.title\n",
        "print(\"tag object:\",tag_object)\n",
        "\n",
        "# we can see the tag type bs4.element.Tag\n",
        "print(\"tag object type:\",type(tag_object),\"\\n\")\n",
        "\n",
        "# If there is more than one Tag with the same name, the first element with that Tag name is called\n",
        "# This corresponds to the most paid player\n",
        "tag_object=soup.h3\n",
        "tag_object"
      ]
    },
    {
      "cell_type": "markdown",
      "metadata": {
        "id": "dn-UJ_lgYlvi"
      },
      "source": [
        "Enclosed in the bold attribute b, it helps to use the tree representation. We can navigate down the tree using the child attribute to get the name\n",
        "\n",
        "### Children, Parents, and Siblings\n",
        "\n",
        "As stated above, the Tag object is a tree of objects. We can access the child of the tag or navigate down the branch as follows"
      ]
    },
    {
      "cell_type": "code",
      "execution_count": null,
      "metadata": {
        "id": "xcg27IBNXikD"
      },
      "outputs": [],
      "source": [
        "# access the child of the tag\n",
        "tag_child = tag_object.b\n",
        "tag_child"
      ]
    },
    {
      "cell_type": "code",
      "execution_count": null,
      "metadata": {
        "id": "6MvKBzGwYS4j"
      },
      "outputs": [],
      "source": [
        "# You can access the parent with the  parent\n",
        "parent_tag=tag_child.parent\n",
        "parent_tag"
      ]
    },
    {
      "cell_type": "code",
      "execution_count": null,
      "metadata": {
        "id": "tC4FWYaZY-nr"
      },
      "outputs": [],
      "source": [
        "tag_object"
      ]
    },
    {
      "cell_type": "code",
      "execution_count": null,
      "metadata": {
        "id": "RgqnrB-ZZBOE"
      },
      "outputs": [],
      "source": [
        "# tag_object parent is the body element\n",
        "tag_object.parent"
      ]
    },
    {
      "cell_type": "code",
      "execution_count": null,
      "metadata": {
        "id": "sm4V2F4lZWuT"
      },
      "outputs": [],
      "source": [
        "# tag_object sibling is the paragraph element\n",
        "sibling_1=tag_object.next_sibling\n",
        "sibling_1"
      ]
    },
    {
      "cell_type": "code",
      "execution_count": null,
      "metadata": {
        "id": "E-2m7tNjZhRj"
      },
      "outputs": [],
      "source": [
        "# sibling_2 is the header element, which is also a sibling of both sibling_1 and tag_object\n",
        "sibling_2=sibling_1.next_sibling\n",
        "sibling_2"
      ]
    },
    {
      "cell_type": "markdown",
      "metadata": {
        "id": "h8FFWeyqZxeE"
      },
      "source": [
        "### Exercise: next_sibling\n",
        "Use the object sibling_2 and the method next_sibling to find the salary of Stephen Curry."
      ]
    },
    {
      "cell_type": "code",
      "execution_count": null,
      "metadata": {
        "id": "xCQRlctnZkx7"
      },
      "outputs": [],
      "source": [
        "sibling_3 = sibling_2.next_sibling\n",
        "sibling_3"
      ]
    },
    {
      "cell_type": "markdown",
      "metadata": {
        "id": "in6ewQsG6zhm"
      },
      "source": [
        "### HTML Attributes\n"
      ]
    },
    {
      "cell_type": "code",
      "execution_count": null,
      "metadata": {
        "id": "eaTO4rMD6cjl"
      },
      "outputs": [],
      "source": [
        "# If the tag has attributes, the tag id=\"boldest\" has an attribute id whose value is boldest\n",
        "# You can access a tag’s attributes by treating the tag like a dictionary\n",
        "tag_child['id']"
      ]
    },
    {
      "cell_type": "code",
      "execution_count": null,
      "metadata": {
        "id": "OSAwZVvI7DEf"
      },
      "outputs": [],
      "source": [
        "# You can access that dictionary directly as attrs\n",
        "tag_child.attrs"
      ]
    },
    {
      "cell_type": "code",
      "execution_count": null,
      "metadata": {
        "id": "4cCCR0bg7JZF"
      },
      "outputs": [],
      "source": [
        "# We can also obtain the content of the attribute of the tag using the Python get() method\n",
        "tag_child.get('id')"
      ]
    },
    {
      "cell_type": "markdown",
      "metadata": {
        "id": "KolCr8Rj7Y4W"
      },
      "source": [
        "### Navigable String\n",
        "A string corresponds to a bit of text or content within a tag. Beautiful Soup uses the NavigableString class to contain this text."
      ]
    },
    {
      "cell_type": "code",
      "execution_count": null,
      "metadata": {
        "id": "v0B5twLW7WT9"
      },
      "outputs": [],
      "source": [
        "# In our HTML we can obtain the name of the first player by extracting the string of the Tag object tag_child as follows\n",
        "tag_string = tag_object.string\n",
        "tag_string"
      ]
    },
    {
      "cell_type": "code",
      "execution_count": null,
      "metadata": {
        "id": "YYqs2hQPCmR3"
      },
      "outputs": [],
      "source": [
        "# we can verify the type is Navigable String\n",
        "type(tag_string)"
      ]
    },
    {
      "cell_type": "markdown",
      "metadata": {
        "id": "uith2VYXDRFv"
      },
      "source": [
        "A NavigableString is similar to a Python string or Unicode string. To be more precise, the main difference is that it also supports some BeautifulSoup features.\n",
        "\n",
        "We can convert it to string object in Python:"
      ]
    },
    {
      "cell_type": "code",
      "execution_count": null,
      "metadata": {
        "id": "rY-gA-I2CxQv"
      },
      "outputs": [],
      "source": [
        "unicode_string = str(tag_string)\n",
        "unicode_string"
      ]
    },
    {
      "cell_type": "markdown",
      "metadata": {
        "id": "3xq6JofYDlJX"
      },
      "source": [
        "### Filter\n",
        "Filters allow you to find complex patterns, the simplest filter is a string. In this section we will pass a string to a different filter method and Beautiful Soup will perform a match against that exact string.\n",
        "\n",
        "Consider the following HTML of rocket launches"
      ]
    },
    {
      "cell_type": "code",
      "execution_count": null,
      "metadata": {
        "id": "an_6MzgpDVsf"
      },
      "outputs": [],
      "source": [
        "%%html\n",
        "<table>\n",
        "  <tr>\n",
        "    <td id='flight' >Flight No</td>\n",
        "    <td>Launch site</td>\n",
        "    <td>Payload mass</td>\n",
        "   </tr>\n",
        "  <tr>\n",
        "    <td>1</td>\n",
        "    <td><a href='https://en.wikipedia.org/wiki/Florida'>Florida</a></td>\n",
        "    <td>300 kg</td>\n",
        "  </tr>\n",
        "  <tr>\n",
        "    <td>2</td>\n",
        "    <td><a href='https://en.wikipedia.org/wiki/Texas'>Texas</a></td>\n",
        "    <td>94 kg</td>\n",
        "  </tr>\n",
        "  <tr>\n",
        "    <td>3</td>\n",
        "    <td><a href='https://en.wikipedia.org/wiki/Florida'>Florida<a> </td>\n",
        "    <td>80 kg</td>\n",
        "  </tr>\n",
        "</table>"
      ]
    },
    {
      "cell_type": "code",
      "execution_count": null,
      "metadata": {
        "id": "a9mSwedQDyUP"
      },
      "outputs": [],
      "source": [
        "# We can store it as a string in the variable table\n",
        "table=\"<table><tr><td id='flight'>Flight No</td><td>Launch site</td> <td>Payload mass</td></tr><tr> <td>1</td><td><a href='https://en.wikipedia.org/wiki/Florida'>Florida<a></td><td>300 kg</td></tr><tr><td>2</td><td><a href='https://en.wikipedia.org/wiki/Texas'>Texas</a></td><td>94 kg</td></tr><tr><td>3</td><td><a href='https://en.wikipedia.org/wiki/Florida'>Florida<a> </td><td>80 kg</td></tr></table>\"\n",
        "table_bs = BeautifulSoup(table, 'html.parser')"
      ]
    },
    {
      "cell_type": "markdown",
      "metadata": {
        "id": "OoRSB5zyEFg_"
      },
      "source": [
        "### Find All\n",
        "The find_all() method looks through a tag’s descendants and retrieves all descendants that match your filters.\n",
        "\n",
        "The Method signature for find_all(name, attrs, recursive, string, limit, **kwargs).\n",
        "\n",
        "### Name\n",
        "When we set the name parameter to a tag name, the method will extract all the tags with that name and its children."
      ]
    },
    {
      "cell_type": "code",
      "execution_count": null,
      "metadata": {
        "id": "5aVH-riqECpH"
      },
      "outputs": [],
      "source": [
        "table_rows=table_bs.find_all('tr')\n",
        "table_rows"
      ]
    },
    {
      "cell_type": "code",
      "execution_count": null,
      "metadata": {
        "id": "MQkHrG6rEaa4"
      },
      "outputs": [],
      "source": [
        "# The result is a Python Iterable just like a list, each element is a tag object\n",
        "first_row = table_rows[0]\n",
        "first_row"
      ]
    },
    {
      "cell_type": "code",
      "execution_count": null,
      "metadata": {
        "id": "6RAlam4sE7d3"
      },
      "outputs": [],
      "source": [
        "# The type is tag\n",
        "print(type(first_row))"
      ]
    },
    {
      "cell_type": "code",
      "execution_count": null,
      "metadata": {
        "id": "_YKevqh7E_r_"
      },
      "outputs": [],
      "source": [
        "# We can obtain the child\n",
        "first_row.td"
      ]
    },
    {
      "cell_type": "code",
      "execution_count": null,
      "metadata": {
        "id": "c3AmwHj8FCA3"
      },
      "outputs": [],
      "source": [
        "# If we iterate through the list, each element corresponds to a row in the table\n",
        "for i,row in enumerate(table_rows):\n",
        "    print(\"row\",i,\"is\",row)"
      ]
    },
    {
      "cell_type": "markdown",
      "metadata": {
        "id": "ykWFk-f9FODA"
      },
      "source": [
        "As row is a cell object, we can apply the method find_all to it and extract table cells in the object cells using the tag td, this is all the children with the name td. The result is a list, each element corresponds to a cell and is a Tag object, we can iterate through this list as well. We can extract the content using the string attribute"
      ]
    },
    {
      "cell_type": "code",
      "execution_count": null,
      "metadata": {
        "id": "EpbS6W6LFFgn"
      },
      "outputs": [],
      "source": [
        "for i,row in enumerate(table_rows):\n",
        "    print(\"row\",i)\n",
        "    cells=row.find_all('td')\n",
        "    for j,cell in enumerate(cells):\n",
        "        print('colunm',j,\"cell\",cell)"
      ]
    },
    {
      "cell_type": "code",
      "execution_count": null,
      "metadata": {
        "id": "aEbqzMD4FSiX"
      },
      "outputs": [],
      "source": [
        "# If we use a list we can match against any item in that list\n",
        "list_input=table_bs .find_all(name=[\"tr\", \"td\"])\n",
        "list_input"
      ]
    },
    {
      "cell_type": "markdown",
      "metadata": {
        "id": "XYCQZL_G-yPD"
      },
      "source": [
        "### Attributes\n",
        "If the argument is not recognized it will be turned into a filter on the tag’s attributes. For example with the id argument, Beautiful Soup will filter against each tag’s id attribute. For example, the first td elements have a value of id of flight, therefore we can filter based on that id value."
      ]
    },
    {
      "cell_type": "code",
      "execution_count": null,
      "metadata": {
        "id": "FSFEu5AVFdXX"
      },
      "outputs": [],
      "source": [
        "table_bs.find_all(id=\"flight\")"
      ]
    },
    {
      "cell_type": "code",
      "execution_count": null,
      "metadata": {
        "id": "7A72WeqANH4O"
      },
      "outputs": [],
      "source": [
        "# We can find all the elements that have links to the Florida Wikipedia page\n",
        "list_input=table_bs.find_all(href=\"https://en.wikipedia.org/wiki/Florida\")\n",
        "list_input"
      ]
    },
    {
      "cell_type": "code",
      "execution_count": null,
      "metadata": {
        "id": "nu5hI8ziNsdd"
      },
      "outputs": [],
      "source": [
        "# If we set the href attribute to True, regardless of what the value is, the code finds all tags with href value\n",
        "table_bs.find_all(href=True)"
      ]
    },
    {
      "cell_type": "code",
      "execution_count": null,
      "metadata": {
        "id": "5r3Ly0F7OI51"
      },
      "outputs": [],
      "source": [
        "# Find all the <a> tags without href value\n",
        "table_bs.find_all(lambda tag: tag.name == \"a\" and not tag.has_attr(\"href\"))"
      ]
    },
    {
      "cell_type": "code",
      "execution_count": null,
      "metadata": {
        "id": "I0awsWnROtMt"
      },
      "outputs": [],
      "source": [
        "# Find all the elements that do not contain any links\n",
        "table_bs.find_all(lambda tag: tag.name != \"a\" and not tag.find('a'))"
      ]
    },
    {
      "cell_type": "code",
      "execution_count": null,
      "metadata": {
        "id": "KijjQU0dPQHu"
      },
      "outputs": [],
      "source": [
        "# Using the soup object soup, find the element with the id attribute content set to \"boldest\"\n",
        "soup.find_all(id=\"boldest\")"
      ]
    },
    {
      "cell_type": "markdown",
      "metadata": {
        "id": "3OD2L0SkQCu3"
      },
      "source": [
        "### String"
      ]
    },
    {
      "cell_type": "code",
      "execution_count": null,
      "metadata": {
        "id": "CTVj4X_zP4vm"
      },
      "outputs": [],
      "source": [
        "# With string you can search for strings instead of tags, where we find all the elments with Florida\n",
        "table_bs.find_all(string = \"Florida\")"
      ]
    },
    {
      "cell_type": "markdown",
      "metadata": {
        "id": "F70Gs76eQUGf"
      },
      "source": [
        "### Find\n",
        "The find_all() method scans the entire document looking for results. It’s useful if you are looking for one element, as you can use the find() method to find the first element in the document. Consider the following two tables"
      ]
    },
    {
      "cell_type": "code",
      "execution_count": null,
      "metadata": {
        "id": "nsUuYsekQKht"
      },
      "outputs": [],
      "source": [
        "%%html\n",
        "<h3>Rocket Launch </h3>\n",
        "\n",
        "<p>\n",
        "<table class='rocket'>\n",
        "  <tr>\n",
        "    <td>Flight No</td>\n",
        "    <td>Launch site</td>\n",
        "    <td>Payload mass</td>\n",
        "  </tr>\n",
        "  <tr>\n",
        "    <td>1</td>\n",
        "    <td>Florida</td>\n",
        "    <td>300 kg</td>\n",
        "  </tr>\n",
        "  <tr>\n",
        "    <td>2</td>\n",
        "    <td>Texas</td>\n",
        "    <td>94 kg</td>\n",
        "  </tr>\n",
        "  <tr>\n",
        "    <td>3</td>\n",
        "    <td>Florida </td>\n",
        "    <td>80 kg</td>\n",
        "  </tr>\n",
        "</table>\n",
        "</p>\n",
        "<p>\n",
        "\n",
        "<h3>Pizza Party  </h3>\n",
        "\n",
        "\n",
        "<table class='pizza'>\n",
        "  <tr>\n",
        "    <td>Pizza Place</td>\n",
        "    <td>Orders</td>\n",
        "    <td>Slices </td>\n",
        "   </tr>\n",
        "  <tr>\n",
        "    <td>Domino's Pizza</td>\n",
        "    <td>10</td>\n",
        "    <td>100</td>\n",
        "  </tr>\n",
        "  <tr>\n",
        "    <td>Little Caesars</td>\n",
        "    <td>12</td>\n",
        "    <td >144 </td>\n",
        "  </tr>\n",
        "  <tr>\n",
        "    <td>Papa John's </td>\n",
        "    <td>15 </td>\n",
        "    <td>165</td>\n",
        "  </tr>"
      ]
    },
    {
      "cell_type": "code",
      "execution_count": null,
      "metadata": {
        "id": "vR_c42CmQd29"
      },
      "outputs": [],
      "source": [
        "# We store the HTML as a Python string and assign two_tables\n",
        "two_tables = \"<h3>Rocket Launch </h3><p><table class='rocket'><tr><td>Flight No</td><td>Launch site</td> <td>Payload mass</td></tr><tr><td>1</td><td>Florida</td><td>300 kg</td></tr><tr><td>2</td><td>Texas</td><td>94 kg</td></tr><tr><td>3</td><td>Florida </td><td>80 kg</td></tr></table></p><p><h3>Pizza Party  </h3><table class='pizza'><tr><td>Pizza Place</td><td>Orders</td> <td>Slices </td></tr><tr><td>Domino's Pizza</td><td>10</td><td>100</td></tr><tr><td>Little Caesars</td><td>12</td><td >144 </td></tr><tr><td>Papa John's </td><td>15 </td><td>165</td></tr>\"\n",
        "\n",
        "# We create a BeautifulSoup object two_tables_bs\n",
        "two_tables_bs = BeautifulSoup(two_tables, 'html.parser')\n",
        "\n",
        "# We can find the first table using the tag name table\n",
        "two_tables_bs.find(\"table\")"
      ]
    },
    {
      "cell_type": "code",
      "execution_count": null,
      "metadata": {
        "id": "pUFrXdj3Q21e"
      },
      "outputs": [],
      "source": [
        "# We can filter on the class attribute to find the second table, but because class is a keyword in Python, we add an underscore to differentiate them\n",
        "two_tables_bs.find(\"table\", class_ = 'pizza')"
      ]
    },
    {
      "cell_type": "markdown",
      "metadata": {
        "id": "lOYO5N43RqMX"
      },
      "source": [
        "### Downloading And Scraping Web Page Content"
      ]
    },
    {
      "cell_type": "code",
      "execution_count": null,
      "metadata": {
        "id": "66E0S6nTRgz2"
      },
      "outputs": [],
      "source": [
        "# We Download the contents of the web page\n",
        "url = \"http://www.ibm.com\"\n",
        "\n",
        "# We use get to download the contents of the webpage in text format and store in a variable called data\n",
        "data = requests.get(url).text\n",
        "\n",
        "# We create a BeautifulSoup object using the BeautifulSoup constructor\n",
        "soup = BeautifulSoup(data,\"html.parser\")  # create a soup object using the variable 'data'\n",
        "\n",
        "# Scrape all links\n",
        "for link in soup.find_all('a', href = True):  # in html anchor/link is represented by the tag <a>\n",
        "    print(link.get('href'))"
      ]
    },
    {
      "cell_type": "markdown",
      "metadata": {
        "id": "sIN4kNaxScV4"
      },
      "source": [
        "### Scrape All Image Tags"
      ]
    },
    {
      "cell_type": "code",
      "execution_count": null,
      "metadata": {
        "id": "IdV4d10ZRw22"
      },
      "outputs": [],
      "source": [
        "for link in soup.find_all('img'): # in html image is represented by the tag <img>\n",
        "    print(link)\n",
        "    print(link.get('src'))"
      ]
    },
    {
      "cell_type": "markdown",
      "metadata": {
        "id": "GvuUwv85ThGX"
      },
      "source": [
        "### Scrape Data From HTML Tables"
      ]
    },
    {
      "cell_type": "code",
      "execution_count": null,
      "metadata": {
        "id": "BH1mrB9WSkv_"
      },
      "outputs": [],
      "source": [
        "# The below url contains an html table with data about colors and color codes.\n",
        "url = \"https://cf-courses-data.s3.us.cloud-object-storage.appdomain.cloud/IBM-DA0321EN-SkillsNetwork/labs/datasets/HTMLColorCodes.html\""
      ]
    },
    {
      "cell_type": "markdown",
      "metadata": {
        "id": "5cZlUAi-Tn_f"
      },
      "source": [
        "Before proceeding to scrape a web site, you need to examine the contents and the way data is organized on the website. Open the above url in your browser and check how many rows and columns there are in the color table."
      ]
    },
    {
      "cell_type": "code",
      "execution_count": null,
      "metadata": {
        "id": "9UndUjnlTlRW"
      },
      "outputs": [],
      "source": [
        "# Get the contents of the webpage in text format and store in a variable called data\n",
        "data  = requests.get(url).text\n",
        "\n",
        "soup = BeautifulSoup(data,\"html.parser\")\n",
        "\n",
        "# Find a html table in the web page\n",
        "table = soup.find('table') # in html table is represented by the tag <table>\n",
        "\n",
        "#Get all rows from the table\n",
        "for row in table.find_all('tr'): # in html table row is represented by the tag <tr>\n",
        "    # Get all columns in each row.\n",
        "    cols = row.find_all('td') # in html a column is represented by the tag <td>\n",
        "    color_name = cols[2].string # store the value in column 3 as color_name\n",
        "    color_code = cols[3].string # store the value in column 4 as color_code\n",
        "    print(\"{}--->{}\".format(color_name, color_code))"
      ]
    },
    {
      "cell_type": "markdown",
      "metadata": {
        "id": "O3v1SFetQZ2j"
      },
      "source": [
        "# Data Reading In Python"
      ]
    },
    {
      "cell_type": "markdown",
      "metadata": {
        "id": "GcjUl2KpRbiS"
      },
      "source": [
        "## Reading Data From CSV File Format\n",
        "\n",
        "\n",
        "*   Falls under the spreadsheet file format\n",
        "*   Stored in cells\n",
        "*   Organized in rows and columns\n",
        "*   Each line in a CSV file is a record, with one or more fields separated by a coma\n",
        "\n"
      ]
    },
    {
      "cell_type": "code",
      "execution_count": 16,
      "metadata": {
        "colab": {
          "base_uri": "https://localhost:8080/"
        },
        "id": "e8nP-AO5Wg8T",
        "outputId": "1011a53f-f8b1-4d63-9284-b15f43b3a832"
      },
      "outputs": [],
      "source": [
        "# install dependencies in google colab\n",
        "#import pandas as pd\n",
        "#!pip install seaborn lxml openpyxl\n",
        "\n",
        "# install dependencies in notebook\n",
        "#import piplite\n",
        "#await piplite.install(['seaborn', 'lxml', 'openpyxl'])\n",
        "#import pandas as pd\n",
        "#from pyodide.http import pyfetch\n",
        "\n",
        "# install dependencies in VS code notebook\n",
        "import pandas as pd\n",
        "import seaborn as sns\n",
        "import numpy as np\n",
        "import matplotlib.pyplot as plt\n",
        "import requests\n",
        "import lxml\n",
        "import openpyxl"
      ]
    },
    {
      "cell_type": "code",
      "execution_count": 9,
      "metadata": {
        "colab": {
          "base_uri": "https://localhost:8080/",
          "height": 238
        },
        "id": "QZL6p94URa6K",
        "outputId": "ce546a82-5b0f-4c0c-de63-2e1f5e5c96be"
      },
      "outputs": [
        {
          "data": {
            "text/html": [
              "<div>\n",
              "<style scoped>\n",
              "    .dataframe tbody tr th:only-of-type {\n",
              "        vertical-align: middle;\n",
              "    }\n",
              "\n",
              "    .dataframe tbody tr th {\n",
              "        vertical-align: top;\n",
              "    }\n",
              "\n",
              "    .dataframe thead th {\n",
              "        text-align: right;\n",
              "    }\n",
              "</style>\n",
              "<table border=\"1\" class=\"dataframe\">\n",
              "  <thead>\n",
              "    <tr style=\"text-align: right;\">\n",
              "      <th></th>\n",
              "      <th>0</th>\n",
              "      <th>1</th>\n",
              "      <th>2</th>\n",
              "      <th>3</th>\n",
              "      <th>4</th>\n",
              "      <th>5</th>\n",
              "    </tr>\n",
              "  </thead>\n",
              "  <tbody>\n",
              "    <tr>\n",
              "      <th>0</th>\n",
              "      <td>John</td>\n",
              "      <td>Doe</td>\n",
              "      <td>120 jefferson st.</td>\n",
              "      <td>Riverside</td>\n",
              "      <td>NJ</td>\n",
              "      <td>8075</td>\n",
              "    </tr>\n",
              "    <tr>\n",
              "      <th>1</th>\n",
              "      <td>Jack</td>\n",
              "      <td>McGinnis</td>\n",
              "      <td>220 hobo Av.</td>\n",
              "      <td>Phila</td>\n",
              "      <td>PA</td>\n",
              "      <td>9119</td>\n",
              "    </tr>\n",
              "    <tr>\n",
              "      <th>2</th>\n",
              "      <td>John \"Da Man\"</td>\n",
              "      <td>Repici</td>\n",
              "      <td>120 Jefferson St.</td>\n",
              "      <td>Riverside</td>\n",
              "      <td>NJ</td>\n",
              "      <td>8075</td>\n",
              "    </tr>\n",
              "    <tr>\n",
              "      <th>3</th>\n",
              "      <td>Stephen</td>\n",
              "      <td>Tyler</td>\n",
              "      <td>7452 Terrace \"At the Plaza\" road</td>\n",
              "      <td>SomeTown</td>\n",
              "      <td>SD</td>\n",
              "      <td>91234</td>\n",
              "    </tr>\n",
              "    <tr>\n",
              "      <th>4</th>\n",
              "      <td>NaN</td>\n",
              "      <td>Blankman</td>\n",
              "      <td>NaN</td>\n",
              "      <td>SomeTown</td>\n",
              "      <td>SD</td>\n",
              "      <td>298</td>\n",
              "    </tr>\n",
              "    <tr>\n",
              "      <th>5</th>\n",
              "      <td>Joan \"the bone\", Anne</td>\n",
              "      <td>Jet</td>\n",
              "      <td>9th, at Terrace plc</td>\n",
              "      <td>Desert City</td>\n",
              "      <td>CO</td>\n",
              "      <td>123</td>\n",
              "    </tr>\n",
              "  </tbody>\n",
              "</table>\n",
              "</div>"
            ],
            "text/plain": [
              "                       0         1                                 2  \\\n",
              "0                   John       Doe                 120 jefferson st.   \n",
              "1                   Jack  McGinnis                      220 hobo Av.   \n",
              "2          John \"Da Man\"    Repici                 120 Jefferson St.   \n",
              "3                Stephen     Tyler  7452 Terrace \"At the Plaza\" road   \n",
              "4                    NaN  Blankman                               NaN   \n",
              "5  Joan \"the bone\", Anne       Jet               9th, at Terrace plc   \n",
              "\n",
              "             3    4      5  \n",
              "0    Riverside   NJ   8075  \n",
              "1        Phila   PA   9119  \n",
              "2    Riverside   NJ   8075  \n",
              "3     SomeTown   SD  91234  \n",
              "4     SomeTown   SD    298  \n",
              "5  Desert City   CO    123  "
            ]
          },
          "execution_count": 9,
          "metadata": {},
          "output_type": "execute_result"
        }
      ],
      "source": [
        "# read with pd.read_csv(''), quotation marks to read file path as argument\n",
        "# can be URL or local file address\n",
        "\n",
        "'''File to be used in notebook'''\n",
        "#filename = \"https://cf-courses-data.s3.us.cloud-object-storage.appdomain.cloud/IBMDeveloperSkillsNetwork-PY0101EN-SkillsNetwork/labs/Module%205/data/addresses.csv\"\n",
        "#async def download(url, filename):\n",
        "#    response = await pyfetch(url)\n",
        "#    if response.status == 200:\n",
        "#        with open(filename, \"wb\") as f:\n",
        "#            f.write(await response.bytes())\n",
        "#await download(filename, \"addresses.csv\")\n",
        "#df = pd.read_csv(\"addresses.csv\", header=None)\n",
        "#df\n",
        "\n",
        "'''File to be used in Google Colab'''\n",
        "filename = 'https://cf-courses-data.s3.us.cloud-object-storage.appdomain.cloud/IBMDeveloperSkillsNetwork-PY0101EN-SkillsNetwork/labs/Module%205/data/addresses.csv'\n",
        "\n",
        "df = pd.read_csv(filename, header = None)\n",
        "df"
      ]
    },
    {
      "cell_type": "code",
      "execution_count": 10,
      "metadata": {
        "colab": {
          "base_uri": "https://localhost:8080/",
          "height": 238
        },
        "id": "oU-qexWnVfR0",
        "outputId": "69d32742-14f5-40fb-9d2a-1c1ee78b492c"
      },
      "outputs": [
        {
          "data": {
            "text/html": [
              "<div>\n",
              "<style scoped>\n",
              "    .dataframe tbody tr th:only-of-type {\n",
              "        vertical-align: middle;\n",
              "    }\n",
              "\n",
              "    .dataframe tbody tr th {\n",
              "        vertical-align: top;\n",
              "    }\n",
              "\n",
              "    .dataframe thead th {\n",
              "        text-align: right;\n",
              "    }\n",
              "</style>\n",
              "<table border=\"1\" class=\"dataframe\">\n",
              "  <thead>\n",
              "    <tr style=\"text-align: right;\">\n",
              "      <th></th>\n",
              "      <th>First Name</th>\n",
              "      <th>Last Name</th>\n",
              "      <th>Location</th>\n",
              "      <th>City</th>\n",
              "      <th>State</th>\n",
              "      <th>Area Code</th>\n",
              "    </tr>\n",
              "  </thead>\n",
              "  <tbody>\n",
              "    <tr>\n",
              "      <th>0</th>\n",
              "      <td>John</td>\n",
              "      <td>Doe</td>\n",
              "      <td>120 jefferson st.</td>\n",
              "      <td>Riverside</td>\n",
              "      <td>NJ</td>\n",
              "      <td>8075</td>\n",
              "    </tr>\n",
              "    <tr>\n",
              "      <th>1</th>\n",
              "      <td>Jack</td>\n",
              "      <td>McGinnis</td>\n",
              "      <td>220 hobo Av.</td>\n",
              "      <td>Phila</td>\n",
              "      <td>PA</td>\n",
              "      <td>9119</td>\n",
              "    </tr>\n",
              "    <tr>\n",
              "      <th>2</th>\n",
              "      <td>John \"Da Man\"</td>\n",
              "      <td>Repici</td>\n",
              "      <td>120 Jefferson St.</td>\n",
              "      <td>Riverside</td>\n",
              "      <td>NJ</td>\n",
              "      <td>8075</td>\n",
              "    </tr>\n",
              "    <tr>\n",
              "      <th>3</th>\n",
              "      <td>Stephen</td>\n",
              "      <td>Tyler</td>\n",
              "      <td>7452 Terrace \"At the Plaza\" road</td>\n",
              "      <td>SomeTown</td>\n",
              "      <td>SD</td>\n",
              "      <td>91234</td>\n",
              "    </tr>\n",
              "    <tr>\n",
              "      <th>4</th>\n",
              "      <td>NaN</td>\n",
              "      <td>Blankman</td>\n",
              "      <td>NaN</td>\n",
              "      <td>SomeTown</td>\n",
              "      <td>SD</td>\n",
              "      <td>298</td>\n",
              "    </tr>\n",
              "    <tr>\n",
              "      <th>5</th>\n",
              "      <td>Joan \"the bone\", Anne</td>\n",
              "      <td>Jet</td>\n",
              "      <td>9th, at Terrace plc</td>\n",
              "      <td>Desert City</td>\n",
              "      <td>CO</td>\n",
              "      <td>123</td>\n",
              "    </tr>\n",
              "  </tbody>\n",
              "</table>\n",
              "</div>"
            ],
            "text/plain": [
              "              First Name Last Name                          Location  \\\n",
              "0                   John       Doe                 120 jefferson st.   \n",
              "1                   Jack  McGinnis                      220 hobo Av.   \n",
              "2          John \"Da Man\"    Repici                 120 Jefferson St.   \n",
              "3                Stephen     Tyler  7452 Terrace \"At the Plaza\" road   \n",
              "4                    NaN  Blankman                               NaN   \n",
              "5  Joan \"the bone\", Anne       Jet               9th, at Terrace plc   \n",
              "\n",
              "          City State  Area Code  \n",
              "0    Riverside    NJ       8075  \n",
              "1        Phila    PA       9119  \n",
              "2    Riverside    NJ       8075  \n",
              "3     SomeTown    SD      91234  \n",
              "4     SomeTown    SD        298  \n",
              "5  Desert City    CO        123  "
            ]
          },
          "execution_count": 10,
          "metadata": {},
          "output_type": "execute_result"
        }
      ],
      "source": [
        "# we can add column names to an existing DataFrame using the attribute .column\n",
        "df.columns = ['First Name', 'Last Name', 'Location', 'City', 'State', 'Area Code']\n",
        "df"
      ]
    },
    {
      "cell_type": "code",
      "execution_count": 13,
      "metadata": {
        "colab": {
          "base_uri": "https://localhost:8080/",
          "height": 272
        },
        "id": "0Rp0tGtMXnes",
        "outputId": "84446543-9641-44d6-fb3e-e83cabc8ffee"
      },
      "outputs": [
        {
          "data": {
            "text/plain": [
              "0                     John\n",
              "1                     Jack\n",
              "2            John \"Da Man\"\n",
              "3                  Stephen\n",
              "4                      NaN\n",
              "5    Joan \"the bone\", Anne\n",
              "Name: First Name, dtype: object"
            ]
          },
          "execution_count": 13,
          "metadata": {},
          "output_type": "execute_result"
        }
      ],
      "source": [
        "'''Selecting a single column'''\n",
        "# to select the first column 'First name', you can pass the column name as a string to the index operator\n",
        "df[\"First Name\"]"
      ]
    },
    {
      "cell_type": "code",
      "execution_count": 12,
      "metadata": {
        "colab": {
          "base_uri": "https://localhost:8080/",
          "height": 238
        },
        "id": "bH8uv05uX6Hj",
        "outputId": "054b92bc-0578-441b-f8d0-f319073d4832"
      },
      "outputs": [
        {
          "data": {
            "text/html": [
              "<div>\n",
              "<style scoped>\n",
              "    .dataframe tbody tr th:only-of-type {\n",
              "        vertical-align: middle;\n",
              "    }\n",
              "\n",
              "    .dataframe tbody tr th {\n",
              "        vertical-align: top;\n",
              "    }\n",
              "\n",
              "    .dataframe thead th {\n",
              "        text-align: right;\n",
              "    }\n",
              "</style>\n",
              "<table border=\"1\" class=\"dataframe\">\n",
              "  <thead>\n",
              "    <tr style=\"text-align: right;\">\n",
              "      <th></th>\n",
              "      <th>First Name</th>\n",
              "      <th>Last Name</th>\n",
              "      <th>City</th>\n",
              "      <th>State</th>\n",
              "    </tr>\n",
              "  </thead>\n",
              "  <tbody>\n",
              "    <tr>\n",
              "      <th>0</th>\n",
              "      <td>John</td>\n",
              "      <td>Doe</td>\n",
              "      <td>Riverside</td>\n",
              "      <td>NJ</td>\n",
              "    </tr>\n",
              "    <tr>\n",
              "      <th>1</th>\n",
              "      <td>Jack</td>\n",
              "      <td>McGinnis</td>\n",
              "      <td>Phila</td>\n",
              "      <td>PA</td>\n",
              "    </tr>\n",
              "    <tr>\n",
              "      <th>2</th>\n",
              "      <td>John \"Da Man\"</td>\n",
              "      <td>Repici</td>\n",
              "      <td>Riverside</td>\n",
              "      <td>NJ</td>\n",
              "    </tr>\n",
              "    <tr>\n",
              "      <th>3</th>\n",
              "      <td>Stephen</td>\n",
              "      <td>Tyler</td>\n",
              "      <td>SomeTown</td>\n",
              "      <td>SD</td>\n",
              "    </tr>\n",
              "    <tr>\n",
              "      <th>4</th>\n",
              "      <td>NaN</td>\n",
              "      <td>Blankman</td>\n",
              "      <td>SomeTown</td>\n",
              "      <td>SD</td>\n",
              "    </tr>\n",
              "    <tr>\n",
              "      <th>5</th>\n",
              "      <td>Joan \"the bone\", Anne</td>\n",
              "      <td>Jet</td>\n",
              "      <td>Desert City</td>\n",
              "      <td>CO</td>\n",
              "    </tr>\n",
              "  </tbody>\n",
              "</table>\n",
              "</div>"
            ],
            "text/plain": [
              "              First Name Last Name         City State\n",
              "0                   John       Doe    Riverside    NJ\n",
              "1                   Jack  McGinnis        Phila    PA\n",
              "2          John \"Da Man\"    Repici    Riverside    NJ\n",
              "3                Stephen     Tyler     SomeTown    SD\n",
              "4                    NaN  Blankman     SomeTown    SD\n",
              "5  Joan \"the bone\", Anne       Jet  Desert City    CO"
            ]
          },
          "execution_count": 12,
          "metadata": {},
          "output_type": "execute_result"
        }
      ],
      "source": [
        "'''Selecting multiple columns'''\n",
        "# pass a list of column names to the indexing operator\n",
        "df[['First Name', 'Last Name', 'City', 'State']]"
      ]
    },
    {
      "cell_type": "code",
      "execution_count": 18,
      "metadata": {
        "colab": {
          "base_uri": "https://localhost:8080/",
          "height": 272
        },
        "id": "aieZu2bpYozk",
        "outputId": "60de83e3-f18f-44b0-e61f-ae628d267721"
      },
      "outputs": [
        {
          "data": {
            "text/plain": [
              "First Name                 John\n",
              "Last Name                   Doe\n",
              "Location      120 jefferson st.\n",
              "City                  Riverside\n",
              "State                        NJ\n",
              "Area Code                  8075\n",
              "Name: 0, dtype: object"
            ]
          },
          "execution_count": 18,
          "metadata": {},
          "output_type": "execute_result"
        }
      ],
      "source": [
        "'''Selecting rows using .iloc and .loc'''\n",
        "# loc() this is a label-based data selecting method\n",
        "# pass the name of the row or column which we want to select\n",
        "# to select the first row\n",
        "df.loc[0]"
      ]
    },
    {
      "cell_type": "code",
      "execution_count": 19,
      "metadata": {
        "colab": {
          "base_uri": "https://localhost:8080/",
          "height": 178
        },
        "id": "4T7wANA_ZQVs",
        "outputId": "d8fcbfb1-5e85-4af4-c8a6-77080b930a3e"
      },
      "outputs": [
        {
          "data": {
            "text/plain": [
              "0             John\n",
              "1             Jack\n",
              "2    John \"Da Man\"\n",
              "Name: First Name, dtype: object"
            ]
          },
          "execution_count": 19,
          "metadata": {},
          "output_type": "execute_result"
        }
      ],
      "source": [
        "# To select the 0th, 1st and 2nd row of first name, column only\n",
        "df.loc[0:2, \"First Name\"] # or df.loc[[0, 1, 2], \"First Name\"]"
      ]
    },
    {
      "cell_type": "code",
      "execution_count": 20,
      "metadata": {
        "colab": {
          "base_uri": "https://localhost:8080/",
          "height": 178
        },
        "id": "WogxpnMjZYZ0",
        "outputId": "b46b3826-d30a-4c9b-c4b9-c883761d65d4"
      },
      "outputs": [
        {
          "data": {
            "text/plain": [
              "0             John\n",
              "1             Jack\n",
              "2    John \"Da Man\"\n",
              "Name: First Name, dtype: object"
            ]
          },
          "execution_count": 20,
          "metadata": {},
          "output_type": "execute_result"
        }
      ],
      "source": [
        "# iloc() is a indexed based selecting method\n",
        "# we have to pass integer index in the method to select specific row/column\n",
        "# to select the 0th,1st and 2nd row of \"First Name\" column only\n",
        "df.iloc[0:3, 0] # or df.iloc[[0, 1, 2], 0]"
      ]
    },
    {
      "cell_type": "markdown",
      "metadata": {
        "id": "2cbUEEHMaT_E"
      },
      "source": [
        "## Transform Function in Pandas\n",
        "Python's Transform function returns a self-produced dataframe with transformed values after applying the function specified in its parameter"
      ]
    },
    {
      "cell_type": "code",
      "execution_count": 21,
      "metadata": {
        "colab": {
          "base_uri": "https://localhost:8080/",
          "height": 143
        },
        "id": "ozPtUjfqZ9_M",
        "outputId": "2e4a1dbe-0925-45a9-8a85-d3899d0a2c07"
      },
      "outputs": [
        {
          "data": {
            "text/html": [
              "<div>\n",
              "<style scoped>\n",
              "    .dataframe tbody tr th:only-of-type {\n",
              "        vertical-align: middle;\n",
              "    }\n",
              "\n",
              "    .dataframe tbody tr th {\n",
              "        vertical-align: top;\n",
              "    }\n",
              "\n",
              "    .dataframe thead th {\n",
              "        text-align: right;\n",
              "    }\n",
              "</style>\n",
              "<table border=\"1\" class=\"dataframe\">\n",
              "  <thead>\n",
              "    <tr style=\"text-align: right;\">\n",
              "      <th></th>\n",
              "      <th>a</th>\n",
              "      <th>b</th>\n",
              "      <th>c</th>\n",
              "    </tr>\n",
              "  </thead>\n",
              "  <tbody>\n",
              "    <tr>\n",
              "      <th>0</th>\n",
              "      <td>1</td>\n",
              "      <td>2</td>\n",
              "      <td>3</td>\n",
              "    </tr>\n",
              "    <tr>\n",
              "      <th>1</th>\n",
              "      <td>4</td>\n",
              "      <td>5</td>\n",
              "      <td>6</td>\n",
              "    </tr>\n",
              "    <tr>\n",
              "      <th>2</th>\n",
              "      <td>7</td>\n",
              "      <td>8</td>\n",
              "      <td>9</td>\n",
              "    </tr>\n",
              "  </tbody>\n",
              "</table>\n",
              "</div>"
            ],
            "text/plain": [
              "   a  b  c\n",
              "0  1  2  3\n",
              "1  4  5  6\n",
              "2  7  8  9"
            ]
          },
          "execution_count": 21,
          "metadata": {},
          "output_type": "execute_result"
        }
      ],
      "source": [
        "import pandas as pd\n",
        "import numpy as np\n",
        "\n",
        "# creating a dataframe\n",
        "dF = pd.DataFrame(np.array([[1, 2, 3], [4, 5, 6], [7, 8, 9]]), columns = ['a', 'b', 'c'])\n",
        "dF"
      ]
    },
    {
      "cell_type": "code",
      "execution_count": 22,
      "metadata": {
        "colab": {
          "base_uri": "https://localhost:8080/",
          "height": 143
        },
        "id": "9hOipDM3a5HU",
        "outputId": "57705956-c44c-4d5a-c07e-e44f989dbf37"
      },
      "outputs": [
        {
          "data": {
            "text/html": [
              "<div>\n",
              "<style scoped>\n",
              "    .dataframe tbody tr th:only-of-type {\n",
              "        vertical-align: middle;\n",
              "    }\n",
              "\n",
              "    .dataframe tbody tr th {\n",
              "        vertical-align: top;\n",
              "    }\n",
              "\n",
              "    .dataframe thead th {\n",
              "        text-align: right;\n",
              "    }\n",
              "</style>\n",
              "<table border=\"1\" class=\"dataframe\">\n",
              "  <thead>\n",
              "    <tr style=\"text-align: right;\">\n",
              "      <th></th>\n",
              "      <th>a</th>\n",
              "      <th>b</th>\n",
              "      <th>c</th>\n",
              "    </tr>\n",
              "  </thead>\n",
              "  <tbody>\n",
              "    <tr>\n",
              "      <th>0</th>\n",
              "      <td>11</td>\n",
              "      <td>12</td>\n",
              "      <td>13</td>\n",
              "    </tr>\n",
              "    <tr>\n",
              "      <th>1</th>\n",
              "      <td>14</td>\n",
              "      <td>15</td>\n",
              "      <td>16</td>\n",
              "    </tr>\n",
              "    <tr>\n",
              "      <th>2</th>\n",
              "      <td>17</td>\n",
              "      <td>18</td>\n",
              "      <td>19</td>\n",
              "    </tr>\n",
              "  </tbody>\n",
              "</table>\n",
              "</div>"
            ],
            "text/plain": [
              "    a   b   c\n",
              "0  11  12  13\n",
              "1  14  15  16\n",
              "2  17  18  19"
            ]
          },
          "execution_count": 22,
          "metadata": {},
          "output_type": "execute_result"
        }
      ],
      "source": [
        "# we want to add 10 to each element in a data frame\n",
        "# applying the transformation function\n",
        "dF_trans = dF.transform(func = lambda x : x + 10)\n",
        "dF_trans"
      ]
    },
    {
      "cell_type": "code",
      "execution_count": 23,
      "metadata": {
        "colab": {
          "base_uri": "https://localhost:8080/",
          "height": 175
        },
        "id": "itRKlC-7bbak",
        "outputId": "766f55cc-6447-493f-bdd1-deae596b64b4"
      },
      "outputs": [
        {
          "data": {
            "text/html": [
              "<div>\n",
              "<style scoped>\n",
              "    .dataframe tbody tr th:only-of-type {\n",
              "        vertical-align: middle;\n",
              "    }\n",
              "\n",
              "    .dataframe tbody tr th {\n",
              "        vertical-align: top;\n",
              "    }\n",
              "\n",
              "    .dataframe thead tr th {\n",
              "        text-align: left;\n",
              "    }\n",
              "</style>\n",
              "<table border=\"1\" class=\"dataframe\">\n",
              "  <thead>\n",
              "    <tr>\n",
              "      <th></th>\n",
              "      <th>a</th>\n",
              "      <th>b</th>\n",
              "      <th>c</th>\n",
              "    </tr>\n",
              "    <tr>\n",
              "      <th></th>\n",
              "      <th>sqrt</th>\n",
              "      <th>sqrt</th>\n",
              "      <th>sqrt</th>\n",
              "    </tr>\n",
              "  </thead>\n",
              "  <tbody>\n",
              "    <tr>\n",
              "      <th>0</th>\n",
              "      <td>1.000000</td>\n",
              "      <td>1.414214</td>\n",
              "      <td>1.732051</td>\n",
              "    </tr>\n",
              "    <tr>\n",
              "      <th>1</th>\n",
              "      <td>2.000000</td>\n",
              "      <td>2.236068</td>\n",
              "      <td>2.449490</td>\n",
              "    </tr>\n",
              "    <tr>\n",
              "      <th>2</th>\n",
              "      <td>2.645751</td>\n",
              "      <td>2.828427</td>\n",
              "      <td>3.000000</td>\n",
              "    </tr>\n",
              "  </tbody>\n",
              "</table>\n",
              "</div>"
            ],
            "text/plain": [
              "          a         b         c\n",
              "       sqrt      sqrt      sqrt\n",
              "0  1.000000  1.414214  1.732051\n",
              "1  2.000000  2.236068  2.449490\n",
              "2  2.645751  2.828427  3.000000"
            ]
          },
          "execution_count": 23,
          "metadata": {},
          "output_type": "execute_result"
        }
      ],
      "source": [
        "# now we will use DataFrame.transform() function to find the square root to each element of the dataframe\n",
        "result = dF.transform(func = ['sqrt'])\n",
        "result"
      ]
    },
    {
      "cell_type": "markdown",
      "metadata": {
        "id": "nP8Bx_5ocRHV"
      },
      "source": [
        "## Reading Data From JSON File Format\n",
        "JSON (JavaScript Object Notation) is a lightweight data-interchange format. It is easy for humans to read and write.\n",
        "\n",
        "JSON is built on two structures:\n",
        "\n",
        "1.  A collection of name/value pairs. In various languages, this is realized as an object, record, struct, dictionary, hash table, keyed list, or associative array.\n",
        "\n",
        "2.  An ordered list of values. In most languages, this is realized as an array, vector, list, or sequence.\n",
        "\n",
        "JSON is a language-independent data format. It was derived from JavaScript, but many modern programming languages include code to generate and parse JSON-format data. It is a very common data format with a diverse range of applications.\n",
        "\n",
        "The text in JSON is done through quoted string which contains the values in key-value mappings within { }. It is similar to the dictionary in Python.\n",
        "\n",
        "### Writing Files From JSON File Format\n",
        "This is usually called serialization. It is the process of converting an object into a special format which is suitable for transmitting over the network or storing in file or database.\n",
        "\n",
        "To handle the data flow in a file, the JSON library in Python uses the dump() or dumps() function to convert the Python objects into their respective JSON object. This makes it easy to write data to files"
      ]
    },
    {
      "cell_type": "code",
      "execution_count": 1,
      "metadata": {
        "id": "quWudl1LcIpF"
      },
      "outputs": [],
      "source": [
        "# python supports JSON through a built-in package called json. To use this feature, we import the json package in Python script\n",
        "import json\n",
        "person = {\n",
        "    \"first_name\": \"Mark\",\n",
        "    \"last_name\": \"Watney\",\n",
        "    \"age\": 27,\n",
        "    \"address\": {\n",
        "        \"streetAddress\": \"1234 West Drive\",\n",
        "        \"city\": \"New York\",\n",
        "        \"state\": \"NY\",\n",
        "        \"postalCode\": \"10001-3100\"\n",
        "    }\n",
        "}"
      ]
    },
    {
      "cell_type": "markdown",
      "metadata": {},
      "source": [
        "## Serialization Using dump() Function\n",
        "json.dump() method can be used for writing to JSON file.\n",
        "\n",
        "Syntax: json.dump(dict, file_pointer)\n",
        "\n",
        "Parameters:\n",
        "\n",
        "1. dictionary – name of the dictionary which should be converted to JSON object.\n",
        "2. file pointer – pointer of the file opened in write or append mode."
      ]
    },
    {
      "cell_type": "code",
      "execution_count": 9,
      "metadata": {},
      "outputs": [],
      "source": [
        "with open('C:\\\\Users\\\\USUARIO\\\\OneDrive\\\\Documentos\\\\My_Projects\\\\Projects\\\\Python_Practice\\\\Files\\\\person.json', 'w') as f:\n",
        "    json.dump(person, f)"
      ]
    },
    {
      "cell_type": "markdown",
      "metadata": {},
      "source": [
        "## Serialization Using dumps() Function\n",
        "json.dumps() that helps in converting a dictionary to a JSON object.\n",
        "\n",
        "It takes two parameters:\n",
        "\n",
        "1. dictionary – name of the dictionary which should be converted to JSON object.\n",
        "2. indent – defines the number of units for indentation"
      ]
    },
    {
      "cell_type": "code",
      "execution_count": 10,
      "metadata": {},
      "outputs": [
        {
          "name": "stdout",
          "output_type": "stream",
          "text": [
            "{\n",
            "    \"first_name\": \"Mark\",\n",
            "    \"last_name\": \"Watney\",\n",
            "    \"age\": 27,\n",
            "    \"address\": {\n",
            "        \"streetAddress\": \"1234 West Drive\",\n",
            "        \"city\": \"New York\",\n",
            "        \"state\": \"NY\",\n",
            "        \"postalCode\": \"10001-3100\"\n",
            "    }\n",
            "}\n"
          ]
        }
      ],
      "source": [
        "# serializing JSON\n",
        "json_object = json.dumps(person, indent=4)\n",
        "\n",
        "# writing to sample.json\n",
        "with open(\"C:\\\\Users\\\\USUARIO\\\\OneDrive\\\\Documentos\\\\My_Projects\\\\Projects\\\\Python_Practice\\\\Files\\\\sample.json\", \"w\") as outfile:\n",
        "    outfile.write(json_object)\n",
        "    \n",
        "print(json_object)\n",
        "\n",
        "# our Python objects are now serialized to the file. For deserialize it back to the Python object, we use the load() function"
      ]
    },
    {
      "cell_type": "markdown",
      "metadata": {},
      "source": [
        "## Reading JSON to a File\n",
        "This process is usually called Deserialization - it is the reverse of serialization. It converts the special format returned by the serialization back into a usable object.\n",
        "\n",
        "Using json.load()\n",
        "The JSON package has json.load() function that loads the json content from a json file into a dictionary.\n",
        "\n",
        "It takes one parameter:\n",
        "\n",
        "File pointer : A file pointer that points to a JSON file."
      ]
    },
    {
      "cell_type": "code",
      "execution_count": 11,
      "metadata": {},
      "outputs": [
        {
          "name": "stdout",
          "output_type": "stream",
          "text": [
            "{'first_name': 'Mark', 'last_name': 'Watney', 'age': 27, 'address': {'streetAddress': '1234 West Drive', 'city': 'New York', 'state': 'NY', 'postalCode': '10001-3100'}}\n",
            "<class 'dict'>\n"
          ]
        }
      ],
      "source": [
        "import json\n",
        "\n",
        "# opening JSON file\n",
        "with open('C:\\\\Users\\\\USUARIO\\\\OneDrive\\\\Documentos\\\\My_Projects\\\\Projects\\\\Python_Practice\\\\Files\\\\sample.json', 'r') as openfile:\n",
        "    '''Reading from json file'''\n",
        "    json_object1 = json.load(openfile) # returns JSON object as a dictionary\n",
        "\n",
        "print(json_object1)\n",
        "print(type(json_object1))"
      ]
    },
    {
      "cell_type": "markdown",
      "metadata": {},
      "source": [
        "## XLSX File Format\n",
        "XLSX is a Microsoft Excel Open XML file format. It is another type of Spreadsheet file format.\n",
        "\n",
        "In XLSX data is organized under the cells and columns in a sheet.\n",
        "\n",
        "### Reading The Data From XLSX File\n",
        "Let's load the data from XLSX file and define the sheet name. For loading the data you can use the Pandas library in python."
      ]
    },
    {
      "cell_type": "code",
      "execution_count": 28,
      "metadata": {},
      "outputs": [
        {
          "name": "stdout",
          "output_type": "stream",
          "text": [
            "Requirement already satisfied: pandas in c:\\users\\usuario\\documents\\apps-juanfra\\envs\\test1\\lib\\site-packages (2.3.2)\n",
            "Requirement already satisfied: openpyxl in c:\\users\\usuario\\documents\\apps-juanfra\\envs\\test1\\lib\\site-packages (3.1.5)\n",
            "Requirement already satisfied: numpy>=1.26.0 in c:\\users\\usuario\\documents\\apps-juanfra\\envs\\test1\\lib\\site-packages (from pandas) (2.3.2)\n",
            "Requirement already satisfied: python-dateutil>=2.8.2 in c:\\users\\usuario\\documents\\apps-juanfra\\envs\\test1\\lib\\site-packages (from pandas) (2.9.0.post0)\n",
            "Requirement already satisfied: pytz>=2020.1 in c:\\users\\usuario\\documents\\apps-juanfra\\envs\\test1\\lib\\site-packages (from pandas) (2025.2)\n",
            "Requirement already satisfied: tzdata>=2022.7 in c:\\users\\usuario\\documents\\apps-juanfra\\envs\\test1\\lib\\site-packages (from pandas) (2025.2)\n",
            "Requirement already satisfied: et-xmlfile in c:\\users\\usuario\\documents\\apps-juanfra\\envs\\test1\\lib\\site-packages (from openpyxl) (2.0.0)\n",
            "Requirement already satisfied: six>=1.5 in c:\\users\\usuario\\documents\\apps-juanfra\\envs\\test1\\lib\\site-packages (from python-dateutil>=2.8.2->pandas) (1.17.0)\n",
            "Note: you may need to restart the kernel to use updated packages.\n"
          ]
        }
      ],
      "source": [
        "%pip install pandas openpyxl\n",
        "import pandas as pd\n",
        "# Not needed unless you're running locally\n",
        "import urllib.request\n",
        "urllib.request.urlretrieve(\"https://cf-courses-data.s3.us.cloud-object-storage.appdomain.cloud/IBMDeveloperSkillsNetwork-PY0101EN-SkillsNetwork/labs/Module%205/data/file_example_XLSX_10.xlsx\", \"C:\\\\Users\\\\USUARIO\\\\OneDrive\\\\Documentos\\\\My_Projects\\\\Projects\\\\Python_Practice\\\\Files\\\\sample.xlsx\")\n",
        "\n",
        "filename = \"https://cf-courses-data.s3.us.cloud-object-storage.appdomain.cloud/IBMDeveloperSkillsNetwork-PY0101EN-SkillsNetwork/labs/Module%205/data/file_example_XLSX_10.xlsx\"\n",
        "\n",
        "# usable in cloud environments like Jupyter Notebook, but not in Google Colab\n",
        "#async def download(url, filename):\n",
        "#    response = await pyfetch(url)\n",
        "#    if response.status == 200:\n",
        "#        with open(filename, \"wb\") as f:\n",
        "#            f.write(await response.bytes())\n",
        "#await download(filename, \"file_example_XLSX_10.xlsx\")\n",
        "\n",
        "# Download the file using urllib.request\n",
        "#urllib.request.urlretrieve(filename, \"file_example_XLSX_10.xlsx\")\n",
        "\n",
        "df = pd.read_excel(filename)"
      ]
    },
    {
      "cell_type": "code",
      "execution_count": 26,
      "metadata": {},
      "outputs": [
        {
          "data": {
            "text/html": [
              "<div>\n",
              "<style scoped>\n",
              "    .dataframe tbody tr th:only-of-type {\n",
              "        vertical-align: middle;\n",
              "    }\n",
              "\n",
              "    .dataframe tbody tr th {\n",
              "        vertical-align: top;\n",
              "    }\n",
              "\n",
              "    .dataframe thead th {\n",
              "        text-align: right;\n",
              "    }\n",
              "</style>\n",
              "<table border=\"1\" class=\"dataframe\">\n",
              "  <thead>\n",
              "    <tr style=\"text-align: right;\">\n",
              "      <th></th>\n",
              "      <th>0</th>\n",
              "      <th>First Name</th>\n",
              "      <th>Last Name</th>\n",
              "      <th>Gender</th>\n",
              "      <th>Country</th>\n",
              "      <th>Age</th>\n",
              "      <th>Date</th>\n",
              "      <th>Id</th>\n",
              "    </tr>\n",
              "  </thead>\n",
              "  <tbody>\n",
              "    <tr>\n",
              "      <th>0</th>\n",
              "      <td>1</td>\n",
              "      <td>Dulce</td>\n",
              "      <td>Abril</td>\n",
              "      <td>Female</td>\n",
              "      <td>United States</td>\n",
              "      <td>32</td>\n",
              "      <td>15/10/2017</td>\n",
              "      <td>1562</td>\n",
              "    </tr>\n",
              "    <tr>\n",
              "      <th>1</th>\n",
              "      <td>2</td>\n",
              "      <td>Mara</td>\n",
              "      <td>Hashimoto</td>\n",
              "      <td>Female</td>\n",
              "      <td>Great Britain</td>\n",
              "      <td>25</td>\n",
              "      <td>16/08/2016</td>\n",
              "      <td>1582</td>\n",
              "    </tr>\n",
              "    <tr>\n",
              "      <th>2</th>\n",
              "      <td>3</td>\n",
              "      <td>Philip</td>\n",
              "      <td>Gent</td>\n",
              "      <td>Male</td>\n",
              "      <td>France</td>\n",
              "      <td>36</td>\n",
              "      <td>21/05/2015</td>\n",
              "      <td>2587</td>\n",
              "    </tr>\n",
              "    <tr>\n",
              "      <th>3</th>\n",
              "      <td>4</td>\n",
              "      <td>Kathleen</td>\n",
              "      <td>Hanner</td>\n",
              "      <td>Female</td>\n",
              "      <td>United States</td>\n",
              "      <td>25</td>\n",
              "      <td>15/10/2017</td>\n",
              "      <td>3549</td>\n",
              "    </tr>\n",
              "    <tr>\n",
              "      <th>4</th>\n",
              "      <td>5</td>\n",
              "      <td>Nereida</td>\n",
              "      <td>Magwood</td>\n",
              "      <td>Female</td>\n",
              "      <td>United States</td>\n",
              "      <td>58</td>\n",
              "      <td>16/08/2016</td>\n",
              "      <td>2468</td>\n",
              "    </tr>\n",
              "    <tr>\n",
              "      <th>5</th>\n",
              "      <td>6</td>\n",
              "      <td>Gaston</td>\n",
              "      <td>Brumm</td>\n",
              "      <td>Male</td>\n",
              "      <td>United States</td>\n",
              "      <td>24</td>\n",
              "      <td>21/05/2015</td>\n",
              "      <td>2554</td>\n",
              "    </tr>\n",
              "    <tr>\n",
              "      <th>6</th>\n",
              "      <td>7</td>\n",
              "      <td>Etta</td>\n",
              "      <td>Hurn</td>\n",
              "      <td>Female</td>\n",
              "      <td>Great Britain</td>\n",
              "      <td>56</td>\n",
              "      <td>15/10/2017</td>\n",
              "      <td>3598</td>\n",
              "    </tr>\n",
              "    <tr>\n",
              "      <th>7</th>\n",
              "      <td>8</td>\n",
              "      <td>Earlean</td>\n",
              "      <td>Melgar</td>\n",
              "      <td>Female</td>\n",
              "      <td>United States</td>\n",
              "      <td>27</td>\n",
              "      <td>16/08/2016</td>\n",
              "      <td>2456</td>\n",
              "    </tr>\n",
              "    <tr>\n",
              "      <th>8</th>\n",
              "      <td>9</td>\n",
              "      <td>Vincenza</td>\n",
              "      <td>Weiland</td>\n",
              "      <td>Female</td>\n",
              "      <td>United States</td>\n",
              "      <td>40</td>\n",
              "      <td>21/05/2015</td>\n",
              "      <td>6548</td>\n",
              "    </tr>\n",
              "  </tbody>\n",
              "</table>\n",
              "</div>"
            ],
            "text/plain": [
              "   0 First Name  Last Name  Gender        Country  Age        Date    Id\n",
              "0  1      Dulce      Abril  Female  United States   32  15/10/2017  1562\n",
              "1  2       Mara  Hashimoto  Female  Great Britain   25  16/08/2016  1582\n",
              "2  3     Philip       Gent    Male         France   36  21/05/2015  2587\n",
              "3  4   Kathleen     Hanner  Female  United States   25  15/10/2017  3549\n",
              "4  5    Nereida    Magwood  Female  United States   58  16/08/2016  2468\n",
              "5  6     Gaston      Brumm    Male  United States   24  21/05/2015  2554\n",
              "6  7       Etta       Hurn  Female  Great Britain   56  15/10/2017  3598\n",
              "7  8    Earlean     Melgar  Female  United States   27  16/08/2016  2456\n",
              "8  9   Vincenza    Weiland  Female  United States   40  21/05/2015  6548"
            ]
          },
          "execution_count": 26,
          "metadata": {},
          "output_type": "execute_result"
        }
      ],
      "source": [
        "df"
      ]
    },
    {
      "cell_type": "markdown",
      "metadata": {},
      "source": [
        "## XML File Format\n",
        "XML is also known as Extensible Markup Language. As the name suggests, it is a markup language. It has certain rules for encoding data. XML file format is a human-readable and machine-readable file format.\n",
        "\n",
        "We will take a look at how we can use other modules to read data from an XML file, and load it into a Pandas DataFrame.\n",
        "\n",
        "### Writing With xml.etree.ElementTree\n",
        "The xml.etree.ElementTree module comes built-in with Python. It provides functionality for parsing and creating XML documents. ElementTree represents the XML document as a tree. We can move across the document using nodes which are elements and sub-elements of the XML file."
      ]
    },
    {
      "cell_type": "code",
      "execution_count": 30,
      "metadata": {},
      "outputs": [],
      "source": [
        "import xml.etree.ElementTree as ET\n",
        "\n",
        "# create the file structure\n",
        "employee = ET.Element('employee')\n",
        "details = ET.SubElement(employee, 'details')\n",
        "first = ET.SubElement(details, 'firstname')\n",
        "second = ET.SubElement(details, 'lastname')\n",
        "third = ET.SubElement(details, 'age')\n",
        "first.text = 'John'\n",
        "second.text = 'Doe'\n",
        "third.text = '30'\n",
        "\n",
        "# create a new XML file with the results\n",
        "mydata1 = ET.tostring(employee)\n",
        "#myfile1 = open(\"C:\\\\Users\\\\USUARIO\\\\OneDrive\\\\Documentos\\\\My_Projects\\\\Projects\\\\Python_Practice\\\\Files\\\\new_sample.xml\", \"wb\")\n",
        "#myfile1.write(mydata1)\n",
        "#myfile1.close()\n",
        "with open(\"C:\\\\Users\\\\USUARIO\\\\OneDrive\\\\Documentos\\\\My_Projects\\\\Projects\\\\Python_Practice\\\\Files\\\\new_sample.xml\", \"wb\") as f:\n",
        "    f.write(mydata1)"
      ]
    },
    {
      "cell_type": "markdown",
      "metadata": {},
      "source": [
        "### Reading with xml.etree.ElementTree\n",
        "Let's have a look at a one way to read XML data and put it in a Pandas DataFrame. You can see the XML file in the Notepad of your local machine."
      ]
    },
    {
      "cell_type": "code",
      "execution_count": 23,
      "metadata": {},
      "outputs": [],
      "source": [
        "# Not needed unless running locally\n",
        "#!wget https://cf-courses-data.s3.us.cloud-object-storage.appdomain.cloud/IBMDeveloperSkillsNetwork-PY0101EN-SkillsNetwork/labs/Module%205/data/Sample-employee-XML-file.xml\n",
        "\n",
        "import xml.etree.ElementTree as ET\n",
        "import requests\n",
        "\n",
        "file_name = 'https://cf-courses-data.s3.us.cloud-object-storage.appdomain.cloud/IBMDeveloperSkillsNetwork-PY0101EN-SkillsNetwork/labs/Module%205/data/Sample-employee-XML-file.xml'\n",
        "\n",
        "#async def download(url, filename):\n",
        "#    response = await pyfetch(url)\n",
        "#    if response.status == 200:\n",
        "#        with open(filename, \"wb\") as f:\n",
        "#            f.write(await response.bytes())\n",
        "#await download(file_name, \"Sample-employee-XML-file.xml\")\n",
        "\n",
        "with open(\"C:\\\\Users\\\\USUARIO\\\\OneDrive\\\\Documentos\\\\My_Projects\\\\Projects\\\\Python_Practice\\\\Files\\\\Sample-employee-XML-file.xml\", \"w\") as f:\n",
        "    f.write(requests.get(file_name).text)\n",
        "\n",
        "# you would need to firstly parse an XML file and create a list of columns for data frame\n",
        "# then extract useful information from the XML file and add to a pandas data frame\n",
        "tree = ET.parse(\"C:\\\\Users\\\\USUARIO\\\\OneDrive\\\\Documentos\\\\My_Projects\\\\Projects\\\\Python_Practice\\\\Files\\\\Sample-employee-XML-file.xml\") # parse the XML file\n",
        "\n",
        "# get the root of the XML file\n",
        "root = tree.getroot()\n",
        "\n",
        "# define columns for the DataFrame\n",
        "columns = ['firstname', 'lastname', 'title', 'division', 'building', 'room']\n",
        "\n",
        "# initialize the empty DataFrame\n",
        "xml_df = pd.DataFrame(columns = columns)\n",
        "\n",
        "# iterate through each node in the XML root\n",
        "for node in root:\n",
        "    firstname = node.find('firstname').text\n",
        "    lastname = node.find('lastname').text\n",
        "    title = node.find('title').text\n",
        "    division = node.find('division').text\n",
        "    building = node.find('building').text\n",
        "    room = node.find('room').text\n",
        "\n",
        "    # create a DataFrame row\n",
        "    row_df = pd.DataFrame([[firstname, lastname, title, division, building, room]], columns = columns)\n",
        "\n",
        "    # append the row to the DataFrame\n",
        "    xml_df = pd.concat([xml_df, row_df], ignore_index = True)"
      ]
    },
    {
      "cell_type": "code",
      "execution_count": 24,
      "metadata": {},
      "outputs": [
        {
          "data": {
            "text/html": [
              "<div>\n",
              "<style scoped>\n",
              "    .dataframe tbody tr th:only-of-type {\n",
              "        vertical-align: middle;\n",
              "    }\n",
              "\n",
              "    .dataframe tbody tr th {\n",
              "        vertical-align: top;\n",
              "    }\n",
              "\n",
              "    .dataframe thead th {\n",
              "        text-align: right;\n",
              "    }\n",
              "</style>\n",
              "<table border=\"1\" class=\"dataframe\">\n",
              "  <thead>\n",
              "    <tr style=\"text-align: right;\">\n",
              "      <th></th>\n",
              "      <th>firstname</th>\n",
              "      <th>lastname</th>\n",
              "      <th>title</th>\n",
              "      <th>division</th>\n",
              "      <th>building</th>\n",
              "      <th>room</th>\n",
              "    </tr>\n",
              "  </thead>\n",
              "  <tbody>\n",
              "    <tr>\n",
              "      <th>0</th>\n",
              "      <td>Shiv</td>\n",
              "      <td>Mishra</td>\n",
              "      <td>Engineer</td>\n",
              "      <td>Computer</td>\n",
              "      <td>301</td>\n",
              "      <td>11</td>\n",
              "    </tr>\n",
              "    <tr>\n",
              "      <th>1</th>\n",
              "      <td>Yuh</td>\n",
              "      <td>Datta</td>\n",
              "      <td>developer</td>\n",
              "      <td>Computer</td>\n",
              "      <td>303</td>\n",
              "      <td>02</td>\n",
              "    </tr>\n",
              "    <tr>\n",
              "      <th>2</th>\n",
              "      <td>Rahil</td>\n",
              "      <td>Khan</td>\n",
              "      <td>Tester</td>\n",
              "      <td>Computer</td>\n",
              "      <td>304</td>\n",
              "      <td>10</td>\n",
              "    </tr>\n",
              "    <tr>\n",
              "      <th>3</th>\n",
              "      <td>Deep</td>\n",
              "      <td>Parekh</td>\n",
              "      <td>Designer</td>\n",
              "      <td>Computer</td>\n",
              "      <td>305</td>\n",
              "      <td>14</td>\n",
              "    </tr>\n",
              "  </tbody>\n",
              "</table>\n",
              "</div>"
            ],
            "text/plain": [
              "  firstname lastname      title  division building room\n",
              "0      Shiv   Mishra   Engineer  Computer      301   11\n",
              "1       Yuh    Datta  developer  Computer      303   02\n",
              "2     Rahil     Khan     Tester  Computer      304   10\n",
              "3      Deep   Parekh   Designer  Computer      305   14"
            ]
          },
          "execution_count": 24,
          "metadata": {},
          "output_type": "execute_result"
        }
      ],
      "source": [
        "xml_df"
      ]
    },
    {
      "cell_type": "markdown",
      "metadata": {},
      "source": [
        "### Reading xml file using pandas.read_xml function\n",
        "We can also read the downloaded xml file using the read_xml function present in the pandas library which returns a Dataframe object."
      ]
    },
    {
      "cell_type": "code",
      "execution_count": 25,
      "metadata": {},
      "outputs": [
        {
          "name": "stdout",
          "output_type": "stream",
          "text": [
            "Requirement already satisfied: lxml in c:\\users\\usuario\\documents\\apps-juanfra\\envs\\test1\\lib\\site-packages (6.0.1)\n",
            "Note: you may need to restart the kernel to use updated packages.\n"
          ]
        }
      ],
      "source": [
        "%pip install lxml\n",
        "import pandas as pd\n",
        "\n",
        "# Herein xpath we mention the set of xml nodes to be considered for migrating to the dataframe which in this case is details node under employees\n",
        "df = pd.read_xml('C:\\\\Users\\\\USUARIO\\\\OneDrive\\\\Documentos\\\\My_Projects\\\\Projects\\\\Python_Practice\\\\Files\\\\Sample-employee-XML-file.xml', xpath = '/employees/details')"
      ]
    },
    {
      "cell_type": "markdown",
      "metadata": {},
      "source": [
        "### Save Data\n",
        "Correspondingly, Pandas enables us to save the dataset to csv by using the dataframe.to_csv() method, you can add the file path and name along with quotation marks in the parentheses.\n",
        "\n",
        "For example, if you would save the dataframe df as employee.csv to your local machine, you may use the syntax below:"
      ]
    },
    {
      "cell_type": "code",
      "execution_count": 26,
      "metadata": {},
      "outputs": [],
      "source": [
        "xml_df.to_csv('C:\\\\Users\\\\USUARIO\\\\OneDrive\\\\Documentos\\\\My_Projects\\\\Projects\\\\Python_Practice\\\\Files\\\\employee.csv', index = False)\n"
      ]
    },
    {
      "cell_type": "markdown",
      "metadata": {},
      "source": [
        "## Read/Save Other Data Formats\n",
        "We can also read and save other file formats, we can use similar functions to pd.read_csv() and df.to_csv() for other data formats. The functions are listed in the following table:\n",
        "\n",
        "Read/Save Other Data Formats\n",
        "| Data Format | Read Format         | Save Format      |\n",
        "|-------------|---------------------|------------------|\n",
        "| csv         | pd.read_csv()       | df.to_csv()      |\n",
        "| json        | pd.read_json()      | df.to_json()     |\n",
        "| excel       | pd.read_excel()     | df.to_excel()    |\n",
        "| hdf         | pd.read_hdf()       | df.to_hdf()      |\n",
        "| sql         | pd.read_sql()       | df.to_sql()      |  \n",
        "\n",
        "\n",
        "\n"
      ]
    },
    {
      "cell_type": "code",
      "execution_count": 27,
      "metadata": {},
      "outputs": [
        {
          "data": {
            "text/html": [
              "<div>\n",
              "<style scoped>\n",
              "    .dataframe tbody tr th:only-of-type {\n",
              "        vertical-align: middle;\n",
              "    }\n",
              "\n",
              "    .dataframe tbody tr th {\n",
              "        vertical-align: top;\n",
              "    }\n",
              "\n",
              "    .dataframe thead th {\n",
              "        text-align: right;\n",
              "    }\n",
              "</style>\n",
              "<table border=\"1\" class=\"dataframe\">\n",
              "  <thead>\n",
              "    <tr style=\"text-align: right;\">\n",
              "      <th></th>\n",
              "      <th>Data Format</th>\n",
              "      <th>Read Format</th>\n",
              "      <th>Save Format</th>\n",
              "    </tr>\n",
              "  </thead>\n",
              "  <tbody>\n",
              "    <tr>\n",
              "      <th>1</th>\n",
              "      <td>CSV</td>\n",
              "      <td>pd.read_csv()</td>\n",
              "      <td>df.to_csv()</td>\n",
              "    </tr>\n",
              "    <tr>\n",
              "      <th>2</th>\n",
              "      <td>JSON</td>\n",
              "      <td>pd.read_json()</td>\n",
              "      <td>df.to_json()</td>\n",
              "    </tr>\n",
              "    <tr>\n",
              "      <th>3</th>\n",
              "      <td>Excel</td>\n",
              "      <td>pd.read_excel()</td>\n",
              "      <td>df.to_excel()</td>\n",
              "    </tr>\n",
              "    <tr>\n",
              "      <th>4</th>\n",
              "      <td>HDF</td>\n",
              "      <td>pd.read_hdf()</td>\n",
              "      <td>df.to_hdf()</td>\n",
              "    </tr>\n",
              "    <tr>\n",
              "      <th>5</th>\n",
              "      <td>SQL</td>\n",
              "      <td>pd.read_sql()</td>\n",
              "      <td>df.to_sql()</td>\n",
              "    </tr>\n",
              "  </tbody>\n",
              "</table>\n",
              "</div>"
            ],
            "text/plain": [
              "  Data Format      Read Format    Save Format\n",
              "1         CSV    pd.read_csv()    df.to_csv()\n",
              "2        JSON   pd.read_json()   df.to_json()\n",
              "3       Excel  pd.read_excel()  df.to_excel()\n",
              "4         HDF    pd.read_hdf()    df.to_hdf()\n",
              "5         SQL    pd.read_sql()    df.to_sql()"
            ]
          },
          "execution_count": 27,
          "metadata": {},
          "output_type": "execute_result"
        }
      ],
      "source": [
        "import pandas as pd\n",
        "data_formats = [\n",
        "    {\"Data Format\": \"CSV\",   \"Read Format\": \"pd.read_csv()\",    \"Save Format\": \"df.to_csv()\"},\n",
        "    {\"Data Format\": \"JSON\",  \"Read Format\": \"pd.read_json()\",   \"Save Format\": \"df.to_json()\"},\n",
        "    {\"Data Format\": \"Excel\", \"Read Format\": \"pd.read_excel()\",  \"Save Format\": \"df.to_excel()\"},\n",
        "    {\"Data Format\": \"HDF\",   \"Read Format\": \"pd.read_hdf()\",    \"Save Format\": \"df.to_hdf()\"},\n",
        "    {\"Data Format\": \"SQL\",   \"Read Format\": \"pd.read_sql()\",    \"Save Format\": \"df.to_sql()\"},\n",
        "]\n",
        "\n",
        "df_formats = pd.DataFrame(data_formats)\n",
        "df_formats.index = ['1', '2', '3', '4', '5']\n",
        "df_formats"
      ]
    },
    {
      "cell_type": "markdown",
      "metadata": {},
      "source": [
        "# Binary File Format\n",
        "\"Binary\" files are any files where the format isn't made up of readable characters. It contain formatting information that only certain applications or processors can understand. While humans can read text files, binary files must be run on the appropriate software or processor before humans can read them.\n",
        "\n",
        "Binary files can range from image files like JPEGs or GIFs, audio files like MP3s or binary document formats like Word or PDF.\n",
        "\n",
        "Let's see how to read an Image file.\n",
        "\n",
        "## Reading the Image file\n",
        "Python supports very powerful tools when it comes to image processing. Let's see how to process the images using the PIL library.\n",
        "\n",
        "PIL is the Python Imaging Library which provides the python interpreter with image editing capabilities."
      ]
    },
    {
      "cell_type": "code",
      "execution_count": null,
      "metadata": {},
      "outputs": [],
      "source": [
        "# Use this code in a browser-based Jupyter Notebook powered by Pyodide\n",
        "%pip install Pillow\n",
        "from PIL import Image\n",
        "\n",
        "filename = \"https://hips.hearstapps.com/hmg-prod.s3.amazonaws.com/images/dog-puppy-on-garden-royalty-free-image-1586966191.jpg\"\n",
        "\n",
        "async def download(url, filename):\n",
        "    response = await pyfetch(url)\n",
        "    if response.status == 200:\n",
        "        with open(filename, \"wb\") as f:\n",
        "            f.write(await response.bytes())\n",
        "\n",
        "await download(filename, \"./dog.jpg\")"
      ]
    },
    {
      "cell_type": "code",
      "execution_count": 49,
      "metadata": {},
      "outputs": [],
      "source": [
        "import requests\n",
        "\n",
        "path = \"C:\\\\Users\\\\USUARIO\\\\OneDrive\\\\Documentos\\\\My_Projects\\\\Projects\\\\Python_Practice\\\\Files\\\\\"\n",
        "filename = \"https://hips.hearstapps.com/hmg-prod.s3.amazonaws.com/images/dog-puppy-on-garden-royalty-free-image-1586966191.jpg\"\n",
        "\n",
        "# Download the image using requests\n",
        "response = requests.get(filename)\n",
        "if response.status_code == 200:\n",
        "    with open(path + \"dog_request.jpg\", \"wb\") as f:\n",
        "        f.write(response.content)"
      ]
    },
    {
      "cell_type": "code",
      "execution_count": 50,
      "metadata": {},
      "outputs": [],
      "source": [
        "# read image\n",
        "img_request = Image.open(path + 'dog_request.jpg', 'r')\n",
        "\n",
        "# show image\n",
        "img_request.show()"
      ]
    },
    {
      "cell_type": "code",
      "execution_count": 52,
      "metadata": {},
      "outputs": [
        {
          "data": {
            "text/plain": [
              "('C:\\\\Users\\\\USUARIO\\\\OneDrive\\\\Documentos\\\\My_Projects\\\\Projects\\\\Python_Practice\\\\Files\\\\dog.jpg',\n",
              " <http.client.HTTPMessage at 0x29b23870b00>)"
            ]
          },
          "execution_count": 52,
          "metadata": {},
          "output_type": "execute_result"
        }
      ],
      "source": [
        "# use this code if running locally\n",
        "import urllib.request\n",
        "urllib.request.urlretrieve(\"https://hips.hearstapps.com/hmg-prod.s3.amazonaws.com/images/dog-puppy-on-garden-royalty-free-image-1586966191.jpg\", path + \"dog.jpg\")\n"
      ]
    },
    {
      "cell_type": "code",
      "execution_count": 54,
      "metadata": {},
      "outputs": [],
      "source": [
        "# read image\n",
        "img = Image.open(path + 'dog.jpg', 'r')\n",
        "\n",
        "# show image\n",
        "img.show()"
      ]
    },
    {
      "cell_type": "markdown",
      "metadata": {},
      "source": [
        "# Data Analysis\n",
        "In this section, you will learn how to approach data acquisition in various ways and obtain necessary insights from a dataset. By the end of this lab, you will successfully load the data into Jupyter Notebook(python in this case) and gain some fundamental insights via the Pandas Library.\n",
        "\n",
        "In our case, the Diabetes Dataset is an online source and it is in CSV (comma separated value) format. Let's use this dataset as an example to practice data reading.\n",
        "\n",
        "## About this Dataset\n",
        "Context: This dataset is originally from the National Institute of Diabetes and Digestive and Kidney Diseases. The objective of the dataset is to diagnostically predict whether or not a patient has diabetes, based on certain diagnostic measurements included in the dataset. Several constraints were placed on the selection of these instances from a larger database. In particular, all patients here are females at least 21 years of age of Pima Indian heritage.\n",
        "\n",
        "Content: The datasets consists of several medical predictor variables and one target variable, Outcome. Predictor variables includes the number of pregnancies the patient has had, their BMI, insulin level, age, and so on.\n",
        "\n",
        "We have 768 rows and 9 columns. The first 8 columns represent the features and the last column represent the target/label."
      ]
    },
    {
      "cell_type": "markdown",
      "metadata": {},
      "source": []
    },
    {
      "cell_type": "code",
      "execution_count": 58,
      "metadata": {},
      "outputs": [
        {
          "name": "stdout",
          "output_type": "stream",
          "text": [
            "First 5 rows of the DataFrame:\n"
          ]
        },
        {
          "data": {
            "text/html": [
              "<div>\n",
              "<style scoped>\n",
              "    .dataframe tbody tr th:only-of-type {\n",
              "        vertical-align: middle;\n",
              "    }\n",
              "\n",
              "    .dataframe tbody tr th {\n",
              "        vertical-align: top;\n",
              "    }\n",
              "\n",
              "    .dataframe thead th {\n",
              "        text-align: right;\n",
              "    }\n",
              "</style>\n",
              "<table border=\"1\" class=\"dataframe\">\n",
              "  <thead>\n",
              "    <tr style=\"text-align: right;\">\n",
              "      <th></th>\n",
              "      <th>Pregnancies</th>\n",
              "      <th>Glucose</th>\n",
              "      <th>BloodPressure</th>\n",
              "      <th>SkinThickness</th>\n",
              "      <th>Insulin</th>\n",
              "      <th>BMI</th>\n",
              "      <th>DiabetesPedigreeFunction</th>\n",
              "      <th>Age</th>\n",
              "      <th>Outcome</th>\n",
              "    </tr>\n",
              "  </thead>\n",
              "  <tbody>\n",
              "    <tr>\n",
              "      <th>0</th>\n",
              "      <td>6</td>\n",
              "      <td>148</td>\n",
              "      <td>72</td>\n",
              "      <td>35</td>\n",
              "      <td>0</td>\n",
              "      <td>33.6</td>\n",
              "      <td>0.627</td>\n",
              "      <td>50</td>\n",
              "      <td>1</td>\n",
              "    </tr>\n",
              "    <tr>\n",
              "      <th>1</th>\n",
              "      <td>1</td>\n",
              "      <td>85</td>\n",
              "      <td>66</td>\n",
              "      <td>29</td>\n",
              "      <td>0</td>\n",
              "      <td>26.6</td>\n",
              "      <td>0.351</td>\n",
              "      <td>31</td>\n",
              "      <td>0</td>\n",
              "    </tr>\n",
              "    <tr>\n",
              "      <th>2</th>\n",
              "      <td>8</td>\n",
              "      <td>183</td>\n",
              "      <td>64</td>\n",
              "      <td>0</td>\n",
              "      <td>0</td>\n",
              "      <td>23.3</td>\n",
              "      <td>0.672</td>\n",
              "      <td>32</td>\n",
              "      <td>1</td>\n",
              "    </tr>\n",
              "    <tr>\n",
              "      <th>3</th>\n",
              "      <td>1</td>\n",
              "      <td>89</td>\n",
              "      <td>66</td>\n",
              "      <td>23</td>\n",
              "      <td>94</td>\n",
              "      <td>28.1</td>\n",
              "      <td>0.167</td>\n",
              "      <td>21</td>\n",
              "      <td>0</td>\n",
              "    </tr>\n",
              "    <tr>\n",
              "      <th>4</th>\n",
              "      <td>0</td>\n",
              "      <td>137</td>\n",
              "      <td>40</td>\n",
              "      <td>35</td>\n",
              "      <td>168</td>\n",
              "      <td>43.1</td>\n",
              "      <td>2.288</td>\n",
              "      <td>33</td>\n",
              "      <td>1</td>\n",
              "    </tr>\n",
              "  </tbody>\n",
              "</table>\n",
              "</div>"
            ],
            "text/plain": [
              "   Pregnancies  Glucose  BloodPressure  SkinThickness  Insulin   BMI  \\\n",
              "0            6      148             72             35        0  33.6   \n",
              "1            1       85             66             29        0  26.6   \n",
              "2            8      183             64              0        0  23.3   \n",
              "3            1       89             66             23       94  28.1   \n",
              "4            0      137             40             35      168  43.1   \n",
              "\n",
              "   DiabetesPedigreeFunction  Age  Outcome  \n",
              "0                     0.627   50        1  \n",
              "1                     0.351   31        0  \n",
              "2                     0.672   32        1  \n",
              "3                     0.167   21        0  \n",
              "4                     2.288   33        1  "
            ]
          },
          "execution_count": 58,
          "metadata": {},
          "output_type": "execute_result"
        }
      ],
      "source": [
        "import pandas as pd\n",
        "import urllib.request\n",
        "\n",
        "urllib.request.urlretrieve(\"https://cf-courses-data.s3.us.cloud-object-storage.appdomain.cloud/IBMDeveloperSkillsNetwork-PY0101EN-SkillsNetwork/labs/Module%205/data/diabetes.csv\", path + \"diabetes.csv\")\n",
        "\n",
        "# load dataset to a dataframe using pandas read_csv\n",
        "df = pd.read_csv(path + \"diabetes.csv\")\n",
        "\n",
        "# print the first five rows of the dataframe\n",
        "print(\"First 5 rows of the DataFrame:\")\n",
        "df.head()"
      ]
    },
    {
      "cell_type": "code",
      "execution_count": 59,
      "metadata": {},
      "outputs": [
        {
          "name": "stdout",
          "output_type": "stream",
          "text": [
            "Shape of the DataFrame: (768, 9)\n",
            "\n",
            "Last 5 rows of the DataFrame:\n"
          ]
        },
        {
          "data": {
            "text/html": [
              "<div>\n",
              "<style scoped>\n",
              "    .dataframe tbody tr th:only-of-type {\n",
              "        vertical-align: middle;\n",
              "    }\n",
              "\n",
              "    .dataframe tbody tr th {\n",
              "        vertical-align: top;\n",
              "    }\n",
              "\n",
              "    .dataframe thead th {\n",
              "        text-align: right;\n",
              "    }\n",
              "</style>\n",
              "<table border=\"1\" class=\"dataframe\">\n",
              "  <thead>\n",
              "    <tr style=\"text-align: right;\">\n",
              "      <th></th>\n",
              "      <th>Pregnancies</th>\n",
              "      <th>Glucose</th>\n",
              "      <th>BloodPressure</th>\n",
              "      <th>SkinThickness</th>\n",
              "      <th>Insulin</th>\n",
              "      <th>BMI</th>\n",
              "      <th>DiabetesPedigreeFunction</th>\n",
              "      <th>Age</th>\n",
              "      <th>Outcome</th>\n",
              "    </tr>\n",
              "  </thead>\n",
              "  <tbody>\n",
              "    <tr>\n",
              "      <th>763</th>\n",
              "      <td>10</td>\n",
              "      <td>101</td>\n",
              "      <td>76</td>\n",
              "      <td>48</td>\n",
              "      <td>180</td>\n",
              "      <td>32.9</td>\n",
              "      <td>0.171</td>\n",
              "      <td>63</td>\n",
              "      <td>0</td>\n",
              "    </tr>\n",
              "    <tr>\n",
              "      <th>764</th>\n",
              "      <td>2</td>\n",
              "      <td>122</td>\n",
              "      <td>70</td>\n",
              "      <td>27</td>\n",
              "      <td>0</td>\n",
              "      <td>36.8</td>\n",
              "      <td>0.340</td>\n",
              "      <td>27</td>\n",
              "      <td>0</td>\n",
              "    </tr>\n",
              "    <tr>\n",
              "      <th>765</th>\n",
              "      <td>5</td>\n",
              "      <td>121</td>\n",
              "      <td>72</td>\n",
              "      <td>23</td>\n",
              "      <td>112</td>\n",
              "      <td>26.2</td>\n",
              "      <td>0.245</td>\n",
              "      <td>30</td>\n",
              "      <td>0</td>\n",
              "    </tr>\n",
              "    <tr>\n",
              "      <th>766</th>\n",
              "      <td>1</td>\n",
              "      <td>126</td>\n",
              "      <td>60</td>\n",
              "      <td>0</td>\n",
              "      <td>0</td>\n",
              "      <td>30.1</td>\n",
              "      <td>0.349</td>\n",
              "      <td>47</td>\n",
              "      <td>1</td>\n",
              "    </tr>\n",
              "    <tr>\n",
              "      <th>767</th>\n",
              "      <td>1</td>\n",
              "      <td>93</td>\n",
              "      <td>70</td>\n",
              "      <td>31</td>\n",
              "      <td>0</td>\n",
              "      <td>30.4</td>\n",
              "      <td>0.315</td>\n",
              "      <td>23</td>\n",
              "      <td>0</td>\n",
              "    </tr>\n",
              "  </tbody>\n",
              "</table>\n",
              "</div>"
            ],
            "text/plain": [
              "     Pregnancies  Glucose  BloodPressure  SkinThickness  Insulin   BMI  \\\n",
              "763           10      101             76             48      180  32.9   \n",
              "764            2      122             70             27        0  36.8   \n",
              "765            5      121             72             23      112  26.2   \n",
              "766            1      126             60              0        0  30.1   \n",
              "767            1       93             70             31        0  30.4   \n",
              "\n",
              "     DiabetesPedigreeFunction  Age  Outcome  \n",
              "763                     0.171   63        0  \n",
              "764                     0.340   27        0  \n",
              "765                     0.245   30        0  \n",
              "766                     0.349   47        1  \n",
              "767                     0.315   23        0  "
            ]
          },
          "execution_count": 59,
          "metadata": {},
          "output_type": "execute_result"
        }
      ],
      "source": [
        "# print the shape of the dataframe\n",
        "print(\"Shape of the DataFrame:\", df.shape)\n",
        "\n",
        "# print the last five rows of the dataframe\n",
        "print(\"\\nLast 5 rows of the DataFrame:\")\n",
        "df.tail()"
      ]
    },
    {
      "cell_type": "markdown",
      "metadata": {},
      "source": [
        "## Statistical Overview of Dataset"
      ]
    },
    {
      "cell_type": "code",
      "execution_count": 60,
      "metadata": {},
      "outputs": [
        {
          "name": "stdout",
          "output_type": "stream",
          "text": [
            "<class 'pandas.core.frame.DataFrame'>\n",
            "RangeIndex: 768 entries, 0 to 767\n",
            "Data columns (total 9 columns):\n",
            " #   Column                    Non-Null Count  Dtype  \n",
            "---  ------                    --------------  -----  \n",
            " 0   Pregnancies               768 non-null    int64  \n",
            " 1   Glucose                   768 non-null    int64  \n",
            " 2   BloodPressure             768 non-null    int64  \n",
            " 3   SkinThickness             768 non-null    int64  \n",
            " 4   Insulin                   768 non-null    int64  \n",
            " 5   BMI                       768 non-null    float64\n",
            " 6   DiabetesPedigreeFunction  768 non-null    float64\n",
            " 7   Age                       768 non-null    int64  \n",
            " 8   Outcome                   768 non-null    int64  \n",
            "dtypes: float64(2), int64(7)\n",
            "memory usage: 54.1 KB\n"
          ]
        }
      ],
      "source": [
        "# use df.info() method to get a summary of the dataframe (index dtype, columns, non-null values, datatypes)\n",
        "df.info()"
      ]
    },
    {
      "cell_type": "code",
      "execution_count": null,
      "metadata": {},
      "outputs": [
        {
          "data": {
            "text/html": [
              "<div>\n",
              "<style scoped>\n",
              "    .dataframe tbody tr th:only-of-type {\n",
              "        vertical-align: middle;\n",
              "    }\n",
              "\n",
              "    .dataframe tbody tr th {\n",
              "        vertical-align: top;\n",
              "    }\n",
              "\n",
              "    .dataframe thead th {\n",
              "        text-align: right;\n",
              "    }\n",
              "</style>\n",
              "<table border=\"1\" class=\"dataframe\">\n",
              "  <thead>\n",
              "    <tr style=\"text-align: right;\">\n",
              "      <th></th>\n",
              "      <th>Pregnancies</th>\n",
              "      <th>Glucose</th>\n",
              "      <th>BloodPressure</th>\n",
              "      <th>SkinThickness</th>\n",
              "      <th>Insulin</th>\n",
              "      <th>BMI</th>\n",
              "      <th>DiabetesPedigreeFunction</th>\n",
              "      <th>Age</th>\n",
              "      <th>Outcome</th>\n",
              "    </tr>\n",
              "  </thead>\n",
              "  <tbody>\n",
              "    <tr>\n",
              "      <th>count</th>\n",
              "      <td>768.000000</td>\n",
              "      <td>768.000000</td>\n",
              "      <td>768.000000</td>\n",
              "      <td>768.000000</td>\n",
              "      <td>768.000000</td>\n",
              "      <td>768.000000</td>\n",
              "      <td>768.000000</td>\n",
              "      <td>768.000000</td>\n",
              "      <td>768.000000</td>\n",
              "    </tr>\n",
              "    <tr>\n",
              "      <th>mean</th>\n",
              "      <td>3.845052</td>\n",
              "      <td>120.894531</td>\n",
              "      <td>69.105469</td>\n",
              "      <td>20.536458</td>\n",
              "      <td>79.799479</td>\n",
              "      <td>31.992578</td>\n",
              "      <td>0.471876</td>\n",
              "      <td>33.240885</td>\n",
              "      <td>0.348958</td>\n",
              "    </tr>\n",
              "    <tr>\n",
              "      <th>std</th>\n",
              "      <td>3.369578</td>\n",
              "      <td>31.972618</td>\n",
              "      <td>19.355807</td>\n",
              "      <td>15.952218</td>\n",
              "      <td>115.244002</td>\n",
              "      <td>7.884160</td>\n",
              "      <td>0.331329</td>\n",
              "      <td>11.760232</td>\n",
              "      <td>0.476951</td>\n",
              "    </tr>\n",
              "    <tr>\n",
              "      <th>min</th>\n",
              "      <td>0.000000</td>\n",
              "      <td>0.000000</td>\n",
              "      <td>0.000000</td>\n",
              "      <td>0.000000</td>\n",
              "      <td>0.000000</td>\n",
              "      <td>0.000000</td>\n",
              "      <td>0.078000</td>\n",
              "      <td>21.000000</td>\n",
              "      <td>0.000000</td>\n",
              "    </tr>\n",
              "    <tr>\n",
              "      <th>25%</th>\n",
              "      <td>1.000000</td>\n",
              "      <td>99.000000</td>\n",
              "      <td>62.000000</td>\n",
              "      <td>0.000000</td>\n",
              "      <td>0.000000</td>\n",
              "      <td>27.300000</td>\n",
              "      <td>0.243750</td>\n",
              "      <td>24.000000</td>\n",
              "      <td>0.000000</td>\n",
              "    </tr>\n",
              "    <tr>\n",
              "      <th>50%</th>\n",
              "      <td>3.000000</td>\n",
              "      <td>117.000000</td>\n",
              "      <td>72.000000</td>\n",
              "      <td>23.000000</td>\n",
              "      <td>30.500000</td>\n",
              "      <td>32.000000</td>\n",
              "      <td>0.372500</td>\n",
              "      <td>29.000000</td>\n",
              "      <td>0.000000</td>\n",
              "    </tr>\n",
              "    <tr>\n",
              "      <th>75%</th>\n",
              "      <td>6.000000</td>\n",
              "      <td>140.250000</td>\n",
              "      <td>80.000000</td>\n",
              "      <td>32.000000</td>\n",
              "      <td>127.250000</td>\n",
              "      <td>36.600000</td>\n",
              "      <td>0.626250</td>\n",
              "      <td>41.000000</td>\n",
              "      <td>1.000000</td>\n",
              "    </tr>\n",
              "    <tr>\n",
              "      <th>max</th>\n",
              "      <td>17.000000</td>\n",
              "      <td>199.000000</td>\n",
              "      <td>122.000000</td>\n",
              "      <td>99.000000</td>\n",
              "      <td>846.000000</td>\n",
              "      <td>67.100000</td>\n",
              "      <td>2.420000</td>\n",
              "      <td>81.000000</td>\n",
              "      <td>1.000000</td>\n",
              "    </tr>\n",
              "  </tbody>\n",
              "</table>\n",
              "</div>"
            ],
            "text/plain": [
              "       Pregnancies     Glucose  BloodPressure  SkinThickness     Insulin  \\\n",
              "count   768.000000  768.000000     768.000000     768.000000  768.000000   \n",
              "mean      3.845052  120.894531      69.105469      20.536458   79.799479   \n",
              "std       3.369578   31.972618      19.355807      15.952218  115.244002   \n",
              "min       0.000000    0.000000       0.000000       0.000000    0.000000   \n",
              "25%       1.000000   99.000000      62.000000       0.000000    0.000000   \n",
              "50%       3.000000  117.000000      72.000000      23.000000   30.500000   \n",
              "75%       6.000000  140.250000      80.000000      32.000000  127.250000   \n",
              "max      17.000000  199.000000     122.000000      99.000000  846.000000   \n",
              "\n",
              "              BMI  DiabetesPedigreeFunction         Age     Outcome  \n",
              "count  768.000000                768.000000  768.000000  768.000000  \n",
              "mean    31.992578                  0.471876   33.240885    0.348958  \n",
              "std      7.884160                  0.331329   11.760232    0.476951  \n",
              "min      0.000000                  0.078000   21.000000    0.000000  \n",
              "25%     27.300000                  0.243750   24.000000    0.000000  \n",
              "50%     32.000000                  0.372500   29.000000    0.000000  \n",
              "75%     36.600000                  0.626250   41.000000    1.000000  \n",
              "max     67.100000                  2.420000   81.000000    1.000000  "
            ]
          },
          "execution_count": 61,
          "metadata": {},
          "output_type": "execute_result"
        }
      ],
      "source": [
        "# use df.describe() method to get a statistical summary of the dataframe \n",
        "# in numeric values (count, mean, standard deviation(std), min, percentile, max)\n",
        "df.describe()"
      ]
    },
    {
      "cell_type": "markdown",
      "metadata": {},
      "source": [
        "For a series of strings it returns a different value!!"
      ]
    },
    {
      "cell_type": "markdown",
      "metadata": {},
      "source": [
        "### Identify and Handle Missing Values\n",
        "We use Python's built-in functions to identify these missing values. There are two methods to detect missing data:\n",
        "\n",
        ".isnull()\n",
        "\n",
        ".notnull()\n",
        "\n",
        "The output is a boolean value indicating whether the value that is passed into the argument is in fact missing data."
      ]
    },
    {
      "cell_type": "code",
      "execution_count": 63,
      "metadata": {},
      "outputs": [
        {
          "data": {
            "text/html": [
              "<div>\n",
              "<style scoped>\n",
              "    .dataframe tbody tr th:only-of-type {\n",
              "        vertical-align: middle;\n",
              "    }\n",
              "\n",
              "    .dataframe tbody tr th {\n",
              "        vertical-align: top;\n",
              "    }\n",
              "\n",
              "    .dataframe thead th {\n",
              "        text-align: right;\n",
              "    }\n",
              "</style>\n",
              "<table border=\"1\" class=\"dataframe\">\n",
              "  <thead>\n",
              "    <tr style=\"text-align: right;\">\n",
              "      <th></th>\n",
              "      <th>Pregnancies</th>\n",
              "      <th>Glucose</th>\n",
              "      <th>BloodPressure</th>\n",
              "      <th>SkinThickness</th>\n",
              "      <th>Insulin</th>\n",
              "      <th>BMI</th>\n",
              "      <th>DiabetesPedigreeFunction</th>\n",
              "      <th>Age</th>\n",
              "      <th>Outcome</th>\n",
              "    </tr>\n",
              "  </thead>\n",
              "  <tbody>\n",
              "    <tr>\n",
              "      <th>0</th>\n",
              "      <td>True</td>\n",
              "      <td>True</td>\n",
              "      <td>True</td>\n",
              "      <td>True</td>\n",
              "      <td>True</td>\n",
              "      <td>True</td>\n",
              "      <td>True</td>\n",
              "      <td>True</td>\n",
              "      <td>True</td>\n",
              "    </tr>\n",
              "    <tr>\n",
              "      <th>1</th>\n",
              "      <td>True</td>\n",
              "      <td>True</td>\n",
              "      <td>True</td>\n",
              "      <td>True</td>\n",
              "      <td>True</td>\n",
              "      <td>True</td>\n",
              "      <td>True</td>\n",
              "      <td>True</td>\n",
              "      <td>True</td>\n",
              "    </tr>\n",
              "    <tr>\n",
              "      <th>2</th>\n",
              "      <td>True</td>\n",
              "      <td>True</td>\n",
              "      <td>True</td>\n",
              "      <td>True</td>\n",
              "      <td>True</td>\n",
              "      <td>True</td>\n",
              "      <td>True</td>\n",
              "      <td>True</td>\n",
              "      <td>True</td>\n",
              "    </tr>\n",
              "    <tr>\n",
              "      <th>3</th>\n",
              "      <td>True</td>\n",
              "      <td>True</td>\n",
              "      <td>True</td>\n",
              "      <td>True</td>\n",
              "      <td>True</td>\n",
              "      <td>True</td>\n",
              "      <td>True</td>\n",
              "      <td>True</td>\n",
              "      <td>True</td>\n",
              "    </tr>\n",
              "    <tr>\n",
              "      <th>4</th>\n",
              "      <td>True</td>\n",
              "      <td>True</td>\n",
              "      <td>True</td>\n",
              "      <td>True</td>\n",
              "      <td>True</td>\n",
              "      <td>True</td>\n",
              "      <td>True</td>\n",
              "      <td>True</td>\n",
              "      <td>True</td>\n",
              "    </tr>\n",
              "  </tbody>\n",
              "</table>\n",
              "</div>"
            ],
            "text/plain": [
              "   Pregnancies  Glucose  BloodPressure  SkinThickness  Insulin   BMI  \\\n",
              "0         True     True           True           True     True  True   \n",
              "1         True     True           True           True     True  True   \n",
              "2         True     True           True           True     True  True   \n",
              "3         True     True           True           True     True  True   \n",
              "4         True     True           True           True     True  True   \n",
              "\n",
              "   DiabetesPedigreeFunction   Age  Outcome  \n",
              "0                      True  True     True  \n",
              "1                      True  True     True  \n",
              "2                      True  True     True  \n",
              "3                      True  True     True  \n",
              "4                      True  True     True  "
            ]
          },
          "execution_count": 63,
          "metadata": {},
          "output_type": "execute_result"
        }
      ],
      "source": [
        "notMissing_data = df.notnull()\n",
        "notMissing_data.head(5)"
      ]
    },
    {
      "cell_type": "code",
      "execution_count": 62,
      "metadata": {},
      "outputs": [
        {
          "data": {
            "text/html": [
              "<div>\n",
              "<style scoped>\n",
              "    .dataframe tbody tr th:only-of-type {\n",
              "        vertical-align: middle;\n",
              "    }\n",
              "\n",
              "    .dataframe tbody tr th {\n",
              "        vertical-align: top;\n",
              "    }\n",
              "\n",
              "    .dataframe thead th {\n",
              "        text-align: right;\n",
              "    }\n",
              "</style>\n",
              "<table border=\"1\" class=\"dataframe\">\n",
              "  <thead>\n",
              "    <tr style=\"text-align: right;\">\n",
              "      <th></th>\n",
              "      <th>Pregnancies</th>\n",
              "      <th>Glucose</th>\n",
              "      <th>BloodPressure</th>\n",
              "      <th>SkinThickness</th>\n",
              "      <th>Insulin</th>\n",
              "      <th>BMI</th>\n",
              "      <th>DiabetesPedigreeFunction</th>\n",
              "      <th>Age</th>\n",
              "      <th>Outcome</th>\n",
              "    </tr>\n",
              "  </thead>\n",
              "  <tbody>\n",
              "    <tr>\n",
              "      <th>0</th>\n",
              "      <td>False</td>\n",
              "      <td>False</td>\n",
              "      <td>False</td>\n",
              "      <td>False</td>\n",
              "      <td>False</td>\n",
              "      <td>False</td>\n",
              "      <td>False</td>\n",
              "      <td>False</td>\n",
              "      <td>False</td>\n",
              "    </tr>\n",
              "    <tr>\n",
              "      <th>1</th>\n",
              "      <td>False</td>\n",
              "      <td>False</td>\n",
              "      <td>False</td>\n",
              "      <td>False</td>\n",
              "      <td>False</td>\n",
              "      <td>False</td>\n",
              "      <td>False</td>\n",
              "      <td>False</td>\n",
              "      <td>False</td>\n",
              "    </tr>\n",
              "    <tr>\n",
              "      <th>2</th>\n",
              "      <td>False</td>\n",
              "      <td>False</td>\n",
              "      <td>False</td>\n",
              "      <td>False</td>\n",
              "      <td>False</td>\n",
              "      <td>False</td>\n",
              "      <td>False</td>\n",
              "      <td>False</td>\n",
              "      <td>False</td>\n",
              "    </tr>\n",
              "    <tr>\n",
              "      <th>3</th>\n",
              "      <td>False</td>\n",
              "      <td>False</td>\n",
              "      <td>False</td>\n",
              "      <td>False</td>\n",
              "      <td>False</td>\n",
              "      <td>False</td>\n",
              "      <td>False</td>\n",
              "      <td>False</td>\n",
              "      <td>False</td>\n",
              "    </tr>\n",
              "    <tr>\n",
              "      <th>4</th>\n",
              "      <td>False</td>\n",
              "      <td>False</td>\n",
              "      <td>False</td>\n",
              "      <td>False</td>\n",
              "      <td>False</td>\n",
              "      <td>False</td>\n",
              "      <td>False</td>\n",
              "      <td>False</td>\n",
              "      <td>False</td>\n",
              "    </tr>\n",
              "  </tbody>\n",
              "</table>\n",
              "</div>"
            ],
            "text/plain": [
              "   Pregnancies  Glucose  BloodPressure  SkinThickness  Insulin    BMI  \\\n",
              "0        False    False          False          False    False  False   \n",
              "1        False    False          False          False    False  False   \n",
              "2        False    False          False          False    False  False   \n",
              "3        False    False          False          False    False  False   \n",
              "4        False    False          False          False    False  False   \n",
              "\n",
              "   DiabetesPedigreeFunction    Age  Outcome  \n",
              "0                     False  False    False  \n",
              "1                     False  False    False  \n",
              "2                     False  False    False  \n",
              "3                     False  False    False  \n",
              "4                     False  False    False  "
            ]
          },
          "execution_count": 62,
          "metadata": {},
          "output_type": "execute_result"
        }
      ],
      "source": [
        "# check for missing values\n",
        "missing_data = df.isnull()\n",
        "missing_data.head(5)"
      ]
    },
    {
      "cell_type": "markdown",
      "metadata": {},
      "source": [
        "### Count Missing Values in Each Column\n",
        "Using a for loop in Python, we can quickly figure out the number of missing values in each column. As mentioned above(missing_data values), \"True\" represents a missing value, \"False\" means the value is present in the dataset. In the body of the for loop the method \".value_counts()\" counts the number of \"True\" values."
      ]
    },
    {
      "cell_type": "code",
      "execution_count": 75,
      "metadata": {},
      "outputs": [
        {
          "name": "stdout",
          "output_type": "stream",
          "text": [
            "Total columns with missing data: \n",
            "Pregnancies                 0\n",
            "Glucose                     0\n",
            "BloodPressure               0\n",
            "SkinThickness               0\n",
            "Insulin                     0\n",
            "BMI                         0\n",
            "DiabetesPedigreeFunction    0\n",
            "Age                         0\n",
            "Outcome                     0\n",
            "dtype: int64\n"
          ]
        }
      ],
      "source": [
        "# total number of missing values in the dataset\n",
        "print(f\"Total columns with missing data:\",\n",
        "      f\"\\n{missing_data.sum()}\")"
      ]
    },
    {
      "cell_type": "code",
      "execution_count": 71,
      "metadata": {},
      "outputs": [
        {
          "name": "stdout",
          "output_type": "stream",
          "text": [
            "Pregnancies\n",
            "Pregnancies\n",
            "False    768\n",
            "Name: count, dtype: int64\n",
            "\n",
            "Glucose\n",
            "Glucose\n",
            "False    768\n",
            "Name: count, dtype: int64\n",
            "\n",
            "BloodPressure\n",
            "BloodPressure\n",
            "False    768\n",
            "Name: count, dtype: int64\n",
            "\n",
            "SkinThickness\n",
            "SkinThickness\n",
            "False    768\n",
            "Name: count, dtype: int64\n",
            "\n",
            "Insulin\n",
            "Insulin\n",
            "False    768\n",
            "Name: count, dtype: int64\n",
            "\n",
            "BMI\n",
            "BMI\n",
            "False    768\n",
            "Name: count, dtype: int64\n",
            "\n",
            "DiabetesPedigreeFunction\n",
            "DiabetesPedigreeFunction\n",
            "False    768\n",
            "Name: count, dtype: int64\n",
            "\n",
            "Age\n",
            "Age\n",
            "False    768\n",
            "Name: count, dtype: int64\n",
            "\n",
            "Outcome\n",
            "Outcome\n",
            "False    768\n",
            "Name: count, dtype: int64\n",
            "\n"
          ]
        }
      ],
      "source": [
        "# calculate the number of missing values in each column\n",
        "for column in missing_data.columns.values.tolist():\n",
        "    print(column)\n",
        "    print(missing_data[column].value_counts())\n",
        "    print(\"\") # add a space between columns"
      ]
    },
    {
      "cell_type": "markdown",
      "metadata": {},
      "source": [
        "### Correct Data Format\n",
        "Check all data is in the correct format (int, float, text or other).\n",
        "\n",
        "In Pandas, we use\n",
        "\n",
        ".dtype() to check the data type\n",
        "\n",
        ".astype() to change the data type\n",
        "\n",
        "Numerical variables should have type 'float' or 'int'."
      ]
    },
    {
      "cell_type": "code",
      "execution_count": 81,
      "metadata": {},
      "outputs": [
        {
          "data": {
            "text/plain": [
              "Pregnancies                   int64\n",
              "Glucose                       int64\n",
              "BloodPressure                 int64\n",
              "SkinThickness                 int64\n",
              "Insulin                       int64\n",
              "BMI                         float64\n",
              "DiabetesPedigreeFunction    float64\n",
              "Age                           int64\n",
              "Outcome                       int64\n",
              "dtype: object"
            ]
          },
          "execution_count": 81,
          "metadata": {},
          "output_type": "execute_result"
        }
      ],
      "source": [
        "df.dtypes"
      ]
    },
    {
      "cell_type": "code",
      "execution_count": 80,
      "metadata": {},
      "outputs": [
        {
          "name": "stdout",
          "output_type": "stream",
          "text": [
            "Pregnancies  -  dtype: int64\n",
            "Glucose  -  dtype: int64\n",
            "BloodPressure  -  dtype: int64\n",
            "SkinThickness  -  dtype: int64\n",
            "Insulin  -  dtype: int64\n",
            "BMI  -  dtype: float64\n",
            "DiabetesPedigreeFunction  -  dtype: float64\n",
            "Age  -  dtype: int64\n",
            "Outcome  -  dtype: int64\n"
          ]
        }
      ],
      "source": [
        "for column in missing_data.columns.values.tolist():\n",
        "    print(column, \" - \", f\"dtype: {df[column].dtype}\")"
      ]
    },
    {
      "cell_type": "markdown",
      "metadata": {},
      "source": [
        "### Visualization\n",
        "Visualization is one of the best way to get insights from the dataset. Seaborn and Matplotlib are two of Python's most powerful visualization libraries."
      ]
    },
    {
      "cell_type": "code",
      "execution_count": null,
      "metadata": {},
      "outputs": [],
      "source": [
        "%pip install matplotlib seaborn\n",
        "import matplotlib.pyplot as plt\n",
        "import seaborn as sns"
      ]
    },
    {
      "cell_type": "code",
      "execution_count": 95,
      "metadata": {},
      "outputs": [
        {
          "data": {
            "image/png": "[encoded data removed]",
            "text/plain": [
              "<Figure size 800x800 with 9 Axes>"
            ]
          },
          "metadata": {},
          "output_type": "display_data"
        }
      ],
      "source": [
        "# plot histogram for each column to see their distributions\n",
        "df.hist(bins=10, figsize=(8,8))\n",
        "plt.show()"
      ]
    },
    {
      "cell_type": "code",
      "execution_count": 97,
      "metadata": {},
      "outputs": [
        {
          "data": {
            "image/png": "[encoded data removed]",
            "text/plain": [
              "<Figure size 640x480 with 1 Axes>"
            ]
          },
          "metadata": {},
          "output_type": "display_data"
        }
      ],
      "source": [
        "# plot pie chart for the target variable 'Outcome'\n",
        "lbls = 'Not Diabetic', 'Diabetic'\n",
        "plt.pie(df['Outcome'].value_counts(), labels = lbls, autopct = '%0.02f%%')\n",
        "plt.legend()\n",
        "plt.show()"
      ]
    },
    {
      "cell_type": "markdown",
      "metadata": {},
      "source": [
        "# Project: GDP Data Extraction and Processing\n",
        "An international firm that is looking to expand its business in different countries across the world has recruited you. You have been hired as a junior Data Engineer and are tasked with creating a script that can e\n",
        "xtract the list of the top 10 largest economies of the world in descending order of their GDPs in Billion USD (rounded to 2 decimal places), as logged by the International Monetary Fund (IMF). \n",
        "\n",
        "The required data seems to be available on the URL mentioned below:\n",
        "URL: https://web.archive.org/web/20230902185326/https://en.wikipedia.org/wiki/List_of_countries_by_GDP_%28nominal%29\n",
        "\n",
        "## Exercise 1\n",
        "Extract the required GDP data from the given URL using Web Scraping."
      ]
    },
    {
      "cell_type": "code",
      "execution_count": 1,
      "metadata": {},
      "outputs": [],
      "source": [
        "import pandas as pd\n",
        "import numpy as np"
      ]
    },
    {
      "cell_type": "code",
      "execution_count": 3,
      "metadata": {},
      "outputs": [],
      "source": [
        "# You can also use this section to suppress warnings generated by your code:\n",
        "import warnings\n",
        "def warns(*args, **kwargs):\n",
        "    pass\n",
        "warnings.warn = warns\n",
        "warnings.filterwarnings('ignore')"
      ]
    },
    {
      "cell_type": "code",
      "execution_count": 28,
      "metadata": {},
      "outputs": [
        {
          "name": "stdout",
          "output_type": "stream",
          "text": [
            "           Country GDP (Million USD)\n",
            "1    United States          26854599\n",
            "2            China          19373586\n",
            "3            Japan           4409738\n",
            "4          Germany           4308854\n",
            "5            India           3736882\n",
            "6   United Kingdom           3158938\n",
            "7           France           2923489\n",
            "8            Italy           2169745\n",
            "9           Canada           2089672\n",
            "10          Brazil           2081235\n"
          ]
        }
      ],
      "source": [
        "URL = \"https://web.archive.org/web/20230902185326/https://en.wikipedia.org/wiki/List_of_countries_by_GDP_%28nominal%29\"\n",
        "# Extract tables from webpage using Pandas. Retain table number 3 as the required dataframe.\n",
        "table3 = pd.read_html(URL)\n",
        "df = table3[3]\n",
        "# Replace the column headers with column numbers\n",
        "df.columns = range(df.shape[1])\n",
        "\n",
        "# Retain columns with index 0 and 2 (name of country and value of GDP quoted by IMF)\n",
        "df_select1 = df[[0, 2]]\n",
        "# Retain the Rows with index 1 to 10, indicating the top 10 economies of the world.\n",
        "df_select2 = df_select1.iloc[1:11,:]\n",
        "# Assign column names as \"Country\" and \"GDP (Million USD)\"\n",
        "df_select2.columns = ['Country', 'GDP (Million USD)']\n",
        "print(df_select2)"
      ]
    },
    {
      "cell_type": "markdown",
      "metadata": {},
      "source": [
        "## Exercise 2\n",
        "Modify the GDP column of the DataFrame, converting the value available in Million USD to Billion USD. Use the `round()` method of Numpy library to round the value to 2 decimal places. Modify the header of the DataFrame to `GDP (Billion USD)`."
      ]
    },
    {
      "cell_type": "code",
      "execution_count": 31,
      "metadata": {},
      "outputs": [
        {
          "name": "stdout",
          "output_type": "stream",
          "text": [
            "           Country  GDP (Billion USD)\n",
            "1    United States           26854.60\n",
            "2            China           19373.59\n",
            "3            Japan            4409.74\n",
            "4          Germany            4308.85\n",
            "5            India            3736.88\n",
            "6   United Kingdom            3158.94\n",
            "7           France            2923.49\n",
            "8            Italy            2169.74\n",
            "9           Canada            2089.67\n",
            "10          Brazil            2081.24\n"
          ]
        }
      ],
      "source": [
        "df_select3 = df_select2.copy()\n",
        "# Change the data type of the 'GDP (Million USD)' column to integer. Use astype() method.\n",
        "df_select3['GDP (Million USD)'] = df_select3['GDP (Million USD)'].astype(int)\n",
        "# Convert the GDP value in Million USD to Billion USD\n",
        "# easy option without rounding:\n",
        "# df_select3[['GDP (Million USD)']] = df_select3[['GDP (Million USD)']]/1000\n",
        "# option with pandas round: \n",
        "# df_select3['GDP (Million USD)'] = (pd.to_numeric(df_select3['GDP (Million USD)'], errors = 'coerce')/ 10**3).round(2)\n",
        "df_select3['GDP (Million USD)'] = (pd.to_numeric(df_select3['GDP (Million USD)'], errors = 'coerce')/ 10**3)\n",
        "# Use numpy.round() method to round the value to 2 decimal places.\n",
        "df_select3['GDP (Million USD)'] = np.round(df_select3['GDP (Million USD)'], 2)\n",
        "# Rename the column header from 'GDP (Million USD)' to 'GDP (Billion USD)'\n",
        "df_select3.columns = ['Country', 'GDP (Billion USD)']\n",
        "print(df_select3)"
      ]
    },
    {
      "cell_type": "code",
      "execution_count": null,
      "metadata": {},
      "outputs": [],
      "source": [
        "# DON'T RUN\n",
        "# convert the GDP column to numeric values, divide by 10^6 and round to a single decimal point\n",
        "# second version, makes a copy of the dataframe and creates a new column with the modified data, but we select to only show the first column and the new(3rd) column\n",
        "df_short = df_select2.copy()\n",
        "df_short['GDP (Millions USD)'] = (pd.to_numeric(df_short['GDP (Million USD)'], errors='coerce') / 10**6).round(1)\n",
        "print(df_short[['Country', 'GDP (Millions USD)']])"
      ]
    },
    {
      "cell_type": "markdown",
      "metadata": {},
      "source": [
        "## Exercise 3\n",
        "Load the DataFrame to the CSV file named \"Largest_economies.csv\""
      ]
    },
    {
      "cell_type": "code",
      "execution_count": null,
      "metadata": {},
      "outputs": [],
      "source": [
        "# Load the DataFrame to the CSV file named \"Largest_economies.csv\" without the index\n",
        "df_select3.to_csv('C:\\\\Users\\\\USUARIO\\\\OneDrive\\\\Documentos\\\\My_Projects\\\\Projects\\\\Python_Practice\\\\Files\\\\Largest_economies.csv', index = False)"
      ]
    },
    {
      "cell_type": "markdown",
      "metadata": {},
      "source": [
        "# Web Scraping Lab"
      ]
    },
    {
      "cell_type": "code",
      "execution_count": 5,
      "metadata": {},
      "outputs": [
        {
          "name": "stdout",
          "output_type": "stream",
          "text": [
            "Defaulting to user installation because normal site-packages is not writeable\n",
            "Requirement already satisfied: html5lib==1.1 in c:\\users\\usuario\\appdata\\roaming\\python\\python313\\site-packages (1.1)\n",
            "Requirement already satisfied: six>=1.9 in c:\\users\\usuario\\appdata\\roaming\\python\\python313\\site-packages (from html5lib==1.1) (1.17.0)\n",
            "Requirement already satisfied: webencodings in c:\\users\\usuario\\appdata\\roaming\\python\\python313\\site-packages (from html5lib==1.1) (0.5.1)\n"
          ]
        }
      ],
      "source": [
        "\"\"\"Libraries needed for this lab.\"\"\"\n",
        "# !pip install bs4==4.10.0 -y\n",
        "# !pip install lxml==4.6.4\n",
        "import bs4\n",
        "import lxml\n",
        "!pip install html5lib==1.1\n",
        "import pandas as pd\n",
        "import requests"
      ]
    },
    {
      "cell_type": "code",
      "execution_count": 8,
      "metadata": {},
      "outputs": [],
      "source": [
        "\"\"\"Modules and functions needed for this lab.\"\"\"\n",
        "from bs4 import BeautifulSoup\n",
        "from urllib.request import urlopen\n",
        "import warnings\n",
        "warnings.simplefilter('ignore', category=UserWarning)"
      ]
    },
    {
      "cell_type": "markdown",
      "metadata": {},
      "source": [
        "## Beatiful Soup\n",
        "Beautiful Soup is a Python library for pulling data out of HTML and XML files, we will focus on HTML files. This is accomplished by representing the HTML as a set of objects with methods used to parse the HTML.  We can navigate the HTML as a tree and/or filter out what we are looking for.\n",
        "\n",
        "Consider the following HTML:"
      ]
    },
    {
      "cell_type": "code",
      "execution_count": 6,
      "metadata": {},
      "outputs": [
        {
          "data": {
            "text/html": [
              "<!DOCTYPE html>\n",
              "<html>\n",
              "<head>\n",
              "<title>JD's Lab</title>\n",
              "</head>\n",
              "<body>\n",
              "<h3><b id='boldest'>Lebron James</b></h3>\n",
              "<p>Salary: $ 92,000,000</p>\n",
              "<h3>Stephen CUrry</h3>\n",
              "<p>Salary: $ 85,000,000</p>\n",
              "<h3>Kevin Durant</h3>\n",
              "<p>Salary: $ 73,000,000</p>\n",
              "</body>\n",
              "</html>\n"
            ],
            "text/plain": [
              "<IPython.core.display.HTML object>"
            ]
          },
          "metadata": {},
          "output_type": "display_data"
        }
      ],
      "source": [
        "%%html\n",
        "<!DOCTYPE html>\n",
        "<html>\n",
        "<head>\n",
        "<title>JD's Lab</title>\n",
        "</head>\n",
        "<body>\n",
        "<h3><b id='boldest'>Lebron James</b></h3>\n",
        "<p>Salary: $ 92,000,000</p>\n",
        "<h3>Stephen CUrry</h3>\n",
        "<p>Salary: $ 85,000,000</p>\n",
        "<h3>Kevin Durant</h3>\n",
        "<p>Salary: $ 73,000,000</p>\n",
        "</body>\n",
        "</html>"
      ]
    },
    {
      "cell_type": "code",
      "execution_count": 9,
      "metadata": {},
      "outputs": [
        {
          "name": "stdout",
          "output_type": "stream",
          "text": [
            "<!DOCTYPE html>\n",
            "<html>\n",
            " <head>\n",
            "  <title>\n",
            "   JD's Lab\n",
            "  </title>\n",
            " </head>\n",
            " <body>\n",
            "  <h3>\n",
            "   <b id=\"boldest\">\n",
            "    Lebron James\n",
            "   </b>\n",
            "  </h3>\n",
            "  <p>\n",
            "   Salary: $ 92,000,000\n",
            "  </p>\n",
            "  <h3>\n",
            "   Stephen Curry\n",
            "  </h3>\n",
            "  <p>\n",
            "   Salary: $ 85,000,000\n",
            "  </p>\n",
            "  <h3>\n",
            "   Kevin Durant\n",
            "  </h3>\n",
            "  <p>\n",
            "   Salary: $ 73,000,000\n",
            "  </p>\n",
            " </body>\n",
            "</html>\n",
            "\n"
          ]
        }
      ],
      "source": [
        "\"\"\"Store the HTML as a Python string in the variable html.\"\"\"\n",
        "html = \"<!DOCTYPE html><html><head><title>JD's Lab</title></head><body><h3><b id='boldest'>Lebron James</b></h3><p>Salary: $ 92,000,000</p><h3>Stephen Curry</h3><p>Salary: $ 85,000,000</p><h3>Kevin Durant</h3><p>Salary: $ 73,000,000</p></body></html>\"\n",
        "# Create a BeautifulSoup object\n",
        "soup = BeautifulSoup(html, 'html.parser') # parse the document with the html parser\n",
        "# Print the soup object with prettify() method\n",
        "print(soup.prettify())"
      ]
    },
    {
      "cell_type": "markdown",
      "metadata": {},
      "source": [
        "## Tags\n",
        "Let's say we want the  title of the page and the name of the top paid player we can use the <code>Tag</code>. The <code>Tag</code> object corresponds to an HTML tag in the original document, for example, the tag title.\n"
      ]
    },
    {
      "cell_type": "code",
      "execution_count": 10,
      "metadata": {},
      "outputs": [
        {
          "name": "stdout",
          "output_type": "stream",
          "text": [
            "Tag object(Title): <title>JD's Lab</title>\n",
            "Tag object type(Title): <class 'bs4.element.Tag'>\n"
          ]
        }
      ],
      "source": [
        "# Get the title tag inside the variable soup\n",
        "tag_objectTitle = soup.title\n",
        "print(\"Tag object(Title):\", tag_objectTitle)\n",
        "# Print the type of the tag object\n",
        "print(\"Tag object type(Title):\", type(tag_objectTitle))\n"
      ]
    },
    {
      "cell_type": "code",
      "execution_count": 12,
      "metadata": {},
      "outputs": [
        {
          "name": "stdout",
          "output_type": "stream",
          "text": [
            "Tag object(Headers): <h3><b id=\"boldest\">Lebron James</b></h3>\n"
          ]
        }
      ],
      "source": [
        "# When there is more than one tag with the same name, the first element with that tag name is called\n",
        "tag_objectHeaders = soup.h3\n",
        "print(\"Tag object(Headers):\", tag_objectHeaders)\n",
        "# Use the child, sibling attribute to access the rest of the information"
      ]
    },
    {
      "cell_type": "markdown",
      "metadata": {},
      "source": [
        "## Child, Parent and Siblings"
      ]
    },
    {
      "cell_type": "code",
      "execution_count": 23,
      "metadata": {},
      "outputs": [
        {
          "name": "stdout",
          "output_type": "stream",
          "text": [
            "Tag child: <b id=\"boldest\">Lebron James</b>\n",
            "Tag sibling: <p>Salary: $ 92,000,000</p>\n",
            "Tag sibling2: <h3>Stephen Curry</h3>\n",
            "Tag sibling3: <p>Salary: $ 85,000,000</p>\n"
          ]
        }
      ],
      "source": [
        "# Use the tag object and child attribute to navigate down the branch\n",
        "tag_child1 = tag_objectHeaders.b\n",
        "print(\"Tag child:\", tag_child1)\n",
        "# Use the next sibling attribute to get the salary of the first player\n",
        "tag_child2 = tag_objectHeaders.next_sibling\n",
        "print(\"Tag sibling:\", tag_child2)\n",
        "tag_child3 = tag_child2.next_sibling\n",
        "print(\"Tag sibling2:\", tag_child3)\n",
        "tag_child4 = tag_child3.next_sibling\n",
        "print(\"Tag sibling3:\", tag_child4)"
      ]
    },
    {
      "cell_type": "code",
      "execution_count": null,
      "metadata": {},
      "outputs": [
        {
          "name": "stdout",
          "output_type": "stream",
          "text": [
            "Tag parent: <h3><b id=\"boldest\">Lebron James</b></h3>\n"
          ]
        }
      ],
      "source": [
        "# Use the parent attribute to navigate up the branch which is identical to tag_objectHeaders\n",
        "tag_parent = tag_child1.parent\n",
        "print(\"Tag parent:\", tag_parent)"
      ]
    },
    {
      "cell_type": "code",
      "execution_count": 18,
      "metadata": {},
      "outputs": [
        {
          "name": "stdout",
          "output_type": "stream",
          "text": [
            "Tag body: <body><h3><b id=\"boldest\">Lebron James</b></h3><p>Salary: $ 92,000,000</p><h3>Stephen Curry</h3><p>Salary: $ 85,000,000</p><h3>Kevin Durant</h3><p>Salary: $ 73,000,000</p></body>\n"
          ]
        }
      ],
      "source": [
        "# The parent of tag_objectHeaders is the body element\n",
        "tag_body = tag_objectHeaders.parent\n",
        "print(\"Tag body:\", tag_body)"
      ]
    },
    {
      "cell_type": "code",
      "execution_count": null,
      "metadata": {},
      "outputs": [
        {
          "name": "stdout",
          "output_type": "stream",
          "text": [
            "Player: <h3>Stephen Curry</h3>\n",
            "Salary: <p>Salary: $ 85,000,000</p>\n"
          ]
        }
      ],
      "source": [
        "\"\"\"Exercise: Find the salary of Stephen Curry\"\"\"\n",
        "print(\"Player:\", tag_child3)\n",
        "print(\"Salary:\", tag_child3.next_sibling)"
      ]
    },
    {
      "cell_type": "markdown",
      "metadata": {},
      "source": [
        "## HTML Attributes\n",
        "If the tag has attributes, the tag <code>id=\"boldest\"</code> has an attribute <code>id</code> whose value is <code>boldest</code>. You can access a tag’s attributes by treating the tag like a dictionary:"
      ]
    },
    {
      "cell_type": "code",
      "execution_count": null,
      "metadata": {},
      "outputs": [],
      "source": []
    }
  ],
  "metadata": {
    "colab": {
      "collapsed_sections": [
        "7I8t6znAehGQ",
        "LIScidW-DeJ4",
        "wxo6kogderVC",
        "TZxsC-XPGpaJ",
        "Kgl2HedQYPDe",
        "tLrtHQ1lyw3F",
        "c085olI_rtWj",
        "qCuSSOZxrhXc",
        "4D8IdsTf1PJ9",
        "ghuyGVb41VCF",
        "3497RJxN1b0N",
        "xkwOKTtq3iJF",
        "wQ4XzkMG4sC1",
        "B8IDPH-rAUuW",
        "-jLkKoiStwFf",
        "m3NresRIkROw",
        "cqZZ4f-0BUSk",
        "sr-RoFJ7OYR7",
        "FzM09ew5PS-S",
        "iF_6HLPgj6Gw",
        "S9vGmIkBlez3",
        "1UDemtYNuQDn",
        "mMkUxoeK96aL",
        "I8rCi9ye9-3i",
        "lfauXZiPgi9m",
        "t64B_9Wakz02",
        "1H_i-vzZzyEa",
        "m5vMKiB90eT6",
        "eCg2Riw62nDr",
        "fbbvF-wJXqzE",
        "dn-UJ_lgYlvi",
        "h8FFWeyqZxeE",
        "in6ewQsG6zhm",
        "KolCr8Rj7Y4W",
        "3xq6JofYDlJX",
        "OoRSB5zyEFg_",
        "XYCQZL_G-yPD",
        "3OD2L0SkQCu3",
        "F70Gs76eQUGf",
        "lOYO5N43RqMX",
        "sIN4kNaxScV4"
      ],
      "provenance": []
    },
    "kernelspec": {
      "display_name": "Python 3",
      "language": "python",
      "name": "python3"
    },
    "language_info": {
      "codemirror_mode": {
        "name": "ipython",
        "version": 3
      },
      "file_extension": ".py",
      "mimetype": "text/x-python",
      "name": "python",
      "nbconvert_exporter": "python",
      "pygments_lexer": "ipython3",
      "version": "3.13.7"
    }
  },
  "nbformat": 4,
  "nbformat_minor": 0
}
