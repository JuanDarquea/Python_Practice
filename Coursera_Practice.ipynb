{
  "nbformat": 4,
  "nbformat_minor": 0,
  "metadata": {
    "colab": {
      "provenance": [],
      "authorship_tag": "ABX9TyNiuOBzEwX3GD19WngbsrV7",
      "include_colab_link": true
    },
    "kernelspec": {
      "name": "python3",
      "display_name": "Python 3"
    },
    "language_info": {
      "name": "python"
    }
  },
  "cells": [
    {
      "cell_type": "markdown",
      "metadata": {
        "id": "view-in-github",
        "colab_type": "text"
      },
      "source": [
        "<a href=\"https://colab.research.google.com/github/JuanDarquea/Think_Python_Practice/blob/main/Coursera_Practice.ipynb\" target=\"_parent\"><img src=\"https://colab.research.google.com/assets/colab-badge.svg\" alt=\"Open In Colab\"/></a>"
      ]
    },
    {
      "cell_type": "code",
      "execution_count": null,
      "metadata": {
        "id": "OvtTM7YKcDPX"
      },
      "outputs": [],
      "source": [
        "exmp2 = 'Example2.txt' # Creating variable \"exmp2\" with the file to be created name\n",
        "with open(exmp2, \"w\") as wf: # Assining the creation and writing of the file to \"wf\"\n",
        "  wf.write(\"This is line A\\n\") # Create first line in \"Example2.txt\"\n",
        "  wf.write(\"This is line B\\n\")"
      ]
    },
    {
      "cell_type": "code",
      "source": [
        "with open(exmp2, \"r\") as twf: # Open the file inside to variable \"exmp2\" as read, and assigning the action to \"twf\"\n",
        "  print(twf.read()) # Print the whole file"
      ],
      "metadata": {
        "colab": {
          "base_uri": "https://localhost:8080/"
        },
        "id": "MUgOxyqHewXm",
        "outputId": "721ac217-86e7-41b7-a113-ba6622164f25"
      },
      "execution_count": null,
      "outputs": [
        {
          "output_type": "stream",
          "name": "stdout",
          "text": [
            "This is line A\n",
            "This is line B\n",
            "\n"
          ]
        }
      ]
    },
    {
      "cell_type": "code",
      "source": [
        "with open(exmp2, \"w\") as wf:\n",
        "  wf.write(\"This is line C\\n\")"
      ],
      "metadata": {
        "id": "cpW9yPsSfL6D"
      },
      "execution_count": null,
      "outputs": []
    },
    {
      "cell_type": "code",
      "source": [
        "with open(exmp2, \"r\") as twf:\n",
        "  print(twf.read())"
      ],
      "metadata": {
        "colab": {
          "base_uri": "https://localhost:8080/"
        },
        "id": "P0ZKfwUmjNr8",
        "outputId": "d1c52c4a-e34a-4c1f-d1b0-1cc06a5a8dc8"
      },
      "execution_count": null,
      "outputs": [
        {
          "output_type": "stream",
          "name": "stdout",
          "text": [
            "This is line C\n",
            "\n"
          ]
        }
      ]
    },
    {
      "cell_type": "code",
      "source": [
        "Lines = [\"This is line A\", \"\\nThis is line B\", \"\\nThis is line C\", \"\\nThis is line D\"] # Creats a list of strings\n",
        "Lines # Shows/prints the list"
      ],
      "metadata": {
        "colab": {
          "base_uri": "https://localhost:8080/"
        },
        "id": "4kYqjF7ejW_S",
        "outputId": "5a4756ff-0265-4501-f0e8-8151920d9247"
      },
      "execution_count": null,
      "outputs": [
        {
          "output_type": "execute_result",
          "data": {
            "text/plain": [
              "['This is line A', '\\nThis is line B', '\\nThis is line C', '\\nThis is line D']"
            ]
          },
          "metadata": {},
          "execution_count": 34
        }
      ]
    },
    {
      "cell_type": "code",
      "source": [
        "with open(\"/Example2.txt\", \"w\") as wf:\n",
        "  for line in Lines: # Assigns \"line\" to the list \"Lines\"\n",
        "    print(line) # Prints list\n",
        "    wf.write(line) # Writes in file \"Example2.txt\" the content of list \"Lines\""
      ],
      "metadata": {
        "colab": {
          "base_uri": "https://localhost:8080/"
        },
        "id": "iBRCH9x2ksdh",
        "outputId": "117904a3-26d7-4cf9-af9a-e6b2ea303343"
      },
      "execution_count": null,
      "outputs": [
        {
          "output_type": "stream",
          "name": "stdout",
          "text": [
            "This is line A\n",
            "\n",
            "This is line B\n",
            "\n",
            "This is line C\n",
            "\n",
            "This is line D\n"
          ]
        }
      ]
    },
    {
      "cell_type": "code",
      "source": [
        "with open(\"/Example2.txt\", \"r\") as twf:\n",
        "  print(twf.read())"
      ],
      "metadata": {
        "colab": {
          "base_uri": "https://localhost:8080/"
        },
        "id": "2fSbbeYGlaXJ",
        "outputId": "e7ed8526-91bb-48cf-ab57-5f210a51af2f"
      },
      "execution_count": null,
      "outputs": [
        {
          "output_type": "stream",
          "name": "stdout",
          "text": [
            "This is line A\n",
            "This is line B\n",
            "This is line C\n",
            "This is line D\n"
          ]
        }
      ]
    },
    {
      "cell_type": "code",
      "source": [
        "with open(\"/Example2.txt\", \"w\") as wf:\n",
        "  wf.write(\"This file was overwritten\")"
      ],
      "metadata": {
        "id": "pPKOXb1VlbOi"
      },
      "execution_count": null,
      "outputs": []
    },
    {
      "cell_type": "code",
      "source": [
        "with open(\"/Example2.txt\", \"r\") as twf:\n",
        "  print(twf.read())"
      ],
      "metadata": {
        "colab": {
          "base_uri": "https://localhost:8080/"
        },
        "id": "Vkdax1MDmDgp",
        "outputId": "84258eb5-6c56-42b0-80e7-74d2ce2809ba"
      },
      "execution_count": null,
      "outputs": [
        {
          "output_type": "stream",
          "name": "stdout",
          "text": [
            "This file was overwritten\n"
          ]
        }
      ]
    },
    {
      "cell_type": "code",
      "source": [
        "with open(\"/Example2.txt\", \"w\") as wf:\n",
        "  for line in Lines:\n",
        "    wf.write(line)\n",
        "with open(\"/Example2.txt\", \"a\") as wf: # Open file as append\n",
        "  wf.write(\"\\nThis is line E\") # Write text to append to existing file\n",
        "  wf.write(\"\\nThis is line F\")\n",
        "Lines2 = [\"\\nThis is line G\", \"\\nThis is line H\", \"\\nThis is line I\", \"\\nThis is line J\"] # Create a second list\n",
        "with open(\"/Example2.txt\", \"a\") as wf:\n",
        "  for line in Lines2: # Assigns value to \"line\" as list \"Lines2\"\n",
        "    wf.write(line) # Writes list content as an append to the file\n",
        "with open(\"/Example2.txt\", \"r\") as twf:\n",
        "  print(twf.read())"
      ],
      "metadata": {
        "colab": {
          "base_uri": "https://localhost:8080/"
        },
        "id": "W86ye5WWmQdI",
        "outputId": "d3749303-5996-4cec-aea6-94c12f7078d3"
      },
      "execution_count": null,
      "outputs": [
        {
          "output_type": "stream",
          "name": "stdout",
          "text": [
            "This is line A\n",
            "This is line B\n",
            "This is line C\n",
            "This is line D\n",
            "This is line E\n",
            "This is line F\n",
            "This is line G\n",
            "This is line H\n",
            "This is line I\n",
            "This is line J\n"
          ]
        }
      ]
    },
    {
      "cell_type": "code",
      "source": [
        "with open(\"/Example2.txt\", \"a+\") as twf: # Open file as append + read\n",
        "  twf.write(\"\\nThis is line K\") # Writes new lines to append to file and existing content\n",
        "  twf.write(\"\\nThis is line L\")\n",
        "  print(twf.read()) # Reads file, but from the point where the cursor is, \"a\" unlike \"w\" or \"r\", doesn't reset cursor"
      ],
      "metadata": {
        "colab": {
          "base_uri": "https://localhost:8080/"
        },
        "id": "fQC1wdvYneSI",
        "outputId": "3517b1d5-76af-4392-859a-8f724408067b"
      },
      "execution_count": null,
      "outputs": [
        {
          "output_type": "stream",
          "name": "stdout",
          "text": [
            "\n"
          ]
        }
      ]
    },
    {
      "cell_type": "code",
      "source": [
        "with open(\"/Example2.txt\", \"a+\") as twf:\n",
        "  print(\"Initial Location: {}\".format(twf.tell())) # Print the initial location of the cursor\n",
        "\n",
        "  data = twf.read()\n",
        "  if (not data): # Assign a return if the file is empty from where the cursor is\n",
        "    print(\"Read nothing\")\n",
        "  else:\n",
        "    print(twf.read())\n",
        "\n",
        "  twf.seek(0,0) # Move cursor 0 bytes from the beggining\n",
        "  print(\"\\nNew Location: {}\".format(twf.tell())) # Print the current location of cursor\n",
        "  data = twf.read() # Assing value of the data read to \"data\"\n",
        "  if (not data): # Conditional \"if\" in case there is no data after cursor\n",
        "    print(\"Read nothing\")\n",
        "  else: # Conditional \"if\" in case there is data after cursor\n",
        "    print(data)\n",
        "\n",
        "  print(\"Location after read: {}\".format(twf.tell()))# Print the final location of cursor"
      ],
      "metadata": {
        "colab": {
          "base_uri": "https://localhost:8080/"
        },
        "id": "jomDYUWRoWGQ",
        "outputId": "0dd0ecce-e4dd-4b98-8118-d8772693e4ee"
      },
      "execution_count": null,
      "outputs": [
        {
          "output_type": "stream",
          "name": "stdout",
          "text": [
            "Initial Location: 149\n",
            "Read nothing\n",
            "\n",
            "New Location: 0\n",
            "This is line A\n",
            "This is line B\n",
            "This is line C\n",
            "This is line D\n",
            "This is line E\n",
            "This is line F\n",
            "This is line G\n",
            "This is line H\n",
            "This is line I\n",
            "This is line J\n",
            "Location after read: 149\n"
          ]
        }
      ]
    },
    {
      "cell_type": "code",
      "source": [
        "with open('/Example2.txt', 'r+') as testwritefile:\n",
        "    testwritefile.seek(0,0) # write at beginning of file\n",
        "    testwritefile.write(\"Line 1\" + \"\\n\")\n",
        "    testwritefile.write(\"Line 2\" + \"\\n\")\n",
        "    testwritefile.write(\"Line 3\" + \"\\n\")\n",
        "    testwritefile.write(\"Line 4\" + \"\\n\")\n",
        "    testwritefile.write(\"finished\\n\")\n",
        "    testwritefile.seek(0,0)\n",
        "    print(testwritefile.read())"
      ],
      "metadata": {
        "colab": {
          "base_uri": "https://localhost:8080/"
        },
        "id": "yiICd0COsbjf",
        "outputId": "6dd25159-2c99-49de-e88a-aab26c8c5c45"
      },
      "execution_count": null,
      "outputs": [
        {
          "output_type": "stream",
          "name": "stdout",
          "text": [
            "Line 1\n",
            "Line 2\n",
            "Line 3\n",
            "Line 4\n",
            "finished\n",
            " line C\n",
            "This is line D\n",
            "This is line E\n",
            "This is line F\n",
            "This is line G\n",
            "This is line H\n",
            "This is line I\n",
            "This is line J\n"
          ]
        }
      ]
    },
    {
      "cell_type": "code",
      "source": [
        "with open('/Example2.txt', 'r+') as testwritefile:\n",
        "    testwritefile.seek(0,0) # Cursor at the beggining of file to write\n",
        "    testwritefile.write(\"Line 1\" + \"\\n\")\n",
        "    testwritefile.write(\"Line 2\" + \"\\n\")\n",
        "    testwritefile.write(\"Line 3\" + \"\\n\")\n",
        "    testwritefile.write(\"Line 4\" + \"\\n\")\n",
        "    testwritefile.write(\"finished\\n\")\n",
        "    testwritefile.truncate() # The order \".truncate\" deletes the rest of the file from this point on\n",
        "    testwritefile.seek(0,0) # Cursor at the beggining of file to read\n",
        "    print(testwritefile.read())"
      ],
      "metadata": {
        "colab": {
          "base_uri": "https://localhost:8080/"
        },
        "id": "cYVzSCtqtrnP",
        "outputId": "bbdc568f-afbc-4cc1-ded0-b271c0f948e4"
      },
      "execution_count": null,
      "outputs": [
        {
          "output_type": "stream",
          "name": "stdout",
          "text": [
            "Line 1\n",
            "Line 2\n",
            "Line 3\n",
            "Line 4\n",
            "finished\n",
            "\n"
          ]
        }
      ]
    },
    {
      "cell_type": "code",
      "source": [
        "with open('/Example2.txt', 'r+') as twf: # Open file as read + write (maintainning existing text)\n",
        "    twf.seek(0,0) # Cursor at the beggining of file to write\n",
        "    print(len(twf.read())) # Print the length of the file"
      ],
      "metadata": {
        "colab": {
          "base_uri": "https://localhost:8080/"
        },
        "id": "HiwAmzr7uN1V",
        "outputId": "73e33f37-d0ab-4e24-db47-df83fcc8b531"
      },
      "execution_count": null,
      "outputs": [
        {
          "output_type": "stream",
          "name": "stdout",
          "text": [
            "37\n"
          ]
        }
      ]
    },
    {
      "cell_type": "code",
      "source": [
        "with open('/Example2.txt', 'r+') as twf: # \"r\" opens file without deleting it's previows content, contrary to \"w\"\n",
        "    twf.seek(37,0) # Set cursor at end of file\n",
        "    twf.write(\"New line\") # Write \"New Line\" at end of file\n",
        "    twf.seek(0,0) # Set cursor at beggining of file\n",
        "    print(twf.read()) # Print whole content of file"
      ],
      "metadata": {
        "colab": {
          "base_uri": "https://localhost:8080/"
        },
        "id": "MSw_b9BRxYYs",
        "outputId": "9346e967-fadd-4960-b941-c058912130bc"
      },
      "execution_count": null,
      "outputs": [
        {
          "output_type": "stream",
          "name": "stdout",
          "text": [
            "Line 1\n",
            "Line 2\n",
            "Line 3\n",
            "Line 4\n",
            "finished\n",
            "New line\n"
          ]
        }
      ]
    },
    {
      "cell_type": "code",
      "source": [
        "# Copy file\n",
        "with open('/Example2.txt','r') as rf:\n",
        "    with open('/Example3.txt','w') as wf:\n",
        "          for line in rf:\n",
        "                wf.write(line)"
      ],
      "metadata": {
        "id": "DSE7_p4-xxI8"
      },
      "execution_count": null,
      "outputs": []
    },
    {
      "cell_type": "code",
      "source": [
        "with open(\"/Example3.txt\", \"r\") as rf:\n",
        "  print(rf.read())\n",
        "  rf.seek(0,0)\n",
        "  print()\n",
        "  # print(len(rf.read()))\n",
        "with open(\"/Example3.txt\", \"r+\") as rf:\n",
        "  rf.seek(45,0)\n",
        "  rf.write(\"\\nNew line2\")\n",
        "  rf.seek(0,0)\n",
        "  print(rf.read())"
      ],
      "metadata": {
        "colab": {
          "base_uri": "https://localhost:8080/"
        },
        "id": "Q_Yp4NBnzKFM",
        "outputId": "18353f10-5877-4143-8702-4ed0e252de5b"
      },
      "execution_count": null,
      "outputs": [
        {
          "output_type": "stream",
          "name": "stdout",
          "text": [
            "Line 1\n",
            "Line 2\n",
            "Line 3\n",
            "Line 4\n",
            "finished\n",
            "New lineNNew line2\n",
            "\n",
            "Line 1\n",
            "Line 2\n",
            "Line 3\n",
            "Line 4\n",
            "finished\n",
            "New line\n",
            "New line2\n"
          ]
        }
      ]
    },
    {
      "cell_type": "code",
      "source": [
        "print(\"---File 3---\")\n",
        "with open(\"/Example3.txt\", \"r\") as rf:\n",
        "  print(rf.read())\n",
        "  print()\n",
        "print(\"---File 2---\")\n",
        "with open(\"/Example2.txt\", \"r\") as rf2:\n",
        "  print(rf2.read())"
      ],
      "metadata": {
        "colab": {
          "base_uri": "https://localhost:8080/"
        },
        "id": "jaXHugYKzSK7",
        "outputId": "31047659-5f54-48b4-c83f-b0fa634b4e89"
      },
      "execution_count": null,
      "outputs": [
        {
          "output_type": "stream",
          "name": "stdout",
          "text": [
            "---File 3---\n",
            "Line 1\n",
            "Line 2\n",
            "Line 3\n",
            "Line 4\n",
            "finished\n",
            "New line\n",
            "New line2\n",
            "\n",
            "---File 2---\n",
            "Line 1\n",
            "Line 2\n",
            "Line 3\n",
            "Line 4\n",
            "finished\n",
            "New line\n"
          ]
        }
      ]
    },
    {
      "cell_type": "code",
      "source": [
        "# Exercise\n",
        "# Run this prior to starting the exercise, creation of player lists\n",
        "from random import randint as rnd\n",
        "\n",
        "memReg = '/members.txt'\n",
        "exReg = '/inactive.txt'\n",
        "fee =('yes','no')\n",
        "\n",
        "def genFiles(current,old):\n",
        "    with open(current,'w+') as writefile:\n",
        "        writefile.write('Membership No  Date Joined  Active  \\n')\n",
        "        data = \"{:^13}  {:<11}  {:<6}\\n\"\n",
        "\n",
        "        for rowno in range(20):\n",
        "            date = str(rnd(2015,2020))+ '-' + str(rnd(1,12))+'-'+str(rnd(1,25))\n",
        "            writefile.write(data.format(rnd(10000,99999),date,fee[rnd(0,1)]))\n",
        "\n",
        "    with open(old,'w+') as writefile:\n",
        "        writefile.write('Membership No  Date Joined  Active  \\n')\n",
        "        data = \"{:^13}  {:<11}  {:<6}\\n\"\n",
        "        for rowno in range(3):\n",
        "            date = str(rnd(2015,2020))+ '-' + str(rnd(1,12))+'-'+str(rnd(1,25))\n",
        "            writefile.write(data.format(rnd(10000,99999),date,fee[1]))\n",
        "\n",
        "genFiles(memReg,exReg)\n",
        "with open(\"/members.txt\", \"r\") as rf:\n",
        "    print(rf.read())\n",
        "print()\n",
        "with open(\"/inactive.txt\", \"r\") as rf2:\n",
        "    print(rf2.read())"
      ],
      "metadata": {
        "colab": {
          "base_uri": "https://localhost:8080/"
        },
        "id": "Zv7wuNAa0l9N",
        "outputId": "ae9e9ae7-4f71-4ec3-8f54-6619e3733632"
      },
      "execution_count": null,
      "outputs": [
        {
          "output_type": "stream",
          "name": "stdout",
          "text": [
            "Membership No  Date Joined  Active  \n",
            "    95216      2019-4-18    yes   \n",
            "    77176      2019-12-16   yes   \n",
            "    58202      2016-9-8     no    \n",
            "    88340      2018-8-6     no    \n",
            "    39096      2016-11-7    no    \n",
            "    15344      2020-2-18    no    \n",
            "    33144      2019-9-13    yes   \n",
            "    66096      2020-12-7    yes   \n",
            "    88714      2015-4-12    no    \n",
            "    14521      2020-4-5     yes   \n",
            "    79006      2016-10-16   yes   \n",
            "    58784      2019-4-2     no    \n",
            "    18943      2017-10-9    no    \n",
            "    43681      2018-7-14    no    \n",
            "    99875      2015-1-6     yes   \n",
            "    56089      2017-1-6     yes   \n",
            "    86076      2017-11-10   no    \n",
            "    42191      2017-1-19    yes   \n",
            "    51238      2018-12-2    no    \n",
            "    74331      2015-4-25    yes   \n",
            "\n",
            "\n",
            "Membership No  Date Joined  Active  \n",
            "    56436      2015-5-22    no    \n",
            "    32693      2016-7-2     no    \n",
            "    25021      2017-2-17    no    \n",
            "\n"
          ]
        }
      ]
    },
    {
      "cell_type": "code",
      "source": [
        "def cleanFiles(currentMem, exMem): # Define function to ccreate and run clean files\n",
        "  with open(currentMem, \"r+\") as writeFile:\n",
        "        with open(exMem, \"a+\") as appendFile:\n",
        "            writeFile.seek(0)\n",
        "            members = writeFile.readlines()\n",
        "            #remove header\n",
        "            header = members[0]\n",
        "            members.pop(0)\n",
        "\n",
        "            inactive = [member for member in members if ('no' in member)]\n",
        "            #go to the beginning of the write file\n",
        "            writeFile.seek(0)\n",
        "            writeFile.write(header)\n",
        "            for member in members:\n",
        "                if (member in inactive):\n",
        "                    appendFile.write(member)\n",
        "                else:\n",
        "                    writeFile.write(member)\n",
        "            writeFile.truncate()\n",
        "\n",
        "memReg = '/members.txt'\n",
        "exReg = '/inactive.txt'\n",
        "cleanFiles(memReg,exReg)\n",
        "\n",
        "\n",
        "headers = \"Membership No  Date Joined  Active  \\n\"\n",
        "with open(memReg,'r') as readFile:\n",
        "    print(\"Active Members: \\n\")\n",
        "    print(readFile.read())\n",
        "\n",
        "with open(exReg,'r') as readFile:\n",
        "    print(\"\\nInactive Members: \\n\")\n",
        "    print(readFile.read())"
      ],
      "metadata": {
        "colab": {
          "base_uri": "https://localhost:8080/"
        },
        "id": "UvL1f2Qu6NKx",
        "outputId": "050d07f8-6a3a-4c8c-9cae-7a47efd74680"
      },
      "execution_count": null,
      "outputs": [
        {
          "output_type": "stream",
          "name": "stdout",
          "text": [
            "Active Members: \n",
            "\n",
            "Membership No  Date Joined  Active  \n",
            "    95216      2019-4-18    yes   \n",
            "    77176      2019-12-16   yes   \n",
            "    33144      2019-9-13    yes   \n",
            "    66096      2020-12-7    yes   \n",
            "    14521      2020-4-5     yes   \n",
            "    79006      2016-10-16   yes   \n",
            "    99875      2015-1-6     yes   \n",
            "    56089      2017-1-6     yes   \n",
            "    42191      2017-1-19    yes   \n",
            "    74331      2015-4-25    yes   \n",
            "\n",
            "\n",
            "Inactive Members: \n",
            "\n",
            "Membership No  Date Joined  Active  \n",
            "    56436      2015-5-22    no    \n",
            "    32693      2016-7-2     no    \n",
            "    25021      2017-2-17    no    \n",
            "    58202      2016-9-8     no    \n",
            "    88340      2018-8-6     no    \n",
            "    39096      2016-11-7    no    \n",
            "    15344      2020-2-18    no    \n",
            "    88714      2015-4-12    no    \n",
            "    58784      2019-4-2     no    \n",
            "    18943      2017-10-9    no    \n",
            "    43681      2018-7-14    no    \n",
            "    86076      2017-11-10   no    \n",
            "    51238      2018-12-2    no    \n",
            "\n"
          ]
        }
      ]
    }
  ]
}